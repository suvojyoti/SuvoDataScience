{
 "cells": [
  {
   "cell_type": "markdown",
   "id": "e818a549-4c64-477a-9d57-27dd36891bd9",
   "metadata": {},
   "source": [
    "# <font color='blue'> Tech task - Predict which customers/accounts might be eligible for a loan"
   ]
  },
  {
   "cell_type": "markdown",
   "id": "972664d0-c033-4546-88ea-8d7310e5df01",
   "metadata": {},
   "source": [
    "### Import basic generic packages"
   ]
  },
  {
   "cell_type": "code",
   "execution_count": 5,
   "id": "a6a29693-637a-400d-bac5-417e826ffacb",
   "metadata": {},
   "outputs": [],
   "source": [
    "\n",
    "import seaborn as sns\n",
    "import matplotlib.pyplot as plt\n",
    "import pandas as pd\n",
    "import numpy as np\n",
    "import math"
   ]
  },
  {
   "cell_type": "markdown",
   "id": "e54e977b-a530-4072-a833-5fa524bdcd6e",
   "metadata": {},
   "source": [
    "### Read data\n",
    "#### There are three data files\n",
    "        - Customer data : basic (static) details of customers with target loan flag\n",
    "        - districts data : census data from the districts including number of inhabitants, literacy rate, crime rate etc\n",
    "        - transactions data : account transactions with credit/debit indicator, balances etc\n",
    "        \n",
    "    The mapping between the data are as follows:\n",
    "        - customers['ACCOUNT_ID']-(one-to-many)-> transactions[ACCOUNT_ID']\n",
    "        - districts['DISTRICT_ID']-(one-to-many)-> customers[DISTRICT_ID']"
   ]
  },
  {
   "cell_type": "code",
   "execution_count": 6,
   "id": "a043ce1d-bcff-42f2-a4e1-792c13db6faa",
   "metadata": {},
   "outputs": [],
   "source": [
    "customers = pd.read_csv('../data_updated/customers.csv')\n",
    "districts = pd.read_csv('../data_updated/districts.csv')\n"
   ]
  },
  {
   "cell_type": "code",
   "execution_count": 7,
   "id": "02d93755-3b6c-4450-9ce0-d2d18207e709",
   "metadata": {},
   "outputs": [],
   "source": [
    "transactions = pd.read_csv('../data_updated/transactions.csv')"
   ]
  },
  {
   "cell_type": "markdown",
   "id": "9127a183-bb5b-4e42-8b98-d937ed5cbbaf",
   "metadata": {},
   "source": [
    "## Follwing sections are taken step-by-step to complete the assessment"
   ]
  },
  {
   "cell_type": "markdown",
   "id": "ecc8b968-380f-4b71-a96e-f607d42127f9",
   "metadata": {},
   "source": [
    "#### Section 1 - Basic Data Analysis\n",
    "#### Section 2 - Feature Engineering\n",
    "#### Section 3 - Feature Selection\n",
    "#### Section 4 - Final data preparation for modelling\n",
    "#### Section 5 - Prepare train test split and define functions for model performance analysis\n",
    "#### Section 6 - Train and compare models as per performance - base classifier and fine tune with further complex model\n",
    "#### Section 7 - Analysis of feature importance - from both model and SHAP global importance\n",
    "#### Section 8 - Run model predictions on test set\n",
    "#### Section 9 - Further thoughts on what could have been done more in a longer experiment"
   ]
  },
  {
   "cell_type": "markdown",
   "id": "13d3601f-35bd-43f8-9cb9-b6d5b10c6a33",
   "metadata": {},
   "source": [
    "## <font color='red'>Section 1 - Basic Data Analysis"
   ]
  },
  {
   "cell_type": "markdown",
   "id": "a15c6c5d-4e7e-4908-89c7-280a7c2d38d8",
   "metadata": {},
   "source": [
    "#### Analyze loans data"
   ]
  },
  {
   "cell_type": "code",
   "execution_count": 8,
   "id": "32ebc609-4480-43c0-89fe-0fd19c8513f6",
   "metadata": {},
   "outputs": [
    {
     "data": {
      "text/plain": [
       "(4450, 8)"
      ]
     },
     "execution_count": 8,
     "metadata": {},
     "output_type": "execute_result"
    }
   ],
   "source": [
    "customers.shape"
   ]
  },
  {
   "cell_type": "code",
   "execution_count": 9,
   "id": "a99c7228-42e0-452f-b4ae-c20877acc980",
   "metadata": {},
   "outputs": [
    {
     "data": {
      "text/html": [
       "<div>\n",
       "<style scoped>\n",
       "    .dataframe tbody tr th:only-of-type {\n",
       "        vertical-align: middle;\n",
       "    }\n",
       "\n",
       "    .dataframe tbody tr th {\n",
       "        vertical-align: top;\n",
       "    }\n",
       "\n",
       "    .dataframe thead th {\n",
       "        text-align: right;\n",
       "    }\n",
       "</style>\n",
       "<table border=\"1\" class=\"dataframe\">\n",
       "  <thead>\n",
       "    <tr style=\"text-align: right;\">\n",
       "      <th></th>\n",
       "      <th>CLIENT_ID</th>\n",
       "      <th>ACCOUNT_ID</th>\n",
       "      <th>GENDER</th>\n",
       "      <th>BIRTH_DT</th>\n",
       "      <th>ACTIVE</th>\n",
       "      <th>LOAN</th>\n",
       "      <th>DISTRICT_ID</th>\n",
       "      <th>SET_SPLIT</th>\n",
       "    </tr>\n",
       "  </thead>\n",
       "  <tbody>\n",
       "    <tr>\n",
       "      <th>0</th>\n",
       "      <td>1</td>\n",
       "      <td>1</td>\n",
       "      <td>F</td>\n",
       "      <td>19701213</td>\n",
       "      <td>1</td>\n",
       "      <td>0.0</td>\n",
       "      <td>18</td>\n",
       "      <td>TRAIN</td>\n",
       "    </tr>\n",
       "    <tr>\n",
       "      <th>1</th>\n",
       "      <td>2</td>\n",
       "      <td>2</td>\n",
       "      <td>M</td>\n",
       "      <td>19450204</td>\n",
       "      <td>1</td>\n",
       "      <td>1.0</td>\n",
       "      <td>1</td>\n",
       "      <td>TRAIN</td>\n",
       "    </tr>\n",
       "    <tr>\n",
       "      <th>2</th>\n",
       "      <td>4</td>\n",
       "      <td>3</td>\n",
       "      <td>M</td>\n",
       "      <td>19561201</td>\n",
       "      <td>1</td>\n",
       "      <td>0.0</td>\n",
       "      <td>5</td>\n",
       "      <td>TEST</td>\n",
       "    </tr>\n",
       "    <tr>\n",
       "      <th>3</th>\n",
       "      <td>7</td>\n",
       "      <td>5</td>\n",
       "      <td>M</td>\n",
       "      <td>19290125</td>\n",
       "      <td>1</td>\n",
       "      <td>0.0</td>\n",
       "      <td>15</td>\n",
       "      <td>TRAIN</td>\n",
       "    </tr>\n",
       "    <tr>\n",
       "      <th>4</th>\n",
       "      <td>8</td>\n",
       "      <td>6</td>\n",
       "      <td>F</td>\n",
       "      <td>19380221</td>\n",
       "      <td>1</td>\n",
       "      <td>0.0</td>\n",
       "      <td>51</td>\n",
       "      <td>TRAIN</td>\n",
       "    </tr>\n",
       "  </tbody>\n",
       "</table>\n",
       "</div>"
      ],
      "text/plain": [
       "   CLIENT_ID  ACCOUNT_ID GENDER  BIRTH_DT  ACTIVE  LOAN  DISTRICT_ID SET_SPLIT\n",
       "0          1           1      F  19701213       1   0.0           18     TRAIN\n",
       "1          2           2      M  19450204       1   1.0            1     TRAIN\n",
       "2          4           3      M  19561201       1   0.0            5      TEST\n",
       "3          7           5      M  19290125       1   0.0           15     TRAIN\n",
       "4          8           6      F  19380221       1   0.0           51     TRAIN"
      ]
     },
     "execution_count": 9,
     "metadata": {},
     "output_type": "execute_result"
    }
   ],
   "source": [
    "customers.head()"
   ]
  },
  {
   "cell_type": "code",
   "execution_count": 10,
   "id": "ba637260-f323-4778-83d3-0eaab90d2e59",
   "metadata": {},
   "outputs": [],
   "source": [
    "customers['birth_date'] = pd.to_datetime(customers['BIRTH_DT'], format='%Y%m%d')\n",
    "customers = customers.drop(['BIRTH_DT'],axis = 1)"
   ]
  },
  {
   "cell_type": "markdown",
   "id": "37d1540c-49af-430f-9a88-ba68f38d41e5",
   "metadata": {},
   "source": [
    "#### Find earliest date of transaction in accounts - assume that is the inception date. This we will use to create feature for identifying the age of customer during account opening"
   ]
  },
  {
   "cell_type": "markdown",
   "id": "3bed3085-c387-4170-b2a9-c810683d5753",
   "metadata": {},
   "source": [
    "#### Looks like 'DATE' is taken as numeric so any day like '01101992' has been taken as 1101992\n",
    "#### So have to convert to date format"
   ]
  },
  {
   "cell_type": "code",
   "execution_count": 11,
   "id": "c35817ee-8213-442c-b429-a441668d5d4c",
   "metadata": {},
   "outputs": [],
   "source": [
    "import datetime"
   ]
  },
  {
   "cell_type": "markdown",
   "id": "0249964f-852b-45a0-96bf-2e790c3191e2",
   "metadata": {},
   "source": [
    "##### First convert to 8 digits string format by padding starting zero"
   ]
  },
  {
   "cell_type": "code",
   "execution_count": 12,
   "id": "bc2fd0bf-f946-4e45-8f80-935419e7aafe",
   "metadata": {},
   "outputs": [],
   "source": [
    "def convert_to_8_digits_string(date):\n",
    "    #### If length is less than 8\n",
    "    if len(str(date))<8:\n",
    "        #### Set first character as 0\n",
    "        new_date_as_string = '0'+str(date)\n",
    "    else:\n",
    "        new_date_as_string = str(date)\n",
    "    return new_date_as_string"
   ]
  },
  {
   "cell_type": "markdown",
   "id": "06367289-f804-44b1-855c-8d2e7d079918",
   "metadata": {},
   "source": [
    "##### Then convert the string to date format"
   ]
  },
  {
   "cell_type": "code",
   "execution_count": 13,
   "id": "60a899ab-3117-4ce3-a6cd-dee90e9c1af0",
   "metadata": {},
   "outputs": [],
   "source": [
    "def feat_eng_convert_date_to_format(df):\n",
    "    \"\"\"\n",
    "    Convert date as string column to date format\n",
    "        Take dataframe and first convert all entries to string DDMMYYYY format\n",
    "        Then convert string DDMMYYYY format to python date format\n",
    "    \"\"\"\n",
    "    #### Apply function to convert all dates to string of DDMMYYYY structure\n",
    "    df['full_date'] = df['DATE'].apply(lambda x: convert_to_8_digits_string(x))\n",
    "\n",
    "    #### Convert from string to date\n",
    "    df['date_formatted'] = pd.to_datetime(df['full_date'], format='%d%m%Y')\n",
    "    \n",
    "    #### drop other date columns\n",
    "    df = df.drop(['DATE','full_date'],axis = 1)\n",
    "    \n",
    "    return df"
   ]
  },
  {
   "cell_type": "markdown",
   "id": "a84db8a6-294a-4e9a-b88f-d0ea2c0d4334",
   "metadata": {},
   "source": [
    "#### Apply function to convert date"
   ]
  },
  {
   "cell_type": "code",
   "execution_count": 14,
   "id": "51bfe05d-508b-428c-90ae-4405981cccc7",
   "metadata": {},
   "outputs": [],
   "source": [
    "transactions = feat_eng_convert_date_to_format(transactions)"
   ]
  },
  {
   "cell_type": "markdown",
   "id": "edd72603-1d39-427a-a99a-a650c18b4350",
   "metadata": {},
   "source": [
    "#### Join customers table with transactions"
   ]
  },
  {
   "cell_type": "code",
   "execution_count": 15,
   "id": "2938a296-f073-49a2-bb70-132437b9ed84",
   "metadata": {},
   "outputs": [],
   "source": [
    "customers_joined_trans = customers.merge(transactions,on='ACCOUNT_ID',how='left')"
   ]
  },
  {
   "cell_type": "markdown",
   "id": "2db225c3-26bd-44f0-b023-15e2f4b938b6",
   "metadata": {},
   "source": [
    "#### Convert birth date from string to date format"
   ]
  },
  {
   "cell_type": "code",
   "execution_count": 16,
   "id": "1f5d6454-f794-43cc-8819-1da0d4716674",
   "metadata": {},
   "outputs": [],
   "source": [
    "#### minimum date in transactions file for each account\n",
    "earliest_date_of_accounts = customers_joined_trans.groupby('ACCOUNT_ID')['date_formatted'].min()\\\n",
    ".reset_index().rename(columns={'date_formatted':'earliest_date'})\n",
    "\n",
    "#### merge with customers data to get earliest date of transaction\n",
    "customers = customers.merge(earliest_date_of_accounts,on='ACCOUNT_ID')\n",
    "\n",
    "#### find what is the year in which customer first transacted, assume that to be account opening year\n",
    "customers['first_transacted_year'] = customers['earliest_date'].dt.year\n",
    "\n",
    "#### Find age of customer during account opening/first transaction\n",
    "customers['age_in_days_during_first_transaction'] = customers['earliest_date']-customers['birth_date']\n",
    "customers['age_in_years_during_first_transaction'] = customers['age_in_days_during_first_transaction']/datetime.timedelta(days=365)"
   ]
  },
  {
   "cell_type": "code",
   "execution_count": 17,
   "id": "1fe83ae9-9cae-49a8-987b-9939ef36a01b",
   "metadata": {},
   "outputs": [
    {
     "data": {
      "text/plain": [
       "Index(['CLIENT_ID', 'ACCOUNT_ID', 'GENDER', 'ACTIVE', 'LOAN', 'DISTRICT_ID',\n",
       "       'SET_SPLIT', 'birth_date', 'earliest_date', 'first_transacted_year',\n",
       "       'age_in_days_during_first_transaction',\n",
       "       'age_in_years_during_first_transaction'],\n",
       "      dtype='object')"
      ]
     },
     "execution_count": 17,
     "metadata": {},
     "output_type": "execute_result"
    }
   ],
   "source": [
    "customers.columns"
   ]
  },
  {
   "cell_type": "markdown",
   "id": "7c5eb896-d4e8-401f-b1b0-754e455dd983",
   "metadata": {},
   "source": [
    "#### Check if all customers are active?"
   ]
  },
  {
   "cell_type": "code",
   "execution_count": 18,
   "id": "38d9cc2b-5ecf-4e6c-93ec-dcb7f4bd2514",
   "metadata": {},
   "outputs": [
    {
     "data": {
      "text/html": [
       "<div>\n",
       "<style scoped>\n",
       "    .dataframe tbody tr th:only-of-type {\n",
       "        vertical-align: middle;\n",
       "    }\n",
       "\n",
       "    .dataframe tbody tr th {\n",
       "        vertical-align: top;\n",
       "    }\n",
       "\n",
       "    .dataframe thead th {\n",
       "        text-align: right;\n",
       "    }\n",
       "</style>\n",
       "<table border=\"1\" class=\"dataframe\">\n",
       "  <thead>\n",
       "    <tr style=\"text-align: right;\">\n",
       "      <th></th>\n",
       "      <th>SET_SPLIT</th>\n",
       "      <th>ACTIVE</th>\n",
       "      <th>LOAN</th>\n",
       "    </tr>\n",
       "  </thead>\n",
       "  <tbody>\n",
       "    <tr>\n",
       "      <th>0</th>\n",
       "      <td>TEST</td>\n",
       "      <td>1</td>\n",
       "      <td>131.0</td>\n",
       "    </tr>\n",
       "    <tr>\n",
       "      <th>1</th>\n",
       "      <td>TRAIN</td>\n",
       "      <td>1</td>\n",
       "      <td>529.0</td>\n",
       "    </tr>\n",
       "  </tbody>\n",
       "</table>\n",
       "</div>"
      ],
      "text/plain": [
       "  SET_SPLIT  ACTIVE   LOAN\n",
       "0      TEST       1  131.0\n",
       "1     TRAIN       1  529.0"
      ]
     },
     "execution_count": 18,
     "metadata": {},
     "output_type": "execute_result"
    }
   ],
   "source": [
    "customers.groupby(['SET_SPLIT','ACTIVE'])['LOAN'].sum().reset_index()"
   ]
  },
  {
   "cell_type": "markdown",
   "id": "ae4ac129-d69a-4786-9d87-81f5e8b76599",
   "metadata": {},
   "source": [
    "Conclusion : all are active customers"
   ]
  },
  {
   "cell_type": "markdown",
   "id": "7f223fb1-d787-4d86-8689-713f03de0aa4",
   "metadata": {},
   "source": [
    "#### Check what are the number of accounts associated with each customer - generally one customer can have multiple accounts"
   ]
  },
  {
   "cell_type": "code",
   "execution_count": 19,
   "id": "85a9291b-7783-4325-9b90-859c9523580b",
   "metadata": {},
   "outputs": [
    {
     "data": {
      "text/html": [
       "<div>\n",
       "<style scoped>\n",
       "    .dataframe tbody tr th:only-of-type {\n",
       "        vertical-align: middle;\n",
       "    }\n",
       "\n",
       "    .dataframe tbody tr th {\n",
       "        vertical-align: top;\n",
       "    }\n",
       "\n",
       "    .dataframe thead th {\n",
       "        text-align: right;\n",
       "    }\n",
       "</style>\n",
       "<table border=\"1\" class=\"dataframe\">\n",
       "  <thead>\n",
       "    <tr style=\"text-align: right;\">\n",
       "      <th></th>\n",
       "      <th>ACCOUNT_ID</th>\n",
       "      <th>CLIENT_ID</th>\n",
       "    </tr>\n",
       "  </thead>\n",
       "  <tbody>\n",
       "    <tr>\n",
       "      <th>0</th>\n",
       "      <td>1</td>\n",
       "      <td>4450</td>\n",
       "    </tr>\n",
       "  </tbody>\n",
       "</table>\n",
       "</div>"
      ],
      "text/plain": [
       "   ACCOUNT_ID  CLIENT_ID\n",
       "0           1       4450"
      ]
     },
     "execution_count": 19,
     "metadata": {},
     "output_type": "execute_result"
    }
   ],
   "source": [
    "customers.groupby('CLIENT_ID')['ACCOUNT_ID'].count().reset_index().groupby('ACCOUNT_ID')['CLIENT_ID'].count().reset_index()"
   ]
  },
  {
   "cell_type": "markdown",
   "id": "a6b8028e-102e-4d2c-b564-3f696e75c8a3",
   "metadata": {},
   "source": [
    "##### Conclusion : Each customer has one account, hence we can process our features at account_id level without thinking much about the customer"
   ]
  },
  {
   "cell_type": "markdown",
   "id": "eaf28369-edd8-435a-9378-444bc40c4d39",
   "metadata": {},
   "source": [
    "#### Check the base prevalance of loans in our data. Ideally model precision should be better than this if it has to beat random guess"
   ]
  },
  {
   "cell_type": "code",
   "execution_count": 20,
   "id": "f8a75a3a-66ad-4cd8-aa5d-14be88a0e8ac",
   "metadata": {},
   "outputs": [
    {
     "data": {
      "text/html": [
       "<div>\n",
       "<style scoped>\n",
       "    .dataframe tbody tr th:only-of-type {\n",
       "        vertical-align: middle;\n",
       "    }\n",
       "\n",
       "    .dataframe tbody tr th {\n",
       "        vertical-align: top;\n",
       "    }\n",
       "\n",
       "    .dataframe thead th {\n",
       "        text-align: right;\n",
       "    }\n",
       "</style>\n",
       "<table border=\"1\" class=\"dataframe\">\n",
       "  <thead>\n",
       "    <tr style=\"text-align: right;\">\n",
       "      <th></th>\n",
       "      <th>LOAN</th>\n",
       "      <th>ACCOUNT_ID</th>\n",
       "    </tr>\n",
       "  </thead>\n",
       "  <tbody>\n",
       "    <tr>\n",
       "      <th>0</th>\n",
       "      <td>0.0</td>\n",
       "      <td>3790</td>\n",
       "    </tr>\n",
       "    <tr>\n",
       "      <th>1</th>\n",
       "      <td>1.0</td>\n",
       "      <td>660</td>\n",
       "    </tr>\n",
       "  </tbody>\n",
       "</table>\n",
       "</div>"
      ],
      "text/plain": [
       "   LOAN  ACCOUNT_ID\n",
       "0   0.0        3790\n",
       "1   1.0         660"
      ]
     },
     "execution_count": 20,
     "metadata": {},
     "output_type": "execute_result"
    }
   ],
   "source": [
    "customers.groupby('ACCOUNT_ID')['LOAN'].sum().reset_index().groupby('LOAN')['ACCOUNT_ID'].count().reset_index()"
   ]
  },
  {
   "cell_type": "code",
   "execution_count": 21,
   "id": "ae7a8b25-a4fd-4d92-9bff-14e3d06cc4b9",
   "metadata": {},
   "outputs": [
    {
     "data": {
      "text/plain": [
       "0.14831460674157304"
      ]
     },
     "execution_count": 21,
     "metadata": {},
     "output_type": "execute_result"
    }
   ],
   "source": [
    "base_prevalance = 660/(660+3790)\n",
    "base_prevalance"
   ]
  },
  {
   "cell_type": "markdown",
   "id": "7851c752-1db0-41c1-b122-b4811fd55a1d",
   "metadata": {},
   "source": [
    "#### ~15% accounts has loans - this is our base prevalance"
   ]
  },
  {
   "cell_type": "code",
   "execution_count": null,
   "id": "04adf637-c265-4add-8245-6dcdd6186418",
   "metadata": {},
   "outputs": [],
   "source": []
  },
  {
   "cell_type": "markdown",
   "id": "132cb802-3d5f-46c8-8eb1-a26ea2a65689",
   "metadata": {},
   "source": [
    "#### Check if all customers in customers file have record in transactions file"
   ]
  },
  {
   "cell_type": "code",
   "execution_count": null,
   "id": "4eef4993-2505-4de0-9520-9c932d87fc7d",
   "metadata": {},
   "outputs": [],
   "source": []
  },
  {
   "cell_type": "markdown",
   "id": "bdc5bb11-c5cc-4d52-abbd-ea258101a358",
   "metadata": {},
   "source": [
    "##### Define function for checking if customer has transaction"
   ]
  },
  {
   "cell_type": "code",
   "execution_count": 22,
   "id": "e636324a-69f2-43fa-8819-cf94a8c9fb06",
   "metadata": {},
   "outputs": [],
   "source": [
    "def has_transaction(trans_id):\n",
    "    if trans_id:\n",
    "        return 1\n",
    "    else:\n",
    "        return 0"
   ]
  },
  {
   "cell_type": "code",
   "execution_count": 23,
   "id": "ac26ab49-6232-4f5b-818c-ec8005e2280f",
   "metadata": {},
   "outputs": [],
   "source": [
    "customers_joined_trans['has_transaction'] = customers_joined_trans['TRANS_ID'].apply(lambda x: has_transaction(x))"
   ]
  },
  {
   "cell_type": "code",
   "execution_count": 24,
   "id": "c3ca83e2-bc41-46ea-bdf3-b77a78b2aad9",
   "metadata": {},
   "outputs": [
    {
     "data": {
      "text/html": [
       "<div>\n",
       "<style scoped>\n",
       "    .dataframe tbody tr th:only-of-type {\n",
       "        vertical-align: middle;\n",
       "    }\n",
       "\n",
       "    .dataframe tbody tr th {\n",
       "        vertical-align: top;\n",
       "    }\n",
       "\n",
       "    .dataframe thead th {\n",
       "        text-align: right;\n",
       "    }\n",
       "</style>\n",
       "<table border=\"1\" class=\"dataframe\">\n",
       "  <thead>\n",
       "    <tr style=\"text-align: right;\">\n",
       "      <th></th>\n",
       "      <th>has_transaction</th>\n",
       "      <th>CLIENT_ID</th>\n",
       "    </tr>\n",
       "  </thead>\n",
       "  <tbody>\n",
       "    <tr>\n",
       "      <th>0</th>\n",
       "      <td>1</td>\n",
       "      <td>1049303</td>\n",
       "    </tr>\n",
       "  </tbody>\n",
       "</table>\n",
       "</div>"
      ],
      "text/plain": [
       "   has_transaction  CLIENT_ID\n",
       "0                1    1049303"
      ]
     },
     "execution_count": 24,
     "metadata": {},
     "output_type": "execute_result"
    }
   ],
   "source": [
    "customers_joined_trans.groupby(['has_transaction'])['CLIENT_ID'].count().reset_index()"
   ]
  },
  {
   "cell_type": "markdown",
   "id": "bbabed13-79a6-4294-8365-06d5b9bd847f",
   "metadata": {},
   "source": [
    "##### Conclusion - All customers have at least one transaction"
   ]
  },
  {
   "cell_type": "markdown",
   "id": "4e276402-9ea4-4bcf-9bac-b51d2b44755e",
   "metadata": {},
   "source": [
    "#### Check what are the different type of transactions"
   ]
  },
  {
   "cell_type": "code",
   "execution_count": 25,
   "id": "e2fa146d-f0f7-484d-bc90-2a0b14cd7d30",
   "metadata": {},
   "outputs": [
    {
     "data": {
      "text/html": [
       "<div>\n",
       "<style scoped>\n",
       "    .dataframe tbody tr th:only-of-type {\n",
       "        vertical-align: middle;\n",
       "    }\n",
       "\n",
       "    .dataframe tbody tr th {\n",
       "        vertical-align: top;\n",
       "    }\n",
       "\n",
       "    .dataframe thead th {\n",
       "        text-align: right;\n",
       "    }\n",
       "</style>\n",
       "<table border=\"1\" class=\"dataframe\">\n",
       "  <thead>\n",
       "    <tr style=\"text-align: right;\">\n",
       "      <th></th>\n",
       "      <th>TYPE</th>\n",
       "      <th>OPERATION</th>\n",
       "      <th>TRANS_ID</th>\n",
       "    </tr>\n",
       "  </thead>\n",
       "  <tbody>\n",
       "    <tr>\n",
       "      <th>0</th>\n",
       "      <td>CREDIT</td>\n",
       "      <td>COLLECTION_FROM_OTHER_BANK</td>\n",
       "      <td>65809</td>\n",
       "    </tr>\n",
       "    <tr>\n",
       "      <th>1</th>\n",
       "      <td>CREDIT</td>\n",
       "      <td>CREDIT_IN_CASH</td>\n",
       "      <td>158239</td>\n",
       "    </tr>\n",
       "    <tr>\n",
       "      <th>2</th>\n",
       "      <td>WITHDRAWAL</td>\n",
       "      <td>CC_WITHDRAWAL</td>\n",
       "      <td>8113</td>\n",
       "    </tr>\n",
       "    <tr>\n",
       "      <th>3</th>\n",
       "      <td>WITHDRAWAL</td>\n",
       "      <td>REMITTANCE_TO_OTHER_BANK</td>\n",
       "      <td>210240</td>\n",
       "    </tr>\n",
       "    <tr>\n",
       "      <th>4</th>\n",
       "      <td>WITHDRAWAL</td>\n",
       "      <td>WITHDRAWAL_IN_CASH</td>\n",
       "      <td>439035</td>\n",
       "    </tr>\n",
       "  </tbody>\n",
       "</table>\n",
       "</div>"
      ],
      "text/plain": [
       "         TYPE                   OPERATION  TRANS_ID\n",
       "0      CREDIT  COLLECTION_FROM_OTHER_BANK     65809\n",
       "1      CREDIT              CREDIT_IN_CASH    158239\n",
       "2  WITHDRAWAL               CC_WITHDRAWAL      8113\n",
       "3  WITHDRAWAL    REMITTANCE_TO_OTHER_BANK    210240\n",
       "4  WITHDRAWAL          WITHDRAWAL_IN_CASH    439035"
      ]
     },
     "execution_count": 25,
     "metadata": {},
     "output_type": "execute_result"
    }
   ],
   "source": [
    "transactions.groupby(['TYPE','OPERATION'])['TRANS_ID'].count().reset_index()"
   ]
  },
  {
   "cell_type": "markdown",
   "id": "744d3695-7d6b-434d-834b-e8c8e23f1d7d",
   "metadata": {},
   "source": [
    "##### Observations - We see there are different types and subclas of transactions. We can use them further to get group level aggregates"
   ]
  },
  {
   "cell_type": "markdown",
   "id": "cbd17319-3fb1-4556-bfd0-de2e4bbaf2ac",
   "metadata": {},
   "source": [
    "#### Analyze districts data"
   ]
  },
  {
   "cell_type": "code",
   "execution_count": 26,
   "id": "9e38dda7-292d-4163-b44b-f7e8e33dd4c4",
   "metadata": {},
   "outputs": [
    {
     "data": {
      "text/html": [
       "<div>\n",
       "<style scoped>\n",
       "    .dataframe tbody tr th:only-of-type {\n",
       "        vertical-align: middle;\n",
       "    }\n",
       "\n",
       "    .dataframe tbody tr th {\n",
       "        vertical-align: top;\n",
       "    }\n",
       "\n",
       "    .dataframe thead th {\n",
       "        text-align: right;\n",
       "    }\n",
       "</style>\n",
       "<table border=\"1\" class=\"dataframe\">\n",
       "  <thead>\n",
       "    <tr style=\"text-align: right;\">\n",
       "      <th></th>\n",
       "      <th>DISTRICT_ID</th>\n",
       "      <th>N_INHAB</th>\n",
       "      <th>N_CITIES</th>\n",
       "      <th>URBAN_RATIO</th>\n",
       "      <th>AVG_SALARY</th>\n",
       "      <th>UNEMP_95</th>\n",
       "      <th>UNEMP_96</th>\n",
       "      <th>N_ENTR</th>\n",
       "      <th>CRIME_95</th>\n",
       "      <th>CRIME_96</th>\n",
       "    </tr>\n",
       "  </thead>\n",
       "  <tbody>\n",
       "    <tr>\n",
       "      <th>0</th>\n",
       "      <td>1</td>\n",
       "      <td>1204953</td>\n",
       "      <td>1</td>\n",
       "      <td>100.0</td>\n",
       "      <td>12541</td>\n",
       "      <td>0.29</td>\n",
       "      <td>0.43</td>\n",
       "      <td>167</td>\n",
       "      <td>85677</td>\n",
       "      <td>99107</td>\n",
       "    </tr>\n",
       "    <tr>\n",
       "      <th>1</th>\n",
       "      <td>2</td>\n",
       "      <td>88884</td>\n",
       "      <td>5</td>\n",
       "      <td>46.7</td>\n",
       "      <td>8507</td>\n",
       "      <td>1.67</td>\n",
       "      <td>1.85</td>\n",
       "      <td>132</td>\n",
       "      <td>2159</td>\n",
       "      <td>2674</td>\n",
       "    </tr>\n",
       "    <tr>\n",
       "      <th>2</th>\n",
       "      <td>3</td>\n",
       "      <td>75232</td>\n",
       "      <td>5</td>\n",
       "      <td>41.7</td>\n",
       "      <td>8980</td>\n",
       "      <td>1.95</td>\n",
       "      <td>2.21</td>\n",
       "      <td>111</td>\n",
       "      <td>2824</td>\n",
       "      <td>2813</td>\n",
       "    </tr>\n",
       "    <tr>\n",
       "      <th>3</th>\n",
       "      <td>4</td>\n",
       "      <td>149893</td>\n",
       "      <td>6</td>\n",
       "      <td>67.4</td>\n",
       "      <td>9753</td>\n",
       "      <td>4.64</td>\n",
       "      <td>5.05</td>\n",
       "      <td>109</td>\n",
       "      <td>5244</td>\n",
       "      <td>5892</td>\n",
       "    </tr>\n",
       "    <tr>\n",
       "      <th>4</th>\n",
       "      <td>5</td>\n",
       "      <td>95616</td>\n",
       "      <td>6</td>\n",
       "      <td>51.4</td>\n",
       "      <td>9307</td>\n",
       "      <td>3.85</td>\n",
       "      <td>4.43</td>\n",
       "      <td>118</td>\n",
       "      <td>2616</td>\n",
       "      <td>3040</td>\n",
       "    </tr>\n",
       "  </tbody>\n",
       "</table>\n",
       "</div>"
      ],
      "text/plain": [
       "   DISTRICT_ID  N_INHAB  N_CITIES  URBAN_RATIO  AVG_SALARY UNEMP_95  UNEMP_96  \\\n",
       "0            1  1204953         1        100.0       12541     0.29      0.43   \n",
       "1            2    88884         5         46.7        8507     1.67      1.85   \n",
       "2            3    75232         5         41.7        8980     1.95      2.21   \n",
       "3            4   149893         6         67.4        9753     4.64      5.05   \n",
       "4            5    95616         6         51.4        9307     3.85      4.43   \n",
       "\n",
       "   N_ENTR CRIME_95  CRIME_96  \n",
       "0     167    85677     99107  \n",
       "1     132     2159      2674  \n",
       "2     111     2824      2813  \n",
       "3     109     5244      5892  \n",
       "4     118     2616      3040  "
      ]
     },
     "execution_count": 26,
     "metadata": {},
     "output_type": "execute_result"
    }
   ],
   "source": [
    "districts.head()"
   ]
  },
  {
   "cell_type": "markdown",
   "id": "1d5d10b8-c077-4801-9f81-80fe5df72de1",
   "metadata": {},
   "source": [
    "Looks like there are two years census taken. Ideally we should use latest data. Hence ideally for all records before 1996, we should use UNEMP_95 and CRIME_95, and all records after 1996, we should use UNEMP_96 and CRIME_96 columns.\n",
    "\n",
    "But as in the loan dataset we do not have the indication about the date when a loan has been sanctioned, we could not use temporal features.\n",
    "\n",
    "Hence we would need assume all loans are sanctioned after 1996 and accordingly use temporal features like change in unemployment rate and change in crime rate"
   ]
  },
  {
   "cell_type": "markdown",
   "id": "bfd40c60-af5d-4e8c-adb3-37e47e7a17ed",
   "metadata": {},
   "source": [
    "#### Check if there are any customers who is not having the associated district"
   ]
  },
  {
   "cell_type": "code",
   "execution_count": 27,
   "id": "73f4c3db-43de-454b-8053-5fa3f005b8ea",
   "metadata": {},
   "outputs": [],
   "source": [
    "customers_joined_district = customers.merge(districts,on='DISTRICT_ID',how='left')"
   ]
  },
  {
   "cell_type": "code",
   "execution_count": 28,
   "id": "1c1b532d-7ca7-492d-a079-16a85f944d81",
   "metadata": {},
   "outputs": [
    {
     "data": {
      "text/plain": [
       "(0, 21)"
      ]
     },
     "execution_count": 28,
     "metadata": {},
     "output_type": "execute_result"
    }
   ],
   "source": [
    "customers_joined_district[customers_joined_district['N_INHAB'].isnull()].shape"
   ]
  },
  {
   "cell_type": "markdown",
   "id": "271e3af3-c3b4-4db3-ba2c-830964f14b14",
   "metadata": {},
   "source": [
    "##### Hence -  all customers have associated districts\n"
   ]
  },
  {
   "cell_type": "markdown",
   "id": "f917d5ae-6325-4aec-876e-9d64dff2bb73",
   "metadata": {},
   "source": [
    "#### There are some missing values in UNEMP_95 and CRIME_95"
   ]
  },
  {
   "cell_type": "markdown",
   "id": "dcd840b8-654b-4cca-8e76-0a63ddb1b597",
   "metadata": {},
   "source": [
    "Looks like few unknown entries are there in UNEMP_95 and CRIME_95, for those change them to the 96 values correspondingly - assume past year had same value"
   ]
  },
  {
   "cell_type": "code",
   "execution_count": 29,
   "id": "f215348b-3f31-49e8-9cde-161c38cdc07a",
   "metadata": {},
   "outputs": [],
   "source": [
    "mask = (districts.UNEMP_95 =='?') \n",
    "districts.loc[mask, 'UNEMP_95'] = districts['UNEMP_96']"
   ]
  },
  {
   "cell_type": "code",
   "execution_count": 30,
   "id": "57f44cf8-286e-498f-9455-fc3f490e3561",
   "metadata": {},
   "outputs": [],
   "source": [
    "mask = (districts.CRIME_95 =='?') \n",
    "districts.loc[mask, 'CRIME_95'] = districts['CRIME_96']"
   ]
  },
  {
   "cell_type": "markdown",
   "id": "5b34a53a-3305-407a-86db-eb3fea94cea9",
   "metadata": {},
   "source": [
    "##### Convert them to float for building other features"
   ]
  },
  {
   "cell_type": "code",
   "execution_count": 31,
   "id": "ec4f302c-3f21-47a9-b363-6a52b1b8753b",
   "metadata": {},
   "outputs": [],
   "source": [
    "districts['UNEMP_95'] = districts['UNEMP_95'].astype('float')\n",
    "districts['UNEMP_96'] = districts['UNEMP_96'].astype('float')\n",
    "districts['CRIME_95'] = districts['CRIME_95'].astype('float')\n",
    "districts['CRIME_96'] = districts['CRIME_96'].astype('float')\n"
   ]
  },
  {
   "cell_type": "markdown",
   "id": "4b3e9c54-eed4-4791-a152-e9b6255c7375",
   "metadata": {},
   "source": [
    "## <font color='green'> Feature Creation 1 - Calculate change in crime rate and change in unemployment rate"
   ]
  },
  {
   "cell_type": "code",
   "execution_count": 32,
   "id": "1c2f8b04-1d35-4b19-b7d7-449db3767d78",
   "metadata": {},
   "outputs": [],
   "source": [
    "districts['change_in_unemployment_rate'] = districts['UNEMP_96']/districts['UNEMP_95']\n",
    "districts['change_in_crime_rate'] = districts['CRIME_96']/districts['CRIME_95']\n",
    "\n"
   ]
  },
  {
   "cell_type": "markdown",
   "id": "24800432-7e43-4bb5-a307-0404e4087749",
   "metadata": {},
   "source": [
    "## <font color='green'> Feature Creation 2 - Calculate population average and deviations of individual records from them accordingly\n",
    "    \n",
    "#### Example : uplift_N_INHAB = N_INHAB for that district/population average of N_INHAB over all districts "
   ]
  },
  {
   "cell_type": "code",
   "execution_count": 33,
   "id": "a6e05e57-f81d-4152-bd9e-26fca3d57c9c",
   "metadata": {},
   "outputs": [
    {
     "data": {
      "text/plain": [
       "Index(['DISTRICT_ID', 'N_INHAB', 'N_CITIES', 'URBAN_RATIO', 'AVG_SALARY',\n",
       "       'UNEMP_95', 'UNEMP_96', 'N_ENTR', 'CRIME_95', 'CRIME_96',\n",
       "       'change_in_unemployment_rate', 'change_in_crime_rate'],\n",
       "      dtype='object')"
      ]
     },
     "execution_count": 33,
     "metadata": {},
     "output_type": "execute_result"
    }
   ],
   "source": [
    "districts.columns"
   ]
  },
  {
   "cell_type": "markdown",
   "id": "599b5f22-e5e9-41de-b180-e678195433ba",
   "metadata": {},
   "source": [
    "##### For all district level features, calculate uplift"
   ]
  },
  {
   "cell_type": "code",
   "execution_count": 34,
   "id": "8807b4a4-3f1b-4c80-919f-57c26b30eec5",
   "metadata": {},
   "outputs": [],
   "source": [
    "for column in districts.columns.drop('DISTRICT_ID'):\n",
    "    #### Calculate average\n",
    "    code = \"average_\"+column+\" = districts['\"+column+\"'].mean()\"\n",
    "    exec(code)\n",
    "    #### Calculate uplift as : value / average value\n",
    "    code = \"districts['uplift_from_average_\"+column+\"'] = districts['\"+column+\"']/average_\"+column\n",
    "    exec(code)\n"
   ]
  },
  {
   "cell_type": "markdown",
   "id": "dc8d2bfd-526b-46f4-8383-8af721949646",
   "metadata": {},
   "source": [
    "## <font color='red'>Section 2 - Feature Engineering"
   ]
  },
  {
   "cell_type": "markdown",
   "id": "cb44985a-c0cb-4ff0-9c33-f04146a212a2",
   "metadata": {},
   "source": [
    "## <font color='green'> Feature Creation 3 - Calculate transaction roll-ups at account_id level : average credits, average debits, ratio between avg credit and avg debit, other ratios of specific sub-type of transactions"
   ]
  },
  {
   "cell_type": "markdown",
   "id": "ff1e66c0-64d7-4b9c-afe1-919b1c97d54f",
   "metadata": {},
   "source": [
    "#### First calculate averages at account level for each transaction type and operation type"
   ]
  },
  {
   "cell_type": "markdown",
   "id": "f5badb0a-801d-4334-801a-51286b3f7c00",
   "metadata": {},
   "source": [
    "#### Create table for account level aggregates for each transaction type and operation\n",
    "##### Example structure of table :\n",
    "    - Account ID\n",
    "    - count of credit-from-other-bank\n",
    "    - count of credit-in-cash\n",
    "    - etc..\n",
    "    - mean of credit-from-other-bank\n",
    "    - mean of withdrawal-remittance-to-other-bank\n",
    "    - etc.."
   ]
  },
  {
   "cell_type": "code",
   "execution_count": 35,
   "id": "728133e0-9561-46fc-8f0f-074935455077",
   "metadata": {},
   "outputs": [],
   "source": [
    "transactions_grouped = transactions.groupby(['ACCOUNT_ID','TYPE','OPERATION'])['AMOUNT'].agg(['count','sum','mean']).reset_index()"
   ]
  },
  {
   "cell_type": "code",
   "execution_count": 36,
   "id": "461887db-0489-4f86-8d04-08d01608ceb4",
   "metadata": {},
   "outputs": [],
   "source": [
    "transactions_grouped_pivot = pd.pivot_table(transactions_grouped,\\\n",
    "                                            columns=['TYPE','OPERATION'],\\\n",
    "                                            index = ['ACCOUNT_ID']).fillna(0).reset_index()"
   ]
  },
  {
   "cell_type": "markdown",
   "id": "132d4a7c-6da7-477f-961e-525c8cccde40",
   "metadata": {},
   "source": [
    "#### Similarly, create table for account level aggregates for each transaction type\n",
    "##### Example structure of table :\n",
    "    - Account ID\n",
    "    - count of credit\n",
    "    - count of withdrawal\n",
    "    - mean of credit\n",
    "    - mean of withdrawal\n",
    "    - etc.."
   ]
  },
  {
   "cell_type": "code",
   "execution_count": 37,
   "id": "d8c53b6f-3287-467e-8dbd-53e3854981f3",
   "metadata": {},
   "outputs": [],
   "source": [
    "transactions_type_grouped = transactions.groupby(['ACCOUNT_ID','TYPE'])['AMOUNT'].agg(['count','sum','mean']).reset_index()"
   ]
  },
  {
   "cell_type": "code",
   "execution_count": 38,
   "id": "ac46681c-655b-44e1-af78-e2300d304bc7",
   "metadata": {},
   "outputs": [],
   "source": [
    "transactions_type_grouped_pivot = pd.pivot_table(transactions_type_grouped,\\\n",
    "                                            columns=['TYPE'],\\\n",
    "                                            index = ['ACCOUNT_ID']).fillna(0).reset_index()"
   ]
  },
  {
   "cell_type": "markdown",
   "id": "1ba42cbf-4507-4590-9ffd-8276ef02153a",
   "metadata": {},
   "source": [
    "#### Join with base customer table by account_id"
   ]
  },
  {
   "cell_type": "code",
   "execution_count": 39,
   "id": "699283f1-e6f8-4882-b9ec-b6505c0c9706",
   "metadata": {},
   "outputs": [
    {
     "name": "stderr",
     "output_type": "stream",
     "text": [
      "C:\\Users\\User\\AppData\\Local\\Temp\\ipykernel_9564\\2537827606.py:2: FutureWarning: merging between different levels is deprecated and will be removed in a future version. (1 levels on the left, 3 on the right)\n",
      "  merge(transactions_grouped_pivot,on='ACCOUNT_ID').\\\n",
      "C:\\Users\\User\\AppData\\Local\\Temp\\ipykernel_9564\\2537827606.py:2: PerformanceWarning: dropping on a non-lexsorted multi-index without a level parameter may impact performance.\n",
      "  merge(transactions_grouped_pivot,on='ACCOUNT_ID').\\\n",
      "C:\\Users\\User\\AppData\\Local\\Temp\\ipykernel_9564\\2537827606.py:3: FutureWarning: merging between different levels is deprecated and will be removed in a future version. (1 levels on the left, 2 on the right)\n",
      "  merge(transactions_type_grouped_pivot,on='ACCOUNT_ID')\n",
      "C:\\Users\\User\\AppData\\Local\\Temp\\ipykernel_9564\\2537827606.py:3: PerformanceWarning: dropping on a non-lexsorted multi-index without a level parameter may impact performance.\n",
      "  merge(transactions_type_grouped_pivot,on='ACCOUNT_ID')\n"
     ]
    }
   ],
   "source": [
    "customers_joined_trans_aggr = customers.\\\n",
    "                                merge(transactions_grouped_pivot,on='ACCOUNT_ID').\\\n",
    "                                merge(transactions_type_grouped_pivot,on='ACCOUNT_ID')"
   ]
  },
  {
   "cell_type": "markdown",
   "id": "98e41783-ae2c-4800-ab2c-92ef469cd303",
   "metadata": {},
   "source": [
    "#### Rename columns to clean names (from multi-index naming obtained from earlier pivot functions)"
   ]
  },
  {
   "cell_type": "code",
   "execution_count": 40,
   "id": "677b49e4-dbea-41c4-8710-9efb1db428dd",
   "metadata": {},
   "outputs": [],
   "source": [
    "customers_joined_trans_aggr.columns = ['CLIENT_ID',\n",
    "'ACCOUNT_ID',\n",
    "'GENDER',\n",
    "'ACTIVE',\n",
    "'LOAN',\n",
    "'DISTRICT_ID',\n",
    "'SET_SPLIT',\n",
    "'birth_date',\n",
    "'earliest_date',\n",
    "'first_transacted_year',\n",
    "'age_in_days_during_first_transaction',\n",
    "'age_in_years_during_first_transaction',\n",
    "'count-CREDIT-COLLECTION_FROM_OTHER_BANK',\n",
    "'count-CREDIT-CREDIT_IN_CASH',\n",
    "'count-WITHDRAWAL-CC_WITHDRAWAL',\n",
    "'count-WITHDRAWAL-REMITTANCE_TO_OTHER_BANK',\n",
    "'count-WITHDRAWAL-WITHDRAWAL_IN_CASH',\n",
    "'mean-CREDIT-COLLECTION_FROM_OTHER_BANK',\n",
    "'mean-CREDIT-CREDIT_IN_CASH',\n",
    "'mean-WITHDRAWAL-CC_WITHDRAWAL',\n",
    "'mean-WITHDRAWAL-REMITTANCE_TO_OTHER_BANK',\n",
    "'mean-WITHDRAWAL-WITHDRAWAL_IN_CASH',\n",
    "'sum-CREDIT-COLLECTION_FROM_OTHER_BANK',\n",
    "'sum-CREDIT-CREDIT_IN_CASH',\n",
    "'sum-WITHDRAWAL-CC_WITHDRAWAL',\n",
    "'sum-WITHDRAWAL-REMITTANCE_TO_OTHER_BANK',\n",
    "'sum-WITHDRAWAL-WITHDRAWAL_IN_CASH',\n",
    "'count-CREDIT',\n",
    "'count-WITHDRAWAL',\n",
    "'mean-CREDIT',\n",
    "'mean-WITHDRAWAL',\n",
    "'sum-CREDIT',\n",
    "'sum-WITHDRAWAL'\n",
    "]\n"
   ]
  },
  {
   "cell_type": "markdown",
   "id": "c9c7b596-8402-41a5-ba2b-89b98dddc041",
   "metadata": {},
   "source": [
    "## <font color='green'> Feature Creation 4 - Calculate ratio of averages and sums for different transaction types\n",
    "#### As example \n",
    "        - ratio between average credit to average withdrawals\n",
    "        - ratio of cash withdrawals to total withdrawals\n",
    "        - etc etc"
   ]
  },
  {
   "cell_type": "code",
   "execution_count": 41,
   "id": "35f469a2-90fb-4d89-b3be-330029e1cd7a",
   "metadata": {},
   "outputs": [],
   "source": [
    "\n",
    "#### Calculate ratio of total value of credit to total value of withdrawal\n",
    "customers_joined_trans_aggr['ratio_sum_credit_to_withdrawal'] = \\\n",
    "customers_joined_trans_aggr['sum-CREDIT']/customers_joined_trans_aggr['sum-WITHDRAWAL']\n",
    "\n",
    "#### Calculate ratio of total count of credit to total count of withdrawal\n",
    "customers_joined_trans_aggr['ratio_count_credit_to_withdrawal'] = \\\n",
    "customers_joined_trans_aggr['count-CREDIT']/customers_joined_trans_aggr['count-WITHDRAWAL']\n",
    "\n",
    "#### Calculate ratio of avg of credit to avg of withdrawal\n",
    "customers_joined_trans_aggr['ratio_mean_credit_to_withdrawal'] = \\\n",
    "customers_joined_trans_aggr['mean-CREDIT']/customers_joined_trans_aggr['mean-WITHDRAWAL']\n",
    "\n",
    "\n",
    "#### Calculate ratio of value of cc withdrawal to total value of all withdrawal\n",
    "customers_joined_trans_aggr['ratio_sum_CC_WITHDRAWAL_to_WITHDRAWAL'] = \\\n",
    "customers_joined_trans_aggr['sum-WITHDRAWAL-CC_WITHDRAWAL'] / customers_joined_trans_aggr['sum-WITHDRAWAL']\n",
    "\n",
    "#### Calculate ratio of value of remittance to other bank to total value of all withdrawal\n",
    "customers_joined_trans_aggr['ratio_sum_REMITTANCE_TO_OTHER_BANK_to_WITHDRAWAL'] = \\\n",
    "customers_joined_trans_aggr['sum-WITHDRAWAL-REMITTANCE_TO_OTHER_BANK'] / customers_joined_trans_aggr['sum-WITHDRAWAL']\n",
    "\n",
    "\n",
    "#### Calculate ratio of value of cash withdrawal to total value of all withdrawal\n",
    "customers_joined_trans_aggr['ratio_sum_WITHDRAWAL_IN_CASH_to_WITHDRAWAL'] = \\\n",
    "customers_joined_trans_aggr['sum-WITHDRAWAL-WITHDRAWAL_IN_CASH'] / customers_joined_trans_aggr['sum-WITHDRAWAL']\n",
    "\n",
    "\n",
    "#### Calculate ratio of value of credit collection from other bank to total value of all credit\n",
    "customers_joined_trans_aggr['ratio_sum-CREDIT-COLLECTION_FROM_OTHER_BANK_to_CREDIT'] = \\\n",
    "customers_joined_trans_aggr['sum-CREDIT-COLLECTION_FROM_OTHER_BANK'] / customers_joined_trans_aggr['sum-CREDIT']\n",
    "\n",
    "#### Calculate ratio of value of cash credit to total value of all credit\n",
    "customers_joined_trans_aggr['ratio_sum-CREDIT_IN_CASH_to_CREDIT'] = \\\n",
    "customers_joined_trans_aggr['sum-CREDIT-CREDIT_IN_CASH'] / customers_joined_trans_aggr['sum-CREDIT']\n",
    "\n"
   ]
  },
  {
   "cell_type": "markdown",
   "id": "f9933cd8-bdb9-46d8-acf8-cdae40ec11dd",
   "metadata": {},
   "source": [
    "##### Handle infinity values in the calculated ratio columns, replace inf by max value"
   ]
  },
  {
   "cell_type": "code",
   "execution_count": 42,
   "id": "2f3d2849-52e9-4cd6-8712-c30b67793614",
   "metadata": {},
   "outputs": [],
   "source": [
    "ratio_columns = customers_joined_trans_aggr.columns[-8:]"
   ]
  },
  {
   "cell_type": "code",
   "execution_count": 43,
   "id": "cc365ab4-738e-4815-8a13-010aeac8ecc8",
   "metadata": {},
   "outputs": [
    {
     "data": {
      "text/plain": [
       "Index(['ratio_sum_credit_to_withdrawal', 'ratio_count_credit_to_withdrawal',\n",
       "       'ratio_mean_credit_to_withdrawal',\n",
       "       'ratio_sum_CC_WITHDRAWAL_to_WITHDRAWAL',\n",
       "       'ratio_sum_REMITTANCE_TO_OTHER_BANK_to_WITHDRAWAL',\n",
       "       'ratio_sum_WITHDRAWAL_IN_CASH_to_WITHDRAWAL',\n",
       "       'ratio_sum-CREDIT-COLLECTION_FROM_OTHER_BANK_to_CREDIT',\n",
       "       'ratio_sum-CREDIT_IN_CASH_to_CREDIT'],\n",
       "      dtype='object')"
      ]
     },
     "execution_count": 43,
     "metadata": {},
     "output_type": "execute_result"
    }
   ],
   "source": [
    "ratio_columns"
   ]
  },
  {
   "cell_type": "code",
   "execution_count": null,
   "id": "7c6aa6c0-e0d4-4ad7-8f80-df56bfd9a089",
   "metadata": {},
   "outputs": [],
   "source": []
  },
  {
   "cell_type": "code",
   "execution_count": 44,
   "id": "f3a7f573-8475-4736-89dd-310657a9cf65",
   "metadata": {},
   "outputs": [],
   "source": [
    "#### For each ratio column\n",
    "for column in ratio_columns:\n",
    "    #### Calculate max val\n",
    "    code = \"max_val = customers_joined_trans_aggr.loc[customers_joined_trans_aggr['\"+column+\"'] != np.inf, '\"+column+\"'].max()\"\n",
    "    exec(code)\n",
    "    #### Replace infinity values by max\n",
    "    code = \"customers_joined_trans_aggr['\"+column+\"'].replace(np.inf,max_val,inplace=True)\"\n",
    "    exec(code)"
   ]
  },
  {
   "cell_type": "markdown",
   "id": "180771dd-c3a8-4b5e-bf25-9591a86884e5",
   "metadata": {},
   "source": [
    "### Join with districts dataset to get all district level features"
   ]
  },
  {
   "cell_type": "code",
   "execution_count": 45,
   "id": "43f77c9f-3b45-4cb1-a787-18756fa194e8",
   "metadata": {},
   "outputs": [],
   "source": [
    "customers_joined_trans_aggr_joined_districts = customers_joined_trans_aggr.\\\n",
    "                                                merge(districts,on='DISTRICT_ID')"
   ]
  },
  {
   "cell_type": "code",
   "execution_count": 46,
   "id": "9d75c85e-4d70-4c03-82d8-074671cf4b56",
   "metadata": {
    "tags": []
   },
   "outputs": [
    {
     "data": {
      "text/plain": [
       "Index(['CLIENT_ID', 'ACCOUNT_ID', 'GENDER', 'ACTIVE', 'LOAN', 'DISTRICT_ID',\n",
       "       'SET_SPLIT', 'birth_date', 'earliest_date', 'first_transacted_year',\n",
       "       'age_in_days_during_first_transaction',\n",
       "       'age_in_years_during_first_transaction',\n",
       "       'count-CREDIT-COLLECTION_FROM_OTHER_BANK',\n",
       "       'count-CREDIT-CREDIT_IN_CASH', 'count-WITHDRAWAL-CC_WITHDRAWAL',\n",
       "       'count-WITHDRAWAL-REMITTANCE_TO_OTHER_BANK',\n",
       "       'count-WITHDRAWAL-WITHDRAWAL_IN_CASH',\n",
       "       'mean-CREDIT-COLLECTION_FROM_OTHER_BANK', 'mean-CREDIT-CREDIT_IN_CASH',\n",
       "       'mean-WITHDRAWAL-CC_WITHDRAWAL',\n",
       "       'mean-WITHDRAWAL-REMITTANCE_TO_OTHER_BANK',\n",
       "       'mean-WITHDRAWAL-WITHDRAWAL_IN_CASH',\n",
       "       'sum-CREDIT-COLLECTION_FROM_OTHER_BANK', 'sum-CREDIT-CREDIT_IN_CASH',\n",
       "       'sum-WITHDRAWAL-CC_WITHDRAWAL',\n",
       "       'sum-WITHDRAWAL-REMITTANCE_TO_OTHER_BANK',\n",
       "       'sum-WITHDRAWAL-WITHDRAWAL_IN_CASH', 'count-CREDIT', 'count-WITHDRAWAL',\n",
       "       'mean-CREDIT', 'mean-WITHDRAWAL', 'sum-CREDIT', 'sum-WITHDRAWAL',\n",
       "       'ratio_sum_credit_to_withdrawal', 'ratio_count_credit_to_withdrawal',\n",
       "       'ratio_mean_credit_to_withdrawal',\n",
       "       'ratio_sum_CC_WITHDRAWAL_to_WITHDRAWAL',\n",
       "       'ratio_sum_REMITTANCE_TO_OTHER_BANK_to_WITHDRAWAL',\n",
       "       'ratio_sum_WITHDRAWAL_IN_CASH_to_WITHDRAWAL',\n",
       "       'ratio_sum-CREDIT-COLLECTION_FROM_OTHER_BANK_to_CREDIT',\n",
       "       'ratio_sum-CREDIT_IN_CASH_to_CREDIT', 'N_INHAB', 'N_CITIES',\n",
       "       'URBAN_RATIO', 'AVG_SALARY', 'UNEMP_95', 'UNEMP_96', 'N_ENTR',\n",
       "       'CRIME_95', 'CRIME_96', 'change_in_unemployment_rate',\n",
       "       'change_in_crime_rate', 'uplift_from_average_N_INHAB',\n",
       "       'uplift_from_average_N_CITIES', 'uplift_from_average_URBAN_RATIO',\n",
       "       'uplift_from_average_AVG_SALARY', 'uplift_from_average_UNEMP_95',\n",
       "       'uplift_from_average_UNEMP_96', 'uplift_from_average_N_ENTR',\n",
       "       'uplift_from_average_CRIME_95', 'uplift_from_average_CRIME_96',\n",
       "       'uplift_from_average_change_in_unemployment_rate',\n",
       "       'uplift_from_average_change_in_crime_rate'],\n",
       "      dtype='object')"
      ]
     },
     "execution_count": 46,
     "metadata": {},
     "output_type": "execute_result"
    }
   ],
   "source": [
    "customers_joined_trans_aggr_joined_districts.columns"
   ]
  },
  {
   "cell_type": "markdown",
   "id": "10fb56ff-65f8-4e28-8871-324db02747eb",
   "metadata": {},
   "source": []
  },
  {
   "cell_type": "markdown",
   "id": "a07a43df-6f7b-4b40-a86b-27cbd2673579",
   "metadata": {},
   "source": [
    "### Ethical Decision - We will not use GENDER as that can bring bias to model"
   ]
  },
  {
   "cell_type": "code",
   "execution_count": null,
   "id": "1c4cbd6c-27c7-4a2c-94e1-c8b62d1f6b37",
   "metadata": {},
   "outputs": [],
   "source": [
    "\n"
   ]
  },
  {
   "cell_type": "markdown",
   "id": "c4acf2da-1429-49db-9f58-5a0986dfcdbe",
   "metadata": {},
   "source": [
    "## <font color='red'>Section 3 - Feature Selection"
   ]
  },
  {
   "cell_type": "code",
   "execution_count": 47,
   "id": "d2809912-a731-4333-8193-93f5944b8cef",
   "metadata": {},
   "outputs": [
    {
     "data": {
      "text/plain": [
       "63"
      ]
     },
     "execution_count": 47,
     "metadata": {},
     "output_type": "execute_result"
    }
   ],
   "source": [
    "len(customers_joined_trans_aggr_joined_districts.columns)"
   ]
  },
  {
   "cell_type": "code",
   "execution_count": 48,
   "id": "4c70fb68-638f-4292-af89-73db09ec85fe",
   "metadata": {},
   "outputs": [
    {
     "data": {
      "text/plain": [
       "Index(['CLIENT_ID', 'ACCOUNT_ID', 'GENDER', 'ACTIVE', 'LOAN', 'DISTRICT_ID',\n",
       "       'SET_SPLIT', 'birth_date', 'earliest_date', 'first_transacted_year',\n",
       "       'age_in_days_during_first_transaction',\n",
       "       'age_in_years_during_first_transaction',\n",
       "       'count-CREDIT-COLLECTION_FROM_OTHER_BANK',\n",
       "       'count-CREDIT-CREDIT_IN_CASH', 'count-WITHDRAWAL-CC_WITHDRAWAL',\n",
       "       'count-WITHDRAWAL-REMITTANCE_TO_OTHER_BANK',\n",
       "       'count-WITHDRAWAL-WITHDRAWAL_IN_CASH',\n",
       "       'mean-CREDIT-COLLECTION_FROM_OTHER_BANK', 'mean-CREDIT-CREDIT_IN_CASH',\n",
       "       'mean-WITHDRAWAL-CC_WITHDRAWAL',\n",
       "       'mean-WITHDRAWAL-REMITTANCE_TO_OTHER_BANK',\n",
       "       'mean-WITHDRAWAL-WITHDRAWAL_IN_CASH',\n",
       "       'sum-CREDIT-COLLECTION_FROM_OTHER_BANK', 'sum-CREDIT-CREDIT_IN_CASH',\n",
       "       'sum-WITHDRAWAL-CC_WITHDRAWAL',\n",
       "       'sum-WITHDRAWAL-REMITTANCE_TO_OTHER_BANK',\n",
       "       'sum-WITHDRAWAL-WITHDRAWAL_IN_CASH', 'count-CREDIT', 'count-WITHDRAWAL',\n",
       "       'mean-CREDIT', 'mean-WITHDRAWAL', 'sum-CREDIT', 'sum-WITHDRAWAL',\n",
       "       'ratio_sum_credit_to_withdrawal', 'ratio_count_credit_to_withdrawal',\n",
       "       'ratio_mean_credit_to_withdrawal',\n",
       "       'ratio_sum_CC_WITHDRAWAL_to_WITHDRAWAL',\n",
       "       'ratio_sum_REMITTANCE_TO_OTHER_BANK_to_WITHDRAWAL',\n",
       "       'ratio_sum_WITHDRAWAL_IN_CASH_to_WITHDRAWAL',\n",
       "       'ratio_sum-CREDIT-COLLECTION_FROM_OTHER_BANK_to_CREDIT',\n",
       "       'ratio_sum-CREDIT_IN_CASH_to_CREDIT', 'N_INHAB', 'N_CITIES',\n",
       "       'URBAN_RATIO', 'AVG_SALARY', 'UNEMP_95', 'UNEMP_96', 'N_ENTR',\n",
       "       'CRIME_95', 'CRIME_96', 'change_in_unemployment_rate',\n",
       "       'change_in_crime_rate', 'uplift_from_average_N_INHAB',\n",
       "       'uplift_from_average_N_CITIES', 'uplift_from_average_URBAN_RATIO',\n",
       "       'uplift_from_average_AVG_SALARY', 'uplift_from_average_UNEMP_95',\n",
       "       'uplift_from_average_UNEMP_96', 'uplift_from_average_N_ENTR',\n",
       "       'uplift_from_average_CRIME_95', 'uplift_from_average_CRIME_96',\n",
       "       'uplift_from_average_change_in_unemployment_rate',\n",
       "       'uplift_from_average_change_in_crime_rate'],\n",
       "      dtype='object')"
      ]
     },
     "execution_count": 48,
     "metadata": {},
     "output_type": "execute_result"
    }
   ],
   "source": [
    "customers_joined_trans_aggr_joined_districts.columns"
   ]
  },
  {
   "cell_type": "markdown",
   "id": "4d3b278c-5af8-4b33-8a66-644b47982885",
   "metadata": {},
   "source": [
    "#### Define all numeric columns first"
   ]
  },
  {
   "cell_type": "code",
   "execution_count": 49,
   "id": "b45585ba-99c3-4ea8-8cd5-1a01f2a6fed8",
   "metadata": {},
   "outputs": [],
   "source": [
    "numeric_columns = ['age_in_years_during_first_transaction',\n",
    "       'count-CREDIT-COLLECTION_FROM_OTHER_BANK',\n",
    "       'count-CREDIT-CREDIT_IN_CASH', 'count-WITHDRAWAL-CC_WITHDRAWAL',\n",
    "       'count-WITHDRAWAL-REMITTANCE_TO_OTHER_BANK',\n",
    "       'count-WITHDRAWAL-WITHDRAWAL_IN_CASH',\n",
    "       'mean-CREDIT-COLLECTION_FROM_OTHER_BANK', 'mean-CREDIT-CREDIT_IN_CASH',\n",
    "       'mean-WITHDRAWAL-CC_WITHDRAWAL',\n",
    "       'mean-WITHDRAWAL-REMITTANCE_TO_OTHER_BANK',\n",
    "       'mean-WITHDRAWAL-WITHDRAWAL_IN_CASH',\n",
    "       'sum-CREDIT-COLLECTION_FROM_OTHER_BANK', 'sum-CREDIT-CREDIT_IN_CASH',\n",
    "       'sum-WITHDRAWAL-CC_WITHDRAWAL',\n",
    "       'sum-WITHDRAWAL-REMITTANCE_TO_OTHER_BANK',\n",
    "       'sum-WITHDRAWAL-WITHDRAWAL_IN_CASH', 'count-CREDIT', 'count-WITHDRAWAL',\n",
    "       'mean-CREDIT', 'mean-WITHDRAWAL', 'sum-CREDIT', 'sum-WITHDRAWAL',\n",
    "       'ratio_sum_credit_to_withdrawal', 'ratio_count_credit_to_withdrawal',\n",
    "       'ratio_mean_credit_to_withdrawal',\n",
    "       'ratio_sum_CC_WITHDRAWAL_to_WITHDRAWAL',\n",
    "       'ratio_sum_REMITTANCE_TO_OTHER_BANK_to_WITHDRAWAL',\n",
    "       'ratio_sum_WITHDRAWAL_IN_CASH_to_WITHDRAWAL',\n",
    "       'ratio_sum-CREDIT-COLLECTION_FROM_OTHER_BANK_to_CREDIT',\n",
    "       'ratio_sum-CREDIT_IN_CASH_to_CREDIT', 'N_INHAB', 'N_CITIES',\n",
    "       'URBAN_RATIO', 'AVG_SALARY', 'UNEMP_95', 'UNEMP_96', 'N_ENTR',\n",
    "       'CRIME_95', 'CRIME_96', 'change_in_unemployment_rate',\n",
    "       'change_in_crime_rate', 'uplift_from_average_N_INHAB',\n",
    "       'uplift_from_average_N_CITIES', 'uplift_from_average_URBAN_RATIO',\n",
    "       'uplift_from_average_AVG_SALARY', 'uplift_from_average_UNEMP_95',\n",
    "       'uplift_from_average_UNEMP_96', 'uplift_from_average_N_ENTR',\n",
    "       'uplift_from_average_CRIME_95', 'uplift_from_average_CRIME_96',\n",
    "       'uplift_from_average_change_in_unemployment_rate',\n",
    "       'uplift_from_average_change_in_crime_rate']\n",
    "\n"
   ]
  },
  {
   "cell_type": "code",
   "execution_count": 50,
   "id": "0fda43ba-2b45-434d-b458-48748b34f449",
   "metadata": {},
   "outputs": [
    {
     "data": {
      "text/plain": [
       "52"
      ]
     },
     "execution_count": 50,
     "metadata": {},
     "output_type": "execute_result"
    }
   ],
   "source": [
    "len(numeric_columns)"
   ]
  },
  {
   "cell_type": "markdown",
   "id": "0ad5161b-1b11-4fe1-b655-9dd7216e0c22",
   "metadata": {},
   "source": [
    "#### Create base file from which we would select key features for modelling"
   ]
  },
  {
   "cell_type": "code",
   "execution_count": 51,
   "id": "2200c599-814c-4867-92ed-1f4eccddca24",
   "metadata": {},
   "outputs": [],
   "source": [
    "\n",
    "base_file = customers_joined_trans_aggr_joined_districts"
   ]
  },
  {
   "cell_type": "code",
   "execution_count": null,
   "id": "c334bdab-5407-40e1-b845-3ae1f9164565",
   "metadata": {},
   "outputs": [],
   "source": []
  },
  {
   "cell_type": "markdown",
   "id": "c6830594-674e-4b46-b99f-02815e492d92",
   "metadata": {},
   "source": [
    "#### Feature selection - t-test of significance\n",
    "We will perform two-sample t-test to identify key features that can have significance on the target class.\n",
    "\n",
    "For each feature, we assume null hypothesis as there is no significant difference between distributions of the feature for the two groups of positive and negative class.\n",
    "\n",
    "If p-value is less than 0.05 then we can safely reject null hypothesis and assume feature may have some impact on target class"
   ]
  },
  {
   "cell_type": "code",
   "execution_count": 52,
   "id": "c3283a7e-df91-4c9a-b2c1-e7214f60dd9a",
   "metadata": {},
   "outputs": [],
   "source": [
    "from scipy.stats import ttest_ind"
   ]
  },
  {
   "cell_type": "markdown",
   "id": "b60be5b0-135a-424c-99ea-6b76e27b11e3",
   "metadata": {},
   "source": [
    "##### Scale features before t-test"
   ]
  },
  {
   "cell_type": "code",
   "execution_count": 53,
   "id": "744c2dc0-3cd2-4467-9831-149fbb564d68",
   "metadata": {},
   "outputs": [],
   "source": [
    "from sklearn.preprocessing import MinMaxScaler"
   ]
  },
  {
   "cell_type": "code",
   "execution_count": 54,
   "id": "7d851c20-895a-4527-89b1-685b7dad8b8b",
   "metadata": {},
   "outputs": [],
   "source": [
    "#### Define and fit scaler\n",
    "scaler = MinMaxScaler()\n",
    "scaler.fit(base_file[numeric_columns])\n",
    "\n",
    "#### Transform dataframe and create new scaled dataframe\n",
    "base_file_scaled_values = scaler.transform(base_file[numeric_columns])\n",
    "base_file_scaled = pd.DataFrame(base_file_scaled_values,columns = numeric_columns)\n",
    "base_file_scaled['LOAN'] = base_file['LOAN'] \n"
   ]
  },
  {
   "cell_type": "markdown",
   "id": "1819ce53-e93e-41ab-8e3f-7a9e95cd5c5d",
   "metadata": {},
   "source": [
    "#### Run t-test for all features against the target - in a loop and save the statistic value and p-value in a dataframe"
   ]
  },
  {
   "cell_type": "code",
   "execution_count": 55,
   "id": "7aefac65-5dd3-4761-8fb1-89485b467f7c",
   "metadata": {
    "tags": []
   },
   "outputs": [],
   "source": [
    "#### Define empty list to hold p-values for each feature\n",
    "ttest_p_vals_extended = []\n",
    "\n",
    "#### Divide dataset in two groups\n",
    "pos_samples = base_file_scaled[base_file_scaled['LOAN']==1]\n",
    "neg_samples = base_file_scaled[base_file_scaled['LOAN']==0]\n",
    "\n",
    "#### For each feature, calculate ttest statistic and corresponding p-value\n",
    "#### Save p-value for features in a list\n",
    "for col_name in numeric_columns:\n",
    "\n",
    "    ttest_result = ttest_ind(pos_samples[col_name].values, neg_samples[col_name].values)\n",
    "    p_val = ttest_result[1]\n",
    "    ttest_p_vals_extended.append([col_name,p_val])\n",
    "    \n",
    "#### Create a dataframe with features with their p-value from t-test\n",
    "ttest_p_vals_extended_df = pd.DataFrame(ttest_p_vals_extended,columns = ['feature','p_val']).sort_values('p_val')"
   ]
  },
  {
   "cell_type": "markdown",
   "id": "1e4da3f5-98c7-4e67-a620-9fa0699241c1",
   "metadata": {},
   "source": [
    "#### Take the most important features as for which the p-value < 0.05"
   ]
  },
  {
   "cell_type": "code",
   "execution_count": 56,
   "id": "60cccbfb-0e49-421c-ada7-24d546f79047",
   "metadata": {},
   "outputs": [],
   "source": [
    "most_important_columns = ttest_p_vals_extended_df[ttest_p_vals_extended_df['p_val']<0.05]['feature'].values"
   ]
  },
  {
   "cell_type": "code",
   "execution_count": 57,
   "id": "3dac26be-e7ba-4fcf-be87-d62c8f217427",
   "metadata": {},
   "outputs": [
    {
     "data": {
      "text/plain": [
       "30"
      ]
     },
     "execution_count": 57,
     "metadata": {},
     "output_type": "execute_result"
    }
   ],
   "source": [
    "len(most_important_columns)"
   ]
  },
  {
   "cell_type": "code",
   "execution_count": 58,
   "id": "1befe10b-70d7-4238-b991-9402d5ecb686",
   "metadata": {},
   "outputs": [
    {
     "data": {
      "text/plain": [
       "array(['mean-CREDIT', 'sum-WITHDRAWAL', 'sum-CREDIT',\n",
       "       'mean-WITHDRAWAL-WITHDRAWAL_IN_CASH',\n",
       "       'sum-WITHDRAWAL-WITHDRAWAL_IN_CASH',\n",
       "       'sum-WITHDRAWAL-REMITTANCE_TO_OTHER_BANK', 'mean-WITHDRAWAL',\n",
       "       'mean-CREDIT-COLLECTION_FROM_OTHER_BANK',\n",
       "       'mean-WITHDRAWAL-REMITTANCE_TO_OTHER_BANK',\n",
       "       'sum-CREDIT-COLLECTION_FROM_OTHER_BANK', 'count-WITHDRAWAL',\n",
       "       'sum-CREDIT-CREDIT_IN_CASH', 'count-WITHDRAWAL-WITHDRAWAL_IN_CASH',\n",
       "       'mean-CREDIT-CREDIT_IN_CASH',\n",
       "       'count-WITHDRAWAL-REMITTANCE_TO_OTHER_BANK',\n",
       "       'ratio_mean_credit_to_withdrawal',\n",
       "       'ratio_count_credit_to_withdrawal',\n",
       "       'ratio_sum_WITHDRAWAL_IN_CASH_to_WITHDRAWAL',\n",
       "       'count-CREDIT-CREDIT_IN_CASH',\n",
       "       'age_in_years_during_first_transaction', 'count-CREDIT',\n",
       "       'ratio_sum_REMITTANCE_TO_OTHER_BANK_to_WITHDRAWAL',\n",
       "       'ratio_sum_credit_to_withdrawal', 'mean-WITHDRAWAL-CC_WITHDRAWAL',\n",
       "       'count-CREDIT-COLLECTION_FROM_OTHER_BANK',\n",
       "       'ratio_sum_CC_WITHDRAWAL_to_WITHDRAWAL',\n",
       "       'ratio_sum-CREDIT_IN_CASH_to_CREDIT',\n",
       "       'ratio_sum-CREDIT-COLLECTION_FROM_OTHER_BANK_to_CREDIT',\n",
       "       'uplift_from_average_URBAN_RATIO', 'URBAN_RATIO'], dtype=object)"
      ]
     },
     "execution_count": 58,
     "metadata": {},
     "output_type": "execute_result"
    }
   ],
   "source": [
    "most_important_columns"
   ]
  },
  {
   "cell_type": "markdown",
   "id": "b5998d65-1409-48a3-a669-643147c92277",
   "metadata": {},
   "source": [
    "#### Hence,there are 30 features which may have some impact in the target, rest 22 features can be safely discarded"
   ]
  },
  {
   "cell_type": "markdown",
   "id": "3059516c-c20c-4cfe-a9ee-06cd6ae6203c",
   "metadata": {},
   "source": [
    "## <font color='red'>Section 4 - Final data preparation"
   ]
  },
  {
   "cell_type": "markdown",
   "id": "ddc4db7a-d5b2-4e64-a22e-bc3d89d07ae0",
   "metadata": {},
   "source": [
    "#### Get the most important features and create modelling dataframe\n",
    "#### Get Loan flag as target\n",
    "#### Add other columns like acc id, set split"
   ]
  },
  {
   "cell_type": "code",
   "execution_count": 59,
   "id": "925ac5d1-46e7-46f6-8056-4568017787f9",
   "metadata": {},
   "outputs": [
    {
     "name": "stderr",
     "output_type": "stream",
     "text": [
      "C:\\Users\\User\\AppData\\Local\\Temp\\ipykernel_9564\\185659553.py:2: SettingWithCopyWarning: \n",
      "A value is trying to be set on a copy of a slice from a DataFrame.\n",
      "Try using .loc[row_indexer,col_indexer] = value instead\n",
      "\n",
      "See the caveats in the documentation: https://pandas.pydata.org/pandas-docs/stable/user_guide/indexing.html#returning-a-view-versus-a-copy\n",
      "  model_df['ACCOUNT_ID'] = customers_joined_trans_aggr_joined_districts['ACCOUNT_ID']\n",
      "C:\\Users\\User\\AppData\\Local\\Temp\\ipykernel_9564\\185659553.py:3: SettingWithCopyWarning: \n",
      "A value is trying to be set on a copy of a slice from a DataFrame.\n",
      "Try using .loc[row_indexer,col_indexer] = value instead\n",
      "\n",
      "See the caveats in the documentation: https://pandas.pydata.org/pandas-docs/stable/user_guide/indexing.html#returning-a-view-versus-a-copy\n",
      "  model_df['SET_SPLIT'] = customers_joined_trans_aggr_joined_districts['SET_SPLIT']\n",
      "C:\\Users\\User\\AppData\\Local\\Temp\\ipykernel_9564\\185659553.py:4: SettingWithCopyWarning: \n",
      "A value is trying to be set on a copy of a slice from a DataFrame.\n",
      "Try using .loc[row_indexer,col_indexer] = value instead\n",
      "\n",
      "See the caveats in the documentation: https://pandas.pydata.org/pandas-docs/stable/user_guide/indexing.html#returning-a-view-versus-a-copy\n",
      "  model_df['LOAN'] = customers_joined_trans_aggr_joined_districts['LOAN']\n"
     ]
    }
   ],
   "source": [
    "\n",
    "model_df = base_file_scaled[most_important_columns]\n",
    "model_df['ACCOUNT_ID'] = customers_joined_trans_aggr_joined_districts['ACCOUNT_ID']\n",
    "model_df['SET_SPLIT'] = customers_joined_trans_aggr_joined_districts['SET_SPLIT']\n",
    "model_df['LOAN'] = customers_joined_trans_aggr_joined_districts['LOAN']"
   ]
  },
  {
   "cell_type": "code",
   "execution_count": 60,
   "id": "c862cb04-de2f-4f5f-a184-0c79336992af",
   "metadata": {
    "tags": []
   },
   "outputs": [
    {
     "data": {
      "text/plain": [
       "Index(['mean-CREDIT', 'sum-WITHDRAWAL', 'sum-CREDIT',\n",
       "       'mean-WITHDRAWAL-WITHDRAWAL_IN_CASH',\n",
       "       'sum-WITHDRAWAL-WITHDRAWAL_IN_CASH',\n",
       "       'sum-WITHDRAWAL-REMITTANCE_TO_OTHER_BANK', 'mean-WITHDRAWAL',\n",
       "       'mean-CREDIT-COLLECTION_FROM_OTHER_BANK',\n",
       "       'mean-WITHDRAWAL-REMITTANCE_TO_OTHER_BANK',\n",
       "       'sum-CREDIT-COLLECTION_FROM_OTHER_BANK', 'count-WITHDRAWAL',\n",
       "       'sum-CREDIT-CREDIT_IN_CASH', 'count-WITHDRAWAL-WITHDRAWAL_IN_CASH',\n",
       "       'mean-CREDIT-CREDIT_IN_CASH',\n",
       "       'count-WITHDRAWAL-REMITTANCE_TO_OTHER_BANK',\n",
       "       'ratio_mean_credit_to_withdrawal', 'ratio_count_credit_to_withdrawal',\n",
       "       'ratio_sum_WITHDRAWAL_IN_CASH_to_WITHDRAWAL',\n",
       "       'count-CREDIT-CREDIT_IN_CASH', 'age_in_years_during_first_transaction',\n",
       "       'count-CREDIT', 'ratio_sum_REMITTANCE_TO_OTHER_BANK_to_WITHDRAWAL',\n",
       "       'ratio_sum_credit_to_withdrawal', 'mean-WITHDRAWAL-CC_WITHDRAWAL',\n",
       "       'count-CREDIT-COLLECTION_FROM_OTHER_BANK',\n",
       "       'ratio_sum_CC_WITHDRAWAL_to_WITHDRAWAL',\n",
       "       'ratio_sum-CREDIT_IN_CASH_to_CREDIT',\n",
       "       'ratio_sum-CREDIT-COLLECTION_FROM_OTHER_BANK_to_CREDIT',\n",
       "       'uplift_from_average_URBAN_RATIO', 'URBAN_RATIO', 'ACCOUNT_ID',\n",
       "       'SET_SPLIT', 'LOAN'],\n",
       "      dtype='object')"
      ]
     },
     "execution_count": 60,
     "metadata": {},
     "output_type": "execute_result"
    }
   ],
   "source": [
    "model_df.columns"
   ]
  },
  {
   "cell_type": "markdown",
   "id": "992bbbe3-4085-448d-a409-87169e611f1f",
   "metadata": {},
   "source": [
    "#### Distribution plot few top variables"
   ]
  },
  {
   "cell_type": "code",
   "execution_count": 61,
   "id": "e1a39ac0-b5bb-4432-b056-4d3abdbd71b0",
   "metadata": {},
   "outputs": [
    {
     "data": {
      "image/png": "[encoded data removed]",
      "text/plain": [
       "<Figure size 572x500 with 1 Axes>"
      ]
     },
     "metadata": {},
     "output_type": "display_data"
    }
   ],
   "source": [
    "%matplotlib inline\n",
    "sns.displot(model_df, x='mean-CREDIT',hue='LOAN',kind=\"kde\")\n",
    "plt.show()"
   ]
  },
  {
   "cell_type": "code",
   "execution_count": 62,
   "id": "cd202ea0-b127-4775-a8b5-78a471f8155b",
   "metadata": {},
   "outputs": [
    {
     "data": {
      "image/png": "[encoded data removed]",
      "text/plain": [
       "<Figure size 572x500 with 1 Axes>"
      ]
     },
     "metadata": {},
     "output_type": "display_data"
    }
   ],
   "source": [
    "%matplotlib inline\n",
    "sns.displot(model_df, x='sum-WITHDRAWAL',hue='LOAN',kind=\"kde\")\n",
    "plt.show()"
   ]
  },
  {
   "cell_type": "code",
   "execution_count": 63,
   "id": "2d144da4-bfc6-4994-8c88-36c79acdff89",
   "metadata": {},
   "outputs": [
    {
     "data": {
      "image/png": "[encoded data removed]",
      "text/plain": [
       "<Figure size 572x500 with 1 Axes>"
      ]
     },
     "metadata": {},
     "output_type": "display_data"
    }
   ],
   "source": [
    "%matplotlib inline\n",
    "sns.displot(model_df, x='ratio_mean_credit_to_withdrawal',hue='LOAN',kind=\"kde\")\n",
    "plt.show()\n",
    "\n"
   ]
  },
  {
   "cell_type": "markdown",
   "id": "2fc982b0-5346-47c8-9769-92999b3767f3",
   "metadata": {},
   "source": [
    "#### Check if there are null values in target column"
   ]
  },
  {
   "cell_type": "code",
   "execution_count": 64,
   "id": "b452c3e7-b4b4-42df-8eb0-963f887a4f7c",
   "metadata": {},
   "outputs": [
    {
     "data": {
      "text/plain": [
       "50"
      ]
     },
     "execution_count": 64,
     "metadata": {},
     "output_type": "execute_result"
    }
   ],
   "source": [
    "np.sum(model_df['LOAN'].isna())"
   ]
  },
  {
   "cell_type": "code",
   "execution_count": 65,
   "id": "87bd50bc-e92d-4cba-bb76-e8b8e870e556",
   "metadata": {},
   "outputs": [
    {
     "data": {
      "text/plain": [
       "(4450, 33)"
      ]
     },
     "execution_count": 65,
     "metadata": {},
     "output_type": "execute_result"
    }
   ],
   "source": [
    "model_df.shape"
   ]
  },
  {
   "cell_type": "markdown",
   "id": "e03a5d82-ba3c-44b7-8b20-98256590ae7f",
   "metadata": {},
   "source": [
    "#### Drop these rows as the count is very low compared to full dataset size"
   ]
  },
  {
   "cell_type": "code",
   "execution_count": 66,
   "id": "bb8f1915-a52b-447d-9331-d3bd9ced537a",
   "metadata": {},
   "outputs": [],
   "source": [
    "model_df = model_df.dropna(how='any',axis=0)"
   ]
  },
  {
   "cell_type": "code",
   "execution_count": 67,
   "id": "8be841f8-64df-4372-98a3-70ee2ea61efa",
   "metadata": {},
   "outputs": [
    {
     "data": {
      "text/plain": [
       "(4400, 33)"
      ]
     },
     "execution_count": 67,
     "metadata": {},
     "output_type": "execute_result"
    }
   ],
   "source": [
    "model_df.shape"
   ]
  },
  {
   "cell_type": "markdown",
   "id": "c112f9dc-93df-4d76-97aa-8d02b4108a47",
   "metadata": {},
   "source": [
    "#### Seperate out training and testing file by using the SET_SPLIT flag"
   ]
  },
  {
   "cell_type": "code",
   "execution_count": 68,
   "id": "187eee3f-f382-4cda-b233-3d3454061e9f",
   "metadata": {},
   "outputs": [],
   "source": [
    "train_data = model_df[model_df['SET_SPLIT']=='TRAIN']\n",
    "test_data = model_df[model_df['SET_SPLIT']=='TEST']\n"
   ]
  },
  {
   "cell_type": "code",
   "execution_count": 69,
   "id": "d65d37c4-f4ea-47d8-9bad-b8c77496ddae",
   "metadata": {},
   "outputs": [
    {
     "data": {
      "text/plain": [
       "0.0    2992\n",
       "1.0     529\n",
       "Name: LOAN, dtype: int64"
      ]
     },
     "execution_count": 69,
     "metadata": {},
     "output_type": "execute_result"
    }
   ],
   "source": [
    "train_data['LOAN'].value_counts()"
   ]
  },
  {
   "cell_type": "markdown",
   "id": "3b9515f1-0de2-472a-bcd0-d4d9d1501681",
   "metadata": {},
   "source": [
    "## <font color='red'>Section 5 - Prepare train test split and define functions for model performance analysis"
   ]
  },
  {
   "cell_type": "markdown",
   "id": "b10464a8-6683-4d21-a84f-506cf5ece935",
   "metadata": {},
   "source": [
    "### I will use lightGBM classifier model for the problem\n",
    "### Initially I will train a logistic regression model to create a baseline"
   ]
  },
  {
   "cell_type": "markdown",
   "id": "96747127-38bd-460e-a2cc-6c359d03402c",
   "metadata": {},
   "source": [
    "#### Import necessary packages"
   ]
  },
  {
   "cell_type": "code",
   "execution_count": 70,
   "id": "9f216a19-8620-465f-a83f-193b0a4e794e",
   "metadata": {},
   "outputs": [
    {
     "name": "stdout",
     "output_type": "stream",
     "text": [
      "Requirement already satisfied: lightgbm in c:\\users\\user\\appdata\\local\\programs\\python\\python311\\lib\\site-packages (3.3.3)\n",
      "Requirement already satisfied: wheel in c:\\users\\user\\appdata\\local\\programs\\python\\python311\\lib\\site-packages (from lightgbm) (0.38.4)\n",
      "Requirement already satisfied: numpy in c:\\users\\user\\appdata\\local\\programs\\python\\python311\\lib\\site-packages (from lightgbm) (1.23.5)\n",
      "Requirement already satisfied: scipy in c:\\users\\user\\appdata\\local\\programs\\python\\python311\\lib\\site-packages (from lightgbm) (1.9.3)\n",
      "Requirement already satisfied: scikit-learn!=0.22.0 in c:\\users\\user\\appdata\\local\\programs\\python\\python311\\lib\\site-packages (from lightgbm) (1.2.0)\n",
      "Requirement already satisfied: joblib>=1.1.1 in c:\\users\\user\\appdata\\local\\programs\\python\\python311\\lib\\site-packages (from scikit-learn!=0.22.0->lightgbm) (1.1.1)\n",
      "Requirement already satisfied: threadpoolctl>=2.0.0 in c:\\users\\user\\appdata\\local\\programs\\python\\python311\\lib\\site-packages (from scikit-learn!=0.22.0->lightgbm) (3.1.0)\n"
     ]
    },
    {
     "name": "stderr",
     "output_type": "stream",
     "text": [
      "\n",
      "[notice] A new release of pip is available: 23.0.1 -> 23.2.1\n",
      "[notice] To update, run: python.exe -m pip install --upgrade pip\n"
     ]
    }
   ],
   "source": [
    "!pip install lightgbm"
   ]
  },
  {
   "cell_type": "code",
   "execution_count": 71,
   "id": "4aaf1f59-570a-41f1-8997-0e645ad006c9",
   "metadata": {},
   "outputs": [],
   "source": [
    "from sklearn.model_selection import train_test_split,cross_val_score,GridSearchCV\n",
    "from sklearn.linear_model import LogisticRegression\n",
    "\n",
    "from sklearn import metrics\n",
    "from sklearn.metrics import *\n",
    "\n",
    "import lightgbm as lgb"
   ]
  },
  {
   "cell_type": "markdown",
   "id": "1fc74599-9e6f-45a2-95d9-90eb2f1ecd7a",
   "metadata": {},
   "source": [
    "#### Split the training data in train/validation split with 80:20 ratio"
   ]
  },
  {
   "cell_type": "code",
   "execution_count": 72,
   "id": "867875fd-ed58-424a-9659-0849b7f12286",
   "metadata": {},
   "outputs": [],
   "source": [
    "X_train, X_validation, y_train, y_validation = train_test_split(train_data, train_data.LOAN, test_size=0.2, random_state=42)"
   ]
  },
  {
   "cell_type": "code",
   "execution_count": 73,
   "id": "f99f8976-5d33-45cf-9adb-15d2e3a1e27b",
   "metadata": {
    "tags": []
   },
   "outputs": [
    {
     "data": {
      "text/plain": [
       "Index(['mean-CREDIT', 'sum-WITHDRAWAL', 'sum-CREDIT',\n",
       "       'mean-WITHDRAWAL-WITHDRAWAL_IN_CASH',\n",
       "       'sum-WITHDRAWAL-WITHDRAWAL_IN_CASH',\n",
       "       'sum-WITHDRAWAL-REMITTANCE_TO_OTHER_BANK', 'mean-WITHDRAWAL',\n",
       "       'mean-CREDIT-COLLECTION_FROM_OTHER_BANK',\n",
       "       'mean-WITHDRAWAL-REMITTANCE_TO_OTHER_BANK',\n",
       "       'sum-CREDIT-COLLECTION_FROM_OTHER_BANK', 'count-WITHDRAWAL',\n",
       "       'sum-CREDIT-CREDIT_IN_CASH', 'count-WITHDRAWAL-WITHDRAWAL_IN_CASH',\n",
       "       'mean-CREDIT-CREDIT_IN_CASH',\n",
       "       'count-WITHDRAWAL-REMITTANCE_TO_OTHER_BANK',\n",
       "       'ratio_mean_credit_to_withdrawal', 'ratio_count_credit_to_withdrawal',\n",
       "       'ratio_sum_WITHDRAWAL_IN_CASH_to_WITHDRAWAL',\n",
       "       'count-CREDIT-CREDIT_IN_CASH', 'age_in_years_during_first_transaction',\n",
       "       'count-CREDIT', 'ratio_sum_REMITTANCE_TO_OTHER_BANK_to_WITHDRAWAL',\n",
       "       'ratio_sum_credit_to_withdrawal', 'mean-WITHDRAWAL-CC_WITHDRAWAL',\n",
       "       'count-CREDIT-COLLECTION_FROM_OTHER_BANK',\n",
       "       'ratio_sum_CC_WITHDRAWAL_to_WITHDRAWAL',\n",
       "       'ratio_sum-CREDIT_IN_CASH_to_CREDIT',\n",
       "       'ratio_sum-CREDIT-COLLECTION_FROM_OTHER_BANK_to_CREDIT',\n",
       "       'uplift_from_average_URBAN_RATIO', 'URBAN_RATIO', 'ACCOUNT_ID',\n",
       "       'SET_SPLIT', 'LOAN'],\n",
       "      dtype='object')"
      ]
     },
     "execution_count": 73,
     "metadata": {},
     "output_type": "execute_result"
    }
   ],
   "source": [
    "X_train.columns"
   ]
  },
  {
   "cell_type": "markdown",
   "id": "8902ccb5-c1b2-48fe-9777-22344c0d9b52",
   "metadata": {},
   "source": [
    "#### Label encode target class"
   ]
  },
  {
   "cell_type": "code",
   "execution_count": 74,
   "id": "fc7a920b-843f-42e0-8295-8286cbf5de58",
   "metadata": {},
   "outputs": [],
   "source": [
    "from sklearn.preprocessing import LabelEncoder"
   ]
  },
  {
   "cell_type": "code",
   "execution_count": 75,
   "id": "7697ab37-a37f-4aa9-beaa-5df4beb628cd",
   "metadata": {},
   "outputs": [],
   "source": [
    "enc = LabelEncoder()\n",
    "enc_fitted = enc.fit(y_train)\n",
    "y_train_encoded = enc_fitted.transform(y_train)\n",
    "y_validation_encoded = enc_fitted.transform(y_validation)"
   ]
  },
  {
   "cell_type": "markdown",
   "id": "129ee682-8277-4d76-99c4-3fbdeb8a5807",
   "metadata": {},
   "source": [
    "### Define functions for model metric calculation\n",
    "#### I will define some functions which will be usefull to get model metric for different model experiments\n",
    "    - Function to create prediction output with ranked probabilities, get AUC-ROC and KS test statistic\n",
    "    - Function to create confusion matrix, depending on the chosen threshold level\n",
    "    - Function to create precision-recall curve\n",
    "    - Function to create pentile-wise hit rate for ranked prediction outcomes\n",
    "    - Function to identify optimal threshold giving best f1-score"
   ]
  },
  {
   "cell_type": "markdown",
   "id": "53b59af5-9a8b-422b-ba21-317b8dd28dfb",
   "metadata": {},
   "source": [
    "### When comparing between models, we would mainly check the roc-auc value, f1-score and KS statistic to identify which model performs better\n"
   ]
  },
  {
   "cell_type": "markdown",
   "id": "7cb01bbe-4a16-4860-b3df-bd90b6b7a6df",
   "metadata": {},
   "source": [
    "##### Base function to return prediction outputs with ranked precision, ranked recall, AUC-ROC and KS statistic\n",
    "\n",
    "    - Higher AUC-ROC value means better performance on TPR and FPR (higher TPR corresponds to lower FPR)\n",
    "    - Higher F1-Score is better\n",
    "    - Higher KS statistic with lower p-value denotes model is better in seperating positive and negative class"
   ]
  },
  {
   "cell_type": "markdown",
   "id": "56b807e1-f240-4c01-b44b-67709f3db687",
   "metadata": {},
   "source": [
    "#### Function for ranked result output with ROC-AUC and KS Stat"
   ]
  },
  {
   "cell_type": "code",
   "execution_count": 76,
   "id": "8555b597-2432-4a85-a2d2-a7c3dfc4f4d2",
   "metadata": {},
   "outputs": [],
   "source": [
    "from scipy.stats import ks_2samp"
   ]
  },
  {
   "cell_type": "code",
   "execution_count": 77,
   "id": "ba96ac10-860d-4444-855e-2a6af3481045",
   "metadata": {},
   "outputs": [],
   "source": [
    "def create_prediction_df(df,model,input_columns):\n",
    "    \"\"\"\n",
    "    Given a test dataset, this function returns a result dataset with prediction outcomes.\n",
    "    Generates class predictions, probabilities and calculates rank wise precision and recall at top N records\n",
    "    It also returns the AUC-ROC and KS statistic values\n",
    "    \n",
    "    Input\n",
    "    ----------\n",
    "    df : dataframe with model input columns\n",
    "    model : trained model object\n",
    "    input_columns : model input columns\n",
    "    \n",
    "    Output\n",
    "    ----------\n",
    "    validation_results : dataframe with predictions, probabilities, rank, precision-at-rank and recall-at-rank\n",
    "    fpr : false positive rates for different probability thresholds\n",
    "    tpr : true positive rates for different probability thresholds\n",
    "    roc_auc : Area under curve for ROC\n",
    "    ks : ks statistic with p-value\n",
    "    \"\"\"\n",
    "    \n",
    "    #### Predict class and probabilities\n",
    "    y_validation_pred_encode = model.predict(df[input_columns])\n",
    "    y_validation_pred_class = enc_fitted.inverse_transform(y_validation_pred_encode)\n",
    "    y_validation_pred_probabilities = model.predict_proba(df[input_columns])[:, 1]\n",
    "\n",
    "    validation_results = df.copy()\n",
    "    \n",
    "    #### Add the predictions to the file\n",
    "    validation_results['y_pred_class'] = y_validation_pred_class\n",
    "    validation_results['y_pred_probabilities'] = y_validation_pred_probabilities\n",
    "    \n",
    "    #### Rank by descending probability\n",
    "    validation_results = validation_results.sort_values('y_pred_probabilities', ascending=False)\n",
    "    #### Cumulative true positive at rank\n",
    "    validation_results['y_true_cumsum'] = validation_results['LOAN'].cumsum(axis = 0)\n",
    "    #### Row count (i,e, rank)\n",
    "    validation_results['row_count'] = range(1,validation_results.shape[0]+1,1)\n",
    "    \n",
    "    #### Precision and recall at rank\n",
    "    validation_results['precision_at_row'] = validation_results['y_true_cumsum']/validation_results['row_count']\n",
    "    validation_results['recall_at_row'] = validation_results['y_true_cumsum']/np.sum(validation_results['LOAN'])\n",
    "    \n",
    "    #### Calculate F1-Score\n",
    "    f1 = f1_score(validation_results['LOAN'],validation_results['y_pred_class'])\n",
    "\n",
    "    #### Calculate ROC AUC\n",
    "    fpr, tpr, threshold = roc_curve(validation_results['LOAN'], validation_results['y_pred_probabilities'])\n",
    "    roc_auc = metrics.auc(fpr, tpr)\n",
    "    \n",
    "    #### Perform KS statistic\n",
    "    neg_class = validation_results[validation_results['LOAN'] == 0]\n",
    "    pos_class = validation_results[validation_results['LOAN'] == 1]\n",
    "    ks = ks_2samp(neg_class['y_pred_probabilities'], pos_class['y_pred_probabilities'])\n",
    "    \n",
    "    return validation_results,fpr,tpr,f1,roc_auc,ks\n",
    "\n"
   ]
  },
  {
   "cell_type": "markdown",
   "id": "b625854d-e79b-44e6-8ad3-e7aafdfbcf99",
   "metadata": {},
   "source": [
    "#### Function to plot confusion matrix dependent on threshold"
   ]
  },
  {
   "cell_type": "code",
   "execution_count": 78,
   "id": "f044cb98-7b8c-4dcb-b56e-c0940e1d37d6",
   "metadata": {},
   "outputs": [],
   "source": [
    "\n",
    "def print_confusion_matrix(result_df,threshold):\n",
    "    \"\"\"\n",
    "    The function prints confusion matrix given a result dataframe, based on a given threshold\n",
    "    \n",
    "    Input\n",
    "    ------\n",
    "    result_df : dataframe with actual class and predicted probabilities\n",
    "    threshold : Chosen threshold value for probability cut-off for positive/negative classification\n",
    "        (if probability > threshold, then predicted positive, otherwise predicted negative)\n",
    "    \"\"\"\n",
    "    \n",
    "    #### Create flag for predicted positive\n",
    "    result_df['pred_pos'] = result_df['y_pred_probabilities']>threshold\n",
    "    result_df['pred_pos'] = result_df['pred_pos'].astype(int)\n",
    "    \n",
    "    #### Confusion matrix\n",
    "    conf_mat = confusion_matrix(result_df['LOAN'], result_df['pred_pos'])\n",
    "    conf_mat_df = pd.DataFrame(conf_mat,\n",
    "                     index = ['No_Loan','Loan'], \n",
    "                     columns = ['No_Loan','Loan'])\n",
    "    \n",
    "    #### Plot confucion matrix\n",
    "    plt.figure(figsize=(5,4))\n",
    "    sns.heatmap(conf_mat_df, annot=True)\n",
    "    plt.ylabel('Actal Results')\n",
    "    plt.xlabel('Predicted Results')\n",
    "    plt.title('Confusion Matrix with threshold = '+str(threshold))"
   ]
  },
  {
   "cell_type": "markdown",
   "id": "1fa12a9f-7ee4-4517-bfa8-8036541d59f2",
   "metadata": {},
   "source": [
    "#### Function to plot precision-recall curve against probability threshold"
   ]
  },
  {
   "cell_type": "code",
   "execution_count": 79,
   "id": "918db07e-2daf-4f2d-917f-85b1443976c8",
   "metadata": {},
   "outputs": [],
   "source": [
    "def print_precision_recall_curve(results_df,model_type):\n",
    "    \"\"\"\n",
    "    This function plots precision recall curve for predicted dataframe\n",
    "    \n",
    "    Input\n",
    "    --------\n",
    "    results_df : result dataframe with predictions\n",
    "    model_type : input text to denote what was model type (for display in plot only)\n",
    "    \"\"\"\n",
    "    sns.lineplot(data = results_df,\\\n",
    "             x = 'y_pred_probabilities',y='precision_at_row')\n",
    "    sns.lineplot(data = results_df,\\\n",
    "             x = 'y_pred_probabilities',y='recall_at_row')\n",
    "    plt.grid()\n",
    "    plt.xlabel('Probability Thresholds')\n",
    "    plt.ylabel('Precision and Recall')\n",
    "    plt.title(\"Precision/Recall Curve for \"+ model_type)"
   ]
  },
  {
   "cell_type": "code",
   "execution_count": null,
   "id": "74dd1d11-9217-403a-9ae2-70e332b24ba1",
   "metadata": {},
   "outputs": [],
   "source": []
  },
  {
   "cell_type": "markdown",
   "id": "a30ebe6e-cec9-48f2-b8e7-17edbc5daab2",
   "metadata": {},
   "source": [
    "### Model calibration test"
   ]
  },
  {
   "cell_type": "markdown",
   "id": "2cc12ea3-b65f-48d6-aa8f-48cf1710cad8",
   "metadata": {},
   "source": [
    "#### Create a function which will calculate pentile wise precision(i.e, hit rate) for ranked datasets\n",
    "    - Rank dataset as per decreasing order of probability value\n",
    "    - Break dataset in 20 equal size parts\n",
    "    - calculate hit-rate in each pentile\n",
    "    (ideally a better model should have higher hit rate in higher pentiles)"
   ]
  },
  {
   "cell_type": "code",
   "execution_count": 80,
   "id": "70bf5dc9-97cd-4018-b892-b4a74fa778a1",
   "metadata": {},
   "outputs": [],
   "source": [
    "#### Define names of pentiles for easy readability\n",
    "names_bins = ['Pentile_1','Pentile_2',\\\n",
    "             'Pentile_3','Pentile_4',\\\n",
    "             'Pentile_5','Pentile_6',\\\n",
    "             'Pentile_7','Pentile_8',\\\n",
    "              'Pentile_9','Pentile_10',\\\n",
    "              'Pentile_11','Pentile_12',\\\n",
    "             'Pentile_13','Pentile_14',\\\n",
    "             'Pentile_15','Pentile_16',\\\n",
    "             'Pentile_17','Pentile_18',\\\n",
    "              'Pentile_19','Pentile_20']\n"
   ]
  },
  {
   "cell_type": "code",
   "execution_count": 81,
   "id": "bc001900-f9cc-482b-a62f-ae4b360ce045",
   "metadata": {},
   "outputs": [],
   "source": [
    "\n",
    "def bucket_analysis_on_prediction(results_df):\n",
    "    \"\"\"\n",
    "    Pentile wise precision (i,e, hit-rate) calculation\n",
    "    \n",
    "    Input\n",
    "    --------\n",
    "    results_df : dataframe with prediction outcomes\n",
    "    \n",
    "    Output\n",
    "    --------\n",
    "    results_bin_group : dataframe with pentile level hit rate\n",
    "    \"\"\"\n",
    "    #### Sort data in descending order of probabilities\n",
    "    results_df = results_df.sort_values('y_pred_probabilities',ascending=False)\n",
    "    \n",
    "    #### Create bins for each row by dividing in ten equal parts\n",
    "    results_df['bins'] = pd.qcut(results_df['y_pred_probabilities']\\\n",
    "                                               , q=np.arange(0,105,5)/100\\\n",
    "                                               ,labels = names_bins ).values\n",
    "\n",
    "    #### Bin level aggregates - count of records and true positives in them\n",
    "    results_bin_group = results_df.groupby(['bins'])['LOAN'].agg(['count','sum']).reset_index()\n",
    "    \n",
    "    #### Hit rate = true_pos/count for each bin\n",
    "    results_bin_group['hit_rate'] = results_bin_group['sum']/results_bin_group['count']\n",
    "    results_bin_group = results_bin_group.sort_values('bins',ascending=False)\n",
    "\n",
    "    return results_bin_group\n",
    "    "
   ]
  },
  {
   "cell_type": "markdown",
   "id": "b67d48ce-51a0-4b20-bf38-06dc0934ef70",
   "metadata": {},
   "source": [
    "### Function for calculating F1-Score against different probability thresholds"
   ]
  },
  {
   "cell_type": "markdown",
   "id": "242f86b8-426f-446e-b7b2-4f2bfba07c68",
   "metadata": {},
   "source": [
    "#### Handling data copy warning for pandas"
   ]
  },
  {
   "cell_type": "code",
   "execution_count": 82,
   "id": "b2de9b46-7237-45cc-99a7-d4bba5078843",
   "metadata": {},
   "outputs": [],
   "source": [
    "pd.options.mode.chained_assignment = None "
   ]
  },
  {
   "cell_type": "code",
   "execution_count": 83,
   "id": "a6a41f1b-b0c6-4d54-bded-fc86a6218d46",
   "metadata": {},
   "outputs": [],
   "source": [
    "def f1_score_against_threshold(results_df,model_type):\n",
    "    \"\"\"\n",
    "    This function will take prediction file with probability scores and actual targets \n",
    "    as inputs and generate a chart with f1-scores against probability thresholds\n",
    "    This will help to identify which threshold to choose in order to obtain optimal precision and recall\n",
    "    \n",
    "    Input\n",
    "    -----------\n",
    "    results_df : model prediction dataframe with actuals and predicted probabilities\n",
    "    model_type : free text to identify which model was used, used for plotting title only\n",
    "    \n",
    "    Output\n",
    "    -----------\n",
    "    Seaborn chart with f1-scores against probability threshold\n",
    "    \"\"\"\n",
    "    f1_score_list = []\n",
    "    for threshold in np.arange(0,105,5)/100 : \n",
    "        results_preds = results_df[['LOAN','y_pred_probabilities']]\n",
    "        results_preds['pred_pos'] = results_preds['y_pred_probabilities']>threshold\n",
    "        results_preds['pred_pos'] = results_preds['pred_pos'].astype(int)\n",
    "        f1 = f1_score(results_preds['LOAN'],results_preds['pred_pos'])\n",
    "        f1_score_list.append([threshold,f1])\n",
    "    f1_score_df = pd.DataFrame(f1_score_list,columns=['Threshold','F1_Score'])\n",
    "    \n",
    "    sns.lineplot(data = f1_score_df,\\\n",
    "             x = 'Threshold',y='F1_Score')\n",
    "    plt.grid()\n",
    "    plt.xlabel('Probability Threshold')\n",
    "    plt.ylabel('F1 Score at Threshold')\n",
    "    plt.title(\"F1 Score against probability threshold for \"+ model_type)"
   ]
  },
  {
   "cell_type": "markdown",
   "id": "23ec1f16-c915-4a7b-acac-b4265437b7f8",
   "metadata": {},
   "source": [
    "## <font color='red'>Section 6 - Train models - base classifier and fine tune with further complex model"
   ]
  },
  {
   "cell_type": "markdown",
   "id": "4d423e47-e78d-4d15-8482-80c1cbb61145",
   "metadata": {},
   "source": [
    "### Modelling 1 - First train base logistic regression classifier"
   ]
  },
  {
   "cell_type": "code",
   "execution_count": 84,
   "id": "d2c9d22c-51bd-42de-b0fe-9c482c960016",
   "metadata": {},
   "outputs": [
    {
     "data": {
      "text/html": [
       "<style>#sk-container-id-1 {color: black;background-color: white;}#sk-container-id-1 pre{padding: 0;}#sk-container-id-1 div.sk-toggleable {background-color: white;}#sk-container-id-1 label.sk-toggleable__label {cursor: pointer;display: block;width: 100%;margin-bottom: 0;padding: 0.3em;box-sizing: border-box;text-align: center;}#sk-container-id-1 label.sk-toggleable__label-arrow:before {content: \"▸\";float: left;margin-right: 0.25em;color: #696969;}#sk-container-id-1 label.sk-toggleable__label-arrow:hover:before {color: black;}#sk-container-id-1 div.sk-estimator:hover label.sk-toggleable__label-arrow:before {color: black;}#sk-container-id-1 div.sk-toggleable__content {max-height: 0;max-width: 0;overflow: hidden;text-align: left;background-color: #f0f8ff;}#sk-container-id-1 div.sk-toggleable__content pre {margin: 0.2em;color: black;border-radius: 0.25em;background-color: #f0f8ff;}#sk-container-id-1 input.sk-toggleable__control:checked~div.sk-toggleable__content {max-height: 200px;max-width: 100%;overflow: auto;}#sk-container-id-1 input.sk-toggleable__control:checked~label.sk-toggleable__label-arrow:before {content: \"▾\";}#sk-container-id-1 div.sk-estimator input.sk-toggleable__control:checked~label.sk-toggleable__label {background-color: #d4ebff;}#sk-container-id-1 div.sk-label input.sk-toggleable__control:checked~label.sk-toggleable__label {background-color: #d4ebff;}#sk-container-id-1 input.sk-hidden--visually {border: 0;clip: rect(1px 1px 1px 1px);clip: rect(1px, 1px, 1px, 1px);height: 1px;margin: -1px;overflow: hidden;padding: 0;position: absolute;width: 1px;}#sk-container-id-1 div.sk-estimator {font-family: monospace;background-color: #f0f8ff;border: 1px dotted black;border-radius: 0.25em;box-sizing: border-box;margin-bottom: 0.5em;}#sk-container-id-1 div.sk-estimator:hover {background-color: #d4ebff;}#sk-container-id-1 div.sk-parallel-item::after {content: \"\";width: 100%;border-bottom: 1px solid gray;flex-grow: 1;}#sk-container-id-1 div.sk-label:hover label.sk-toggleable__label {background-color: #d4ebff;}#sk-container-id-1 div.sk-serial::before {content: \"\";position: absolute;border-left: 1px solid gray;box-sizing: border-box;top: 0;bottom: 0;left: 50%;z-index: 0;}#sk-container-id-1 div.sk-serial {display: flex;flex-direction: column;align-items: center;background-color: white;padding-right: 0.2em;padding-left: 0.2em;position: relative;}#sk-container-id-1 div.sk-item {position: relative;z-index: 1;}#sk-container-id-1 div.sk-parallel {display: flex;align-items: stretch;justify-content: center;background-color: white;position: relative;}#sk-container-id-1 div.sk-item::before, #sk-container-id-1 div.sk-parallel-item::before {content: \"\";position: absolute;border-left: 1px solid gray;box-sizing: border-box;top: 0;bottom: 0;left: 50%;z-index: -1;}#sk-container-id-1 div.sk-parallel-item {display: flex;flex-direction: column;z-index: 1;position: relative;background-color: white;}#sk-container-id-1 div.sk-parallel-item:first-child::after {align-self: flex-end;width: 50%;}#sk-container-id-1 div.sk-parallel-item:last-child::after {align-self: flex-start;width: 50%;}#sk-container-id-1 div.sk-parallel-item:only-child::after {width: 0;}#sk-container-id-1 div.sk-dashed-wrapped {border: 1px dashed gray;margin: 0 0.4em 0.5em 0.4em;box-sizing: border-box;padding-bottom: 0.4em;background-color: white;}#sk-container-id-1 div.sk-label label {font-family: monospace;font-weight: bold;display: inline-block;line-height: 1.2em;}#sk-container-id-1 div.sk-label-container {text-align: center;}#sk-container-id-1 div.sk-container {/* jupyter's `normalize.less` sets `[hidden] { display: none; }` but bootstrap.min.css set `[hidden] { display: none !important; }` so we also need the `!important` here to be able to override the default hidden behavior on the sphinx rendered scikit-learn.org. See: https://github.com/scikit-learn/scikit-learn/issues/21755 */display: inline-block !important;position: relative;}#sk-container-id-1 div.sk-text-repr-fallback {display: none;}</style><div id=\"sk-container-id-1\" class=\"sk-top-container\"><div class=\"sk-text-repr-fallback\"><pre>LogisticRegression(max_iter=300)</pre><b>In a Jupyter environment, please rerun this cell to show the HTML representation or trust the notebook. <br />On GitHub, the HTML representation is unable to render, please try loading this page with nbviewer.org.</b></div><div class=\"sk-container\" hidden><div class=\"sk-item\"><div class=\"sk-estimator sk-toggleable\"><input class=\"sk-toggleable__control sk-hidden--visually\" id=\"sk-estimator-id-1\" type=\"checkbox\" checked><label for=\"sk-estimator-id-1\" class=\"sk-toggleable__label sk-toggleable__label-arrow\">LogisticRegression</label><div class=\"sk-toggleable__content\"><pre>LogisticRegression(max_iter=300)</pre></div></div></div></div></div>"
      ],
      "text/plain": [
       "LogisticRegression(max_iter=300)"
      ]
     },
     "execution_count": 84,
     "metadata": {},
     "output_type": "execute_result"
    }
   ],
   "source": [
    "base_classifier = LogisticRegression(penalty='l2',max_iter=300)\n",
    "base_classifier.fit(X_train[most_important_columns], y_train_encoded)\n"
   ]
  },
  {
   "cell_type": "markdown",
   "id": "abaef1b8-2aed-4bd7-85ac-9614e47494b0",
   "metadata": {},
   "source": [
    "#### Calculate model metrics"
   ]
  },
  {
   "cell_type": "code",
   "execution_count": 85,
   "id": "3f45cb57-72f8-405d-80e3-dadeb79dfac4",
   "metadata": {},
   "outputs": [],
   "source": [
    "validation_results_base,fpr_base,tpr_base,f1_score_base,roc_auc_base,ks_base = create_prediction_df(X_validation,base_classifier,input_columns=most_important_columns)"
   ]
  },
  {
   "cell_type": "code",
   "execution_count": 86,
   "id": "63dec8c1-baba-4990-8fe9-f88da464fc4e",
   "metadata": {},
   "outputs": [
    {
     "data": {
      "text/plain": [
       "0.15827338129496404"
      ]
     },
     "execution_count": 86,
     "metadata": {},
     "output_type": "execute_result"
    }
   ],
   "source": [
    "f1_score_base"
   ]
  },
  {
   "cell_type": "code",
   "execution_count": 87,
   "id": "5cc8cfe0-6345-401e-b520-a76d5e84864c",
   "metadata": {},
   "outputs": [
    {
     "data": {
      "text/plain": [
       "0.8124043542286259"
      ]
     },
     "execution_count": 87,
     "metadata": {},
     "output_type": "execute_result"
    }
   ],
   "source": [
    "roc_auc_base"
   ]
  },
  {
   "cell_type": "code",
   "execution_count": 88,
   "id": "88ee23d5-e279-427e-9e2a-fc140706c76d",
   "metadata": {},
   "outputs": [
    {
     "data": {
      "text/plain": [
       "KstestResult(statistic=0.515260012127162, pvalue=1.750047944869912e-24)"
      ]
     },
     "execution_count": 88,
     "metadata": {},
     "output_type": "execute_result"
    }
   ],
   "source": [
    "ks_base"
   ]
  },
  {
   "cell_type": "code",
   "execution_count": 89,
   "id": "add0f54c-92dc-40e5-afe7-124d51d6a5c0",
   "metadata": {},
   "outputs": [
    {
     "data": {
      "image/png": "[encoded data removed]",
      "text/plain": [
       "<Figure size 500x400 with 2 Axes>"
      ]
     },
     "metadata": {},
     "output_type": "display_data"
    }
   ],
   "source": [
    "print_confusion_matrix(validation_results_base,threshold=0.5)"
   ]
  },
  {
   "cell_type": "code",
   "execution_count": 90,
   "id": "26a4db0a-88cd-4806-9b70-edcb8e1a31a0",
   "metadata": {},
   "outputs": [
    {
     "data": {
      "image/png": "[encoded data removed]",
      "text/plain": [
       "<Figure size 640x480 with 1 Axes>"
      ]
     },
     "metadata": {},
     "output_type": "display_data"
    }
   ],
   "source": [
    "print_precision_recall_curve(validation_results_base,model_type='Base Logistic regression Model')"
   ]
  },
  {
   "cell_type": "markdown",
   "id": "205e59ee-074b-4fd4-a38e-976a3a700ced",
   "metadata": {},
   "source": [
    "#### Run bucket wise analysis"
   ]
  },
  {
   "cell_type": "code",
   "execution_count": 91,
   "id": "ada0d721-c81c-4fe6-b8af-85a28d7f4b73",
   "metadata": {},
   "outputs": [],
   "source": [
    "validation_bin_group_base = bucket_analysis_on_prediction(validation_results_base)"
   ]
  },
  {
   "cell_type": "code",
   "execution_count": 92,
   "id": "9aaf3f0c-ca0d-45dd-812e-a04a39860e19",
   "metadata": {},
   "outputs": [
    {
     "data": {
      "text/html": [
       "<div>\n",
       "<style scoped>\n",
       "    .dataframe tbody tr th:only-of-type {\n",
       "        vertical-align: middle;\n",
       "    }\n",
       "\n",
       "    .dataframe tbody tr th {\n",
       "        vertical-align: top;\n",
       "    }\n",
       "\n",
       "    .dataframe thead th {\n",
       "        text-align: right;\n",
       "    }\n",
       "</style>\n",
       "<table border=\"1\" class=\"dataframe\">\n",
       "  <thead>\n",
       "    <tr style=\"text-align: right;\">\n",
       "      <th></th>\n",
       "      <th>bins</th>\n",
       "      <th>count</th>\n",
       "      <th>sum</th>\n",
       "      <th>hit_rate</th>\n",
       "    </tr>\n",
       "  </thead>\n",
       "  <tbody>\n",
       "    <tr>\n",
       "      <th>19</th>\n",
       "      <td>Pentile_20</td>\n",
       "      <td>36</td>\n",
       "      <td>19.0</td>\n",
       "      <td>0.527778</td>\n",
       "    </tr>\n",
       "    <tr>\n",
       "      <th>18</th>\n",
       "      <td>Pentile_19</td>\n",
       "      <td>35</td>\n",
       "      <td>15.0</td>\n",
       "      <td>0.428571</td>\n",
       "    </tr>\n",
       "    <tr>\n",
       "      <th>17</th>\n",
       "      <td>Pentile_18</td>\n",
       "      <td>35</td>\n",
       "      <td>15.0</td>\n",
       "      <td>0.428571</td>\n",
       "    </tr>\n",
       "    <tr>\n",
       "      <th>16</th>\n",
       "      <td>Pentile_17</td>\n",
       "      <td>35</td>\n",
       "      <td>13.0</td>\n",
       "      <td>0.371429</td>\n",
       "    </tr>\n",
       "    <tr>\n",
       "      <th>15</th>\n",
       "      <td>Pentile_16</td>\n",
       "      <td>35</td>\n",
       "      <td>9.0</td>\n",
       "      <td>0.257143</td>\n",
       "    </tr>\n",
       "    <tr>\n",
       "      <th>14</th>\n",
       "      <td>Pentile_15</td>\n",
       "      <td>36</td>\n",
       "      <td>9.0</td>\n",
       "      <td>0.250000</td>\n",
       "    </tr>\n",
       "    <tr>\n",
       "      <th>13</th>\n",
       "      <td>Pentile_14</td>\n",
       "      <td>35</td>\n",
       "      <td>8.0</td>\n",
       "      <td>0.228571</td>\n",
       "    </tr>\n",
       "    <tr>\n",
       "      <th>12</th>\n",
       "      <td>Pentile_13</td>\n",
       "      <td>35</td>\n",
       "      <td>8.0</td>\n",
       "      <td>0.228571</td>\n",
       "    </tr>\n",
       "    <tr>\n",
       "      <th>11</th>\n",
       "      <td>Pentile_12</td>\n",
       "      <td>35</td>\n",
       "      <td>4.0</td>\n",
       "      <td>0.114286</td>\n",
       "    </tr>\n",
       "    <tr>\n",
       "      <th>10</th>\n",
       "      <td>Pentile_11</td>\n",
       "      <td>35</td>\n",
       "      <td>2.0</td>\n",
       "      <td>0.057143</td>\n",
       "    </tr>\n",
       "    <tr>\n",
       "      <th>9</th>\n",
       "      <td>Pentile_10</td>\n",
       "      <td>36</td>\n",
       "      <td>5.0</td>\n",
       "      <td>0.138889</td>\n",
       "    </tr>\n",
       "    <tr>\n",
       "      <th>8</th>\n",
       "      <td>Pentile_9</td>\n",
       "      <td>35</td>\n",
       "      <td>3.0</td>\n",
       "      <td>0.085714</td>\n",
       "    </tr>\n",
       "    <tr>\n",
       "      <th>7</th>\n",
       "      <td>Pentile_8</td>\n",
       "      <td>35</td>\n",
       "      <td>1.0</td>\n",
       "      <td>0.028571</td>\n",
       "    </tr>\n",
       "    <tr>\n",
       "      <th>6</th>\n",
       "      <td>Pentile_7</td>\n",
       "      <td>35</td>\n",
       "      <td>5.0</td>\n",
       "      <td>0.142857</td>\n",
       "    </tr>\n",
       "    <tr>\n",
       "      <th>5</th>\n",
       "      <td>Pentile_6</td>\n",
       "      <td>35</td>\n",
       "      <td>1.0</td>\n",
       "      <td>0.028571</td>\n",
       "    </tr>\n",
       "    <tr>\n",
       "      <th>4</th>\n",
       "      <td>Pentile_5</td>\n",
       "      <td>36</td>\n",
       "      <td>0.0</td>\n",
       "      <td>0.000000</td>\n",
       "    </tr>\n",
       "    <tr>\n",
       "      <th>3</th>\n",
       "      <td>Pentile_4</td>\n",
       "      <td>35</td>\n",
       "      <td>1.0</td>\n",
       "      <td>0.028571</td>\n",
       "    </tr>\n",
       "    <tr>\n",
       "      <th>2</th>\n",
       "      <td>Pentile_3</td>\n",
       "      <td>35</td>\n",
       "      <td>0.0</td>\n",
       "      <td>0.000000</td>\n",
       "    </tr>\n",
       "    <tr>\n",
       "      <th>1</th>\n",
       "      <td>Pentile_2</td>\n",
       "      <td>35</td>\n",
       "      <td>0.0</td>\n",
       "      <td>0.000000</td>\n",
       "    </tr>\n",
       "    <tr>\n",
       "      <th>0</th>\n",
       "      <td>Pentile_1</td>\n",
       "      <td>36</td>\n",
       "      <td>0.0</td>\n",
       "      <td>0.000000</td>\n",
       "    </tr>\n",
       "  </tbody>\n",
       "</table>\n",
       "</div>"
      ],
      "text/plain": [
       "          bins  count   sum  hit_rate\n",
       "19  Pentile_20     36  19.0  0.527778\n",
       "18  Pentile_19     35  15.0  0.428571\n",
       "17  Pentile_18     35  15.0  0.428571\n",
       "16  Pentile_17     35  13.0  0.371429\n",
       "15  Pentile_16     35   9.0  0.257143\n",
       "14  Pentile_15     36   9.0  0.250000\n",
       "13  Pentile_14     35   8.0  0.228571\n",
       "12  Pentile_13     35   8.0  0.228571\n",
       "11  Pentile_12     35   4.0  0.114286\n",
       "10  Pentile_11     35   2.0  0.057143\n",
       "9   Pentile_10     36   5.0  0.138889\n",
       "8    Pentile_9     35   3.0  0.085714\n",
       "7    Pentile_8     35   1.0  0.028571\n",
       "6    Pentile_7     35   5.0  0.142857\n",
       "5    Pentile_6     35   1.0  0.028571\n",
       "4    Pentile_5     36   0.0  0.000000\n",
       "3    Pentile_4     35   1.0  0.028571\n",
       "2    Pentile_3     35   0.0  0.000000\n",
       "1    Pentile_2     35   0.0  0.000000\n",
       "0    Pentile_1     36   0.0  0.000000"
      ]
     },
     "execution_count": 92,
     "metadata": {},
     "output_type": "execute_result"
    }
   ],
   "source": [
    "validation_bin_group_base"
   ]
  },
  {
   "cell_type": "code",
   "execution_count": 93,
   "id": "3d624908-40b1-461f-bee0-3807ee25eef4",
   "metadata": {},
   "outputs": [
    {
     "data": {
      "text/html": [
       "<div>\n",
       "<style scoped>\n",
       "    .dataframe tbody tr th:only-of-type {\n",
       "        vertical-align: middle;\n",
       "    }\n",
       "\n",
       "    .dataframe tbody tr th {\n",
       "        vertical-align: top;\n",
       "    }\n",
       "\n",
       "    .dataframe thead th {\n",
       "        text-align: right;\n",
       "    }\n",
       "</style>\n",
       "<table border=\"1\" class=\"dataframe\">\n",
       "  <thead>\n",
       "    <tr style=\"text-align: right;\">\n",
       "      <th></th>\n",
       "      <th>mean-CREDIT</th>\n",
       "      <th>sum-WITHDRAWAL</th>\n",
       "      <th>sum-CREDIT</th>\n",
       "      <th>mean-WITHDRAWAL-WITHDRAWAL_IN_CASH</th>\n",
       "      <th>sum-WITHDRAWAL-WITHDRAWAL_IN_CASH</th>\n",
       "      <th>sum-WITHDRAWAL-REMITTANCE_TO_OTHER_BANK</th>\n",
       "      <th>mean-WITHDRAWAL</th>\n",
       "      <th>mean-CREDIT-COLLECTION_FROM_OTHER_BANK</th>\n",
       "      <th>mean-WITHDRAWAL-REMITTANCE_TO_OTHER_BANK</th>\n",
       "      <th>sum-CREDIT-COLLECTION_FROM_OTHER_BANK</th>\n",
       "      <th>...</th>\n",
       "      <th>ACCOUNT_ID</th>\n",
       "      <th>SET_SPLIT</th>\n",
       "      <th>LOAN</th>\n",
       "      <th>y_pred_class</th>\n",
       "      <th>y_pred_probabilities</th>\n",
       "      <th>y_true_cumsum</th>\n",
       "      <th>row_count</th>\n",
       "      <th>precision_at_row</th>\n",
       "      <th>recall_at_row</th>\n",
       "      <th>pred_pos</th>\n",
       "    </tr>\n",
       "  </thead>\n",
       "  <tbody>\n",
       "    <tr>\n",
       "      <th>1888</th>\n",
       "      <td>0.936437</td>\n",
       "      <td>0.335125</td>\n",
       "      <td>0.331469</td>\n",
       "      <td>0.812722</td>\n",
       "      <td>0.270285</td>\n",
       "      <td>0.221605</td>\n",
       "      <td>0.740659</td>\n",
       "      <td>0.967551</td>\n",
       "      <td>0.819188</td>\n",
       "      <td>0.337794</td>\n",
       "      <td>...</td>\n",
       "      <td>2532</td>\n",
       "      <td>TRAIN</td>\n",
       "      <td>0.0</td>\n",
       "      <td>1.0</td>\n",
       "      <td>0.869777</td>\n",
       "      <td>0.0</td>\n",
       "      <td>1</td>\n",
       "      <td>0.000000</td>\n",
       "      <td>0.000000</td>\n",
       "      <td>1</td>\n",
       "    </tr>\n",
       "    <tr>\n",
       "      <th>2775</th>\n",
       "      <td>0.957414</td>\n",
       "      <td>0.387793</td>\n",
       "      <td>0.366274</td>\n",
       "      <td>0.704981</td>\n",
       "      <td>0.344432</td>\n",
       "      <td>0.157656</td>\n",
       "      <td>0.663934</td>\n",
       "      <td>0.983720</td>\n",
       "      <td>0.553656</td>\n",
       "      <td>0.372059</td>\n",
       "      <td>...</td>\n",
       "      <td>472</td>\n",
       "      <td>TRAIN</td>\n",
       "      <td>1.0</td>\n",
       "      <td>1.0</td>\n",
       "      <td>0.813284</td>\n",
       "      <td>1.0</td>\n",
       "      <td>2</td>\n",
       "      <td>0.500000</td>\n",
       "      <td>0.008475</td>\n",
       "      <td>1</td>\n",
       "    </tr>\n",
       "    <tr>\n",
       "      <th>3931</th>\n",
       "      <td>0.858531</td>\n",
       "      <td>0.172143</td>\n",
       "      <td>0.186755</td>\n",
       "      <td>0.581471</td>\n",
       "      <td>0.125936</td>\n",
       "      <td>0.166566</td>\n",
       "      <td>0.598877</td>\n",
       "      <td>0.881372</td>\n",
       "      <td>0.835634</td>\n",
       "      <td>0.192317</td>\n",
       "      <td>...</td>\n",
       "      <td>1718</td>\n",
       "      <td>TRAIN</td>\n",
       "      <td>1.0</td>\n",
       "      <td>1.0</td>\n",
       "      <td>0.812624</td>\n",
       "      <td>2.0</td>\n",
       "      <td>3</td>\n",
       "      <td>0.666667</td>\n",
       "      <td>0.016949</td>\n",
       "      <td>1</td>\n",
       "    </tr>\n",
       "    <tr>\n",
       "      <th>3397</th>\n",
       "      <td>0.912427</td>\n",
       "      <td>0.743988</td>\n",
       "      <td>0.736799</td>\n",
       "      <td>0.647581</td>\n",
       "      <td>0.543599</td>\n",
       "      <td>0.709948</td>\n",
       "      <td>0.523646</td>\n",
       "      <td>0.930700</td>\n",
       "      <td>0.474893</td>\n",
       "      <td>0.744628</td>\n",
       "      <td>...</td>\n",
       "      <td>844</td>\n",
       "      <td>TRAIN</td>\n",
       "      <td>0.0</td>\n",
       "      <td>1.0</td>\n",
       "      <td>0.790785</td>\n",
       "      <td>2.0</td>\n",
       "      <td>4</td>\n",
       "      <td>0.500000</td>\n",
       "      <td>0.016949</td>\n",
       "      <td>1</td>\n",
       "    </tr>\n",
       "    <tr>\n",
       "      <th>920</th>\n",
       "      <td>0.947553</td>\n",
       "      <td>0.486931</td>\n",
       "      <td>0.478350</td>\n",
       "      <td>0.526368</td>\n",
       "      <td>0.363641</td>\n",
       "      <td>0.444601</td>\n",
       "      <td>0.514794</td>\n",
       "      <td>0.953280</td>\n",
       "      <td>0.637283</td>\n",
       "      <td>0.485351</td>\n",
       "      <td>...</td>\n",
       "      <td>1093</td>\n",
       "      <td>TRAIN</td>\n",
       "      <td>1.0</td>\n",
       "      <td>1.0</td>\n",
       "      <td>0.789168</td>\n",
       "      <td>3.0</td>\n",
       "      <td>5</td>\n",
       "      <td>0.600000</td>\n",
       "      <td>0.025424</td>\n",
       "      <td>1</td>\n",
       "    </tr>\n",
       "  </tbody>\n",
       "</table>\n",
       "<p>5 rows × 40 columns</p>\n",
       "</div>"
      ],
      "text/plain": [
       "      mean-CREDIT  sum-WITHDRAWAL  sum-CREDIT  \\\n",
       "1888     0.936437        0.335125    0.331469   \n",
       "2775     0.957414        0.387793    0.366274   \n",
       "3931     0.858531        0.172143    0.186755   \n",
       "3397     0.912427        0.743988    0.736799   \n",
       "920      0.947553        0.486931    0.478350   \n",
       "\n",
       "      mean-WITHDRAWAL-WITHDRAWAL_IN_CASH  sum-WITHDRAWAL-WITHDRAWAL_IN_CASH  \\\n",
       "1888                            0.812722                           0.270285   \n",
       "2775                            0.704981                           0.344432   \n",
       "3931                            0.581471                           0.125936   \n",
       "3397                            0.647581                           0.543599   \n",
       "920                             0.526368                           0.363641   \n",
       "\n",
       "      sum-WITHDRAWAL-REMITTANCE_TO_OTHER_BANK  mean-WITHDRAWAL  \\\n",
       "1888                                 0.221605         0.740659   \n",
       "2775                                 0.157656         0.663934   \n",
       "3931                                 0.166566         0.598877   \n",
       "3397                                 0.709948         0.523646   \n",
       "920                                  0.444601         0.514794   \n",
       "\n",
       "      mean-CREDIT-COLLECTION_FROM_OTHER_BANK  \\\n",
       "1888                                0.967551   \n",
       "2775                                0.983720   \n",
       "3931                                0.881372   \n",
       "3397                                0.930700   \n",
       "920                                 0.953280   \n",
       "\n",
       "      mean-WITHDRAWAL-REMITTANCE_TO_OTHER_BANK  \\\n",
       "1888                                  0.819188   \n",
       "2775                                  0.553656   \n",
       "3931                                  0.835634   \n",
       "3397                                  0.474893   \n",
       "920                                   0.637283   \n",
       "\n",
       "      sum-CREDIT-COLLECTION_FROM_OTHER_BANK  ...  ACCOUNT_ID  SET_SPLIT  LOAN  \\\n",
       "1888                               0.337794  ...        2532      TRAIN   0.0   \n",
       "2775                               0.372059  ...         472      TRAIN   1.0   \n",
       "3931                               0.192317  ...        1718      TRAIN   1.0   \n",
       "3397                               0.744628  ...         844      TRAIN   0.0   \n",
       "920                                0.485351  ...        1093      TRAIN   1.0   \n",
       "\n",
       "      y_pred_class  y_pred_probabilities  y_true_cumsum  row_count  \\\n",
       "1888           1.0              0.869777            0.0          1   \n",
       "2775           1.0              0.813284            1.0          2   \n",
       "3931           1.0              0.812624            2.0          3   \n",
       "3397           1.0              0.790785            2.0          4   \n",
       "920            1.0              0.789168            3.0          5   \n",
       "\n",
       "      precision_at_row  recall_at_row  pred_pos  \n",
       "1888          0.000000       0.000000         1  \n",
       "2775          0.500000       0.008475         1  \n",
       "3931          0.666667       0.016949         1  \n",
       "3397          0.500000       0.016949         1  \n",
       "920           0.600000       0.025424         1  \n",
       "\n",
       "[5 rows x 40 columns]"
      ]
     },
     "execution_count": 93,
     "metadata": {},
     "output_type": "execute_result"
    }
   ],
   "source": [
    "validation_results_base.head()"
   ]
  },
  {
   "cell_type": "code",
   "execution_count": 94,
   "id": "9f369cf3-8d80-4ea8-b130-d38c964348ea",
   "metadata": {
    "tags": []
   },
   "outputs": [
    {
     "data": {
      "image/png": "[encoded data removed]",
      "text/plain": [
       "<Figure size 640x480 with 1 Axes>"
      ]
     },
     "metadata": {},
     "output_type": "display_data"
    }
   ],
   "source": [
    "f1_score_against_threshold(validation_results_base,model_type='Base LR Model')"
   ]
  },
  {
   "cell_type": "markdown",
   "id": "5cb9705c-962b-4cb0-8fcc-2ca895020d3d",
   "metadata": {},
   "source": [
    "### Modelling 2 - Tuning on LightGBM classifier with hyperparameter tuning and cross-validation"
   ]
  },
  {
   "cell_type": "markdown",
   "id": "95dffd4f-b690-4329-ab77-ac6f803cbbad",
   "metadata": {},
   "source": [
    "##### Define lightGBM classifier with AUC as metric"
   ]
  },
  {
   "cell_type": "code",
   "execution_count": 95,
   "id": "0fe48ed5-b622-44c7-8f55-e3be6230a18a",
   "metadata": {},
   "outputs": [],
   "source": [
    "classifier = lgb.LGBMClassifier(\n",
    "            objective= 'binary',metric='f1',n_jobs=-1,\n",
    "            n_estimators = 500)"
   ]
  },
  {
   "cell_type": "markdown",
   "id": "36696b2d-3961-4bbc-91a4-303c2c6ecd09",
   "metadata": {},
   "source": [
    "##### Define hyperparameter grid search and cross validator"
   ]
  },
  {
   "cell_type": "code",
   "execution_count": 96,
   "id": "24990fcb-f0c4-4d08-b090-59f137726072",
   "metadata": {},
   "outputs": [],
   "source": [
    "grid_param = {\n",
    "    'subsample': [0.5,0.7,0.9,1.0],\n",
    "    'max_depth': [3,5,7,9],\n",
    "    'feature_fraction': [0.7,0.9],\n",
    "    'learning_rate' : [0.008,0.0008]\n",
    "}\n",
    "\n",
    "model_grid = GridSearchCV(estimator=classifier,\n",
    "                     param_grid=grid_param,\n",
    "                     scoring='f1',\n",
    "                     cv=4,\n",
    "                     n_jobs=-1)"
   ]
  },
  {
   "cell_type": "code",
   "execution_count": 97,
   "id": "984e01e2-c806-414f-bb8a-05eaffb06c81",
   "metadata": {},
   "outputs": [],
   "source": [
    "import time"
   ]
  },
  {
   "cell_type": "markdown",
   "id": "68ecb59f-aa0d-4257-af2f-26024a4dbd26",
   "metadata": {},
   "source": [
    "##### Start training"
   ]
  },
  {
   "cell_type": "code",
   "execution_count": 98,
   "id": "7120f6be-e68f-4591-995f-00db411625e2",
   "metadata": {},
   "outputs": [
    {
     "name": "stdout",
     "output_type": "stream",
     "text": [
      "[LightGBM] [Warning] feature_fraction is set=0.7, colsample_bytree=1.0 will be ignored. Current value: feature_fraction=0.7\n",
      "time taken to train : 159.2909984588623\n"
     ]
    }
   ],
   "source": [
    "start_time = time.time()\n",
    "\n",
    "model_grid.fit(X_train[most_important_columns], y_train_encoded)\n",
    "end_time = time.time()\n",
    "\n",
    "print('time taken to train :',end_time-start_time)"
   ]
  },
  {
   "cell_type": "markdown",
   "id": "8f92eaed-758d-467b-bee4-0e2cc1fba2f1",
   "metadata": {},
   "source": [
    "##### What are the final best parameters for the model"
   ]
  },
  {
   "cell_type": "code",
   "execution_count": 99,
   "id": "203f4754-388b-4a0a-8a11-55c83f88cd26",
   "metadata": {},
   "outputs": [
    {
     "name": "stdout",
     "output_type": "stream",
     "text": [
      "{'feature_fraction': 0.7, 'learning_rate': 0.008, 'max_depth': 9, 'subsample': 0.5}\n"
     ]
    }
   ],
   "source": [
    "best_parameters = model_grid.best_params_\n",
    "print(best_parameters)"
   ]
  },
  {
   "cell_type": "markdown",
   "id": "e138c67e-c917-4139-980d-9ebf7adcd6fa",
   "metadata": {},
   "source": [
    "#### Run model performance metrics"
   ]
  },
  {
   "cell_type": "code",
   "execution_count": 100,
   "id": "225068f7-3cfb-4946-b96f-a718d40cf131",
   "metadata": {},
   "outputs": [],
   "source": [
    "validation_results_tuned,fpr_tuned,tpr_tuned,f1_score_tuned,roc_auc_tuned,ks_tuned = create_prediction_df(X_validation,model_grid,input_columns=most_important_columns)"
   ]
  },
  {
   "cell_type": "code",
   "execution_count": 101,
   "id": "cf6ae195-468d-487e-804a-ba838e6bd569",
   "metadata": {},
   "outputs": [
    {
     "data": {
      "text/plain": [
       "0.5824175824175823"
      ]
     },
     "execution_count": 101,
     "metadata": {},
     "output_type": "execute_result"
    }
   ],
   "source": [
    "f1_score_tuned"
   ]
  },
  {
   "cell_type": "code",
   "execution_count": 102,
   "id": "e039d3b5-502e-4694-a729-8074d0f9fba4",
   "metadata": {},
   "outputs": [
    {
     "data": {
      "text/plain": [
       "0.9261542459503941"
      ]
     },
     "execution_count": 102,
     "metadata": {},
     "output_type": "execute_result"
    }
   ],
   "source": [
    "roc_auc_tuned"
   ]
  },
  {
   "cell_type": "code",
   "execution_count": 103,
   "id": "bff2df3e-943d-4513-b06a-bdb3fee26097",
   "metadata": {},
   "outputs": [
    {
     "data": {
      "text/plain": [
       "KstestResult(statistic=0.6972829382380966, pvalue=3.6154967449612267e-47)"
      ]
     },
     "execution_count": 103,
     "metadata": {},
     "output_type": "execute_result"
    }
   ],
   "source": [
    "ks_tuned"
   ]
  },
  {
   "cell_type": "markdown",
   "id": "4fbca112-eb4a-4082-8ffc-b3c718721cd9",
   "metadata": {},
   "source": [
    "### Key observation\n",
    "#### Tuned model is better than base model, ROC-AUC is higher(~ 0.93 against ~ 0.81), F1-Score is higher (0.58 against 0.15), KS statistic is higher (~ 0.7 against ~ 0.5) with far lower p-value of significance (in the scale of e-47 compared to e-24)\n"
   ]
  },
  {
   "cell_type": "code",
   "execution_count": 104,
   "id": "8f81e301-6872-4291-b04d-a7c1ae172235",
   "metadata": {},
   "outputs": [
    {
     "data": {
      "image/png": "[encoded data removed]",
      "text/plain": [
       "<Figure size 500x400 with 2 Axes>"
      ]
     },
     "metadata": {},
     "output_type": "display_data"
    }
   ],
   "source": [
    "print_confusion_matrix(validation_results_tuned,threshold=0.5)"
   ]
  },
  {
   "cell_type": "markdown",
   "id": "3827766c-2fec-4a98-aa88-d62ab10c5ee0",
   "metadata": {},
   "source": [
    "### Comparison on confusion matrix - with similar false positive, tuned model can capture nearly 5 times true positives"
   ]
  },
  {
   "cell_type": "markdown",
   "id": "5f702e28-3f21-42de-b3e0-e8c1d384f29f",
   "metadata": {},
   "source": [
    "## Bucket analysis for predcition outcomes"
   ]
  },
  {
   "cell_type": "markdown",
   "id": "e3cd4ffc-7b01-44ad-8288-45e6f225edeb",
   "metadata": {},
   "source": [
    "#### Compare population bucket wise performance between models"
   ]
  },
  {
   "cell_type": "code",
   "execution_count": 105,
   "id": "22095b93-7240-4e26-8e9c-d944727693ec",
   "metadata": {},
   "outputs": [],
   "source": [
    "validation_bin_group_tune = bucket_analysis_on_prediction(validation_results_tuned)"
   ]
  },
  {
   "cell_type": "markdown",
   "id": "4c1db384-d6c4-4889-a189-98eb35a8f31b",
   "metadata": {},
   "source": [
    "#### Join bucket analysis metric for fine tuned model and base model"
   ]
  },
  {
   "cell_type": "code",
   "execution_count": 106,
   "id": "bf55f5d1-bca6-4e03-a5a3-f9ae4b90bda5",
   "metadata": {},
   "outputs": [],
   "source": [
    "validation_bin_group_combined = validation_bin_group_tune.merge(validation_bin_group_base[['bins','hit_rate']],on='bins')"
   ]
  },
  {
   "cell_type": "code",
   "execution_count": 107,
   "id": "3c717ce7-515c-4bff-a3fc-b6c472ed7336",
   "metadata": {},
   "outputs": [],
   "source": [
    "validation_bin_group_combined.columns = ['bins','count','sum','hit_rate_tuned_lgb_model','hit_rate_base_lr_model']"
   ]
  },
  {
   "cell_type": "markdown",
   "id": "88f309d3-0d37-43e6-9022-95c069ca455f",
   "metadata": {},
   "source": [
    "#### Create proper structure and plot"
   ]
  },
  {
   "cell_type": "code",
   "execution_count": 108,
   "id": "ce5f0dfc-bf0b-45e9-86aa-ab9c4e5dff8e",
   "metadata": {},
   "outputs": [],
   "source": [
    "validation_bin_group_combined_melted = pd.melt(validation_bin_group_combined[['bins','hit_rate_tuned_lgb_model','hit_rate_base_lr_model']], id_vars=\"bins\", var_name=\"model_type\", value_name=\"hit_rate\")"
   ]
  },
  {
   "cell_type": "code",
   "execution_count": 109,
   "id": "889196e4-79a8-4ba7-b4c9-19e88d5abb4c",
   "metadata": {},
   "outputs": [
    {
     "data": {
      "image/png": "[encoded data removed]",
      "text/plain": [
       "<Figure size 640x480 with 1 Axes>"
      ]
     },
     "metadata": {},
     "output_type": "display_data"
    }
   ],
   "source": [
    "\n",
    "sns.barplot(data=validation_bin_group_combined_melted,\\\n",
    "            x='bins', y='hit_rate', hue='model_type', palette=sns.color_palette('BrBG'),\\\n",
    "           )\n",
    "plt.axhline(y=0.15, color='b', linestyle='-')\n",
    "plt.xticks(rotation = 90)\n",
    "plt.title('Pentile wise hit rate comparison between models')\n",
    "plt.grid()"
   ]
  },
  {
   "cell_type": "markdown",
   "id": "e27a30ec-7d21-4216-b755-806cf14567df",
   "metadata": {},
   "source": [
    "#### Also compare ROC for both models"
   ]
  },
  {
   "cell_type": "code",
   "execution_count": 110,
   "id": "9d9490a6-6445-4970-8534-951601b2a646",
   "metadata": {},
   "outputs": [
    {
     "data": {
      "image/png": "[encoded data removed]",
      "text/plain": [
       "<Figure size 640x480 with 1 Axes>"
      ]
     },
     "metadata": {},
     "output_type": "display_data"
    }
   ],
   "source": [
    "sns.set_palette(\"BrBG\")\n",
    "plt.plot(fpr_base,tpr_base)\n",
    "plt.plot(fpr_tuned,tpr_tuned)\n",
    "plt.ylabel('True Positive Rate')\n",
    "plt.xlabel('False Positive Rate')\n",
    "plt.title('ROC Curve comparison between base and tuned model')\n",
    "plt.grid()\n",
    "plt.show()\n"
   ]
  },
  {
   "cell_type": "code",
   "execution_count": null,
   "id": "99e25b0c-f3ba-48d6-aea8-69fe7080e01e",
   "metadata": {},
   "outputs": [],
   "source": []
  },
  {
   "cell_type": "markdown",
   "id": "db6ca825-ae8d-4d8f-bc3a-cd460128a7f5",
   "metadata": {},
   "source": [
    "### Precision recall curve for tuned model - useful for busines to identify right threshold"
   ]
  },
  {
   "cell_type": "code",
   "execution_count": 111,
   "id": "7873dfa3-3c08-4502-a300-87d1a7fdc09a",
   "metadata": {},
   "outputs": [
    {
     "data": {
      "image/png": "[encoded data removed]",
      "text/plain": [
       "<Figure size 640x480 with 1 Axes>"
      ]
     },
     "metadata": {},
     "output_type": "display_data"
    }
   ],
   "source": [
    "sns.set_palette(\"rocket\")\n",
    "print_precision_recall_curve(validation_results_tuned, model_type='Tuned Model')"
   ]
  },
  {
   "cell_type": "markdown",
   "id": "c65ce430-ec2d-4397-addc-54f8468b9050",
   "metadata": {},
   "source": [
    "##### What is the expected hit rate (precision) if we want to capture 50% of eligible customers?"
   ]
  },
  {
   "cell_type": "code",
   "execution_count": 112,
   "id": "45a50b79-c179-4b9d-b7d5-85ce45658154",
   "metadata": {},
   "outputs": [
    {
     "data": {
      "text/plain": [
       "0.7916666666666666"
      ]
     },
     "execution_count": 112,
     "metadata": {},
     "output_type": "execute_result"
    }
   ],
   "source": [
    "validation_results_tuned[validation_results_tuned['recall_at_row']<0.5]['precision_at_row'].min()"
   ]
  },
  {
   "cell_type": "markdown",
   "id": "3f886cab-f55a-471f-a468-0ee5a577fc15",
   "metadata": {},
   "source": [
    "##### What percentage of customers we have to target to get the 50% eligible population?"
   ]
  },
  {
   "cell_type": "code",
   "execution_count": 113,
   "id": "0c22b6cf-d4fe-4f03-abc7-2ceb764ef6e8",
   "metadata": {},
   "outputs": [
    {
     "data": {
      "text/plain": [
       "0.10354609929078014"
      ]
     },
     "execution_count": 113,
     "metadata": {},
     "output_type": "execute_result"
    }
   ],
   "source": [
    "validation_results_tuned[validation_results_tuned['recall_at_row']<0.5]['row_count'].max()/validation_results_tuned.shape[0]"
   ]
  },
  {
   "cell_type": "markdown",
   "id": "c3b79fe7-060d-4ced-8ec9-589222d3a91e",
   "metadata": {},
   "source": [
    "#### In order to capture 50% of all eligible customers, we can target only 10% of all customers and the model can have 80% hit rate for the selected customers"
   ]
  },
  {
   "cell_type": "markdown",
   "id": "1f936910-b229-4430-a59d-fcdf2e5b6db3",
   "metadata": {},
   "source": [
    "#### Check what threshold value would give maximum F1-Score"
   ]
  },
  {
   "cell_type": "code",
   "execution_count": 114,
   "id": "8e680741-103e-4c03-b1cf-4f748dd68e0e",
   "metadata": {},
   "outputs": [
    {
     "data": {
      "image/png": "[encoded data removed]",
      "text/plain": [
       "<Figure size 640x480 with 1 Axes>"
      ]
     },
     "metadata": {},
     "output_type": "display_data"
    }
   ],
   "source": [
    "f1_score_against_threshold(validation_results_tuned,model_type='Tuned LGBM Model')"
   ]
  },
  {
   "cell_type": "markdown",
   "id": "cba63b2a-0a8f-4107-a43c-ffb9a42ef06c",
   "metadata": {},
   "source": [
    "#### We can select threshold = 0.3, which will expect precision ~71%, and recall ~68%, with F1-Score = ~0.7"
   ]
  },
  {
   "cell_type": "code",
   "execution_count": 115,
   "id": "7dfdc5ab-9a75-4a19-8f7d-040b9425bf62",
   "metadata": {
    "tags": []
   },
   "outputs": [
    {
     "data": {
      "image/png": "[encoded data removed]",
      "text/plain": [
       "<Figure size 500x400 with 2 Axes>"
      ]
     },
     "metadata": {},
     "output_type": "display_data"
    }
   ],
   "source": [
    "print_confusion_matrix(validation_results_tuned,threshold=0.3)"
   ]
  },
  {
   "cell_type": "code",
   "execution_count": null,
   "id": "6a140c80-50c3-4d2d-945e-984237fe75ba",
   "metadata": {},
   "outputs": [],
   "source": []
  },
  {
   "cell_type": "markdown",
   "id": "991b36cd-8356-4bd1-a2ac-d39bb0bcce76",
   "metadata": {},
   "source": [
    "## <font color='red'>Section 7 - Analysis of feature importance"
   ]
  },
  {
   "cell_type": "markdown",
   "id": "be9f72d2-1bd3-44fb-8e24-199d9ee6638e",
   "metadata": {},
   "source": [
    "### Create feature importance from lightGBM model"
   ]
  },
  {
   "cell_type": "markdown",
   "id": "8ba5cec2-102f-4051-bfde-a70981b84df5",
   "metadata": {},
   "source": [
    "##### Create dataframe with importance for each feature from model"
   ]
  },
  {
   "cell_type": "code",
   "execution_count": 116,
   "id": "0f6c5577-e46d-4d15-a35e-e9c0537b73d6",
   "metadata": {},
   "outputs": [],
   "source": [
    "feat_imp_df = pd.DataFrame(list(zip(most_important_columns,list(model_grid.best_estimator_.feature_importances_))),columns=['feature_name','importance'])"
   ]
  },
  {
   "cell_type": "markdown",
   "id": "b71007eb-2bfd-4c4c-9d0f-cb3ead63649d",
   "metadata": {},
   "source": [
    "##### Get most important features which imparts 95% weightage on total feature importance"
   ]
  },
  {
   "cell_type": "code",
   "execution_count": 117,
   "id": "fd20e58d-d43e-4469-b6e9-cc0bb2eccd27",
   "metadata": {},
   "outputs": [
    {
     "data": {
      "text/plain": [
       "(22, 4)"
      ]
     },
     "execution_count": 117,
     "metadata": {},
     "output_type": "execute_result"
    }
   ],
   "source": [
    "#### Rank by decreasing feature importance\n",
    "feat_imp_df = feat_imp_df.sort_values('importance',ascending=False)\n",
    "\n",
    "#### Calculate cumulative feature importance\n",
    "feat_imp_df['cumulative_importance'] = feat_imp_df['importance'].cumsum()\n",
    "\n",
    "#### Calculate percentage of total importance captured\n",
    "total_importance = np.max(feat_imp_df['cumulative_importance'])\n",
    "feat_imp_df['pct_of_imp_captured'] = feat_imp_df['cumulative_importance']/total_importance\n",
    "\n",
    "#### Take upto which feature importance is captured for 95% of total importance\n",
    "feat_imp_df[feat_imp_df['pct_of_imp_captured']<=0.95].shape"
   ]
  },
  {
   "cell_type": "code",
   "execution_count": 118,
   "id": "9466d45d-bfa3-485b-8acd-f284527e45b5",
   "metadata": {},
   "outputs": [
    {
     "data": {
      "text/plain": [
       "(30, 4)"
      ]
     },
     "execution_count": 118,
     "metadata": {},
     "output_type": "execute_result"
    }
   ],
   "source": [
    "feat_imp_df.shape"
   ]
  },
  {
   "cell_type": "code",
   "execution_count": 119,
   "id": "e8f4f19a-2dff-4629-898a-72597edd5cce",
   "metadata": {},
   "outputs": [
    {
     "data": {
      "text/plain": [
       "array(['ratio_mean_credit_to_withdrawal',\n",
       "       'mean-WITHDRAWAL-REMITTANCE_TO_OTHER_BANK', 'mean-CREDIT',\n",
       "       'ratio_sum_REMITTANCE_TO_OTHER_BANK_to_WITHDRAWAL',\n",
       "       'mean-WITHDRAWAL-WITHDRAWAL_IN_CASH',\n",
       "       'count-WITHDRAWAL-REMITTANCE_TO_OTHER_BANK',\n",
       "       'mean-CREDIT-CREDIT_IN_CASH',\n",
       "       'count-WITHDRAWAL-WITHDRAWAL_IN_CASH',\n",
       "       'ratio_sum-CREDIT_IN_CASH_to_CREDIT',\n",
       "       'ratio_sum_WITHDRAWAL_IN_CASH_to_WITHDRAWAL',\n",
       "       'sum-WITHDRAWAL-REMITTANCE_TO_OTHER_BANK',\n",
       "       'age_in_years_during_first_transaction',\n",
       "       'ratio_count_credit_to_withdrawal', 'sum-CREDIT-CREDIT_IN_CASH',\n",
       "       'mean-WITHDRAWAL', 'uplift_from_average_URBAN_RATIO',\n",
       "       'ratio_sum_credit_to_withdrawal', 'count-CREDIT',\n",
       "       'count-WITHDRAWAL', 'sum-WITHDRAWAL-WITHDRAWAL_IN_CASH',\n",
       "       'sum-WITHDRAWAL', 'sum-CREDIT'], dtype=object)"
      ]
     },
     "execution_count": 119,
     "metadata": {},
     "output_type": "execute_result"
    }
   ],
   "source": [
    "feat_imp_df[feat_imp_df['pct_of_imp_captured']<=0.95]['feature_name'].values"
   ]
  },
  {
   "cell_type": "markdown",
   "id": "52814095-de4e-4afe-bd8b-55ddf635df24",
   "metadata": {},
   "source": [
    "#### So there are 22 features having 95% importance captured"
   ]
  },
  {
   "cell_type": "markdown",
   "id": "c6c92af3-3397-4e81-b885-5b23d2efcac9",
   "metadata": {},
   "source": [
    "#### Plot feature importance as bar chart"
   ]
  },
  {
   "cell_type": "code",
   "execution_count": 120,
   "id": "b83c7a36-b3a4-4754-8d40-df89502f3288",
   "metadata": {},
   "outputs": [],
   "source": [
    "sns.set_palette(\"Purples_d\")"
   ]
  },
  {
   "cell_type": "code",
   "execution_count": 121,
   "id": "c5ff0daa-9a4e-40ef-8339-7802ea445ea7",
   "metadata": {},
   "outputs": [
    {
     "data": {
      "text/plain": [
       "Text(0.5, 1.0, 'Feature Importance from trained LGB model')"
      ]
     },
     "execution_count": 121,
     "metadata": {},
     "output_type": "execute_result"
    },
    {
     "data": {
      "image/png": "[encoded data removed]",
      "text/plain": [
       "<Figure size 640x480 with 1 Axes>"
      ]
     },
     "metadata": {},
     "output_type": "display_data"
    }
   ],
   "source": [
    "sns.barplot(data =feat_imp_df[feat_imp_df['pct_of_imp_captured']<=0.95], \\\n",
    "            y= 'feature_name',x='importance',palette=sns.color_palette('Purples_d'))\n",
    "plt.title('Feature Importance from trained LGB model')\n"
   ]
  },
  {
   "cell_type": "markdown",
   "id": "56e47c82-f8fe-45d2-b12b-5ecffcca259c",
   "metadata": {},
   "source": [
    "#### Feature importance using SHAP"
   ]
  },
  {
   "cell_type": "code",
   "execution_count": 122,
   "id": "9f2adbe9-f162-4f79-bf96-2945c7690d1f",
   "metadata": {},
   "outputs": [
    {
     "name": "stdout",
     "output_type": "stream",
     "text": [
      "Requirement already satisfied: shap in c:\\users\\user\\appdata\\local\\programs\\python\\python311\\lib\\site-packages (0.42.1)\n",
      "Requirement already satisfied: numpy in c:\\users\\user\\appdata\\local\\programs\\python\\python311\\lib\\site-packages (from shap) (1.23.5)\n",
      "Requirement already satisfied: scipy in c:\\users\\user\\appdata\\local\\programs\\python\\python311\\lib\\site-packages (from shap) (1.9.3)\n",
      "Requirement already satisfied: scikit-learn in c:\\users\\user\\appdata\\local\\programs\\python\\python311\\lib\\site-packages (from shap) (1.2.0)\n",
      "Requirement already satisfied: pandas in c:\\users\\user\\appdata\\local\\programs\\python\\python311\\lib\\site-packages (from shap) (1.5.2)\n",
      "Requirement already satisfied: tqdm>=4.27.0 in c:\\users\\user\\appdata\\local\\programs\\python\\python311\\lib\\site-packages (from shap) (4.64.1)\n",
      "Requirement already satisfied: packaging>20.9 in c:\\users\\user\\appdata\\local\\programs\\python\\python311\\lib\\site-packages (from shap) (22.0)\n",
      "Requirement already satisfied: slicer==0.0.7 in c:\\users\\user\\appdata\\local\\programs\\python\\python311\\lib\\site-packages (from shap) (0.0.7)\n",
      "Requirement already satisfied: numba in c:\\users\\user\\appdata\\local\\programs\\python\\python311\\lib\\site-packages (from shap) (0.57.1)\n",
      "Requirement already satisfied: cloudpickle in c:\\users\\user\\appdata\\local\\programs\\python\\python311\\lib\\site-packages (from shap) (2.2.1)\n",
      "Requirement already satisfied: colorama in c:\\users\\user\\appdata\\local\\programs\\python\\python311\\lib\\site-packages (from tqdm>=4.27.0->shap) (0.4.6)\n",
      "Requirement already satisfied: llvmlite<0.41,>=0.40.0dev0 in c:\\users\\user\\appdata\\local\\programs\\python\\python311\\lib\\site-packages (from numba->shap) (0.40.1)\n",
      "Requirement already satisfied: python-dateutil>=2.8.1 in c:\\users\\user\\appdata\\local\\programs\\python\\python311\\lib\\site-packages (from pandas->shap) (2.8.2)\n",
      "Requirement already satisfied: pytz>=2020.1 in c:\\users\\user\\appdata\\local\\programs\\python\\python311\\lib\\site-packages (from pandas->shap) (2022.6)\n",
      "Requirement already satisfied: joblib>=1.1.1 in c:\\users\\user\\appdata\\local\\programs\\python\\python311\\lib\\site-packages (from scikit-learn->shap) (1.1.1)\n",
      "Requirement already satisfied: threadpoolctl>=2.0.0 in c:\\users\\user\\appdata\\local\\programs\\python\\python311\\lib\\site-packages (from scikit-learn->shap) (3.1.0)\n",
      "Requirement already satisfied: six>=1.5 in c:\\users\\user\\appdata\\local\\programs\\python\\python311\\lib\\site-packages (from python-dateutil>=2.8.1->pandas->shap) (1.16.0)\n"
     ]
    },
    {
     "name": "stderr",
     "output_type": "stream",
     "text": [
      "\n",
      "[notice] A new release of pip is available: 23.0.1 -> 23.2.1\n",
      "[notice] To update, run: python.exe -m pip install --upgrade pip\n"
     ]
    }
   ],
   "source": [
    "!pip install shap"
   ]
  },
  {
   "cell_type": "code",
   "execution_count": 123,
   "id": "20da2ee0-47ba-4098-bced-01632631d12d",
   "metadata": {},
   "outputs": [
    {
     "name": "stderr",
     "output_type": "stream",
     "text": [
      "IProgress not found. Please update jupyter and ipywidgets. See https://ipywidgets.readthedocs.io/en/stable/user_install.html\n"
     ]
    }
   ],
   "source": [
    "import shap"
   ]
  },
  {
   "cell_type": "markdown",
   "id": "9ce8ef2d-097c-4638-b3da-37357d953e60",
   "metadata": {},
   "source": [
    "#### Create tree explainer for shap"
   ]
  },
  {
   "cell_type": "code",
   "execution_count": 124,
   "id": "1248ae7f-d79d-48a1-a451-34d76b377dca",
   "metadata": {},
   "outputs": [
    {
     "name": "stderr",
     "output_type": "stream",
     "text": [
      "LightGBM binary classifier with TreeExplainer shap values output has changed to a list of ndarray\n"
     ]
    }
   ],
   "source": [
    "\n",
    "explainer = shap.TreeExplainer(model_grid.best_estimator_)\n",
    "shap_values = explainer.shap_values(X_train[most_important_columns])"
   ]
  },
  {
   "cell_type": "code",
   "execution_count": 125,
   "id": "bef46666-8547-433d-af9a-a9c4dd1de55f",
   "metadata": {},
   "outputs": [
    {
     "data": {
      "image/png": "[encoded data removed]",
      "text/plain": [
       "<Figure size 800x950 with 1 Axes>"
      ]
     },
     "metadata": {},
     "output_type": "display_data"
    }
   ],
   "source": [
    "shap.summary_plot(shap_values, X_train[most_important_columns], feature_names=most_important_columns, plot_type=\"bar\")"
   ]
  },
  {
   "cell_type": "markdown",
   "id": "24b71f48-50d3-40d0-857a-6e4c4b97968f",
   "metadata": {},
   "source": [
    "## <font color='red'>Section 8 - Run model predictions on test set and calculate performance"
   ]
  },
  {
   "cell_type": "markdown",
   "id": "7b402de9-c718-4be5-b2b8-79e8d96f4e9f",
   "metadata": {},
   "source": [
    "### Run on test records"
   ]
  },
  {
   "cell_type": "code",
   "execution_count": null,
   "id": "4cdfbaca-a6ca-48ec-9155-deb614c5ebd7",
   "metadata": {},
   "outputs": [],
   "source": []
  },
  {
   "cell_type": "code",
   "execution_count": 126,
   "id": "29beef42-26e2-4f12-b529-7c8d9d7a0961",
   "metadata": {},
   "outputs": [],
   "source": [
    "test_results_tuned,fpr_tuned_test,tpr_tuned_test,f1_score_tuned_test,roc_auc_tuned_test,ks_tuned_test = create_prediction_df(test_data,model_grid,input_columns=most_important_columns)"
   ]
  },
  {
   "cell_type": "code",
   "execution_count": 127,
   "id": "3b6a4cd5-aa9c-4db1-a6f1-0342c465daa0",
   "metadata": {},
   "outputs": [
    {
     "data": {
      "text/plain": [
       "0.6244343891402715"
      ]
     },
     "execution_count": 127,
     "metadata": {},
     "output_type": "execute_result"
    }
   ],
   "source": [
    "f1_score_tuned_test"
   ]
  },
  {
   "cell_type": "code",
   "execution_count": 128,
   "id": "340545d7-1487-4844-bd3a-181ab3dfe72a",
   "metadata": {},
   "outputs": [
    {
     "data": {
      "text/plain": [
       "0.9213475119402376"
      ]
     },
     "execution_count": 128,
     "metadata": {},
     "output_type": "execute_result"
    }
   ],
   "source": [
    "roc_auc_tuned_test"
   ]
  },
  {
   "cell_type": "code",
   "execution_count": 129,
   "id": "44d65d11-e103-42c5-9714-2f675f8e104c",
   "metadata": {},
   "outputs": [
    {
     "data": {
      "image/png": "[encoded data removed]",
      "text/plain": [
       "<Figure size 640x480 with 1 Axes>"
      ]
     },
     "metadata": {},
     "output_type": "display_data"
    }
   ],
   "source": [
    "plt.plot(fpr_tuned_test,tpr_tuned_test)\n",
    "plt.ylabel('True Positive Rate')\n",
    "plt.xlabel('False Positive Rate')\n",
    "plt.title('ROC Curve')\n",
    "plt.grid()\n",
    "plt.show()\n"
   ]
  },
  {
   "cell_type": "code",
   "execution_count": null,
   "id": "1002579f-ae26-43cb-a470-bec9bc74ab81",
   "metadata": {},
   "outputs": [],
   "source": []
  },
  {
   "cell_type": "code",
   "execution_count": 130,
   "id": "fc95a306-b248-4dfe-bfd9-df42712ea40c",
   "metadata": {},
   "outputs": [
    {
     "data": {
      "image/png": "[encoded data removed]",
      "text/plain": [
       "<Figure size 500x400 with 2 Axes>"
      ]
     },
     "metadata": {},
     "output_type": "display_data"
    }
   ],
   "source": [
    "print_confusion_matrix(test_results_tuned,threshold=0.3)"
   ]
  },
  {
   "cell_type": "markdown",
   "id": "e0a3df3d-2cc6-4944-94a3-14cd9232ca90",
   "metadata": {},
   "source": [
    "### For test data, 67% precision, 70% recall at threshold = 0.3"
   ]
  },
  {
   "cell_type": "code",
   "execution_count": null,
   "id": "88e7d626-2fa5-4c00-b870-861ca488d475",
   "metadata": {},
   "outputs": [],
   "source": []
  },
  {
   "cell_type": "markdown",
   "id": "fbe13484-a907-4deb-92b8-c4b7e80f2699",
   "metadata": {},
   "source": [
    "### Compare with random selection - business benefit"
   ]
  },
  {
   "cell_type": "code",
   "execution_count": 131,
   "id": "0948d77c-00c9-4d34-842d-6707c1a079c7",
   "metadata": {},
   "outputs": [
    {
     "data": {
      "text/plain": [
       "0.149032992036405"
      ]
     },
     "execution_count": 131,
     "metadata": {},
     "output_type": "execute_result"
    }
   ],
   "source": [
    "data_size = test_results_tuned.shape[0]\n",
    "loan_count = test_results_tuned['LOAN'].sum()\n",
    "base_prevalence = loan_count/data_size\n",
    "base_prevalence"
   ]
  },
  {
   "cell_type": "markdown",
   "id": "912c91ac-0ae7-4a80-bbc8-fda996b91826",
   "metadata": {},
   "source": [
    "#### Baseline prevalence = 15%, so any random selection of customers would have 15% loan eligible customers among them\n",
    "    "
   ]
  },
  {
   "cell_type": "markdown",
   "id": "3b2e8478-0bf3-4197-8645-e719f7af4602",
   "metadata": {},
   "source": [
    "#### Assume bank has decided to give loan to 15% of its customer base\n",
    "Let us create simulation and check what can be the expected hit rate in the selected population"
   ]
  },
  {
   "cell_type": "code",
   "execution_count": 132,
   "id": "a9ad31e2-42f4-41fd-aad7-01e3a423457d",
   "metadata": {},
   "outputs": [],
   "source": [
    "import random"
   ]
  },
  {
   "cell_type": "code",
   "execution_count": 138,
   "id": "7ab1f7bf-e309-4181-adfd-a57e9d917b0a",
   "metadata": {},
   "outputs": [],
   "source": [
    "list_of_hit_rates = []\n",
    "for i in range(1000):\n",
    "    random_number = int(random.random()*1000)\n",
    "    randomly_selected_customers = test_results_tuned.sample(frac=0.15,random_state=random_number)\n",
    "    hit_rate = randomly_selected_customers['LOAN'].sum()/randomly_selected_customers.shape[0]\n",
    "    list_of_hit_rates.append(hit_rate)"
   ]
  },
  {
   "cell_type": "code",
   "execution_count": 139,
   "id": "7eefd8de-98f7-4cd3-9d20-513bda51f18e",
   "metadata": {},
   "outputs": [
    {
     "name": "stdout",
     "output_type": "stream",
     "text": [
      "0.045454545454545456\n",
      "0.14870454545454545\n",
      "0.029825170674869974\n",
      "0.24242424242424243\n"
     ]
    }
   ],
   "source": [
    "print(np.min(list_of_hit_rates))\n",
    "print(np.mean(list_of_hit_rates))\n",
    "print(np.std(list_of_hit_rates))\n",
    "print(np.max(list_of_hit_rates))"
   ]
  },
  {
   "cell_type": "code",
   "execution_count": 140,
   "id": "382b164d-fddb-49ff-8f56-6bb51c204937",
   "metadata": {},
   "outputs": [
    {
     "data": {
      "text/plain": [
       "<seaborn.axisgrid.FacetGrid at 0x283c05c4890>"
      ]
     },
     "execution_count": 140,
     "metadata": {},
     "output_type": "execute_result"
    },
    {
     "data": {
      "image/png": "[encoded data removed]",
      "text/plain": [
       "<Figure size 500x500 with 1 Axes>"
      ]
     },
     "metadata": {},
     "output_type": "display_data"
    }
   ],
   "source": [
    "sns.displot(list_of_hit_rates)"
   ]
  },
  {
   "cell_type": "markdown",
   "id": "fb75d31c-a3ab-4af3-b7ec-ca0af9114e45",
   "metadata": {},
   "source": [
    "#### So average hit rate for simulations ~15%\n",
    "#### maximum being ~24%"
   ]
  },
  {
   "cell_type": "markdown",
   "id": "2bbf5da5-14ef-4e1c-a5ab-262fe32a3f29",
   "metadata": {},
   "source": [
    "#### Now from trained model predictions, let us take the top 15% population with highest probabilities "
   ]
  },
  {
   "cell_type": "code",
   "execution_count": 136,
   "id": "2cb390f4-c088-4f81-abe0-d6bee6cd3b6b",
   "metadata": {},
   "outputs": [
    {
     "data": {
      "text/plain": [
       "132.0"
      ]
     },
     "execution_count": 136,
     "metadata": {},
     "output_type": "execute_result"
    }
   ],
   "source": [
    "row_count_for_top_20_pct = np.ceil(test_results_tuned.shape[0]*0.15)\n",
    "row_count_for_top_20_pct"
   ]
  },
  {
   "cell_type": "markdown",
   "id": "a2016c46-6724-4a48-a4ff-e14935e6ee7e",
   "metadata": {},
   "source": [
    "#### What is the hit rate (precision) when we reach 132th record from top?"
   ]
  },
  {
   "cell_type": "code",
   "execution_count": 137,
   "id": "5ba22bab-edce-4f59-8f43-4c60e4ff13f6",
   "metadata": {},
   "outputs": [
    {
     "data": {
      "text/plain": [
       "0.671875"
      ]
     },
     "execution_count": 137,
     "metadata": {},
     "output_type": "execute_result"
    }
   ],
   "source": [
    "test_results_tuned[test_results_tuned['row_count']<=row_count_for_top_20_pct]['precision_at_row'].min()"
   ]
  },
  {
   "cell_type": "markdown",
   "id": "5e83672a-c02e-4f58-9550-4973f5a12762",
   "metadata": {},
   "source": [
    "#### Hence with model we can expect a 67/15 = ~4.5 times uplift in hit rate"
   ]
  },
  {
   "cell_type": "code",
   "execution_count": null,
   "id": "9f70899a-6b2e-412c-90cf-4e9715569310",
   "metadata": {},
   "outputs": [],
   "source": []
  },
  {
   "cell_type": "code",
   "execution_count": null,
   "id": "94ec0402-21fb-4223-ab34-3a25781ecc43",
   "metadata": {},
   "outputs": [],
   "source": []
  },
  {
   "cell_type": "markdown",
   "id": "4fd5d837-476d-47e9-9c36-cf253c47d8c8",
   "metadata": {},
   "source": [
    "## Further thoughts - what could have been done more in a real life modelling exercise"
   ]
  },
  {
   "cell_type": "markdown",
   "id": "79b7c1cf-55ee-46c8-b024-30f697b85b88",
   "metadata": {},
   "source": [
    "#### 1. Overall, understand the data more closely. Like if LOAN == 1 means loan has been granted and not has been defaulted yet? Do we have indication that which loans defaulted after approval? Also understand more about the type of loans, value, duration, etc etc\n",
    "#### 2. Model bias check - group wise FPR, on gender and location\n",
    "#### 3. Swap set analysis for multiple models\n",
    "#### 4. Create more granular trend variables from transaction data - like change in debit and credit patterns etc\n",
    "#### 5. Calculate cost-benefit analysis of selected model - explain to business about the potential monetory saving the model can bring in when it reduces false positives\n",
    "#### 6. Ideally if the loan application date is present, a different type of experiment could have been performed - taking temporal features"
   ]
  },
  {
   "cell_type": "code",
   "execution_count": null,
   "id": "1d44dabb-d0df-4312-b9d8-6425cc9effc6",
   "metadata": {},
   "outputs": [],
   "source": []
  }
 ],
 "metadata": {
  "kernelspec": {
   "display_name": "Python 3 (ipykernel)",
   "language": "python",
   "name": "python3"
  },
  "language_info": {
   "codemirror_mode": {
    "name": "ipython",
    "version": 3
   },
   "file_extension": ".py",
   "mimetype": "text/x-python",
   "name": "python",
   "nbconvert_exporter": "python",
   "pygments_lexer": "ipython3",
   "version": "3.11.1"
  }
 },
 "nbformat": 4,
 "nbformat_minor": 5
}
