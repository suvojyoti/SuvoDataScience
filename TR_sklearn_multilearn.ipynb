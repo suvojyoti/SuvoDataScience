{
  "cells": [
    {
      "cell_type": "markdown",
      "source": [
        "# This notebook creates a basic model to predict case postures\n",
        "\n",
        "### Create TFIDF based model using sklearn multilearn\n",
        "### Create basic explanation of class predictions using tfidf weight"
      ],
      "metadata": {
        "id": "vUDye-ZUy7JE"
      },
      "id": "vUDye-ZUy7JE"
    },
    {
      "cell_type": "markdown",
      "source": [
        "Import basic packages"
      ],
      "metadata": {
        "id": "6O6556xlIuRB"
      },
      "id": "6O6556xlIuRB"
    },
    {
      "cell_type": "code",
      "execution_count": 1,
      "id": "d7618225-86f8-4462-8aad-1c876d37cad7",
      "metadata": {
        "id": "d7618225-86f8-4462-8aad-1c876d37cad7"
      },
      "outputs": [],
      "source": [
        "\n",
        "import matplotlib.pyplot as plt\n",
        "import seaborn as sns\n",
        "import pandas as pd\n",
        "import numpy as np\n",
        "import itertools\n",
        "import re\n",
        "import json"
      ]
    },
    {
      "cell_type": "markdown",
      "source": [
        "Import ML packages"
      ],
      "metadata": {
        "id": "CNCrbjZeIzC5"
      },
      "id": "CNCrbjZeIzC5"
    },
    {
      "cell_type": "code",
      "execution_count": 2,
      "id": "39a55d7b-aaa1-4002-9379-7a848082c4af",
      "metadata": {
        "id": "39a55d7b-aaa1-4002-9379-7a848082c4af"
      },
      "outputs": [],
      "source": [
        "\n",
        "from sklearn.naive_bayes import GaussianNB,MultinomialNB\n",
        "from sklearn.metrics import accuracy_score,hamming_loss,classification_report"
      ]
    },
    {
      "cell_type": "markdown",
      "source": [
        "Install scikit multilearn for multi-label prediction model"
      ],
      "metadata": {
        "id": "UqB_xPbiI6Lp"
      },
      "id": "UqB_xPbiI6Lp"
    },
    {
      "cell_type": "code",
      "execution_count": 2,
      "id": "69855a54-824f-4ba8-9d9d-564e3e45c001",
      "metadata": {
        "id": "69855a54-824f-4ba8-9d9d-564e3e45c001"
      },
      "outputs": [],
      "source": []
    },
    {
      "cell_type": "code",
      "execution_count": 3,
      "id": "9cb4bb3d-2d72-4fff-8f9e-8acd364e076a",
      "metadata": {
        "colab": {
          "base_uri": "https://localhost:8080/"
        },
        "id": "9cb4bb3d-2d72-4fff-8f9e-8acd364e076a",
        "outputId": "56c41a6a-41f8-434b-f5b2-7245b2701643"
      },
      "outputs": [
        {
          "output_type": "stream",
          "name": "stdout",
          "text": [
            "Collecting scikit-multilearn\n",
            "  Downloading scikit_multilearn-0.2.0-py3-none-any.whl (89 kB)\n",
            "\u001b[2K     \u001b[90m━━━━━━━━━━━━━━━━━━━━━━━━━━━━━━━━━━━━━━━━\u001b[0m \u001b[32m89.4/89.4 kB\u001b[0m \u001b[31m2.2 MB/s\u001b[0m eta \u001b[36m0:00:00\u001b[0m\n",
            "\u001b[?25hInstalling collected packages: scikit-multilearn\n",
            "Successfully installed scikit-multilearn-0.2.0\n"
          ]
        }
      ],
      "source": [
        "!pip install scikit-multilearn"
      ]
    },
    {
      "cell_type": "code",
      "execution_count": 4,
      "id": "fda06920-264d-44f5-b144-7bf3fbfc85fc",
      "metadata": {
        "id": "fda06920-264d-44f5-b144-7bf3fbfc85fc"
      },
      "outputs": [],
      "source": [
        "# Multi Label Pkgs\n",
        "from skmultilearn.problem_transform import BinaryRelevance\n",
        "from skmultilearn.problem_transform import ClassifierChain\n",
        "from skmultilearn.problem_transform import LabelPowerset\n",
        "from skmultilearn.adapt import MLkNN\n",
        "from sklearn.model_selection import GridSearchCV"
      ]
    },
    {
      "cell_type": "code",
      "execution_count": 4,
      "id": "838eccf9-6925-4f4e-aea2-856e963d596a",
      "metadata": {
        "id": "838eccf9-6925-4f4e-aea2-856e963d596a"
      },
      "outputs": [],
      "source": []
    },
    {
      "cell_type": "markdown",
      "source": [
        "Mount google drive"
      ],
      "metadata": {
        "id": "AV7yVrhuJJUP"
      },
      "id": "AV7yVrhuJJUP"
    },
    {
      "cell_type": "code",
      "source": [
        "from google.colab import drive\n",
        "drive.mount(\"/content/drive/\")"
      ],
      "metadata": {
        "colab": {
          "base_uri": "https://localhost:8080/"
        },
        "id": "Q_DNUV1A9ddc",
        "outputId": "900a1b47-74de-4adf-df29-69dfd7edc8d4"
      },
      "id": "Q_DNUV1A9ddc",
      "execution_count": 5,
      "outputs": [
        {
          "output_type": "stream",
          "name": "stdout",
          "text": [
            "Mounted at /content/drive/\n"
          ]
        }
      ]
    },
    {
      "cell_type": "markdown",
      "source": [
        "Read text data in json"
      ],
      "metadata": {
        "id": "KrzbXvfcJMJc"
      },
      "id": "KrzbXvfcJMJc"
    },
    {
      "cell_type": "code",
      "source": [
        "full_text=[]\n",
        "for line in open('/content/drive/My Drive/TR_TechChallenge/TRDataChallenge2023.txt','r', encoding='utf-8', errors='replace'):\n",
        "    full_text.append(json.loads(line))"
      ],
      "metadata": {
        "id": "EOCHwpFT9Ey5"
      },
      "id": "EOCHwpFT9Ey5",
      "execution_count": 6,
      "outputs": []
    },
    {
      "cell_type": "markdown",
      "source": [
        "Create pandas dataframe"
      ],
      "metadata": {
        "id": "bxLXn6wg0Khc"
      },
      "id": "bxLXn6wg0Khc"
    },
    {
      "cell_type": "code",
      "execution_count": 7,
      "id": "996a3ef1-7db4-49b3-b321-21b378dde7a1",
      "metadata": {
        "id": "996a3ef1-7db4-49b3-b321-21b378dde7a1"
      },
      "outputs": [],
      "source": [
        "full_text_pd = pd.json_normalize(full_text)"
      ]
    },
    {
      "cell_type": "markdown",
      "source": [
        "### Clean text - only take alphabets and text seperators"
      ],
      "metadata": {
        "id": "zr7GnDoF0PIB"
      },
      "id": "zr7GnDoF0PIB"
    },
    {
      "cell_type": "code",
      "execution_count": 8,
      "id": "6d1ef38b-e52c-4218-9550-ac1fb2e68e5b",
      "metadata": {
        "id": "6d1ef38b-e52c-4218-9550-ac1fb2e68e5b"
      },
      "outputs": [],
      "source": [
        "def cleanse_text(text):\n",
        "    return re.sub(r'[^a-zA-Z,.\\s]', '', text)"
      ]
    },
    {
      "cell_type": "code",
      "execution_count": 9,
      "id": "0a8e5cb6-bb2e-4776-a397-41af1c8c243d",
      "metadata": {
        "id": "0a8e5cb6-bb2e-4776-a397-41af1c8c243d"
      },
      "outputs": [],
      "source": [
        "full_text_pd['sections'] = full_text_pd['sections'].apply(lambda x: cleanse_text(str(x)))"
      ]
    },
    {
      "cell_type": "markdown",
      "source": [
        "Calculate length of text sections"
      ],
      "metadata": {
        "id": "mgkzsFvJ0XjX"
      },
      "id": "mgkzsFvJ0XjX"
    },
    {
      "cell_type": "code",
      "execution_count": 10,
      "id": "45c33d3f-4635-43c2-a844-055f2d7d6c27",
      "metadata": {
        "id": "45c33d3f-4635-43c2-a844-055f2d7d6c27"
      },
      "outputs": [],
      "source": [
        "full_text_pd['len_of_sections'] = full_text_pd['sections'].apply(lambda x : len(x))"
      ]
    },
    {
      "cell_type": "code",
      "execution_count": 11,
      "id": "fcbcf5d4-b518-4604-9a7f-d10e79d14244",
      "metadata": {
        "colab": {
          "base_uri": "https://localhost:8080/",
          "height": 467
        },
        "id": "fcbcf5d4-b518-4604-9a7f-d10e79d14244",
        "outputId": "e823c355-19b5-4c68-89e8-aaf5f13ac0ea"
      },
      "outputs": [
        {
          "output_type": "execute_result",
          "data": {
            "text/plain": [
              "<Axes: xlabel='len_of_sections', ylabel='Count'>"
            ]
          },
          "metadata": {},
          "execution_count": 11
        },
        {
          "output_type": "display_data",
          "data": {
            "text/plain": [
              "<Figure size 640x480 with 1 Axes>"
            ],
            "image/png": "[encoded data removed]"
          },
          "metadata": {}
        }
      ],
      "source": [
        "sns.histplot(full_text_pd['len_of_sections'])"
      ]
    },
    {
      "cell_type": "markdown",
      "source": [
        "Minimum and maximum length of texts"
      ],
      "metadata": {
        "id": "1bWgYLvm0fWf"
      },
      "id": "1bWgYLvm0fWf"
    },
    {
      "cell_type": "code",
      "source": [
        "np.min(full_text_pd['len_of_sections'])"
      ],
      "metadata": {
        "colab": {
          "base_uri": "https://localhost:8080/"
        },
        "id": "VoONArUFByAD",
        "outputId": "7702f460-cba1-4016-e12d-7d80ef3b04d7"
      },
      "id": "VoONArUFByAD",
      "execution_count": 12,
      "outputs": [
        {
          "output_type": "execute_result",
          "data": {
            "text/plain": [
              "99"
            ]
          },
          "metadata": {},
          "execution_count": 12
        }
      ]
    },
    {
      "cell_type": "code",
      "source": [
        "np.max(full_text_pd['len_of_sections'])"
      ],
      "metadata": {
        "colab": {
          "base_uri": "https://localhost:8080/"
        },
        "id": "T98HuNqq0iWX",
        "outputId": "b442552a-3c7b-40ec-bb76-6000a409fe5f"
      },
      "id": "T98HuNqq0iWX",
      "execution_count": 13,
      "outputs": [
        {
          "output_type": "execute_result",
          "data": {
            "text/plain": [
              "730675"
            ]
          },
          "metadata": {},
          "execution_count": 13
        }
      ]
    },
    {
      "cell_type": "code",
      "source": [],
      "metadata": {
        "id": "q0N0QmJfHtTp"
      },
      "id": "q0N0QmJfHtTp",
      "execution_count": 13,
      "outputs": []
    },
    {
      "cell_type": "markdown",
      "source": [
        "# As the text size are smetimes too large - for the sake of MVP, limit the size to 5000"
      ],
      "metadata": {
        "id": "BIwl22hJ05TQ"
      },
      "id": "BIwl22hJ05TQ"
    },
    {
      "cell_type": "code",
      "source": [],
      "metadata": {
        "id": "fYQRU3DdHtXF"
      },
      "id": "fYQRU3DdHtXF",
      "execution_count": 13,
      "outputs": []
    },
    {
      "cell_type": "code",
      "execution_count": 14,
      "id": "3872571f-eb36-445a-bd5f-b2f20e89810f",
      "metadata": {
        "id": "3872571f-eb36-445a-bd5f-b2f20e89810f"
      },
      "outputs": [],
      "source": [
        "full_text_pd['sections_limited'] = full_text_pd['sections'].str[:5000]"
      ]
    },
    {
      "cell_type": "markdown",
      "source": [
        "Calculate number of postures for each case"
      ],
      "metadata": {
        "id": "sjeRXxr01Hsv"
      },
      "id": "sjeRXxr01Hsv"
    },
    {
      "cell_type": "code",
      "source": [
        "full_text_pd['number_of_postures'] = full_text_pd['postures'].str.len()"
      ],
      "metadata": {
        "id": "aOh9ZJHiCLyd"
      },
      "id": "aOh9ZJHiCLyd",
      "execution_count": 15,
      "outputs": []
    },
    {
      "cell_type": "code",
      "source": [
        "full_text_pd.dtypes"
      ],
      "metadata": {
        "colab": {
          "base_uri": "https://localhost:8080/"
        },
        "id": "ryQGY7piAIkk",
        "outputId": "36559091-0197-4253-b6f5-be72ff85a1c2"
      },
      "id": "ryQGY7piAIkk",
      "execution_count": 16,
      "outputs": [
        {
          "output_type": "execute_result",
          "data": {
            "text/plain": [
              "documentId            object\n",
              "postures              object\n",
              "sections              object\n",
              "len_of_sections        int64\n",
              "sections_limited      object\n",
              "number_of_postures     int64\n",
              "dtype: object"
            ]
          },
          "metadata": {},
          "execution_count": 16
        }
      ]
    },
    {
      "cell_type": "markdown",
      "source": [
        "Take cases which have at least one posture"
      ],
      "metadata": {
        "id": "dgKwy0wj1O1W"
      },
      "id": "dgKwy0wj1O1W"
    },
    {
      "cell_type": "code",
      "execution_count": 17,
      "id": "0eaa8a08-6dec-496c-b787-8be87fbea884",
      "metadata": {
        "id": "0eaa8a08-6dec-496c-b787-8be87fbea884"
      },
      "outputs": [],
      "source": [
        "train_df = full_text_pd[full_text_pd['number_of_postures']>0]"
      ]
    },
    {
      "cell_type": "markdown",
      "source": [
        "### Convert text in postures to class columns. Each class column will have binary 0 or 1 depending on if the posture is present or not (one hot encoding)"
      ],
      "metadata": {
        "id": "zVEm_YAPJXZv"
      },
      "id": "zVEm_YAPJXZv"
    },
    {
      "cell_type": "code",
      "execution_count": 18,
      "id": "48a23733-2f94-496c-9edb-f68d1d13c2f0",
      "metadata": {
        "collapsed": true,
        "jupyter": {
          "outputs_hidden": true
        },
        "tags": [],
        "id": "48a23733-2f94-496c-9edb-f68d1d13c2f0"
      },
      "outputs": [],
      "source": [
        "# Use pd.get_dummies() to one-hot encode the 'classes' column\n",
        "train_df_expanded = train_df['postures'].str.join('|').str.get_dummies().add_prefix('class_')\n",
        "\n",
        "# Concatenate the expanded columns with the original DataFrame\n",
        "train_df_with_classes = pd.concat([train_df, train_df_expanded], axis=1)\n",
        "\n"
      ]
    },
    {
      "cell_type": "markdown",
      "source": [
        "# From the initial EDA notebook we identified only few postures appears at least in 2% of cases\n",
        "\n",
        "### Hence we would only take those cases which are having those postures in outcome - in order to have a  MVP model"
      ],
      "metadata": {
        "id": "QqLO8_T52ZkM"
      },
      "id": "QqLO8_T52ZkM"
    },
    {
      "cell_type": "code",
      "source": [
        "list_of_postures_to_take = ['class_On Appeal',\n",
        " 'class_Appellate Review',\n",
        " 'class_Review of Administrative Decision',\n",
        " 'class_Motion to Dismiss',\n",
        " 'class_Sentencing or Penalty Phase Motion or Objection',\n",
        " 'class_Trial or Guilt Phase Motion or Objection',\n",
        " \"class_Motion for Attorney's Fees\",\n",
        " 'class_Post-Trial Hearing Motion',\n",
        " 'class_Motion for Preliminary Injunction',\n",
        " 'class_Motion to Dismiss for Lack of Subject Matter Jurisdiction']"
      ],
      "metadata": {
        "id": "65s-JA8r2xTH"
      },
      "id": "65s-JA8r2xTH",
      "execution_count": 19,
      "outputs": []
    },
    {
      "cell_type": "markdown",
      "source": [
        "Create dataframe for selected classes and records which have at least one of the selected classes"
      ],
      "metadata": {
        "id": "ptMOo3uMJgNh"
      },
      "id": "ptMOo3uMJgNh"
    },
    {
      "cell_type": "code",
      "source": [
        "\n",
        "### Other columns except classes\n",
        "other_columns = [colname for colname in train_df_with_classes.columns if 'class_' not in colname]\n",
        "\n",
        "### Selected most frequent classes\n",
        "classes_selected = train_df_with_classes[list_of_postures_to_take]\n",
        "\n",
        "### Create dataframe with only those classes\n",
        "train_df_with_classes_selected = pd.concat([train_df_with_classes[other_columns],classes_selected], axis=1)"
      ],
      "metadata": {
        "id": "bICqTNdb21cT"
      },
      "id": "bICqTNdb21cT",
      "execution_count": 20,
      "outputs": []
    },
    {
      "cell_type": "markdown",
      "source": [
        "Identify the records which have at least one of the selected classes"
      ],
      "metadata": {
        "id": "hvLOhq3zJzyf"
      },
      "id": "hvLOhq3zJzyf"
    },
    {
      "cell_type": "code",
      "source": [
        "### Count the sum of occurances for the selected classes\n",
        "train_df_with_classes_selected['sum_of_selected_targets'] = train_df_with_classes_selected[list_of_postures_to_take].sum(axis=1)"
      ],
      "metadata": {
        "id": "g25bJCyC4k49"
      },
      "id": "g25bJCyC4k49",
      "execution_count": 21,
      "outputs": []
    },
    {
      "cell_type": "code",
      "source": [
        "### Take only those records which have count of selected classes > 0\n",
        "train_df_with_selected_classes = train_df_with_classes_selected[train_df_with_classes_selected['sum_of_selected_targets']>0]"
      ],
      "metadata": {
        "id": "77sR7B1N5vhb"
      },
      "id": "77sR7B1N5vhb",
      "execution_count": 22,
      "outputs": []
    },
    {
      "cell_type": "code",
      "source": [],
      "metadata": {
        "id": "qrsPSiRj5v06"
      },
      "id": "qrsPSiRj5v06",
      "execution_count": 22,
      "outputs": []
    },
    {
      "cell_type": "markdown",
      "source": [
        "Define list of target classes from training dataset"
      ],
      "metadata": {
        "id": "VY42WJVLKJWa"
      },
      "id": "VY42WJVLKJWa"
    },
    {
      "cell_type": "code",
      "execution_count": 23,
      "id": "2ce0f10c-8474-4e0a-ac0a-423f36dce5d4",
      "metadata": {
        "id": "2ce0f10c-8474-4e0a-ac0a-423f36dce5d4"
      },
      "outputs": [],
      "source": [
        "target_list = [col_name for col_name in train_df_with_selected_classes.columns if  \"class_\" in col_name]"
      ]
    },
    {
      "cell_type": "code",
      "source": [
        "target_list"
      ],
      "metadata": {
        "colab": {
          "base_uri": "https://localhost:8080/"
        },
        "id": "MCF_pOgC6PzX",
        "outputId": "2f3c77fb-7ba6-43f7-bf7f-89cdb50337d9"
      },
      "id": "MCF_pOgC6PzX",
      "execution_count": 24,
      "outputs": [
        {
          "output_type": "execute_result",
          "data": {
            "text/plain": [
              "['class_On Appeal',\n",
              " 'class_Appellate Review',\n",
              " 'class_Review of Administrative Decision',\n",
              " 'class_Motion to Dismiss',\n",
              " 'class_Sentencing or Penalty Phase Motion or Objection',\n",
              " 'class_Trial or Guilt Phase Motion or Objection',\n",
              " \"class_Motion for Attorney's Fees\",\n",
              " 'class_Post-Trial Hearing Motion',\n",
              " 'class_Motion for Preliminary Injunction',\n",
              " 'class_Motion to Dismiss for Lack of Subject Matter Jurisdiction']"
            ]
          },
          "metadata": {},
          "execution_count": 24
        }
      ]
    },
    {
      "cell_type": "markdown",
      "source": [
        "Install nltk package for data processing"
      ],
      "metadata": {
        "id": "8dWYNEFN6PYV"
      },
      "id": "8dWYNEFN6PYV"
    },
    {
      "cell_type": "code",
      "execution_count": 25,
      "id": "0f61affb-1469-43a5-b732-33bd4ab2b62c",
      "metadata": {
        "collapsed": true,
        "jupyter": {
          "outputs_hidden": true
        },
        "tags": [],
        "colab": {
          "base_uri": "https://localhost:8080/"
        },
        "id": "0f61affb-1469-43a5-b732-33bd4ab2b62c",
        "outputId": "e9296891-1b29-4467-e2d5-e746df6dde8b"
      },
      "outputs": [
        {
          "output_type": "stream",
          "name": "stdout",
          "text": [
            "Requirement already satisfied: nltk in /usr/local/lib/python3.10/dist-packages (3.8.1)\n",
            "Requirement already satisfied: click in /usr/local/lib/python3.10/dist-packages (from nltk) (8.1.7)\n",
            "Requirement already satisfied: joblib in /usr/local/lib/python3.10/dist-packages (from nltk) (1.3.2)\n",
            "Requirement already satisfied: regex>=2021.8.3 in /usr/local/lib/python3.10/dist-packages (from nltk) (2023.6.3)\n",
            "Requirement already satisfied: tqdm in /usr/local/lib/python3.10/dist-packages (from nltk) (4.66.1)\n"
          ]
        }
      ],
      "source": [
        "!pip install nltk"
      ]
    },
    {
      "cell_type": "markdown",
      "source": [
        "Define nltk wordnet lemmatizer"
      ],
      "metadata": {
        "id": "KjM2Peh0KRAC"
      },
      "id": "KjM2Peh0KRAC"
    },
    {
      "cell_type": "code",
      "execution_count": 43,
      "id": "2890bab3-d944-4f41-ad8d-a588e712da18",
      "metadata": {
        "colab": {
          "base_uri": "https://localhost:8080/"
        },
        "id": "2890bab3-d944-4f41-ad8d-a588e712da18",
        "outputId": "24ab339d-f647-40d7-97d6-232fb8f4aabf"
      },
      "outputs": [
        {
          "output_type": "stream",
          "name": "stderr",
          "text": [
            "[nltk_data] Downloading package wordnet to /root/nltk_data...\n",
            "[nltk_data]   Package wordnet is already up-to-date!\n",
            "[nltk_data] Downloading package stopwords to /root/nltk_data...\n",
            "[nltk_data]   Package stopwords is already up-to-date!\n"
          ]
        }
      ],
      "source": [
        "import nltk\n",
        "nltk.download('wordnet')\n",
        "nltk.download('stopwords')\n",
        "from nltk.corpus import stopwords\n",
        "from nltk.stem import WordNetLemmatizer"
      ]
    },
    {
      "cell_type": "markdown",
      "source": [
        "Define function to lemmatize text"
      ],
      "metadata": {
        "id": "p86FnW9EKdjE"
      },
      "id": "p86FnW9EKdjE"
    },
    {
      "cell_type": "code",
      "execution_count": 27,
      "id": "9301fb66-196e-4e7b-bdb5-44e71941f189",
      "metadata": {
        "id": "9301fb66-196e-4e7b-bdb5-44e71941f189"
      },
      "outputs": [],
      "source": [
        "def lemmatize_model(text):\n",
        "  lemmatizer = WordNetLemmatizer()\n",
        "  lemma_text = text.split()\n",
        "  lemmatize_list = []\n",
        "  for word in lemma_text:\n",
        "    lemmatize_list.append(lemmatizer.lemmatize(word,pos='v'))\n",
        "  lemma_text_out =  \" \".join([token for token in lemmatize_list])\n",
        "  return lemma_text_out\n"
      ]
    },
    {
      "cell_type": "markdown",
      "source": [
        "Install neattext package for text cleansing"
      ],
      "metadata": {
        "id": "y_jZYfBMKhqg"
      },
      "id": "y_jZYfBMKhqg"
    },
    {
      "cell_type": "code",
      "execution_count": 28,
      "id": "17d012d5-7ffa-438a-9604-c358398bf17f",
      "metadata": {
        "colab": {
          "base_uri": "https://localhost:8080/"
        },
        "id": "17d012d5-7ffa-438a-9604-c358398bf17f",
        "outputId": "f517b5aa-c203-47b4-f108-cd1782424af1"
      },
      "outputs": [
        {
          "output_type": "stream",
          "name": "stdout",
          "text": [
            "Collecting neattext\n",
            "  Downloading neattext-0.1.3-py3-none-any.whl (114 kB)\n",
            "\u001b[2K     \u001b[90m━━━━━━━━━━━━━━━━━━━━━━━━━━━━━━━━━━━━━━━━\u001b[0m \u001b[32m114.7/114.7 kB\u001b[0m \u001b[31m1.9 MB/s\u001b[0m eta \u001b[36m0:00:00\u001b[0m\n",
            "\u001b[?25hInstalling collected packages: neattext\n",
            "Successfully installed neattext-0.1.3\n"
          ]
        }
      ],
      "source": [
        "!pip install neattext\n"
      ]
    },
    {
      "cell_type": "code",
      "execution_count": 29,
      "id": "90bba009-7e61-4d4d-86c8-64bc3c3664e8",
      "metadata": {
        "id": "90bba009-7e61-4d4d-86c8-64bc3c3664e8"
      },
      "outputs": [],
      "source": [
        "import neattext as nt\n",
        "import neattext.functions as nfx"
      ]
    },
    {
      "cell_type": "markdown",
      "source": [
        "Apply text cleansing and lemmatizer\n",
        "Create training text and targets"
      ],
      "metadata": {
        "id": "xhGtyPupL698"
      },
      "id": "xhGtyPupL698"
    },
    {
      "cell_type": "code",
      "execution_count": 36,
      "id": "27842ae7-7f78-4122-ab56-94e8886d36eb",
      "metadata": {
        "colab": {
          "base_uri": "https://localhost:8080/"
        },
        "id": "27842ae7-7f78-4122-ab56-94e8886d36eb",
        "outputId": "c6e0b129-0127-48dd-bf8e-67c9d4e6ff6b"
      },
      "outputs": [
        {
          "output_type": "stream",
          "name": "stderr",
          "text": [
            "<ipython-input-36-4839cca66f8f>:1: SettingWithCopyWarning: \n",
            "A value is trying to be set on a copy of a slice from a DataFrame.\n",
            "Try using .loc[row_indexer,col_indexer] = value instead\n",
            "\n",
            "See the caveats in the documentation: https://pandas.pydata.org/pandas-docs/stable/user_guide/indexing.html#returning-a-view-versus-a-copy\n",
            "  train_df_with_selected_classes['sections_limited'] = train_df_with_selected_classes['sections_limited'].apply(nfx.remove_stopwords)\n",
            "<ipython-input-36-4839cca66f8f>:2: SettingWithCopyWarning: \n",
            "A value is trying to be set on a copy of a slice from a DataFrame.\n",
            "Try using .loc[row_indexer,col_indexer] = value instead\n",
            "\n",
            "See the caveats in the documentation: https://pandas.pydata.org/pandas-docs/stable/user_guide/indexing.html#returning-a-view-versus-a-copy\n",
            "  train_df_with_selected_classes['sections_limited'] = train_df_with_selected_classes['sections_limited'].apply(nfx.remove_puncts)\n",
            "<ipython-input-36-4839cca66f8f>:3: SettingWithCopyWarning: \n",
            "A value is trying to be set on a copy of a slice from a DataFrame.\n",
            "Try using .loc[row_indexer,col_indexer] = value instead\n",
            "\n",
            "See the caveats in the documentation: https://pandas.pydata.org/pandas-docs/stable/user_guide/indexing.html#returning-a-view-versus-a-copy\n",
            "  train_df_with_selected_classes['sections_limited'] = train_df_with_selected_classes['sections_limited'].apply(lemmatize_model)\n"
          ]
        }
      ],
      "source": [
        "train_df_with_selected_classes['sections_limited'] = train_df_with_selected_classes['sections_limited'].apply(nfx.remove_stopwords)\n",
        "train_df_with_selected_classes['sections_limited'] = train_df_with_selected_classes['sections_limited'].apply(nfx.remove_puncts)\n",
        "train_df_with_selected_classes['sections_limited'] = train_df_with_selected_classes['sections_limited'].apply(lemmatize_model)\n",
        "\n",
        "X = train_df_with_selected_classes['sections_limited']\n",
        "y = train_df_with_selected_classes[target_list]\n"
      ]
    },
    {
      "cell_type": "markdown",
      "source": [
        "Create train test split"
      ],
      "metadata": {
        "id": "sfItevHhMB_V"
      },
      "id": "sfItevHhMB_V"
    },
    {
      "cell_type": "code",
      "source": [
        "\n",
        "from sklearn.model_selection import train_test_split\n",
        "X_train,X_test,y_train,y_test = train_test_split(X,y,test_size=0.2,random_state=42)\n"
      ],
      "metadata": {
        "id": "VeN913766n9y"
      },
      "id": "VeN913766n9y",
      "execution_count": 37,
      "outputs": []
    },
    {
      "cell_type": "code",
      "execution_count": 40,
      "id": "bba16952-dfac-4c4d-ad7d-d1610626a847",
      "metadata": {
        "id": "bba16952-dfac-4c4d-ad7d-d1610626a847"
      },
      "outputs": [],
      "source": []
    },
    {
      "cell_type": "markdown",
      "source": [
        "### The model will be trained using tfidf method. Hence would need to vectorize and then convert to tfidf"
      ],
      "metadata": {
        "id": "pK2T0qhQMGMV"
      },
      "id": "pK2T0qhQMGMV"
    },
    {
      "cell_type": "code",
      "execution_count": 38,
      "id": "475d4011-1cb0-473a-8c60-1404458fad92",
      "metadata": {
        "id": "475d4011-1cb0-473a-8c60-1404458fad92"
      },
      "outputs": [],
      "source": [
        "from sklearn.feature_extraction.text import CountVectorizer, TfidfTransformer"
      ]
    },
    {
      "cell_type": "markdown",
      "source": [
        "In order to create tfidf - take the words which\n",
        "  1. Appears at least 30 times in the whole corpus\n",
        "  2. Does not appear in more than 20% of documents (to ensure we are not taking too common words\n",
        "\n",
        "  Note - These bounds are purely based on assumption - no specific analysis is done at this level. May be further can fine tune these for real project"
      ],
      "metadata": {
        "id": "fuFbm-H1MXQC"
      },
      "id": "fuFbm-H1MXQC"
    },
    {
      "cell_type": "code",
      "execution_count": 48,
      "id": "1ebcc8f7-62f3-4f65-b456-132e5f1b1fdf",
      "metadata": {
        "id": "1ebcc8f7-62f3-4f65-b456-132e5f1b1fdf"
      },
      "outputs": [],
      "source": [
        "max_features_in = None\n",
        "min_df_in = 30\n",
        "max_df_in = 0.2"
      ]
    },
    {
      "cell_type": "markdown",
      "source": [
        "Create and fit vectorizer"
      ],
      "metadata": {
        "id": "wi6QNKFLNhAL"
      },
      "id": "wi6QNKFLNhAL"
    },
    {
      "cell_type": "code",
      "execution_count": 49,
      "id": "2881212b-4c32-4259-ab15-985c1c20bfc3",
      "metadata": {
        "id": "2881212b-4c32-4259-ab15-985c1c20bfc3"
      },
      "outputs": [],
      "source": [
        "vectorizer = CountVectorizer(max_features=max_features_in, min_df=min_df_in, max_df=max_df_in, stop_words=stopwords.words('english'))"
      ]
    },
    {
      "cell_type": "code",
      "execution_count": 50,
      "id": "35427094-bc07-4a6f-a818-c77d39048bde",
      "metadata": {
        "colab": {
          "base_uri": "https://localhost:8080/",
          "height": 179
        },
        "id": "35427094-bc07-4a6f-a818-c77d39048bde",
        "outputId": "1da77d9a-271b-4f37-8e1f-38560098a072"
      },
      "outputs": [
        {
          "output_type": "execute_result",
          "data": {
            "text/plain": [
              "CountVectorizer(max_df=0.2, min_df=30,\n",
              "                stop_words=['i', 'me', 'my', 'myself', 'we', 'our', 'ours',\n",
              "                            'ourselves', 'you', \"you're\", \"you've\", \"you'll\",\n",
              "                            \"you'd\", 'your', 'yours', 'yourself', 'yourselves',\n",
              "                            'he', 'him', 'his', 'himself', 'she', \"she's\",\n",
              "                            'her', 'hers', 'herself', 'it', \"it's\", 'its',\n",
              "                            'itself', ...])"
            ],
            "text/html": [
              "<style>#sk-container-id-2 {color: black;background-color: white;}#sk-container-id-2 pre{padding: 0;}#sk-container-id-2 div.sk-toggleable {background-color: white;}#sk-container-id-2 label.sk-toggleable__label {cursor: pointer;display: block;width: 100%;margin-bottom: 0;padding: 0.3em;box-sizing: border-box;text-align: center;}#sk-container-id-2 label.sk-toggleable__label-arrow:before {content: \"▸\";float: left;margin-right: 0.25em;color: #696969;}#sk-container-id-2 label.sk-toggleable__label-arrow:hover:before {color: black;}#sk-container-id-2 div.sk-estimator:hover label.sk-toggleable__label-arrow:before {color: black;}#sk-container-id-2 div.sk-toggleable__content {max-height: 0;max-width: 0;overflow: hidden;text-align: left;background-color: #f0f8ff;}#sk-container-id-2 div.sk-toggleable__content pre {margin: 0.2em;color: black;border-radius: 0.25em;background-color: #f0f8ff;}#sk-container-id-2 input.sk-toggleable__control:checked~div.sk-toggleable__content {max-height: 200px;max-width: 100%;overflow: auto;}#sk-container-id-2 input.sk-toggleable__control:checked~label.sk-toggleable__label-arrow:before {content: \"▾\";}#sk-container-id-2 div.sk-estimator input.sk-toggleable__control:checked~label.sk-toggleable__label {background-color: #d4ebff;}#sk-container-id-2 div.sk-label input.sk-toggleable__control:checked~label.sk-toggleable__label {background-color: #d4ebff;}#sk-container-id-2 input.sk-hidden--visually {border: 0;clip: rect(1px 1px 1px 1px);clip: rect(1px, 1px, 1px, 1px);height: 1px;margin: -1px;overflow: hidden;padding: 0;position: absolute;width: 1px;}#sk-container-id-2 div.sk-estimator {font-family: monospace;background-color: #f0f8ff;border: 1px dotted black;border-radius: 0.25em;box-sizing: border-box;margin-bottom: 0.5em;}#sk-container-id-2 div.sk-estimator:hover {background-color: #d4ebff;}#sk-container-id-2 div.sk-parallel-item::after {content: \"\";width: 100%;border-bottom: 1px solid gray;flex-grow: 1;}#sk-container-id-2 div.sk-label:hover label.sk-toggleable__label {background-color: #d4ebff;}#sk-container-id-2 div.sk-serial::before {content: \"\";position: absolute;border-left: 1px solid gray;box-sizing: border-box;top: 0;bottom: 0;left: 50%;z-index: 0;}#sk-container-id-2 div.sk-serial {display: flex;flex-direction: column;align-items: center;background-color: white;padding-right: 0.2em;padding-left: 0.2em;position: relative;}#sk-container-id-2 div.sk-item {position: relative;z-index: 1;}#sk-container-id-2 div.sk-parallel {display: flex;align-items: stretch;justify-content: center;background-color: white;position: relative;}#sk-container-id-2 div.sk-item::before, #sk-container-id-2 div.sk-parallel-item::before {content: \"\";position: absolute;border-left: 1px solid gray;box-sizing: border-box;top: 0;bottom: 0;left: 50%;z-index: -1;}#sk-container-id-2 div.sk-parallel-item {display: flex;flex-direction: column;z-index: 1;position: relative;background-color: white;}#sk-container-id-2 div.sk-parallel-item:first-child::after {align-self: flex-end;width: 50%;}#sk-container-id-2 div.sk-parallel-item:last-child::after {align-self: flex-start;width: 50%;}#sk-container-id-2 div.sk-parallel-item:only-child::after {width: 0;}#sk-container-id-2 div.sk-dashed-wrapped {border: 1px dashed gray;margin: 0 0.4em 0.5em 0.4em;box-sizing: border-box;padding-bottom: 0.4em;background-color: white;}#sk-container-id-2 div.sk-label label {font-family: monospace;font-weight: bold;display: inline-block;line-height: 1.2em;}#sk-container-id-2 div.sk-label-container {text-align: center;}#sk-container-id-2 div.sk-container {/* jupyter's `normalize.less` sets `[hidden] { display: none; }` but bootstrap.min.css set `[hidden] { display: none !important; }` so we also need the `!important` here to be able to override the default hidden behavior on the sphinx rendered scikit-learn.org. See: https://github.com/scikit-learn/scikit-learn/issues/21755 */display: inline-block !important;position: relative;}#sk-container-id-2 div.sk-text-repr-fallback {display: none;}</style><div id=\"sk-container-id-2\" class=\"sk-top-container\"><div class=\"sk-text-repr-fallback\"><pre>CountVectorizer(max_df=0.2, min_df=30,\n",
              "                stop_words=[&#x27;i&#x27;, &#x27;me&#x27;, &#x27;my&#x27;, &#x27;myself&#x27;, &#x27;we&#x27;, &#x27;our&#x27;, &#x27;ours&#x27;,\n",
              "                            &#x27;ourselves&#x27;, &#x27;you&#x27;, &quot;you&#x27;re&quot;, &quot;you&#x27;ve&quot;, &quot;you&#x27;ll&quot;,\n",
              "                            &quot;you&#x27;d&quot;, &#x27;your&#x27;, &#x27;yours&#x27;, &#x27;yourself&#x27;, &#x27;yourselves&#x27;,\n",
              "                            &#x27;he&#x27;, &#x27;him&#x27;, &#x27;his&#x27;, &#x27;himself&#x27;, &#x27;she&#x27;, &quot;she&#x27;s&quot;,\n",
              "                            &#x27;her&#x27;, &#x27;hers&#x27;, &#x27;herself&#x27;, &#x27;it&#x27;, &quot;it&#x27;s&quot;, &#x27;its&#x27;,\n",
              "                            &#x27;itself&#x27;, ...])</pre><b>In a Jupyter environment, please rerun this cell to show the HTML representation or trust the notebook. <br />On GitHub, the HTML representation is unable to render, please try loading this page with nbviewer.org.</b></div><div class=\"sk-container\" hidden><div class=\"sk-item\"><div class=\"sk-estimator sk-toggleable\"><input class=\"sk-toggleable__control sk-hidden--visually\" id=\"sk-estimator-id-2\" type=\"checkbox\" checked><label for=\"sk-estimator-id-2\" class=\"sk-toggleable__label sk-toggleable__label-arrow\">CountVectorizer</label><div class=\"sk-toggleable__content\"><pre>CountVectorizer(max_df=0.2, min_df=30,\n",
              "                stop_words=[&#x27;i&#x27;, &#x27;me&#x27;, &#x27;my&#x27;, &#x27;myself&#x27;, &#x27;we&#x27;, &#x27;our&#x27;, &#x27;ours&#x27;,\n",
              "                            &#x27;ourselves&#x27;, &#x27;you&#x27;, &quot;you&#x27;re&quot;, &quot;you&#x27;ve&quot;, &quot;you&#x27;ll&quot;,\n",
              "                            &quot;you&#x27;d&quot;, &#x27;your&#x27;, &#x27;yours&#x27;, &#x27;yourself&#x27;, &#x27;yourselves&#x27;,\n",
              "                            &#x27;he&#x27;, &#x27;him&#x27;, &#x27;his&#x27;, &#x27;himself&#x27;, &#x27;she&#x27;, &quot;she&#x27;s&quot;,\n",
              "                            &#x27;her&#x27;, &#x27;hers&#x27;, &#x27;herself&#x27;, &#x27;it&#x27;, &quot;it&#x27;s&quot;, &#x27;its&#x27;,\n",
              "                            &#x27;itself&#x27;, ...])</pre></div></div></div></div></div>"
            ]
          },
          "metadata": {},
          "execution_count": 50
        }
      ],
      "source": [
        "vectorizer.fit(X_train)"
      ]
    },
    {
      "cell_type": "markdown",
      "source": [
        "Transform training samples using vectorizer"
      ],
      "metadata": {
        "id": "szD5574dNj7y"
      },
      "id": "szD5574dNj7y"
    },
    {
      "cell_type": "code",
      "execution_count": 51,
      "id": "e2e3b7d5-61d2-40fc-a6a0-cb083c3feb49",
      "metadata": {
        "id": "e2e3b7d5-61d2-40fc-a6a0-cb083c3feb49"
      },
      "outputs": [],
      "source": [
        "X_train_vectored = vectorizer.transform(X_train)\n"
      ]
    },
    {
      "cell_type": "code",
      "execution_count": 52,
      "id": "2cbfef25-d4bc-48e9-99fa-c8d45d3e4b9b",
      "metadata": {
        "colab": {
          "base_uri": "https://localhost:8080/"
        },
        "id": "2cbfef25-d4bc-48e9-99fa-c8d45d3e4b9b",
        "outputId": "dfae2229-1416-4e46-9039-1e633d9cce6c"
      },
      "outputs": [
        {
          "output_type": "execute_result",
          "data": {
            "text/plain": [
              "(12912, 6703)"
            ]
          },
          "metadata": {},
          "execution_count": 52
        }
      ],
      "source": [
        "X_train_vectored.shape"
      ]
    },
    {
      "cell_type": "markdown",
      "source": [
        "Transform testing samples using vectorizer"
      ],
      "metadata": {
        "id": "xWZCbiZqNqLp"
      },
      "id": "xWZCbiZqNqLp"
    },
    {
      "cell_type": "code",
      "execution_count": 55,
      "id": "a0abeb39-5249-4a41-80f0-6a6e6496418f",
      "metadata": {
        "id": "a0abeb39-5249-4a41-80f0-6a6e6496418f"
      },
      "outputs": [],
      "source": [
        "X_test_vectored = vectorizer.transform(X_test)"
      ]
    },
    {
      "cell_type": "markdown",
      "source": [
        "Fit and apply tfidf converter to training and testing data"
      ],
      "metadata": {
        "id": "dam-pQHXNtLi"
      },
      "id": "dam-pQHXNtLi"
    },
    {
      "cell_type": "code",
      "execution_count": 56,
      "id": "ebc86cfe-52b5-4607-b59c-4ac174893846",
      "metadata": {
        "id": "ebc86cfe-52b5-4607-b59c-4ac174893846"
      },
      "outputs": [],
      "source": [
        "tfidfconverter = TfidfTransformer()\n",
        "tfidfconverter.fit(X_train_vectored)\n",
        "X_train_tfidf = tfidfconverter.transform(X_train_vectored).toarray()\n",
        "X_test_tfidf = tfidfconverter.transform(X_test_vectored).toarray()\n"
      ]
    },
    {
      "cell_type": "code",
      "source": [
        "X_train_tfidf.shape"
      ],
      "metadata": {
        "colab": {
          "base_uri": "https://localhost:8080/"
        },
        "id": "9GhCkwbbKcSK",
        "outputId": "67337de2-303f-4d7e-f329-a03760699700"
      },
      "id": "9GhCkwbbKcSK",
      "execution_count": 57,
      "outputs": [
        {
          "output_type": "execute_result",
          "data": {
            "text/plain": [
              "(12912, 6703)"
            ]
          },
          "metadata": {},
          "execution_count": 57
        }
      ]
    },
    {
      "cell_type": "markdown",
      "source": [
        "# Define binary classficiation using multinomial naive bayes"
      ],
      "metadata": {
        "id": "NikEoKIyOG4H"
      },
      "id": "NikEoKIyOG4H"
    },
    {
      "cell_type": "code",
      "execution_count": 59,
      "id": "2239da76-1f1d-4376-ae6f-ee5d1a6d2130",
      "metadata": {
        "id": "2239da76-1f1d-4376-ae6f-ee5d1a6d2130"
      },
      "outputs": [],
      "source": [
        "\n",
        "\n",
        "binary_rel_clf = BinaryRelevance(MultinomialNB())"
      ]
    },
    {
      "cell_type": "code",
      "source": [
        "import time"
      ],
      "metadata": {
        "id": "APtUY6_MPpZp"
      },
      "id": "APtUY6_MPpZp",
      "execution_count": 60,
      "outputs": []
    },
    {
      "cell_type": "markdown",
      "source": [
        "Fit the model and log the time taken"
      ],
      "metadata": {
        "id": "Ax-jaTbfOKCs"
      },
      "id": "Ax-jaTbfOKCs"
    },
    {
      "cell_type": "code",
      "execution_count": 61,
      "id": "7a82000e-dee3-4e52-9348-dc1818b28b28",
      "metadata": {
        "id": "7a82000e-dee3-4e52-9348-dc1818b28b28"
      },
      "outputs": [],
      "source": [
        "start_time = time.time()\n",
        "binary_rel_clf.fit(X_train_tfidf,y_train)\n",
        "end_time = time.time()\n",
        "\n"
      ]
    },
    {
      "cell_type": "markdown",
      "source": [
        "Run predictions on test data"
      ],
      "metadata": {
        "id": "hAPELCOUONnL"
      },
      "id": "hAPELCOUONnL"
    },
    {
      "cell_type": "code",
      "execution_count": 62,
      "id": "cac77e72-498d-4f59-a5bf-40d9539e29e4",
      "metadata": {
        "id": "cac77e72-498d-4f59-a5bf-40d9539e29e4"
      },
      "outputs": [],
      "source": [
        "br_prediction = binary_rel_clf.predict(X_test_tfidf)"
      ]
    },
    {
      "cell_type": "code",
      "source": [
        "X_test_tfidf.shape"
      ],
      "metadata": {
        "colab": {
          "base_uri": "https://localhost:8080/"
        },
        "id": "zGrcOroJM-jU",
        "outputId": "8712c361-5519-44c3-e968-d18c4d9719d7"
      },
      "id": "zGrcOroJM-jU",
      "execution_count": 63,
      "outputs": [
        {
          "output_type": "execute_result",
          "data": {
            "text/plain": [
              "(3228, 6703)"
            ]
          },
          "metadata": {},
          "execution_count": 63
        }
      ]
    },
    {
      "cell_type": "markdown",
      "source": [
        "Calculate metrics\n",
        "  - Accuracy and\n",
        "  - Hamming loss"
      ],
      "metadata": {
        "id": "AFCwZP8HOSHi"
      },
      "id": "AFCwZP8HOSHi"
    },
    {
      "cell_type": "code",
      "source": [
        "# Accuracy\n",
        "acc = accuracy_score(y_test,br_prediction)"
      ],
      "metadata": {
        "id": "JFvXBY51DYxv"
      },
      "id": "JFvXBY51DYxv",
      "execution_count": 64,
      "outputs": []
    },
    {
      "cell_type": "code",
      "source": [
        "# hamming loss\n",
        "hm_loss = hamming_loss(y_test,br_prediction)\n"
      ],
      "metadata": {
        "id": "iC0jl0Oo-OAZ"
      },
      "id": "iC0jl0Oo-OAZ",
      "execution_count": 65,
      "outputs": []
    },
    {
      "cell_type": "code",
      "source": [],
      "metadata": {
        "colab": {
          "base_uri": "https://localhost:8080/"
        },
        "id": "_znxzfkjRkeK",
        "outputId": "fa0fd73d-9835-4821-b4e1-9cb49d9603c4"
      },
      "id": "_znxzfkjRkeK",
      "execution_count": 66,
      "outputs": [
        {
          "output_type": "stream",
          "name": "stdout",
          "text": [
            "train with words which are having : \n",
            " 30 entries at least \n",
            " resulting in vectorizer size = 6703\n",
            " time taken =  14.909835577011108\n",
            " accuracy = 0.5442998760842627\n",
            " hamming loss = 0.06105947955390335\n"
          ]
        }
      ]
    },
    {
      "cell_type": "code",
      "source": [
        "predictions_test = pd.DataFrame(br_prediction.toarray(),columns = y_test.columns)"
      ],
      "metadata": {
        "id": "TBPZOWjdGIA1"
      },
      "id": "TBPZOWjdGIA1",
      "execution_count": 99,
      "outputs": []
    },
    {
      "cell_type": "code",
      "source": [
        "# Create a new DataFrame with lists of columns containing 1s in each row\n",
        "predictions_test_as_list = predictions_test.apply(lambda row: predictions_test.columns[row == 1].tolist(), axis=1)\n",
        "y_test_as_list = y_test.apply(lambda row: y_test.columns[row == 1].tolist(), axis=1)\n",
        "\n"
      ],
      "metadata": {
        "id": "0Bv4nkp9dUt2"
      },
      "id": "0Bv4nkp9dUt2",
      "execution_count": 115,
      "outputs": []
    },
    {
      "cell_type": "code",
      "source": [
        "predictions_test_as_list"
      ],
      "metadata": {
        "id": "boPOnHgNeoMn",
        "outputId": "3233625f-6045-4885-ac37-521f23aa8f69",
        "colab": {
          "base_uri": "https://localhost:8080/"
        }
      },
      "id": "boPOnHgNeoMn",
      "execution_count": 110,
      "outputs": [
        {
          "output_type": "execute_result",
          "data": {
            "text/plain": [
              "0                                       [class_On Appeal]\n",
              "1                                       [class_On Appeal]\n",
              "2                                       [class_On Appeal]\n",
              "3       [class_On Appeal, class_Review of Administrati...\n",
              "4       [class_Appellate Review, class_Trial or Guilt ...\n",
              "                              ...                        \n",
              "3223    [class_Appellate Review, class_Sentencing or P...\n",
              "3224                                    [class_On Appeal]\n",
              "3225                                    [class_On Appeal]\n",
              "3226           [class_On Appeal, class_Motion to Dismiss]\n",
              "3227    [class_Appellate Review, class_Sentencing or P...\n",
              "Length: 3228, dtype: object"
            ]
          },
          "metadata": {},
          "execution_count": 110
        }
      ]
    },
    {
      "cell_type": "code",
      "source": [
        "y_test_as_list.shape"
      ],
      "metadata": {
        "id": "bJSKFhYueqJi",
        "outputId": "924bcc5d-2c01-4460-b99e-c22680b69580",
        "colab": {
          "base_uri": "https://localhost:8080/"
        }
      },
      "id": "bJSKFhYueqJi",
      "execution_count": 107,
      "outputs": [
        {
          "output_type": "execute_result",
          "data": {
            "text/plain": [
              "(3228,)"
            ]
          },
          "metadata": {},
          "execution_count": 107
        }
      ]
    },
    {
      "cell_type": "code",
      "source": [
        "test_actuals_vs_predictions = pd.DataFrame(list(zip(y_test_as_list,predictions_test_as_list)),columns=[\"actuals\",\"predictions\"])"
      ],
      "metadata": {
        "id": "cGJLgEbVeLjK"
      },
      "id": "cGJLgEbVeLjK",
      "execution_count": 130,
      "outputs": []
    },
    {
      "cell_type": "code",
      "source": [
        "from sklearn.metrics import jaccard_score"
      ],
      "metadata": {
        "id": "4tznU-WzhGLZ"
      },
      "id": "4tznU-WzhGLZ",
      "execution_count": 131,
      "outputs": []
    },
    {
      "cell_type": "code",
      "source": [
        "# Define a function to calculate Jaccard similarity\n",
        "def calculate_jaccard_similarity(list1, list2):\n",
        "    set1 = set(list1)\n",
        "    set2 = set(list2)\n",
        "    if len(set1) == 0 and len(set2) == 0:\n",
        "        return 0  # Jaccard similarity is 0 for empty sets\n",
        "    return len(set1.intersection(set2)) / len(set1.union(set2))"
      ],
      "metadata": {
        "id": "q6uLICUrhKJy"
      },
      "id": "q6uLICUrhKJy",
      "execution_count": 133,
      "outputs": []
    },
    {
      "cell_type": "code",
      "source": [
        "test_actuals_vs_predictions['jaccard_similarity'] = test_actuals_vs_predictions.apply(lambda row: calculate_jaccard_similarity(row['actuals'], row['predictions']), axis=1)"
      ],
      "metadata": {
        "id": "X8LpWps6ehx-"
      },
      "id": "X8LpWps6ehx-",
      "execution_count": 136,
      "outputs": []
    },
    {
      "cell_type": "code",
      "source": [
        "test_actuals_vs_predictions"
      ],
      "metadata": {
        "id": "k3LzRjCLgsVE",
        "outputId": "e02d16e3-cbb1-469f-8137-3821c4f834a0",
        "colab": {
          "base_uri": "https://localhost:8080/",
          "height": 528
        }
      },
      "id": "k3LzRjCLgsVE",
      "execution_count": 137,
      "outputs": [
        {
          "output_type": "execute_result",
          "data": {
            "text/plain": [
              "                                                actuals  \\\n",
              "0                                     [class_On Appeal]   \n",
              "1                                     [class_On Appeal]   \n",
              "2     [class_On Appeal, class_Motion for Attorney's ...   \n",
              "3     [class_On Appeal, class_Review of Administrati...   \n",
              "4     [class_Appellate Review, class_Trial or Guilt ...   \n",
              "...                                                 ...   \n",
              "3223  [class_Sentencing or Penalty Phase Motion or O...   \n",
              "3224                                  [class_On Appeal]   \n",
              "3225  [class_On Appeal, class_Motion for Attorney's ...   \n",
              "3226         [class_On Appeal, class_Motion to Dismiss]   \n",
              "3227  [class_Appellate Review, class_Sentencing or P...   \n",
              "\n",
              "                                            predictions  jaccard_similarity  \n",
              "0                                     [class_On Appeal]                 1.0  \n",
              "1                                     [class_On Appeal]                 1.0  \n",
              "2                                     [class_On Appeal]                 0.5  \n",
              "3     [class_On Appeal, class_Review of Administrati...                 1.0  \n",
              "4     [class_Appellate Review, class_Trial or Guilt ...                 1.0  \n",
              "...                                                 ...                 ...  \n",
              "3223  [class_Appellate Review, class_Sentencing or P...                 0.5  \n",
              "3224                                  [class_On Appeal]                 1.0  \n",
              "3225                                  [class_On Appeal]                 0.5  \n",
              "3226         [class_On Appeal, class_Motion to Dismiss]                 1.0  \n",
              "3227  [class_Appellate Review, class_Sentencing or P...                 1.0  \n",
              "\n",
              "[3228 rows x 3 columns]"
            ],
            "text/html": [
              "\n",
              "  <div id=\"df-525f68c4-f342-4913-bd77-7c505d165eab\" class=\"colab-df-container\">\n",
              "    <div>\n",
              "<style scoped>\n",
              "    .dataframe tbody tr th:only-of-type {\n",
              "        vertical-align: middle;\n",
              "    }\n",
              "\n",
              "    .dataframe tbody tr th {\n",
              "        vertical-align: top;\n",
              "    }\n",
              "\n",
              "    .dataframe thead th {\n",
              "        text-align: right;\n",
              "    }\n",
              "</style>\n",
              "<table border=\"1\" class=\"dataframe\">\n",
              "  <thead>\n",
              "    <tr style=\"text-align: right;\">\n",
              "      <th></th>\n",
              "      <th>actuals</th>\n",
              "      <th>predictions</th>\n",
              "      <th>jaccard_similarity</th>\n",
              "    </tr>\n",
              "  </thead>\n",
              "  <tbody>\n",
              "    <tr>\n",
              "      <th>0</th>\n",
              "      <td>[class_On Appeal]</td>\n",
              "      <td>[class_On Appeal]</td>\n",
              "      <td>1.0</td>\n",
              "    </tr>\n",
              "    <tr>\n",
              "      <th>1</th>\n",
              "      <td>[class_On Appeal]</td>\n",
              "      <td>[class_On Appeal]</td>\n",
              "      <td>1.0</td>\n",
              "    </tr>\n",
              "    <tr>\n",
              "      <th>2</th>\n",
              "      <td>[class_On Appeal, class_Motion for Attorney's ...</td>\n",
              "      <td>[class_On Appeal]</td>\n",
              "      <td>0.5</td>\n",
              "    </tr>\n",
              "    <tr>\n",
              "      <th>3</th>\n",
              "      <td>[class_On Appeal, class_Review of Administrati...</td>\n",
              "      <td>[class_On Appeal, class_Review of Administrati...</td>\n",
              "      <td>1.0</td>\n",
              "    </tr>\n",
              "    <tr>\n",
              "      <th>4</th>\n",
              "      <td>[class_Appellate Review, class_Trial or Guilt ...</td>\n",
              "      <td>[class_Appellate Review, class_Trial or Guilt ...</td>\n",
              "      <td>1.0</td>\n",
              "    </tr>\n",
              "    <tr>\n",
              "      <th>...</th>\n",
              "      <td>...</td>\n",
              "      <td>...</td>\n",
              "      <td>...</td>\n",
              "    </tr>\n",
              "    <tr>\n",
              "      <th>3223</th>\n",
              "      <td>[class_Sentencing or Penalty Phase Motion or O...</td>\n",
              "      <td>[class_Appellate Review, class_Sentencing or P...</td>\n",
              "      <td>0.5</td>\n",
              "    </tr>\n",
              "    <tr>\n",
              "      <th>3224</th>\n",
              "      <td>[class_On Appeal]</td>\n",
              "      <td>[class_On Appeal]</td>\n",
              "      <td>1.0</td>\n",
              "    </tr>\n",
              "    <tr>\n",
              "      <th>3225</th>\n",
              "      <td>[class_On Appeal, class_Motion for Attorney's ...</td>\n",
              "      <td>[class_On Appeal]</td>\n",
              "      <td>0.5</td>\n",
              "    </tr>\n",
              "    <tr>\n",
              "      <th>3226</th>\n",
              "      <td>[class_On Appeal, class_Motion to Dismiss]</td>\n",
              "      <td>[class_On Appeal, class_Motion to Dismiss]</td>\n",
              "      <td>1.0</td>\n",
              "    </tr>\n",
              "    <tr>\n",
              "      <th>3227</th>\n",
              "      <td>[class_Appellate Review, class_Sentencing or P...</td>\n",
              "      <td>[class_Appellate Review, class_Sentencing or P...</td>\n",
              "      <td>1.0</td>\n",
              "    </tr>\n",
              "  </tbody>\n",
              "</table>\n",
              "<p>3228 rows × 3 columns</p>\n",
              "</div>\n",
              "    <div class=\"colab-df-buttons\">\n",
              "\n",
              "  <div class=\"colab-df-container\">\n",
              "    <button class=\"colab-df-convert\" onclick=\"convertToInteractive('df-525f68c4-f342-4913-bd77-7c505d165eab')\"\n",
              "            title=\"Convert this dataframe to an interactive table.\"\n",
              "            style=\"display:none;\">\n",
              "\n",
              "  <svg xmlns=\"http://www.w3.org/2000/svg\" height=\"24px\" viewBox=\"0 -960 960 960\">\n",
              "    <path d=\"M120-120v-720h720v720H120Zm60-500h600v-160H180v160Zm220 220h160v-160H400v160Zm0 220h160v-160H400v160ZM180-400h160v-160H180v160Zm440 0h160v-160H620v160ZM180-180h160v-160H180v160Zm440 0h160v-160H620v160Z\"/>\n",
              "  </svg>\n",
              "    </button>\n",
              "\n",
              "  <style>\n",
              "    .colab-df-container {\n",
              "      display:flex;\n",
              "      gap: 12px;\n",
              "    }\n",
              "\n",
              "    .colab-df-convert {\n",
              "      background-color: #E8F0FE;\n",
              "      border: none;\n",
              "      border-radius: 50%;\n",
              "      cursor: pointer;\n",
              "      display: none;\n",
              "      fill: #1967D2;\n",
              "      height: 32px;\n",
              "      padding: 0 0 0 0;\n",
              "      width: 32px;\n",
              "    }\n",
              "\n",
              "    .colab-df-convert:hover {\n",
              "      background-color: #E2EBFA;\n",
              "      box-shadow: 0px 1px 2px rgba(60, 64, 67, 0.3), 0px 1px 3px 1px rgba(60, 64, 67, 0.15);\n",
              "      fill: #174EA6;\n",
              "    }\n",
              "\n",
              "    .colab-df-buttons div {\n",
              "      margin-bottom: 4px;\n",
              "    }\n",
              "\n",
              "    [theme=dark] .colab-df-convert {\n",
              "      background-color: #3B4455;\n",
              "      fill: #D2E3FC;\n",
              "    }\n",
              "\n",
              "    [theme=dark] .colab-df-convert:hover {\n",
              "      background-color: #434B5C;\n",
              "      box-shadow: 0px 1px 3px 1px rgba(0, 0, 0, 0.15);\n",
              "      filter: drop-shadow(0px 1px 2px rgba(0, 0, 0, 0.3));\n",
              "      fill: #FFFFFF;\n",
              "    }\n",
              "  </style>\n",
              "\n",
              "    <script>\n",
              "      const buttonEl =\n",
              "        document.querySelector('#df-525f68c4-f342-4913-bd77-7c505d165eab button.colab-df-convert');\n",
              "      buttonEl.style.display =\n",
              "        google.colab.kernel.accessAllowed ? 'block' : 'none';\n",
              "\n",
              "      async function convertToInteractive(key) {\n",
              "        const element = document.querySelector('#df-525f68c4-f342-4913-bd77-7c505d165eab');\n",
              "        const dataTable =\n",
              "          await google.colab.kernel.invokeFunction('convertToInteractive',\n",
              "                                                    [key], {});\n",
              "        if (!dataTable) return;\n",
              "\n",
              "        const docLinkHtml = 'Like what you see? Visit the ' +\n",
              "          '<a target=\"_blank\" href=https://colab.research.google.com/notebooks/data_table.ipynb>data table notebook</a>'\n",
              "          + ' to learn more about interactive tables.';\n",
              "        element.innerHTML = '';\n",
              "        dataTable['output_type'] = 'display_data';\n",
              "        await google.colab.output.renderOutput(dataTable, element);\n",
              "        const docLink = document.createElement('div');\n",
              "        docLink.innerHTML = docLinkHtml;\n",
              "        element.appendChild(docLink);\n",
              "      }\n",
              "    </script>\n",
              "  </div>\n",
              "\n",
              "\n",
              "<div id=\"df-973e167e-ee3c-45da-b727-d778b8a615d6\">\n",
              "  <button class=\"colab-df-quickchart\" onclick=\"quickchart('df-973e167e-ee3c-45da-b727-d778b8a615d6')\"\n",
              "            title=\"Suggest charts.\"\n",
              "            style=\"display:none;\">\n",
              "\n",
              "<svg xmlns=\"http://www.w3.org/2000/svg\" height=\"24px\"viewBox=\"0 0 24 24\"\n",
              "     width=\"24px\">\n",
              "    <g>\n",
              "        <path d=\"M19 3H5c-1.1 0-2 .9-2 2v14c0 1.1.9 2 2 2h14c1.1 0 2-.9 2-2V5c0-1.1-.9-2-2-2zM9 17H7v-7h2v7zm4 0h-2V7h2v10zm4 0h-2v-4h2v4z\"/>\n",
              "    </g>\n",
              "</svg>\n",
              "  </button>\n",
              "\n",
              "<style>\n",
              "  .colab-df-quickchart {\n",
              "      --bg-color: #E8F0FE;\n",
              "      --fill-color: #1967D2;\n",
              "      --hover-bg-color: #E2EBFA;\n",
              "      --hover-fill-color: #174EA6;\n",
              "      --disabled-fill-color: #AAA;\n",
              "      --disabled-bg-color: #DDD;\n",
              "  }\n",
              "\n",
              "  [theme=dark] .colab-df-quickchart {\n",
              "      --bg-color: #3B4455;\n",
              "      --fill-color: #D2E3FC;\n",
              "      --hover-bg-color: #434B5C;\n",
              "      --hover-fill-color: #FFFFFF;\n",
              "      --disabled-bg-color: #3B4455;\n",
              "      --disabled-fill-color: #666;\n",
              "  }\n",
              "\n",
              "  .colab-df-quickchart {\n",
              "    background-color: var(--bg-color);\n",
              "    border: none;\n",
              "    border-radius: 50%;\n",
              "    cursor: pointer;\n",
              "    display: none;\n",
              "    fill: var(--fill-color);\n",
              "    height: 32px;\n",
              "    padding: 0;\n",
              "    width: 32px;\n",
              "  }\n",
              "\n",
              "  .colab-df-quickchart:hover {\n",
              "    background-color: var(--hover-bg-color);\n",
              "    box-shadow: 0 1px 2px rgba(60, 64, 67, 0.3), 0 1px 3px 1px rgba(60, 64, 67, 0.15);\n",
              "    fill: var(--button-hover-fill-color);\n",
              "  }\n",
              "\n",
              "  .colab-df-quickchart-complete:disabled,\n",
              "  .colab-df-quickchart-complete:disabled:hover {\n",
              "    background-color: var(--disabled-bg-color);\n",
              "    fill: var(--disabled-fill-color);\n",
              "    box-shadow: none;\n",
              "  }\n",
              "\n",
              "  .colab-df-spinner {\n",
              "    border: 2px solid var(--fill-color);\n",
              "    border-color: transparent;\n",
              "    border-bottom-color: var(--fill-color);\n",
              "    animation:\n",
              "      spin 1s steps(1) infinite;\n",
              "  }\n",
              "\n",
              "  @keyframes spin {\n",
              "    0% {\n",
              "      border-color: transparent;\n",
              "      border-bottom-color: var(--fill-color);\n",
              "      border-left-color: var(--fill-color);\n",
              "    }\n",
              "    20% {\n",
              "      border-color: transparent;\n",
              "      border-left-color: var(--fill-color);\n",
              "      border-top-color: var(--fill-color);\n",
              "    }\n",
              "    30% {\n",
              "      border-color: transparent;\n",
              "      border-left-color: var(--fill-color);\n",
              "      border-top-color: var(--fill-color);\n",
              "      border-right-color: var(--fill-color);\n",
              "    }\n",
              "    40% {\n",
              "      border-color: transparent;\n",
              "      border-right-color: var(--fill-color);\n",
              "      border-top-color: var(--fill-color);\n",
              "    }\n",
              "    60% {\n",
              "      border-color: transparent;\n",
              "      border-right-color: var(--fill-color);\n",
              "    }\n",
              "    80% {\n",
              "      border-color: transparent;\n",
              "      border-right-color: var(--fill-color);\n",
              "      border-bottom-color: var(--fill-color);\n",
              "    }\n",
              "    90% {\n",
              "      border-color: transparent;\n",
              "      border-bottom-color: var(--fill-color);\n",
              "    }\n",
              "  }\n",
              "</style>\n",
              "\n",
              "  <script>\n",
              "    async function quickchart(key) {\n",
              "      const quickchartButtonEl =\n",
              "        document.querySelector('#' + key + ' button');\n",
              "      quickchartButtonEl.disabled = true;  // To prevent multiple clicks.\n",
              "      quickchartButtonEl.classList.add('colab-df-spinner');\n",
              "      try {\n",
              "        const charts = await google.colab.kernel.invokeFunction(\n",
              "            'suggestCharts', [key], {});\n",
              "      } catch (error) {\n",
              "        console.error('Error during call to suggestCharts:', error);\n",
              "      }\n",
              "      quickchartButtonEl.classList.remove('colab-df-spinner');\n",
              "      quickchartButtonEl.classList.add('colab-df-quickchart-complete');\n",
              "    }\n",
              "    (() => {\n",
              "      let quickchartButtonEl =\n",
              "        document.querySelector('#df-973e167e-ee3c-45da-b727-d778b8a615d6 button');\n",
              "      quickchartButtonEl.style.display =\n",
              "        google.colab.kernel.accessAllowed ? 'block' : 'none';\n",
              "    })();\n",
              "  </script>\n",
              "</div>\n",
              "    </div>\n",
              "  </div>\n"
            ]
          },
          "metadata": {},
          "execution_count": 137
        }
      ]
    },
    {
      "cell_type": "code",
      "source": [
        "avg_jaccard_similarity = np.mean(test_actuals_vs_predictions['jaccard_similarity'])"
      ],
      "metadata": {
        "id": "z8SCflWKhd3y"
      },
      "id": "z8SCflWKhd3y",
      "execution_count": 139,
      "outputs": []
    },
    {
      "cell_type": "code",
      "source": [
        "print(\"train with words which are having : \\n \"+str(min_df_in)\\\n",
        "      +\" entries at least \\n resulting in vectorizer size = \"\\\n",
        "      +str(X_train_vectored.shape[1])+\"\\n time taken =  \"\\\n",
        "      +str(end_time-start_time)+\"\\n accuracy = \"+str(acc)\\\n",
        "      +\"\\n hamming loss = \"+str(hm_loss)\\\n",
        "      +\"\\n average jaccard similarity =\"+str(avg_jaccard_similarity))"
      ],
      "metadata": {
        "id": "t5t2MMCeh8RD",
        "outputId": "00465f52-0eea-46e0-ee5b-d11c31093782",
        "colab": {
          "base_uri": "https://localhost:8080/"
        }
      },
      "id": "t5t2MMCeh8RD",
      "execution_count": 140,
      "outputs": [
        {
          "output_type": "stream",
          "name": "stdout",
          "text": [
            "train with words which are having : \n",
            " 30 entries at least \n",
            " resulting in vectorizer size = 6703\n",
            " time taken =  14.909835577011108\n",
            " accuracy = 0.5442998760842627\n",
            " hamming loss = 0.06105947955390335\n",
            " average jaccard similarity =0.7076104915324246\n"
          ]
        }
      ]
    },
    {
      "cell_type": "markdown",
      "source": [
        "Save model components\n",
        "  - model\n",
        "  - countvectorizer\n",
        "  - tfidf converter"
      ],
      "metadata": {
        "id": "tyq9N62yOyhM"
      },
      "id": "tyq9N62yOyhM"
    },
    {
      "cell_type": "code",
      "source": [
        "import joblib"
      ],
      "metadata": {
        "id": "Y7vmCnZbO7ML"
      },
      "id": "Y7vmCnZbO7ML",
      "execution_count": 71,
      "outputs": []
    },
    {
      "cell_type": "code",
      "source": [
        "path = '/content/drive/My Drive/TR_TechChallenge/'"
      ],
      "metadata": {
        "id": "OF6z6-nAEsVl"
      },
      "id": "OF6z6-nAEsVl",
      "execution_count": 72,
      "outputs": []
    },
    {
      "cell_type": "code",
      "source": [
        "# Save Model\n",
        "binary_rel_clf_file = open(path+\"binary_rel_clf_model_file.pkl\",\"wb\")\n",
        "joblib.dump(binary_rel_clf,binary_rel_clf_file)\n",
        "binary_rel_clf_file.close()"
      ],
      "metadata": {
        "id": "y1uNscqrDbNX"
      },
      "id": "y1uNscqrDbNX",
      "execution_count": 73,
      "outputs": []
    },
    {
      "cell_type": "code",
      "source": [
        "# Save vectorizer\n",
        "binary_rel_vectorizer_file = open(path+\"binary_rel_clf_vectorizer_file.pkl\",\"wb\")\n",
        "joblib.dump(vectorizer,binary_rel_vectorizer_file)\n",
        "binary_rel_vectorizer_file.close()"
      ],
      "metadata": {
        "id": "jXGmu4ZhNKTk"
      },
      "id": "jXGmu4ZhNKTk",
      "execution_count": 74,
      "outputs": []
    },
    {
      "cell_type": "code",
      "source": [
        "# Save tfidf\n",
        "binary_rel_tfidf_file = open(path+\"binary_rel_clf_tfidf_file.pkl\",\"wb\")\n",
        "joblib.dump(tfidfconverter,binary_rel_tfidf_file)\n",
        "binary_rel_tfidf_file.close()"
      ],
      "metadata": {
        "id": "YT_47uraNcSz"
      },
      "id": "YT_47uraNcSz",
      "execution_count": 75,
      "outputs": []
    },
    {
      "cell_type": "markdown",
      "source": [
        "# Explain Model"
      ],
      "metadata": {
        "id": "hbltw62hPCkk"
      },
      "id": "hbltw62hPCkk"
    },
    {
      "cell_type": "markdown",
      "source": [
        "### In order to explain the model, we will take specific classes and calculate tfidf weights for the words for those specific classes\n",
        "\n",
        "  Try to showcase that there are group of words who imparts maximum weights for different classes/postures"
      ],
      "metadata": {
        "id": "xiSPjtSAPH_H"
      },
      "id": "xiSPjtSAPH_H"
    },
    {
      "cell_type": "markdown",
      "source": [
        "First create dataframe from tfidf vectors by having column names as words and values as tfidf values"
      ],
      "metadata": {
        "id": "IaqFtyy8PiHk"
      },
      "id": "IaqFtyy8PiHk"
    },
    {
      "cell_type": "code",
      "source": [
        "X_train_tfidf_df = pd.DataFrame(X_train_tfidf,columns = vectorizer.get_feature_names_out())\n",
        "X_test_tfidf_df = pd.DataFrame(X_test_tfidf,columns = vectorizer.get_feature_names_out())"
      ],
      "metadata": {
        "id": "yJ9NB3JgcnID"
      },
      "id": "yJ9NB3JgcnID",
      "execution_count": 76,
      "outputs": []
    },
    {
      "cell_type": "code",
      "source": [
        "X_train_tfidf_df.shape"
      ],
      "metadata": {
        "colab": {
          "base_uri": "https://localhost:8080/"
        },
        "id": "2LsZAVavcwt2",
        "outputId": "605d5029-8e2a-4148-94bc-d4d8f730c7fe"
      },
      "id": "2LsZAVavcwt2",
      "execution_count": 77,
      "outputs": [
        {
          "output_type": "execute_result",
          "data": {
            "text/plain": [
              "(12912, 6703)"
            ]
          },
          "metadata": {},
          "execution_count": 77
        }
      ]
    },
    {
      "cell_type": "code",
      "source": [
        "X_train_tfidf_df.head()"
      ],
      "metadata": {
        "colab": {
          "base_uri": "https://localhost:8080/",
          "height": 256
        },
        "id": "PMvOuY8IPt_I",
        "outputId": "5e8fe41a-7a8c-48b4-9b60-a6c9e9d11852"
      },
      "id": "PMvOuY8IPt_I",
      "execution_count": 78,
      "outputs": [
        {
          "output_type": "execute_result",
          "data": {
            "text/plain": [
              "    aa  aaa  aaron   ab  abandon  abandonment  abate  abatement  abdomen  \\\n",
              "0  0.0  0.0    0.0  0.0      0.0          0.0    0.0        0.0      0.0   \n",
              "1  0.0  0.0    0.0  0.0      0.0          0.0    0.0        0.0      0.0   \n",
              "2  0.0  0.0    0.0  0.0      0.0          0.0    0.0        0.0      0.0   \n",
              "3  0.0  0.0    0.0  0.0      0.0          0.0    0.0        0.0      0.0   \n",
              "4  0.0  0.0    0.0  0.0      0.0          0.0    0.0        0.0      0.0   \n",
              "\n",
              "   abet  ...  younger  youngest  youre  youth  youve  zba  zbas  zero  zone  \\\n",
              "0   0.0  ...      0.0       0.0    0.0    0.0    0.0  0.0   0.0   0.0   0.0   \n",
              "1   0.0  ...      0.0       0.0    0.0    0.0    0.0  0.0   0.0   0.0   0.0   \n",
              "2   0.0  ...      0.0       0.0    0.0    0.0    0.0  0.0   0.0   0.0   0.0   \n",
              "3   0.0  ...      0.0       0.0    0.0    0.0    0.0  0.0   0.0   0.0   0.0   \n",
              "4   0.0  ...      0.0       0.0    0.0    0.0    0.0  0.0   0.0   0.0   0.0   \n",
              "\n",
              "   zoning  \n",
              "0     0.0  \n",
              "1     0.0  \n",
              "2     0.0  \n",
              "3     0.0  \n",
              "4     0.0  \n",
              "\n",
              "[5 rows x 6703 columns]"
            ],
            "text/html": [
              "\n",
              "  <div id=\"df-71723591-3a94-4d43-85dc-059300ca09b7\" class=\"colab-df-container\">\n",
              "    <div>\n",
              "<style scoped>\n",
              "    .dataframe tbody tr th:only-of-type {\n",
              "        vertical-align: middle;\n",
              "    }\n",
              "\n",
              "    .dataframe tbody tr th {\n",
              "        vertical-align: top;\n",
              "    }\n",
              "\n",
              "    .dataframe thead th {\n",
              "        text-align: right;\n",
              "    }\n",
              "</style>\n",
              "<table border=\"1\" class=\"dataframe\">\n",
              "  <thead>\n",
              "    <tr style=\"text-align: right;\">\n",
              "      <th></th>\n",
              "      <th>aa</th>\n",
              "      <th>aaa</th>\n",
              "      <th>aaron</th>\n",
              "      <th>ab</th>\n",
              "      <th>abandon</th>\n",
              "      <th>abandonment</th>\n",
              "      <th>abate</th>\n",
              "      <th>abatement</th>\n",
              "      <th>abdomen</th>\n",
              "      <th>abet</th>\n",
              "      <th>...</th>\n",
              "      <th>younger</th>\n",
              "      <th>youngest</th>\n",
              "      <th>youre</th>\n",
              "      <th>youth</th>\n",
              "      <th>youve</th>\n",
              "      <th>zba</th>\n",
              "      <th>zbas</th>\n",
              "      <th>zero</th>\n",
              "      <th>zone</th>\n",
              "      <th>zoning</th>\n",
              "    </tr>\n",
              "  </thead>\n",
              "  <tbody>\n",
              "    <tr>\n",
              "      <th>0</th>\n",
              "      <td>0.0</td>\n",
              "      <td>0.0</td>\n",
              "      <td>0.0</td>\n",
              "      <td>0.0</td>\n",
              "      <td>0.0</td>\n",
              "      <td>0.0</td>\n",
              "      <td>0.0</td>\n",
              "      <td>0.0</td>\n",
              "      <td>0.0</td>\n",
              "      <td>0.0</td>\n",
              "      <td>...</td>\n",
              "      <td>0.0</td>\n",
              "      <td>0.0</td>\n",
              "      <td>0.0</td>\n",
              "      <td>0.0</td>\n",
              "      <td>0.0</td>\n",
              "      <td>0.0</td>\n",
              "      <td>0.0</td>\n",
              "      <td>0.0</td>\n",
              "      <td>0.0</td>\n",
              "      <td>0.0</td>\n",
              "    </tr>\n",
              "    <tr>\n",
              "      <th>1</th>\n",
              "      <td>0.0</td>\n",
              "      <td>0.0</td>\n",
              "      <td>0.0</td>\n",
              "      <td>0.0</td>\n",
              "      <td>0.0</td>\n",
              "      <td>0.0</td>\n",
              "      <td>0.0</td>\n",
              "      <td>0.0</td>\n",
              "      <td>0.0</td>\n",
              "      <td>0.0</td>\n",
              "      <td>...</td>\n",
              "      <td>0.0</td>\n",
              "      <td>0.0</td>\n",
              "      <td>0.0</td>\n",
              "      <td>0.0</td>\n",
              "      <td>0.0</td>\n",
              "      <td>0.0</td>\n",
              "      <td>0.0</td>\n",
              "      <td>0.0</td>\n",
              "      <td>0.0</td>\n",
              "      <td>0.0</td>\n",
              "    </tr>\n",
              "    <tr>\n",
              "      <th>2</th>\n",
              "      <td>0.0</td>\n",
              "      <td>0.0</td>\n",
              "      <td>0.0</td>\n",
              "      <td>0.0</td>\n",
              "      <td>0.0</td>\n",
              "      <td>0.0</td>\n",
              "      <td>0.0</td>\n",
              "      <td>0.0</td>\n",
              "      <td>0.0</td>\n",
              "      <td>0.0</td>\n",
              "      <td>...</td>\n",
              "      <td>0.0</td>\n",
              "      <td>0.0</td>\n",
              "      <td>0.0</td>\n",
              "      <td>0.0</td>\n",
              "      <td>0.0</td>\n",
              "      <td>0.0</td>\n",
              "      <td>0.0</td>\n",
              "      <td>0.0</td>\n",
              "      <td>0.0</td>\n",
              "      <td>0.0</td>\n",
              "    </tr>\n",
              "    <tr>\n",
              "      <th>3</th>\n",
              "      <td>0.0</td>\n",
              "      <td>0.0</td>\n",
              "      <td>0.0</td>\n",
              "      <td>0.0</td>\n",
              "      <td>0.0</td>\n",
              "      <td>0.0</td>\n",
              "      <td>0.0</td>\n",
              "      <td>0.0</td>\n",
              "      <td>0.0</td>\n",
              "      <td>0.0</td>\n",
              "      <td>...</td>\n",
              "      <td>0.0</td>\n",
              "      <td>0.0</td>\n",
              "      <td>0.0</td>\n",
              "      <td>0.0</td>\n",
              "      <td>0.0</td>\n",
              "      <td>0.0</td>\n",
              "      <td>0.0</td>\n",
              "      <td>0.0</td>\n",
              "      <td>0.0</td>\n",
              "      <td>0.0</td>\n",
              "    </tr>\n",
              "    <tr>\n",
              "      <th>4</th>\n",
              "      <td>0.0</td>\n",
              "      <td>0.0</td>\n",
              "      <td>0.0</td>\n",
              "      <td>0.0</td>\n",
              "      <td>0.0</td>\n",
              "      <td>0.0</td>\n",
              "      <td>0.0</td>\n",
              "      <td>0.0</td>\n",
              "      <td>0.0</td>\n",
              "      <td>0.0</td>\n",
              "      <td>...</td>\n",
              "      <td>0.0</td>\n",
              "      <td>0.0</td>\n",
              "      <td>0.0</td>\n",
              "      <td>0.0</td>\n",
              "      <td>0.0</td>\n",
              "      <td>0.0</td>\n",
              "      <td>0.0</td>\n",
              "      <td>0.0</td>\n",
              "      <td>0.0</td>\n",
              "      <td>0.0</td>\n",
              "    </tr>\n",
              "  </tbody>\n",
              "</table>\n",
              "<p>5 rows × 6703 columns</p>\n",
              "</div>\n",
              "    <div class=\"colab-df-buttons\">\n",
              "\n",
              "  <div class=\"colab-df-container\">\n",
              "    <button class=\"colab-df-convert\" onclick=\"convertToInteractive('df-71723591-3a94-4d43-85dc-059300ca09b7')\"\n",
              "            title=\"Convert this dataframe to an interactive table.\"\n",
              "            style=\"display:none;\">\n",
              "\n",
              "  <svg xmlns=\"http://www.w3.org/2000/svg\" height=\"24px\" viewBox=\"0 -960 960 960\">\n",
              "    <path d=\"M120-120v-720h720v720H120Zm60-500h600v-160H180v160Zm220 220h160v-160H400v160Zm0 220h160v-160H400v160ZM180-400h160v-160H180v160Zm440 0h160v-160H620v160ZM180-180h160v-160H180v160Zm440 0h160v-160H620v160Z\"/>\n",
              "  </svg>\n",
              "    </button>\n",
              "\n",
              "  <style>\n",
              "    .colab-df-container {\n",
              "      display:flex;\n",
              "      gap: 12px;\n",
              "    }\n",
              "\n",
              "    .colab-df-convert {\n",
              "      background-color: #E8F0FE;\n",
              "      border: none;\n",
              "      border-radius: 50%;\n",
              "      cursor: pointer;\n",
              "      display: none;\n",
              "      fill: #1967D2;\n",
              "      height: 32px;\n",
              "      padding: 0 0 0 0;\n",
              "      width: 32px;\n",
              "    }\n",
              "\n",
              "    .colab-df-convert:hover {\n",
              "      background-color: #E2EBFA;\n",
              "      box-shadow: 0px 1px 2px rgba(60, 64, 67, 0.3), 0px 1px 3px 1px rgba(60, 64, 67, 0.15);\n",
              "      fill: #174EA6;\n",
              "    }\n",
              "\n",
              "    .colab-df-buttons div {\n",
              "      margin-bottom: 4px;\n",
              "    }\n",
              "\n",
              "    [theme=dark] .colab-df-convert {\n",
              "      background-color: #3B4455;\n",
              "      fill: #D2E3FC;\n",
              "    }\n",
              "\n",
              "    [theme=dark] .colab-df-convert:hover {\n",
              "      background-color: #434B5C;\n",
              "      box-shadow: 0px 1px 3px 1px rgba(0, 0, 0, 0.15);\n",
              "      filter: drop-shadow(0px 1px 2px rgba(0, 0, 0, 0.3));\n",
              "      fill: #FFFFFF;\n",
              "    }\n",
              "  </style>\n",
              "\n",
              "    <script>\n",
              "      const buttonEl =\n",
              "        document.querySelector('#df-71723591-3a94-4d43-85dc-059300ca09b7 button.colab-df-convert');\n",
              "      buttonEl.style.display =\n",
              "        google.colab.kernel.accessAllowed ? 'block' : 'none';\n",
              "\n",
              "      async function convertToInteractive(key) {\n",
              "        const element = document.querySelector('#df-71723591-3a94-4d43-85dc-059300ca09b7');\n",
              "        const dataTable =\n",
              "          await google.colab.kernel.invokeFunction('convertToInteractive',\n",
              "                                                    [key], {});\n",
              "        if (!dataTable) return;\n",
              "\n",
              "        const docLinkHtml = 'Like what you see? Visit the ' +\n",
              "          '<a target=\"_blank\" href=https://colab.research.google.com/notebooks/data_table.ipynb>data table notebook</a>'\n",
              "          + ' to learn more about interactive tables.';\n",
              "        element.innerHTML = '';\n",
              "        dataTable['output_type'] = 'display_data';\n",
              "        await google.colab.output.renderOutput(dataTable, element);\n",
              "        const docLink = document.createElement('div');\n",
              "        docLink.innerHTML = docLinkHtml;\n",
              "        element.appendChild(docLink);\n",
              "      }\n",
              "    </script>\n",
              "  </div>\n",
              "\n",
              "\n",
              "<div id=\"df-cad47291-02ff-4900-9204-0707b7cd855d\">\n",
              "  <button class=\"colab-df-quickchart\" onclick=\"quickchart('df-cad47291-02ff-4900-9204-0707b7cd855d')\"\n",
              "            title=\"Suggest charts.\"\n",
              "            style=\"display:none;\">\n",
              "\n",
              "<svg xmlns=\"http://www.w3.org/2000/svg\" height=\"24px\"viewBox=\"0 0 24 24\"\n",
              "     width=\"24px\">\n",
              "    <g>\n",
              "        <path d=\"M19 3H5c-1.1 0-2 .9-2 2v14c0 1.1.9 2 2 2h14c1.1 0 2-.9 2-2V5c0-1.1-.9-2-2-2zM9 17H7v-7h2v7zm4 0h-2V7h2v10zm4 0h-2v-4h2v4z\"/>\n",
              "    </g>\n",
              "</svg>\n",
              "  </button>\n",
              "\n",
              "<style>\n",
              "  .colab-df-quickchart {\n",
              "      --bg-color: #E8F0FE;\n",
              "      --fill-color: #1967D2;\n",
              "      --hover-bg-color: #E2EBFA;\n",
              "      --hover-fill-color: #174EA6;\n",
              "      --disabled-fill-color: #AAA;\n",
              "      --disabled-bg-color: #DDD;\n",
              "  }\n",
              "\n",
              "  [theme=dark] .colab-df-quickchart {\n",
              "      --bg-color: #3B4455;\n",
              "      --fill-color: #D2E3FC;\n",
              "      --hover-bg-color: #434B5C;\n",
              "      --hover-fill-color: #FFFFFF;\n",
              "      --disabled-bg-color: #3B4455;\n",
              "      --disabled-fill-color: #666;\n",
              "  }\n",
              "\n",
              "  .colab-df-quickchart {\n",
              "    background-color: var(--bg-color);\n",
              "    border: none;\n",
              "    border-radius: 50%;\n",
              "    cursor: pointer;\n",
              "    display: none;\n",
              "    fill: var(--fill-color);\n",
              "    height: 32px;\n",
              "    padding: 0;\n",
              "    width: 32px;\n",
              "  }\n",
              "\n",
              "  .colab-df-quickchart:hover {\n",
              "    background-color: var(--hover-bg-color);\n",
              "    box-shadow: 0 1px 2px rgba(60, 64, 67, 0.3), 0 1px 3px 1px rgba(60, 64, 67, 0.15);\n",
              "    fill: var(--button-hover-fill-color);\n",
              "  }\n",
              "\n",
              "  .colab-df-quickchart-complete:disabled,\n",
              "  .colab-df-quickchart-complete:disabled:hover {\n",
              "    background-color: var(--disabled-bg-color);\n",
              "    fill: var(--disabled-fill-color);\n",
              "    box-shadow: none;\n",
              "  }\n",
              "\n",
              "  .colab-df-spinner {\n",
              "    border: 2px solid var(--fill-color);\n",
              "    border-color: transparent;\n",
              "    border-bottom-color: var(--fill-color);\n",
              "    animation:\n",
              "      spin 1s steps(1) infinite;\n",
              "  }\n",
              "\n",
              "  @keyframes spin {\n",
              "    0% {\n",
              "      border-color: transparent;\n",
              "      border-bottom-color: var(--fill-color);\n",
              "      border-left-color: var(--fill-color);\n",
              "    }\n",
              "    20% {\n",
              "      border-color: transparent;\n",
              "      border-left-color: var(--fill-color);\n",
              "      border-top-color: var(--fill-color);\n",
              "    }\n",
              "    30% {\n",
              "      border-color: transparent;\n",
              "      border-left-color: var(--fill-color);\n",
              "      border-top-color: var(--fill-color);\n",
              "      border-right-color: var(--fill-color);\n",
              "    }\n",
              "    40% {\n",
              "      border-color: transparent;\n",
              "      border-right-color: var(--fill-color);\n",
              "      border-top-color: var(--fill-color);\n",
              "    }\n",
              "    60% {\n",
              "      border-color: transparent;\n",
              "      border-right-color: var(--fill-color);\n",
              "    }\n",
              "    80% {\n",
              "      border-color: transparent;\n",
              "      border-right-color: var(--fill-color);\n",
              "      border-bottom-color: var(--fill-color);\n",
              "    }\n",
              "    90% {\n",
              "      border-color: transparent;\n",
              "      border-bottom-color: var(--fill-color);\n",
              "    }\n",
              "  }\n",
              "</style>\n",
              "\n",
              "  <script>\n",
              "    async function quickchart(key) {\n",
              "      const quickchartButtonEl =\n",
              "        document.querySelector('#' + key + ' button');\n",
              "      quickchartButtonEl.disabled = true;  // To prevent multiple clicks.\n",
              "      quickchartButtonEl.classList.add('colab-df-spinner');\n",
              "      try {\n",
              "        const charts = await google.colab.kernel.invokeFunction(\n",
              "            'suggestCharts', [key], {});\n",
              "      } catch (error) {\n",
              "        console.error('Error during call to suggestCharts:', error);\n",
              "      }\n",
              "      quickchartButtonEl.classList.remove('colab-df-spinner');\n",
              "      quickchartButtonEl.classList.add('colab-df-quickchart-complete');\n",
              "    }\n",
              "    (() => {\n",
              "      let quickchartButtonEl =\n",
              "        document.querySelector('#df-cad47291-02ff-4900-9204-0707b7cd855d button');\n",
              "      quickchartButtonEl.style.display =\n",
              "        google.colab.kernel.accessAllowed ? 'block' : 'none';\n",
              "    })();\n",
              "  </script>\n",
              "</div>\n",
              "    </div>\n",
              "  </div>\n"
            ]
          },
          "metadata": {},
          "execution_count": 78
        }
      ]
    },
    {
      "cell_type": "markdown",
      "source": [
        "### Define a function which will take the class name and feature data frame as inputs and will return a plot of top 20 important words for that class, along with a datafreme with those words and cumulative weights"
      ],
      "metadata": {
        "id": "InVufOuiP6fv"
      },
      "id": "InVufOuiP6fv"
    },
    {
      "cell_type": "code",
      "source": [
        "def get_top_20_words_for_class(class_name,X_test_tfidf_df,y_test):\n",
        "  \"\"\"\n",
        "  Function to return top 20 important words for a specific class/postures\n",
        "\n",
        "  Input\n",
        "  -----------\n",
        "  class_name (string) : any one of the classes from the target postures\n",
        "  X_test_tfidf_df (dataframe) : test records dataframe with columns as words and values as tfidf values\n",
        "  y_test (dataframe) : target dataframe as binary hot-encoded classes in columns\n",
        "\n",
        "  Output\n",
        "  -----------\n",
        "  Plot of top 20 words as per tfidf weights\n",
        "  dataframe : dataframe with words and cumulative weights of them as per the tfidf values\n",
        "  \"\"\"\n",
        "\n",
        "  ## Create a list of words from dataframes\n",
        "  words_dict = X_test_tfidf_df.columns\n",
        "\n",
        "  ### Create indices of records where the class was present in poustures\n",
        "  pos_indices = [idx for idx,val in enumerate(y_test[class_name].values) if val ==1]\n",
        "\n",
        "  ## Select the records for the indices\n",
        "  X_test_spec_class = X_test_tfidf_df.iloc[pos_indices]\n",
        "\n",
        "  ## Define empty bag of words\n",
        "  bag_of_words = []\n",
        "\n",
        "  ## Define empty list of weights\n",
        "  weight_of_words = []\n",
        "\n",
        "  ## For each row in the dataset selected\n",
        "  for index, row in X_test_spec_class.iterrows():\n",
        "    ## list of words where tfidf values is > 0\n",
        "    text_loads = [words_dict[idx] for idx,val in enumerate(row.values.tolist()) if val > 0]\n",
        "    ## list of the values\n",
        "    weight_loads =  [row.values.tolist()[idx] for idx,val in enumerate(row.values.tolist()) if val > 0]\n",
        "    ## append to bag of words as a list\n",
        "    bag_of_words.append(text_loads)\n",
        "    ## append to list of weights\n",
        "    weight_of_words.append(weight_loads)\n",
        "\n",
        "  ## At the end of loop\n",
        "\n",
        "  ## flatten the bag of words\n",
        "  bag_of_words_flattenned = [item for sublist in bag_of_words for item in sublist]\n",
        "  ## flatten the list of weights\n",
        "  weight_of_words_flattenned = [item for sublist in weight_of_words for item in sublist]\n",
        "\n",
        "  ## Create dataframe with words and weights\n",
        "  bag_of_words_df = pd.DataFrame(list(zip(bag_of_words_flattenned,weight_of_words_flattenned)),columns=['words_present','weights'])\n",
        "\n",
        "  ## Calculate total weight for each word occurring in the cases and sort by descending total word weight\n",
        "  bag_of_words_weights_grouped = bag_of_words_df.groupby('words_present')['weights'].sum().reset_index().sort_values('weights',ascending=False)\n",
        "  ## Take top 20\n",
        "  bag_of_words_weights_grouped_high = bag_of_words_weights_grouped.iloc[0:20,:]\n",
        "\n",
        "  ## Plot the top 20 words with total weights\n",
        "  sns.barplot(x='words_present', y='weights', data = bag_of_words_weights_grouped_high,palette=sns.color_palette('BrBG'))\n",
        "  plt.xticks(rotation = 90)\n",
        "\n",
        "  ## Return the dataframe with word weights\n",
        "  return bag_of_words_weights_grouped_high"
      ],
      "metadata": {
        "id": "Gl4N56mug-m_"
      },
      "id": "Gl4N56mug-m_",
      "execution_count": 80,
      "outputs": []
    },
    {
      "cell_type": "markdown",
      "source": [
        "Analyse class = \"On Appeal\" (the most frequent posture)"
      ],
      "metadata": {
        "id": "h8k2y7DHTGKj"
      },
      "id": "h8k2y7DHTGKj"
    },
    {
      "cell_type": "code",
      "source": [
        "class_name = 'class_On Appeal'\n",
        "\n",
        "top_20_words_weight_oa = get_top_20_words_for_class(class_name,X_test_tfidf_df,y_test)"
      ],
      "metadata": {
        "colab": {
          "base_uri": "https://localhost:8080/",
          "height": 512
        },
        "id": "9ThC64My8DyQ",
        "outputId": "01a57e48-fc9c-4c9f-9350-79b2f9610df0"
      },
      "id": "9ThC64My8DyQ",
      "execution_count": 81,
      "outputs": [
        {
          "output_type": "display_data",
          "data": {
            "text/plain": [
              "<Figure size 640x480 with 1 Axes>"
            ],
            "image/png": "[encoded data removed]"
          },
          "metadata": {}
        }
      ]
    },
    {
      "cell_type": "markdown",
      "source": [
        "Run the same for some other classes"
      ],
      "metadata": {
        "id": "vc_d8J4vTQNA"
      },
      "id": "vc_d8J4vTQNA"
    },
    {
      "cell_type": "code",
      "source": [
        "class_name = 'class_Motion to Dismiss'\n",
        "\n",
        "top_20_words_weight_mtd = get_top_20_words_for_class(class_name,X_test_tfidf_df,y_test)"
      ],
      "metadata": {
        "colab": {
          "base_uri": "https://localhost:8080/",
          "height": 512
        },
        "id": "uggobheXhWSp",
        "outputId": "8393807e-bab6-4f77-acdf-9731af948b8b"
      },
      "id": "uggobheXhWSp",
      "execution_count": 82,
      "outputs": [
        {
          "output_type": "display_data",
          "data": {
            "text/plain": [
              "<Figure size 640x480 with 1 Axes>"
            ],
            "image/png": "[encoded data removed]"
          },
          "metadata": {}
        }
      ]
    },
    {
      "cell_type": "code",
      "source": [
        "class_name = 'class_Motion to Dismiss for Lack of Subject Matter Jurisdiction'\n",
        "top_20_words_weight_lsmj = get_top_20_words_for_class(class_name,X_test_tfidf_df,y_test)"
      ],
      "metadata": {
        "colab": {
          "base_uri": "https://localhost:8080/",
          "height": 536
        },
        "id": "7toz0_8fh28a",
        "outputId": "1c93eb82-54cd-4125-990b-f2d9fe6bdc48"
      },
      "id": "7toz0_8fh28a",
      "execution_count": 83,
      "outputs": [
        {
          "output_type": "display_data",
          "data": {
            "text/plain": [
              "<Figure size 640x480 with 1 Axes>"
            ],
            "image/png": "[encoded data removed]"
          },
          "metadata": {}
        }
      ]
    },
    {
      "cell_type": "code",
      "source": [
        "class_name = 'class_Post-Trial Hearing Motion'\n",
        "top_20_words_weight_pthm = get_top_20_words_for_class(class_name,X_test_tfidf_df,y_test)"
      ],
      "metadata": {
        "colab": {
          "base_uri": "https://localhost:8080/",
          "height": 509
        },
        "id": "q7BbRFxrvErY",
        "outputId": "b75a942f-8638-44e6-cd52-0810684eace2"
      },
      "id": "q7BbRFxrvErY",
      "execution_count": 84,
      "outputs": [
        {
          "output_type": "display_data",
          "data": {
            "text/plain": [
              "<Figure size 640x480 with 1 Axes>"
            ],
            "image/png": "[encoded data removed]"
          },
          "metadata": {}
        }
      ]
    },
    {
      "cell_type": "code",
      "source": [
        "class_name = \"class_Motion for Attorney's Fees\"\n",
        "top_20_words_weight_mfaf = get_top_20_words_for_class(class_name,X_test_tfidf_df,y_test)"
      ],
      "metadata": {
        "colab": {
          "base_uri": "https://localhost:8080/",
          "height": 512
        },
        "id": "MFoS3vUZ9Wb4",
        "outputId": "8351c26d-f669-4e01-96b1-4ea1902c3988"
      },
      "id": "MFoS3vUZ9Wb4",
      "execution_count": 85,
      "outputs": [
        {
          "output_type": "display_data",
          "data": {
            "text/plain": [
              "<Figure size 640x480 with 1 Axes>"
            ],
            "image/png": "[encoded data removed]"
          },
          "metadata": {}
        }
      ]
    },
    {
      "cell_type": "code",
      "source": [
        "mtd_words = top_20_words_weight_mtd['words_present'].values\n",
        "att_fees_words = top_20_words_weight_mfaf['words_present'].values"
      ],
      "metadata": {
        "id": "aw5hw78q8tNF"
      },
      "id": "aw5hw78q8tNF",
      "execution_count": 86,
      "outputs": []
    },
    {
      "cell_type": "code",
      "source": [
        "mtd_words_over_att_fee_words =  [word for word in mtd_words if word not in att_fees_words ]\n",
        "mtd_words_over_att_fee_words"
      ],
      "metadata": {
        "colab": {
          "base_uri": "https://localhost:8080/"
        },
        "id": "tPhVNdeS849t",
        "outputId": "ed9eea6d-5e7e-4927-b072-7f954a89f707"
      },
      "id": "tPhVNdeS849t",
      "execution_count": 87,
      "outputs": [
        {
          "output_type": "execute_result",
          "data": {
            "text/plain": [
              "['cplr',\n",
              " 'york',\n",
              " 'dismissal',\n",
              " 'breach',\n",
              " 'st',\n",
              " 'service',\n",
              " 'amend',\n",
              " 'mortgage',\n",
              " 'limitations',\n",
              " 'statute',\n",
              " 'city',\n",
              " 'dept',\n",
              " 'bank',\n",
              " 'bar',\n",
              " 'llc',\n",
              " 'insofar',\n",
              " 'commence']"
            ]
          },
          "metadata": {},
          "execution_count": 87
        }
      ]
    },
    {
      "cell_type": "code",
      "source": [
        "att_fee_words_over_mtd_words = [word for word in att_fees_words  if word not in mtd_words ]\n",
        "att_fee_words_over_mtd_words"
      ],
      "metadata": {
        "colab": {
          "base_uri": "https://localhost:8080/"
        },
        "id": "1V-U1gbJ9Aa_",
        "outputId": "d48aa0f9-c284-4283-9a3f-e8b34239d676"
      },
      "id": "1V-U1gbJ9Aa_",
      "execution_count": 88,
      "outputs": [
        {
          "output_type": "execute_result",
          "data": {
            "text/plain": [
              "['fee',\n",
              " 'attorneys',\n",
              " 'award',\n",
              " 'attorney',\n",
              " 'expense',\n",
              " 'settlement',\n",
              " 'prevail',\n",
              " 'incur',\n",
              " 'entitle',\n",
              " 'property',\n",
              " 'father',\n",
              " 'child',\n",
              " 'wife',\n",
              " 'husband',\n",
              " 'appellate',\n",
              " 'fund',\n",
              " 'fd']"
            ]
          },
          "metadata": {},
          "execution_count": 88
        }
      ]
    },
    {
      "cell_type": "code",
      "source": [
        "common_words_att_fee_over_mtd_words = [word for word in att_fees_words  if word in mtd_words ]"
      ],
      "metadata": {
        "id": "qdiJjAkDULn2"
      },
      "id": "qdiJjAkDULn2",
      "execution_count": 89,
      "outputs": []
    },
    {
      "cell_type": "code",
      "source": [
        "common_words_att_fee_over_mtd_words"
      ],
      "metadata": {
        "colab": {
          "base_uri": "https://localhost:8080/"
        },
        "id": "OsJDWme0hi0_",
        "outputId": "5918383c-da5b-473f-bfc2-9c00df3aeec7"
      },
      "id": "OsJDWme0hi0_",
      "execution_count": 90,
      "outputs": [
        {
          "output_type": "execute_result",
          "data": {
            "text/plain": [
              "['agreement', 'damage', 'contract']"
            ]
          },
          "metadata": {},
          "execution_count": 90
        }
      ]
    },
    {
      "cell_type": "code",
      "source": [],
      "metadata": {
        "id": "MMPPi3izl8qY"
      },
      "id": "MMPPi3izl8qY",
      "execution_count": null,
      "outputs": []
    },
    {
      "cell_type": "code",
      "source": [],
      "metadata": {
        "id": "Pf7Y5Aovl8sr"
      },
      "id": "Pf7Y5Aovl8sr",
      "execution_count": null,
      "outputs": []
    }
  ],
  "metadata": {
    "kernelspec": {
      "display_name": "Python 3",
      "name": "python3"
    },
    "language_info": {
      "codemirror_mode": {
        "name": "ipython",
        "version": 3
      },
      "file_extension": ".py",
      "mimetype": "text/x-python",
      "name": "python",
      "nbconvert_exporter": "python",
      "pygments_lexer": "ipython3",
      "version": "3.11.1"
    },
    "colab": {
      "provenance": []
    }
  },
  "nbformat": 4,
  "nbformat_minor": 5
}