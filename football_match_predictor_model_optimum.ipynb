{
 "cells": [
  {
   "cell_type": "markdown",
   "id": "bc4d712c-c12a-4fde-9cc6-0a3f1f1235d4",
   "metadata": {},
   "source": [
    "# Football match prediction"
   ]
  },
  {
   "cell_type": "markdown",
   "id": "4aac55b0-5038-4b5f-946f-1fc729a9d508",
   "metadata": {},
   "source": [
    "## The notebook is used to analyse football match results of major european leagues - and create a predictive model to identify the result of a game - win by home team, win by away team and a draw"
   ]
  },
  {
   "cell_type": "markdown",
   "id": "d3e99ca0-d6cd-4186-92b2-28c907f02550",
   "metadata": {},
   "source": [
    "#### Import basic packages"
   ]
  },
  {
   "cell_type": "code",
   "execution_count": 1,
   "id": "176c9619-5035-4bc5-a297-33775c02913f",
   "metadata": {},
   "outputs": [],
   "source": [
    "\n",
    "import seaborn as sns\n",
    "import matplotlib.pyplot as plt\n",
    "import pandas as pd\n",
    "import numpy as np\n",
    "import math"
   ]
  },
  {
   "cell_type": "markdown",
   "id": "ecad4695-1737-4d3e-9d0c-4df4db150d7e",
   "metadata": {},
   "source": [
    "#### Install packages for profiling (ydata-profiling) and feature importance (SHAP)"
   ]
  },
  {
   "cell_type": "code",
   "execution_count": 2,
   "id": "c7d33a1d-1283-47d3-b686-85c5f231be04",
   "metadata": {
    "collapsed": true,
    "jupyter": {
     "outputs_hidden": true
    },
    "tags": []
   },
   "outputs": [
    {
     "name": "stdout",
     "output_type": "stream",
     "text": [
      "Requirement already satisfied: shap in c:\\users\\user\\appdata\\local\\programs\\python\\python311\\lib\\site-packages (0.42.1)\n",
      "Requirement already satisfied: numpy in c:\\users\\user\\appdata\\local\\programs\\python\\python311\\lib\\site-packages (from shap) (1.23.5)\n",
      "Requirement already satisfied: scipy in c:\\users\\user\\appdata\\local\\programs\\python\\python311\\lib\\site-packages (from shap) (1.9.3)\n",
      "Requirement already satisfied: scikit-learn in c:\\users\\user\\appdata\\local\\programs\\python\\python311\\lib\\site-packages (from shap) (1.2.0)\n",
      "Requirement already satisfied: pandas in c:\\users\\user\\appdata\\local\\programs\\python\\python311\\lib\\site-packages (from shap) (1.5.2)\n",
      "Requirement already satisfied: tqdm>=4.27.0 in c:\\users\\user\\appdata\\local\\programs\\python\\python311\\lib\\site-packages (from shap) (4.64.1)\n",
      "Requirement already satisfied: packaging>20.9 in c:\\users\\user\\appdata\\local\\programs\\python\\python311\\lib\\site-packages (from shap) (22.0)\n",
      "Requirement already satisfied: slicer==0.0.7 in c:\\users\\user\\appdata\\local\\programs\\python\\python311\\lib\\site-packages (from shap) (0.0.7)\n",
      "Requirement already satisfied: numba in c:\\users\\user\\appdata\\local\\programs\\python\\python311\\lib\\site-packages (from shap) (0.57.1)\n",
      "Requirement already satisfied: cloudpickle in c:\\users\\user\\appdata\\local\\programs\\python\\python311\\lib\\site-packages (from shap) (2.2.1)\n",
      "Requirement already satisfied: colorama in c:\\users\\user\\appdata\\local\\programs\\python\\python311\\lib\\site-packages (from tqdm>=4.27.0->shap) (0.4.6)\n",
      "Requirement already satisfied: llvmlite<0.41,>=0.40.0dev0 in c:\\users\\user\\appdata\\local\\programs\\python\\python311\\lib\\site-packages (from numba->shap) (0.40.1)\n",
      "Requirement already satisfied: python-dateutil>=2.8.1 in c:\\users\\user\\appdata\\local\\programs\\python\\python311\\lib\\site-packages (from pandas->shap) (2.8.2)\n",
      "Requirement already satisfied: pytz>=2020.1 in c:\\users\\user\\appdata\\local\\programs\\python\\python311\\lib\\site-packages (from pandas->shap) (2022.6)\n",
      "Requirement already satisfied: joblib>=1.1.1 in c:\\users\\user\\appdata\\local\\programs\\python\\python311\\lib\\site-packages (from scikit-learn->shap) (1.1.1)\n",
      "Requirement already satisfied: threadpoolctl>=2.0.0 in c:\\users\\user\\appdata\\local\\programs\\python\\python311\\lib\\site-packages (from scikit-learn->shap) (3.1.0)\n",
      "Requirement already satisfied: six>=1.5 in c:\\users\\user\\appdata\\local\\programs\\python\\python311\\lib\\site-packages (from python-dateutil>=2.8.1->pandas->shap) (1.16.0)\n"
     ]
    },
    {
     "name": "stderr",
     "output_type": "stream",
     "text": [
      "\n",
      "[notice] A new release of pip is available: 23.0.1 -> 23.2.1\n",
      "[notice] To update, run: python.exe -m pip install --upgrade pip\n"
     ]
    }
   ],
   "source": [
    "!pip install shap"
   ]
  },
  {
   "cell_type": "code",
   "execution_count": 3,
   "id": "24896179-32c9-4be2-87e8-2c6487719673",
   "metadata": {
    "collapsed": true,
    "jupyter": {
     "outputs_hidden": true
    },
    "tags": []
   },
   "outputs": [
    {
     "name": "stdout",
     "output_type": "stream",
     "text": [
      "Requirement already satisfied: ydata-profiling in c:\\users\\user\\appdata\\local\\programs\\python\\python311\\lib\\site-packages (4.1.1)\n",
      "Requirement already satisfied: scipy<1.10,>=1.4.1 in c:\\users\\user\\appdata\\local\\programs\\python\\python311\\lib\\site-packages (from ydata-profiling) (1.9.3)\n",
      "Requirement already satisfied: pandas!=1.4.0,<1.6,>1.1 in c:\\users\\user\\appdata\\local\\programs\\python\\python311\\lib\\site-packages (from ydata-profiling) (1.5.2)\n",
      "Requirement already satisfied: matplotlib<3.7,>=3.2 in c:\\users\\user\\appdata\\local\\programs\\python\\python311\\lib\\site-packages (from ydata-profiling) (3.6.2)\n",
      "Requirement already satisfied: pydantic<1.11,>=1.8.1 in c:\\users\\user\\appdata\\local\\programs\\python\\python311\\lib\\site-packages (from ydata-profiling) (1.10.6)\n",
      "Requirement already satisfied: PyYAML<6.1,>=5.0.0 in c:\\users\\user\\appdata\\local\\programs\\python\\python311\\lib\\site-packages (from ydata-profiling) (6.0)\n",
      "Requirement already satisfied: jinja2<3.2,>=2.11.1 in c:\\users\\user\\appdata\\local\\programs\\python\\python311\\lib\\site-packages (from ydata-profiling) (3.1.2)\n",
      "Requirement already satisfied: visions[type_image_path]==0.7.5 in c:\\users\\user\\appdata\\local\\programs\\python\\python311\\lib\\site-packages (from ydata-profiling) (0.7.5)\n",
      "Requirement already satisfied: numpy<1.24,>=1.16.0 in c:\\users\\user\\appdata\\local\\programs\\python\\python311\\lib\\site-packages (from ydata-profiling) (1.23.5)\n",
      "Requirement already satisfied: htmlmin==0.1.12 in c:\\users\\user\\appdata\\local\\programs\\python\\python311\\lib\\site-packages (from ydata-profiling) (0.1.12)\n",
      "Requirement already satisfied: phik<0.13,>=0.11.1 in c:\\users\\user\\appdata\\local\\programs\\python\\python311\\lib\\site-packages (from ydata-profiling) (0.12.3)\n",
      "Requirement already satisfied: requests<2.29,>=2.24.0 in c:\\users\\user\\appdata\\local\\programs\\python\\python311\\lib\\site-packages (from ydata-profiling) (2.28.1)\n",
      "Requirement already satisfied: tqdm<4.65,>=4.48.2 in c:\\users\\user\\appdata\\local\\programs\\python\\python311\\lib\\site-packages (from ydata-profiling) (4.64.1)\n",
      "Requirement already satisfied: seaborn<0.13,>=0.10.1 in c:\\users\\user\\appdata\\local\\programs\\python\\python311\\lib\\site-packages (from ydata-profiling) (0.12.2)\n",
      "Requirement already satisfied: multimethod<1.10,>=1.4 in c:\\users\\user\\appdata\\local\\programs\\python\\python311\\lib\\site-packages (from ydata-profiling) (1.9.1)\n",
      "Requirement already satisfied: statsmodels<0.14,>=0.13.2 in c:\\users\\user\\appdata\\local\\programs\\python\\python311\\lib\\site-packages (from ydata-profiling) (0.13.5)\n",
      "Requirement already satisfied: typeguard<2.14,>=2.13.2 in c:\\users\\user\\appdata\\local\\programs\\python\\python311\\lib\\site-packages (from ydata-profiling) (2.13.3)\n",
      "Requirement already satisfied: imagehash==4.3.1 in c:\\users\\user\\appdata\\local\\programs\\python\\python311\\lib\\site-packages (from ydata-profiling) (4.3.1)\n",
      "Requirement already satisfied: PyWavelets in c:\\users\\user\\appdata\\local\\programs\\python\\python311\\lib\\site-packages (from imagehash==4.3.1->ydata-profiling) (1.4.1)\n",
      "Requirement already satisfied: pillow in c:\\users\\user\\appdata\\local\\programs\\python\\python311\\lib\\site-packages (from imagehash==4.3.1->ydata-profiling) (9.3.0)\n",
      "Requirement already satisfied: attrs>=19.3.0 in c:\\users\\user\\appdata\\local\\programs\\python\\python311\\lib\\site-packages (from visions[type_image_path]==0.7.5->ydata-profiling) (22.1.0)\n",
      "Requirement already satisfied: networkx>=2.4 in c:\\users\\user\\appdata\\local\\programs\\python\\python311\\lib\\site-packages (from visions[type_image_path]==0.7.5->ydata-profiling) (3.0)\n",
      "Requirement already satisfied: tangled-up-in-unicode>=0.0.4 in c:\\users\\user\\appdata\\local\\programs\\python\\python311\\lib\\site-packages (from visions[type_image_path]==0.7.5->ydata-profiling) (0.2.0)\n",
      "Requirement already satisfied: MarkupSafe>=2.0 in c:\\users\\user\\appdata\\local\\programs\\python\\python311\\lib\\site-packages (from jinja2<3.2,>=2.11.1->ydata-profiling) (2.1.1)\n",
      "Requirement already satisfied: contourpy>=1.0.1 in c:\\users\\user\\appdata\\local\\programs\\python\\python311\\lib\\site-packages (from matplotlib<3.7,>=3.2->ydata-profiling) (1.0.6)\n",
      "Requirement already satisfied: cycler>=0.10 in c:\\users\\user\\appdata\\local\\programs\\python\\python311\\lib\\site-packages (from matplotlib<3.7,>=3.2->ydata-profiling) (0.11.0)\n",
      "Requirement already satisfied: fonttools>=4.22.0 in c:\\users\\user\\appdata\\local\\programs\\python\\python311\\lib\\site-packages (from matplotlib<3.7,>=3.2->ydata-profiling) (4.38.0)\n",
      "Requirement already satisfied: kiwisolver>=1.0.1 in c:\\users\\user\\appdata\\local\\programs\\python\\python311\\lib\\site-packages (from matplotlib<3.7,>=3.2->ydata-profiling) (1.4.4)\n",
      "Requirement already satisfied: packaging>=20.0 in c:\\users\\user\\appdata\\local\\programs\\python\\python311\\lib\\site-packages (from matplotlib<3.7,>=3.2->ydata-profiling) (22.0)\n",
      "Requirement already satisfied: pyparsing>=2.2.1 in c:\\users\\user\\appdata\\local\\programs\\python\\python311\\lib\\site-packages (from matplotlib<3.7,>=3.2->ydata-profiling) (3.0.9)\n",
      "Requirement already satisfied: python-dateutil>=2.7 in c:\\users\\user\\appdata\\local\\programs\\python\\python311\\lib\\site-packages (from matplotlib<3.7,>=3.2->ydata-profiling) (2.8.2)\n",
      "Requirement already satisfied: pytz>=2020.1 in c:\\users\\user\\appdata\\local\\programs\\python\\python311\\lib\\site-packages (from pandas!=1.4.0,<1.6,>1.1->ydata-profiling) (2022.6)\n",
      "Requirement already satisfied: joblib>=0.14.1 in c:\\users\\user\\appdata\\local\\programs\\python\\python311\\lib\\site-packages (from phik<0.13,>=0.11.1->ydata-profiling) (1.1.1)\n",
      "Requirement already satisfied: typing-extensions>=4.2.0 in c:\\users\\user\\appdata\\local\\programs\\python\\python311\\lib\\site-packages (from pydantic<1.11,>=1.8.1->ydata-profiling) (4.5.0)\n",
      "Requirement already satisfied: charset-normalizer<3,>=2 in c:\\users\\user\\appdata\\local\\programs\\python\\python311\\lib\\site-packages (from requests<2.29,>=2.24.0->ydata-profiling) (2.1.1)\n",
      "Requirement already satisfied: idna<4,>=2.5 in c:\\users\\user\\appdata\\local\\programs\\python\\python311\\lib\\site-packages (from requests<2.29,>=2.24.0->ydata-profiling) (3.4)\n",
      "Requirement already satisfied: urllib3<1.27,>=1.21.1 in c:\\users\\user\\appdata\\local\\programs\\python\\python311\\lib\\site-packages (from requests<2.29,>=2.24.0->ydata-profiling) (1.26.13)\n",
      "Requirement already satisfied: certifi>=2017.4.17 in c:\\users\\user\\appdata\\local\\programs\\python\\python311\\lib\\site-packages (from requests<2.29,>=2.24.0->ydata-profiling) (2022.12.7)\n",
      "Requirement already satisfied: patsy>=0.5.2 in c:\\users\\user\\appdata\\local\\programs\\python\\python311\\lib\\site-packages (from statsmodels<0.14,>=0.13.2->ydata-profiling) (0.5.3)\n",
      "Requirement already satisfied: colorama in c:\\users\\user\\appdata\\local\\programs\\python\\python311\\lib\\site-packages (from tqdm<4.65,>=4.48.2->ydata-profiling) (0.4.6)\n",
      "Requirement already satisfied: six in c:\\users\\user\\appdata\\local\\programs\\python\\python311\\lib\\site-packages (from patsy>=0.5.2->statsmodels<0.14,>=0.13.2->ydata-profiling) (1.16.0)\n"
     ]
    },
    {
     "name": "stderr",
     "output_type": "stream",
     "text": [
      "\n",
      "[notice] A new release of pip is available: 23.0.1 -> 23.2.1\n",
      "[notice] To update, run: python.exe -m pip install --upgrade pip\n"
     ]
    }
   ],
   "source": [
    "!pip install ydata-profiling"
   ]
  },
  {
   "cell_type": "code",
   "execution_count": 4,
   "id": "9f11e6f2-904d-4813-bc7d-ac9621af2f41",
   "metadata": {},
   "outputs": [
    {
     "name": "stderr",
     "output_type": "stream",
     "text": [
      "IProgress not found. Please update jupyter and ipywidgets. See https://ipywidgets.readthedocs.io/en/stable/user_install.html\n",
      "\u001b[1mnumba.generated_jit is deprecated. Please see the documentation at: https://numba.readthedocs.io/en/stable/reference/deprecation.html#deprecation-of-generated-jit for more information and advice on a suitable replacement.\u001b[0m\n",
      "\u001b[1mThe 'nopython' keyword argument was not supplied to the 'numba.jit' decorator. The implicit default value for this argument is currently False, but it will be changed to True in Numba 0.59.0. See https://numba.readthedocs.io/en/stable/reference/deprecation.html#deprecation-of-object-mode-fall-back-behaviour-when-using-jit for details.\u001b[0m\n",
      "`import pandas_profiling` is going to be deprecated by April 1st. Please use `import ydata_profiling` instead.\n"
     ]
    }
   ],
   "source": [
    "import shap\n",
    "from pandas_profiling import ProfileReport"
   ]
  },
  {
   "cell_type": "code",
   "execution_count": 5,
   "id": "7ad54be2-7205-4bc7-ac94-c9d0c7b3d845",
   "metadata": {},
   "outputs": [],
   "source": [
    "pd.options.mode.chained_assignment = None "
   ]
  },
  {
   "cell_type": "markdown",
   "id": "76dad587-d306-4b3d-bc14-96d77298c180",
   "metadata": {},
   "source": [
    "#### Read training dataset"
   ]
  },
  {
   "cell_type": "code",
   "execution_count": 6,
   "id": "62e25860-9570-47d4-b79f-12bfac39d9a6",
   "metadata": {},
   "outputs": [],
   "source": [
    "train_data = pd.read_csv('../train.csv')"
   ]
  },
  {
   "cell_type": "code",
   "execution_count": 7,
   "id": "4171a4c6-6ad4-4736-b874-0a4440679959",
   "metadata": {},
   "outputs": [
    {
     "data": {
      "text/plain": [
       "(12789, 19)"
      ]
     },
     "execution_count": 7,
     "metadata": {},
     "output_type": "execute_result"
    }
   ],
   "source": [
    "train_data.shape"
   ]
  },
  {
   "cell_type": "code",
   "execution_count": 8,
   "id": "d865eb93-b267-4086-b015-79ca841df3e3",
   "metadata": {},
   "outputs": [
    {
     "data": {
      "text/plain": [
       "Index(['AC', 'AF', 'AR', 'AS', 'AST', 'AY', 'AwayTeam', 'Date', 'FTR', 'HC',\n",
       "       'HF', 'HR', 'HS', 'HST', 'HTAG', 'HTHG', 'HY', 'HomeTeam', 'league'],\n",
       "      dtype='object')"
      ]
     },
     "execution_count": 8,
     "metadata": {},
     "output_type": "execute_result"
    }
   ],
   "source": [
    "train_data.columns"
   ]
  },
  {
   "cell_type": "code",
   "execution_count": 9,
   "id": "4c974062-5e17-454f-a00e-91926214d9a0",
   "metadata": {
    "tags": []
   },
   "outputs": [
    {
     "data": {
      "text/html": [
       "<div>\n",
       "<style scoped>\n",
       "    .dataframe tbody tr th:only-of-type {\n",
       "        vertical-align: middle;\n",
       "    }\n",
       "\n",
       "    .dataframe tbody tr th {\n",
       "        vertical-align: top;\n",
       "    }\n",
       "\n",
       "    .dataframe thead th {\n",
       "        text-align: right;\n",
       "    }\n",
       "</style>\n",
       "<table border=\"1\" class=\"dataframe\">\n",
       "  <thead>\n",
       "    <tr style=\"text-align: right;\">\n",
       "      <th></th>\n",
       "      <th>AC</th>\n",
       "      <th>AF</th>\n",
       "      <th>AR</th>\n",
       "      <th>AS</th>\n",
       "      <th>AST</th>\n",
       "      <th>AY</th>\n",
       "      <th>HC</th>\n",
       "      <th>HF</th>\n",
       "      <th>HR</th>\n",
       "      <th>HS</th>\n",
       "      <th>HST</th>\n",
       "      <th>HTAG</th>\n",
       "      <th>HTHG</th>\n",
       "      <th>HY</th>\n",
       "    </tr>\n",
       "  </thead>\n",
       "  <tbody>\n",
       "    <tr>\n",
       "      <th>count</th>\n",
       "      <td>12780.000000</td>\n",
       "      <td>12778.000000</td>\n",
       "      <td>12780.000000</td>\n",
       "      <td>12780.000000</td>\n",
       "      <td>12780.000000</td>\n",
       "      <td>12780.000000</td>\n",
       "      <td>12780.000000</td>\n",
       "      <td>12778.000000</td>\n",
       "      <td>12780.000000</td>\n",
       "      <td>12780.000000</td>\n",
       "      <td>12780.000000</td>\n",
       "      <td>12779.000000</td>\n",
       "      <td>12779.000000</td>\n",
       "      <td>12779.000000</td>\n",
       "    </tr>\n",
       "    <tr>\n",
       "      <th>mean</th>\n",
       "      <td>4.497966</td>\n",
       "      <td>14.411802</td>\n",
       "      <td>0.140063</td>\n",
       "      <td>11.234898</td>\n",
       "      <td>4.177465</td>\n",
       "      <td>2.173552</td>\n",
       "      <td>5.791080</td>\n",
       "      <td>13.917123</td>\n",
       "      <td>0.101252</td>\n",
       "      <td>14.061033</td>\n",
       "      <td>5.268545</td>\n",
       "      <td>0.494796</td>\n",
       "      <td>0.691134</td>\n",
       "      <td>1.862431</td>\n",
       "    </tr>\n",
       "    <tr>\n",
       "      <th>std</th>\n",
       "      <td>2.582074</td>\n",
       "      <td>4.668766</td>\n",
       "      <td>0.377728</td>\n",
       "      <td>4.526805</td>\n",
       "      <td>2.497475</td>\n",
       "      <td>1.367718</td>\n",
       "      <td>3.012718</td>\n",
       "      <td>4.572456</td>\n",
       "      <td>0.320539</td>\n",
       "      <td>5.170604</td>\n",
       "      <td>2.872875</td>\n",
       "      <td>0.713903</td>\n",
       "      <td>0.833159</td>\n",
       "      <td>1.313217</td>\n",
       "    </tr>\n",
       "    <tr>\n",
       "      <th>min</th>\n",
       "      <td>0.000000</td>\n",
       "      <td>1.000000</td>\n",
       "      <td>0.000000</td>\n",
       "      <td>0.000000</td>\n",
       "      <td>0.000000</td>\n",
       "      <td>0.000000</td>\n",
       "      <td>0.000000</td>\n",
       "      <td>1.000000</td>\n",
       "      <td>0.000000</td>\n",
       "      <td>1.000000</td>\n",
       "      <td>0.000000</td>\n",
       "      <td>0.000000</td>\n",
       "      <td>0.000000</td>\n",
       "      <td>0.000000</td>\n",
       "    </tr>\n",
       "    <tr>\n",
       "      <th>25%</th>\n",
       "      <td>3.000000</td>\n",
       "      <td>11.000000</td>\n",
       "      <td>0.000000</td>\n",
       "      <td>8.000000</td>\n",
       "      <td>2.000000</td>\n",
       "      <td>1.000000</td>\n",
       "      <td>4.000000</td>\n",
       "      <td>11.000000</td>\n",
       "      <td>0.000000</td>\n",
       "      <td>10.000000</td>\n",
       "      <td>3.000000</td>\n",
       "      <td>0.000000</td>\n",
       "      <td>0.000000</td>\n",
       "      <td>1.000000</td>\n",
       "    </tr>\n",
       "    <tr>\n",
       "      <th>50%</th>\n",
       "      <td>4.000000</td>\n",
       "      <td>14.000000</td>\n",
       "      <td>0.000000</td>\n",
       "      <td>11.000000</td>\n",
       "      <td>4.000000</td>\n",
       "      <td>2.000000</td>\n",
       "      <td>5.000000</td>\n",
       "      <td>14.000000</td>\n",
       "      <td>0.000000</td>\n",
       "      <td>14.000000</td>\n",
       "      <td>5.000000</td>\n",
       "      <td>0.000000</td>\n",
       "      <td>0.000000</td>\n",
       "      <td>2.000000</td>\n",
       "    </tr>\n",
       "    <tr>\n",
       "      <th>75%</th>\n",
       "      <td>6.000000</td>\n",
       "      <td>17.000000</td>\n",
       "      <td>0.000000</td>\n",
       "      <td>14.000000</td>\n",
       "      <td>6.000000</td>\n",
       "      <td>3.000000</td>\n",
       "      <td>8.000000</td>\n",
       "      <td>17.000000</td>\n",
       "      <td>0.000000</td>\n",
       "      <td>17.000000</td>\n",
       "      <td>7.000000</td>\n",
       "      <td>1.000000</td>\n",
       "      <td>1.000000</td>\n",
       "      <td>3.000000</td>\n",
       "    </tr>\n",
       "    <tr>\n",
       "      <th>max</th>\n",
       "      <td>19.000000</td>\n",
       "      <td>34.000000</td>\n",
       "      <td>3.000000</td>\n",
       "      <td>39.000000</td>\n",
       "      <td>20.000000</td>\n",
       "      <td>9.000000</td>\n",
       "      <td>21.000000</td>\n",
       "      <td>38.000000</td>\n",
       "      <td>3.000000</td>\n",
       "      <td>43.000000</td>\n",
       "      <td>24.000000</td>\n",
       "      <td>5.000000</td>\n",
       "      <td>5.000000</td>\n",
       "      <td>8.000000</td>\n",
       "    </tr>\n",
       "  </tbody>\n",
       "</table>\n",
       "</div>"
      ],
      "text/plain": [
       "                 AC            AF            AR            AS           AST  \\\n",
       "count  12780.000000  12778.000000  12780.000000  12780.000000  12780.000000   \n",
       "mean       4.497966     14.411802      0.140063     11.234898      4.177465   \n",
       "std        2.582074      4.668766      0.377728      4.526805      2.497475   \n",
       "min        0.000000      1.000000      0.000000      0.000000      0.000000   \n",
       "25%        3.000000     11.000000      0.000000      8.000000      2.000000   \n",
       "50%        4.000000     14.000000      0.000000     11.000000      4.000000   \n",
       "75%        6.000000     17.000000      0.000000     14.000000      6.000000   \n",
       "max       19.000000     34.000000      3.000000     39.000000     20.000000   \n",
       "\n",
       "                 AY            HC            HF            HR            HS  \\\n",
       "count  12780.000000  12780.000000  12778.000000  12780.000000  12780.000000   \n",
       "mean       2.173552      5.791080     13.917123      0.101252     14.061033   \n",
       "std        1.367718      3.012718      4.572456      0.320539      5.170604   \n",
       "min        0.000000      0.000000      1.000000      0.000000      1.000000   \n",
       "25%        1.000000      4.000000     11.000000      0.000000     10.000000   \n",
       "50%        2.000000      5.000000     14.000000      0.000000     14.000000   \n",
       "75%        3.000000      8.000000     17.000000      0.000000     17.000000   \n",
       "max        9.000000     21.000000     38.000000      3.000000     43.000000   \n",
       "\n",
       "                HST          HTAG          HTHG            HY  \n",
       "count  12780.000000  12779.000000  12779.000000  12779.000000  \n",
       "mean       5.268545      0.494796      0.691134      1.862431  \n",
       "std        2.872875      0.713903      0.833159      1.313217  \n",
       "min        0.000000      0.000000      0.000000      0.000000  \n",
       "25%        3.000000      0.000000      0.000000      1.000000  \n",
       "50%        5.000000      0.000000      0.000000      2.000000  \n",
       "75%        7.000000      1.000000      1.000000      3.000000  \n",
       "max       24.000000      5.000000      5.000000      8.000000  "
      ]
     },
     "execution_count": 9,
     "metadata": {},
     "output_type": "execute_result"
    }
   ],
   "source": [
    "train_data.describe()"
   ]
  },
  {
   "cell_type": "markdown",
   "id": "c81dab5d-40dd-4713-b9e3-259902a8f3bb",
   "metadata": {},
   "source": [
    "### Feature Engineering : Change column names for readability"
   ]
  },
  {
   "cell_type": "code",
   "execution_count": 10,
   "id": "b9bacddf-e2dd-4585-ac93-8473bcad93c5",
   "metadata": {},
   "outputs": [],
   "source": [
    "list_of_old_column_names = ['HomeTeam'\n",
    ",'AwayTeam'\n",
    ",'FTR'\n",
    ",'HTHG'\n",
    ",'HTAG'\n",
    ",'HS'\n",
    ",'AS'\n",
    ",'HST'\n",
    ",'AST'\n",
    ",'AC'\n",
    ",'HF'\n",
    ",'AF'\n",
    ",'HC'\n",
    ",'HY'\n",
    ",'AY'\n",
    ",'HR'\n",
    ",'AR'\n",
    ",'Date'\n",
    ",'league']\n"
   ]
  },
  {
   "cell_type": "code",
   "execution_count": 11,
   "id": "4e5f6e70-9026-45ae-99e0-4141e3016ed7",
   "metadata": {},
   "outputs": [],
   "source": [
    "list_of_meaningful_column_name = ['HomeTeam'\n",
    ",'AwayTeam'\n",
    ",'Full-TimeResult'\n",
    ",'HalfTimeHomeTeamGoals'\n",
    ",'HalfTimeAwayTeamGoals'\n",
    ",'HomeTeamShots'\n",
    ",'AwayTeamShots'\n",
    ",'HomeTeamShotsonTarget'\n",
    ",'AwayTeamShotsonTarget'\n",
    ",'AwayTeamCorners'\n",
    ",'HomeTeamFoulsCommitted'\n",
    ",'AwayTeamFoulsCommitted'\n",
    ",'HomeTeamCorners'\n",
    ",'HomeTeamYellowCards'\n",
    ",'AwayTeamYellowCards'\n",
    ",'HomeTeamRedCards'\n",
    ",'AwayTeamRedCards'\n",
    ",'Date'\n",
    ",'league'\n",
    "]"
   ]
  },
  {
   "cell_type": "code",
   "execution_count": 12,
   "id": "4beac349-bd0a-4084-8f45-0dd6f35ee8ad",
   "metadata": {},
   "outputs": [],
   "source": [
    "def convert_column_names(df,old_col_names,new_col_names):\n",
    "    \"\"\"\n",
    "    Convert column headers to meaningful, readable names\n",
    "    \n",
    "    Input\n",
    "    ------\n",
    "    df : dataframe\n",
    "    old_names : list of old names for columns\n",
    "    new_col_names : list of new names for columns, same order as old_names\n",
    "    \n",
    "    \"\"\"\n",
    "    for i in range(len(new_col_names)):\n",
    "        old_col = old_col_names[i]\n",
    "        new_meaningful_col = new_col_names[i]\n",
    "        if old_col in df.columns:\n",
    "            df[new_meaningful_col] = df[old_col]\n",
    "            if old_col != new_meaningful_col:\n",
    "                df = df.drop(old_col,axis=1)\n",
    "    return df\n",
    "    "
   ]
  },
  {
   "cell_type": "code",
   "execution_count": 13,
   "id": "3689c401-7612-44d3-aa7a-659289b2d9fa",
   "metadata": {},
   "outputs": [],
   "source": [
    "train_data = convert_column_names(train_data,old_col_names = list_of_old_column_names,new_col_names = list_of_meaningful_column_name)"
   ]
  },
  {
   "cell_type": "code",
   "execution_count": 14,
   "id": "ccc3c30a-60f6-4253-8b36-22bcf3fcb95e",
   "metadata": {},
   "outputs": [
    {
     "data": {
      "text/html": [
       "<div>\n",
       "<style scoped>\n",
       "    .dataframe tbody tr th:only-of-type {\n",
       "        vertical-align: middle;\n",
       "    }\n",
       "\n",
       "    .dataframe tbody tr th {\n",
       "        vertical-align: top;\n",
       "    }\n",
       "\n",
       "    .dataframe thead th {\n",
       "        text-align: right;\n",
       "    }\n",
       "</style>\n",
       "<table border=\"1\" class=\"dataframe\">\n",
       "  <thead>\n",
       "    <tr style=\"text-align: right;\">\n",
       "      <th></th>\n",
       "      <th>AwayTeam</th>\n",
       "      <th>Date</th>\n",
       "      <th>HomeTeam</th>\n",
       "      <th>league</th>\n",
       "      <th>Full-TimeResult</th>\n",
       "      <th>HalfTimeHomeTeamGoals</th>\n",
       "      <th>HalfTimeAwayTeamGoals</th>\n",
       "      <th>HomeTeamShots</th>\n",
       "      <th>AwayTeamShots</th>\n",
       "      <th>HomeTeamShotsonTarget</th>\n",
       "      <th>AwayTeamShotsonTarget</th>\n",
       "      <th>AwayTeamCorners</th>\n",
       "      <th>HomeTeamFoulsCommitted</th>\n",
       "      <th>AwayTeamFoulsCommitted</th>\n",
       "      <th>HomeTeamCorners</th>\n",
       "      <th>HomeTeamYellowCards</th>\n",
       "      <th>AwayTeamYellowCards</th>\n",
       "      <th>HomeTeamRedCards</th>\n",
       "      <th>AwayTeamRedCards</th>\n",
       "    </tr>\n",
       "  </thead>\n",
       "  <tbody>\n",
       "    <tr>\n",
       "      <th>0</th>\n",
       "      <td>Stuttgart</td>\n",
       "      <td>07/08/09</td>\n",
       "      <td>Wolfsburg</td>\n",
       "      <td>bundesliga</td>\n",
       "      <td>H</td>\n",
       "      <td>0.0</td>\n",
       "      <td>0.0</td>\n",
       "      <td>13.0</td>\n",
       "      <td>14.0</td>\n",
       "      <td>7.0</td>\n",
       "      <td>4.0</td>\n",
       "      <td>3.0</td>\n",
       "      <td>12.0</td>\n",
       "      <td>12.0</td>\n",
       "      <td>6.0</td>\n",
       "      <td>0.0</td>\n",
       "      <td>0.0</td>\n",
       "      <td>0.0</td>\n",
       "      <td>0.0</td>\n",
       "    </tr>\n",
       "    <tr>\n",
       "      <th>1</th>\n",
       "      <td>FC Koln</td>\n",
       "      <td>08/08/09</td>\n",
       "      <td>Dortmund</td>\n",
       "      <td>bundesliga</td>\n",
       "      <td>H</td>\n",
       "      <td>0.0</td>\n",
       "      <td>0.0</td>\n",
       "      <td>24.0</td>\n",
       "      <td>7.0</td>\n",
       "      <td>11.0</td>\n",
       "      <td>0.0</td>\n",
       "      <td>1.0</td>\n",
       "      <td>8.0</td>\n",
       "      <td>10.0</td>\n",
       "      <td>16.0</td>\n",
       "      <td>0.0</td>\n",
       "      <td>1.0</td>\n",
       "      <td>0.0</td>\n",
       "      <td>0.0</td>\n",
       "    </tr>\n",
       "    <tr>\n",
       "      <th>2</th>\n",
       "      <td>Hannover</td>\n",
       "      <td>08/08/09</td>\n",
       "      <td>Hertha</td>\n",
       "      <td>bundesliga</td>\n",
       "      <td>H</td>\n",
       "      <td>0.0</td>\n",
       "      <td>0.0</td>\n",
       "      <td>10.0</td>\n",
       "      <td>15.0</td>\n",
       "      <td>4.0</td>\n",
       "      <td>3.0</td>\n",
       "      <td>3.0</td>\n",
       "      <td>16.0</td>\n",
       "      <td>20.0</td>\n",
       "      <td>5.0</td>\n",
       "      <td>3.0</td>\n",
       "      <td>2.0</td>\n",
       "      <td>0.0</td>\n",
       "      <td>0.0</td>\n",
       "    </tr>\n",
       "    <tr>\n",
       "      <th>3</th>\n",
       "      <td>Bayern Munich</td>\n",
       "      <td>08/08/09</td>\n",
       "      <td>Hoffenheim</td>\n",
       "      <td>bundesliga</td>\n",
       "      <td>D</td>\n",
       "      <td>1.0</td>\n",
       "      <td>1.0</td>\n",
       "      <td>9.0</td>\n",
       "      <td>9.0</td>\n",
       "      <td>1.0</td>\n",
       "      <td>3.0</td>\n",
       "      <td>10.0</td>\n",
       "      <td>10.0</td>\n",
       "      <td>28.0</td>\n",
       "      <td>3.0</td>\n",
       "      <td>0.0</td>\n",
       "      <td>2.0</td>\n",
       "      <td>0.0</td>\n",
       "      <td>0.0</td>\n",
       "    </tr>\n",
       "    <tr>\n",
       "      <th>4</th>\n",
       "      <td>Leverkusen</td>\n",
       "      <td>08/08/09</td>\n",
       "      <td>Mainz</td>\n",
       "      <td>bundesliga</td>\n",
       "      <td>D</td>\n",
       "      <td>1.0</td>\n",
       "      <td>2.0</td>\n",
       "      <td>8.0</td>\n",
       "      <td>13.0</td>\n",
       "      <td>4.0</td>\n",
       "      <td>7.0</td>\n",
       "      <td>5.0</td>\n",
       "      <td>22.0</td>\n",
       "      <td>28.0</td>\n",
       "      <td>3.0</td>\n",
       "      <td>1.0</td>\n",
       "      <td>2.0</td>\n",
       "      <td>0.0</td>\n",
       "      <td>0.0</td>\n",
       "    </tr>\n",
       "    <tr>\n",
       "      <th>...</th>\n",
       "      <td>...</td>\n",
       "      <td>...</td>\n",
       "      <td>...</td>\n",
       "      <td>...</td>\n",
       "      <td>...</td>\n",
       "      <td>...</td>\n",
       "      <td>...</td>\n",
       "      <td>...</td>\n",
       "      <td>...</td>\n",
       "      <td>...</td>\n",
       "      <td>...</td>\n",
       "      <td>...</td>\n",
       "      <td>...</td>\n",
       "      <td>...</td>\n",
       "      <td>...</td>\n",
       "      <td>...</td>\n",
       "      <td>...</td>\n",
       "      <td>...</td>\n",
       "      <td>...</td>\n",
       "    </tr>\n",
       "    <tr>\n",
       "      <th>12784</th>\n",
       "      <td>Udinese</td>\n",
       "      <td>28/05/17</td>\n",
       "      <td>Inter</td>\n",
       "      <td>serie-a</td>\n",
       "      <td>H</td>\n",
       "      <td>3.0</td>\n",
       "      <td>0.0</td>\n",
       "      <td>17.0</td>\n",
       "      <td>17.0</td>\n",
       "      <td>6.0</td>\n",
       "      <td>4.0</td>\n",
       "      <td>7.0</td>\n",
       "      <td>15.0</td>\n",
       "      <td>1.0</td>\n",
       "      <td>6.0</td>\n",
       "      <td>2.0</td>\n",
       "      <td>1.0</td>\n",
       "      <td>0.0</td>\n",
       "      <td>0.0</td>\n",
       "    </tr>\n",
       "    <tr>\n",
       "      <th>12785</th>\n",
       "      <td>Empoli</td>\n",
       "      <td>28/05/17</td>\n",
       "      <td>Palermo</td>\n",
       "      <td>serie-a</td>\n",
       "      <td>H</td>\n",
       "      <td>0.0</td>\n",
       "      <td>0.0</td>\n",
       "      <td>10.0</td>\n",
       "      <td>17.0</td>\n",
       "      <td>5.0</td>\n",
       "      <td>4.0</td>\n",
       "      <td>7.0</td>\n",
       "      <td>18.0</td>\n",
       "      <td>16.0</td>\n",
       "      <td>0.0</td>\n",
       "      <td>3.0</td>\n",
       "      <td>4.0</td>\n",
       "      <td>0.0</td>\n",
       "      <td>0.0</td>\n",
       "    </tr>\n",
       "    <tr>\n",
       "      <th>12786</th>\n",
       "      <td>Genoa</td>\n",
       "      <td>28/05/17</td>\n",
       "      <td>Roma</td>\n",
       "      <td>serie-a</td>\n",
       "      <td>H</td>\n",
       "      <td>1.0</td>\n",
       "      <td>1.0</td>\n",
       "      <td>24.0</td>\n",
       "      <td>13.0</td>\n",
       "      <td>7.0</td>\n",
       "      <td>4.0</td>\n",
       "      <td>2.0</td>\n",
       "      <td>8.0</td>\n",
       "      <td>14.0</td>\n",
       "      <td>6.0</td>\n",
       "      <td>2.0</td>\n",
       "      <td>0.0</td>\n",
       "      <td>0.0</td>\n",
       "      <td>0.0</td>\n",
       "    </tr>\n",
       "    <tr>\n",
       "      <th>12787</th>\n",
       "      <td>Napoli</td>\n",
       "      <td>28/05/17</td>\n",
       "      <td>Sampdoria</td>\n",
       "      <td>serie-a</td>\n",
       "      <td>A</td>\n",
       "      <td>0.0</td>\n",
       "      <td>2.0</td>\n",
       "      <td>12.0</td>\n",
       "      <td>22.0</td>\n",
       "      <td>2.0</td>\n",
       "      <td>7.0</td>\n",
       "      <td>10.0</td>\n",
       "      <td>9.0</td>\n",
       "      <td>8.0</td>\n",
       "      <td>5.0</td>\n",
       "      <td>1.0</td>\n",
       "      <td>0.0</td>\n",
       "      <td>0.0</td>\n",
       "      <td>0.0</td>\n",
       "    </tr>\n",
       "    <tr>\n",
       "      <th>12788</th>\n",
       "      <td>Sassuolo</td>\n",
       "      <td>28/05/17</td>\n",
       "      <td>Torino</td>\n",
       "      <td>serie-a</td>\n",
       "      <td>H</td>\n",
       "      <td>3.0</td>\n",
       "      <td>2.0</td>\n",
       "      <td>16.0</td>\n",
       "      <td>21.0</td>\n",
       "      <td>9.0</td>\n",
       "      <td>7.0</td>\n",
       "      <td>10.0</td>\n",
       "      <td>16.0</td>\n",
       "      <td>6.0</td>\n",
       "      <td>6.0</td>\n",
       "      <td>2.0</td>\n",
       "      <td>0.0</td>\n",
       "      <td>0.0</td>\n",
       "      <td>0.0</td>\n",
       "    </tr>\n",
       "  </tbody>\n",
       "</table>\n",
       "<p>12789 rows × 19 columns</p>\n",
       "</div>"
      ],
      "text/plain": [
       "            AwayTeam      Date    HomeTeam      league Full-TimeResult  \\\n",
       "0          Stuttgart  07/08/09   Wolfsburg  bundesliga               H   \n",
       "1            FC Koln  08/08/09    Dortmund  bundesliga               H   \n",
       "2           Hannover  08/08/09      Hertha  bundesliga               H   \n",
       "3      Bayern Munich  08/08/09  Hoffenheim  bundesliga               D   \n",
       "4         Leverkusen  08/08/09       Mainz  bundesliga               D   \n",
       "...              ...       ...         ...         ...             ...   \n",
       "12784        Udinese  28/05/17       Inter     serie-a               H   \n",
       "12785         Empoli  28/05/17     Palermo     serie-a               H   \n",
       "12786          Genoa  28/05/17        Roma     serie-a               H   \n",
       "12787         Napoli  28/05/17   Sampdoria     serie-a               A   \n",
       "12788       Sassuolo  28/05/17      Torino     serie-a               H   \n",
       "\n",
       "       HalfTimeHomeTeamGoals  HalfTimeAwayTeamGoals  HomeTeamShots  \\\n",
       "0                        0.0                    0.0           13.0   \n",
       "1                        0.0                    0.0           24.0   \n",
       "2                        0.0                    0.0           10.0   \n",
       "3                        1.0                    1.0            9.0   \n",
       "4                        1.0                    2.0            8.0   \n",
       "...                      ...                    ...            ...   \n",
       "12784                    3.0                    0.0           17.0   \n",
       "12785                    0.0                    0.0           10.0   \n",
       "12786                    1.0                    1.0           24.0   \n",
       "12787                    0.0                    2.0           12.0   \n",
       "12788                    3.0                    2.0           16.0   \n",
       "\n",
       "       AwayTeamShots  HomeTeamShotsonTarget  AwayTeamShotsonTarget  \\\n",
       "0               14.0                    7.0                    4.0   \n",
       "1                7.0                   11.0                    0.0   \n",
       "2               15.0                    4.0                    3.0   \n",
       "3                9.0                    1.0                    3.0   \n",
       "4               13.0                    4.0                    7.0   \n",
       "...              ...                    ...                    ...   \n",
       "12784           17.0                    6.0                    4.0   \n",
       "12785           17.0                    5.0                    4.0   \n",
       "12786           13.0                    7.0                    4.0   \n",
       "12787           22.0                    2.0                    7.0   \n",
       "12788           21.0                    9.0                    7.0   \n",
       "\n",
       "       AwayTeamCorners  HomeTeamFoulsCommitted  AwayTeamFoulsCommitted  \\\n",
       "0                  3.0                    12.0                    12.0   \n",
       "1                  1.0                     8.0                    10.0   \n",
       "2                  3.0                    16.0                    20.0   \n",
       "3                 10.0                    10.0                    28.0   \n",
       "4                  5.0                    22.0                    28.0   \n",
       "...                ...                     ...                     ...   \n",
       "12784              7.0                    15.0                     1.0   \n",
       "12785              7.0                    18.0                    16.0   \n",
       "12786              2.0                     8.0                    14.0   \n",
       "12787             10.0                     9.0                     8.0   \n",
       "12788             10.0                    16.0                     6.0   \n",
       "\n",
       "       HomeTeamCorners  HomeTeamYellowCards  AwayTeamYellowCards  \\\n",
       "0                  6.0                  0.0                  0.0   \n",
       "1                 16.0                  0.0                  1.0   \n",
       "2                  5.0                  3.0                  2.0   \n",
       "3                  3.0                  0.0                  2.0   \n",
       "4                  3.0                  1.0                  2.0   \n",
       "...                ...                  ...                  ...   \n",
       "12784              6.0                  2.0                  1.0   \n",
       "12785              0.0                  3.0                  4.0   \n",
       "12786              6.0                  2.0                  0.0   \n",
       "12787              5.0                  1.0                  0.0   \n",
       "12788              6.0                  2.0                  0.0   \n",
       "\n",
       "       HomeTeamRedCards  AwayTeamRedCards  \n",
       "0                   0.0               0.0  \n",
       "1                   0.0               0.0  \n",
       "2                   0.0               0.0  \n",
       "3                   0.0               0.0  \n",
       "4                   0.0               0.0  \n",
       "...                 ...               ...  \n",
       "12784               0.0               0.0  \n",
       "12785               0.0               0.0  \n",
       "12786               0.0               0.0  \n",
       "12787               0.0               0.0  \n",
       "12788               0.0               0.0  \n",
       "\n",
       "[12789 rows x 19 columns]"
      ]
     },
     "execution_count": 14,
     "metadata": {},
     "output_type": "execute_result"
    }
   ],
   "source": [
    "train_data"
   ]
  },
  {
   "cell_type": "markdown",
   "id": "6d75f851-bb39-45a9-8386-a82f2fe9eacf",
   "metadata": {},
   "source": [
    "## Run profile report by using y-data profiling"
   ]
  },
  {
   "cell_type": "code",
   "execution_count": 15,
   "id": "4c143827-870b-48e3-b41c-829a5dca07cd",
   "metadata": {},
   "outputs": [
    {
     "name": "stderr",
     "output_type": "stream",
     "text": [
      "Summarize dataset: 100%|██████████████████████████████████████████████████| 173/173 [00:32<00:00,  5.33it/s, Completed]\n",
      "Generate report structure: 100%|█████████████████████████████████████████████████████████| 1/1 [00:07<00:00,  7.35s/it]\n",
      "Render HTML: 100%|███████████████████████████████████████████████████████████████████████| 1/1 [00:06<00:00,  6.99s/it]\n",
      "Export report to file: 100%|█████████████████████████████████████████████████████████████| 1/1 [00:00<00:00, 31.26it/s]\n"
     ]
    }
   ],
   "source": [
    "profile = ProfileReport(train_data)\n",
    "profile.to_file(output_file=\"profile_report.html\")"
   ]
  },
  {
   "cell_type": "markdown",
   "id": "3d2c1c51-8b74-4de8-95c3-d3ec306b8b59",
   "metadata": {},
   "source": [
    "#### From profile report we saw that only 0.1% records are having null, hence safe to remove all rows containing null"
   ]
  },
  {
   "cell_type": "markdown",
   "id": "479fe7a9-7443-4540-9ffa-80967cc27827",
   "metadata": {},
   "source": [
    "## <font color='red'> Design Considerations"
   ]
  },
  {
   "cell_type": "markdown",
   "id": "006a5dae-ebc7-4098-926e-7284b7948b4d",
   "metadata": {},
   "source": [
    "##### Question\n",
    "Before we delve into details of the modelling - here one of the important thing would be to understand ***what would be the use of the model, and at what point of time?***\n",
    "\n",
    "looking at the data, we have features from half time (no. of goals) - so it might seem that we would be using the model to place a bet at half time. \n",
    "\n",
    "However we are having features like 'Home team shots' - which are likely to be end-of-game result. In that case ***what would be the benefit of predicting the result when we have already reached the end of game?***\n",
    "\n",
    "In other words, we may need to build a model which will have features at half time plus all features from earlier games and then it would try to predict the result of the current game. The current game's end-stats like no of shots, corners, fouls, etc can not be used for prediction\n",
    "\n"
   ]
  },
  {
   "cell_type": "markdown",
   "id": "46220635-4a34-47fb-b2ad-95874bef4bfd",
   "metadata": {},
   "source": [
    "### Alternative option"
   ]
  },
  {
   "cell_type": "markdown",
   "id": "054d6255-59db-42dc-ba85-7aea8e805e50",
   "metadata": {},
   "source": [
    "We can create a different model where a match result can be predicted with the information at the point of half time\n",
    "\n",
    "For that kind of model it would be best to create a timeseries of matches and then to predict the outcome of match by looking at the past N performances of the home and away team\n",
    "\n",
    "The possible structure of the model would be : \n",
    "    1. Input features for home team's past performance - aggregates of all available features, rolll-up and trend features\n",
    "    2. Similarly, input features for away team's past performance\n",
    "    3. Score at half time\n",
    "    4. Target : What would be the result at full time?\n",
    "    \n",
    "    \n",
    "For this kind of model - would be ideal to use continuous match data from past 3-4 years history. The model would have wide features and probably we can try LSTM based model or lightGBM model, depending on how we would want to use the model in production"
   ]
  },
  {
   "cell_type": "markdown",
   "id": "617972ff-01d0-4e95-8638-8bdd9fa60b87",
   "metadata": {},
   "source": [
    "#### <font color='red'> But this kind of model would take longer time to build"
   ]
  },
  {
   "cell_type": "markdown",
   "id": "bb0cf852-eda0-4d1c-be45-3d98ff82e3e2",
   "metadata": {},
   "source": [
    "## <font color='red'> For the sake of time and simplicity, currently I am building a simplistic model which will take all inputs and predict the result of the current game"
   ]
  },
  {
   "cell_type": "code",
   "execution_count": null,
   "id": "f1423550-7a4f-4123-8131-fa83278b7fbe",
   "metadata": {},
   "outputs": [],
   "source": []
  },
  {
   "cell_type": "code",
   "execution_count": 16,
   "id": "b4c5df78-33fd-43eb-86bd-061a6e0471fc",
   "metadata": {},
   "outputs": [],
   "source": [
    "\n",
    "train_data = train_data.dropna(how='any',axis=0)"
   ]
  },
  {
   "cell_type": "markdown",
   "id": "1de37fe2-dfb0-400d-8ff6-8374a851d2aa",
   "metadata": {},
   "source": [
    "### Numeric features"
   ]
  },
  {
   "cell_type": "code",
   "execution_count": 17,
   "id": "c1668ef2-6e84-4525-81fd-1935dd907184",
   "metadata": {},
   "outputs": [],
   "source": [
    "list_of_numeric_features = ['HalfTimeHomeTeamGoals'\n",
    ",'HalfTimeAwayTeamGoals'\n",
    ",'HomeTeamShots'\n",
    ",'AwayTeamShots'\n",
    ",'HomeTeamShotsonTarget'\n",
    ",'AwayTeamShotsonTarget'\n",
    ",'AwayTeamCorners'\n",
    ",'HomeTeamFoulsCommitted'\n",
    ",'AwayTeamFoulsCommitted'\n",
    ",'HomeTeamCorners'\n",
    ",'HomeTeamYellowCards'\n",
    ",'AwayTeamYellowCards'\n",
    ",'HomeTeamRedCards'\n",
    ",'AwayTeamRedCards']"
   ]
  },
  {
   "cell_type": "code",
   "execution_count": 18,
   "id": "74500dc6-2e2f-4c64-b36a-bfa0c6e3a060",
   "metadata": {},
   "outputs": [
    {
     "data": {
      "text/plain": [
       "14"
      ]
     },
     "execution_count": 18,
     "metadata": {},
     "output_type": "execute_result"
    }
   ],
   "source": [
    "len(list_of_numeric_features)"
   ]
  },
  {
   "cell_type": "markdown",
   "id": "24e7c36d-0088-4e99-b879-3fb1ff7c5fce",
   "metadata": {},
   "source": [
    "### Thoughts on feature engineering"
   ]
  },
  {
   "cell_type": "markdown",
   "id": "ef3f0726-37e9-4f77-a3ee-3b729b9c4a6d",
   "metadata": {},
   "source": [
    "    1. The performance of teams can be extrapolated from their shots accuracy\n",
    "    2. Total number of cards may indicate how aggressive a team is playing\n",
    "    3. The more number of fouls a team commits, generally indicates the opponent is keeping high pressure on the attack\n",
    "    "
   ]
  },
  {
   "cell_type": "markdown",
   "id": "d3b3d88b-bba3-4fe0-9325-aa9e6af8e763",
   "metadata": {},
   "source": [
    "### Feature Engineering : Create new columns \n",
    "    - ratio of shots on target against total shots\n",
    "    - total cards\n",
    "    - ratio of home team fouls against total fouls\n",
    "    - uplift of the percentage of shots on target between home and away team\n",
    "As example - if home team is having 30% shots on target and away team is having 10% shots on target\n",
    "then uplift = 30/10 = 3\n"
   ]
  },
  {
   "cell_type": "code",
   "execution_count": 19,
   "id": "65bd945d-1075-41df-b2d4-14c0302ccfeb",
   "metadata": {},
   "outputs": [],
   "source": [
    "def feat_eng_create_derived_feats(df):\n",
    "    \"\"\"\n",
    "    Create derived features from base features\n",
    "        - ratio of shots on target (home and away)\n",
    "        - total cards (home and away)\n",
    "        - ratio of fouls committed by home team against total fouls\n",
    "        - ratio of corners by home team against total corners\n",
    "        - uplift of the percentage of shots on target between home and away team\n",
    "    \"\"\"\n",
    "    df['HalfTimeHomeTeamGoalDiff'] = df['HalfTimeHomeTeamGoals']-df['HalfTimeAwayTeamGoals']\n",
    "    df['HomeTeamShotsOntargetRatio'] = df['HomeTeamShotsonTarget']/df['HomeTeamShots']\n",
    "    df['AwayTeamShotsOntargetRatio'] = df['AwayTeamShotsonTarget']/df['AwayTeamShots']\n",
    "    df['HomeTeamTotalCards'] = df['HomeTeamRedCards']+df['HomeTeamYellowCards']\n",
    "    df['AwayTeamTotalCards'] = df['AwayTeamRedCards']+df['AwayTeamYellowCards']\n",
    "    df['HomeTeamCornersRatio'] = df['HomeTeamCorners']/(df['HomeTeamCorners']+df['AwayTeamCorners'])\n",
    "    df['HomeTeamFoulsRatio'] = df['HomeTeamFoulsCommitted']/(df['HomeTeamFoulsCommitted']+df['AwayTeamFoulsCommitted'])\n",
    "    df['HomeTeamShotsOntargetUpliftThanAwayTeam'] = df['HomeTeamShotsOntargetRatio']/df['AwayTeamShotsOntargetRatio']\n",
    "    \n",
    "    \n",
    "    ### Handle null and infinity\n",
    "    \n",
    "        # For null values, fill by 0\n",
    "\n",
    "    \n",
    "    df['HomeTeamFoulsRatio'] = df['HomeTeamFoulsRatio'].fillna(0)\n",
    "    df['HomeTeamCornersRatio'] = df['HomeTeamCornersRatio'].fillna(0)\n",
    "    df['HomeTeamShotsOntargetUpliftThanAwayTeam'] = df['HomeTeamShotsOntargetUpliftThanAwayTeam'].fillna(0)\n",
    "    \n",
    "        # For infinity, fill by max\n",
    "    \n",
    "    max_foul_ratio = df.loc[df['HomeTeamFoulsRatio'] != np.inf, 'HomeTeamFoulsRatio'].max()\n",
    "    df['HomeTeamFoulsRatio'].replace(np.inf,max_foul_ratio,inplace=True)\n",
    "\n",
    "    max_corn_ratio = df.loc[df['HomeTeamCornersRatio'] != np.inf, 'HomeTeamCornersRatio'].max()\n",
    "    df['HomeTeamCornersRatio'].replace(np.inf,max_corn_ratio,inplace=True)\n",
    "\n",
    "    max_sot_uplift = df.loc[df['HomeTeamShotsOntargetUpliftThanAwayTeam'] != np.inf, 'HomeTeamShotsOntargetUpliftThanAwayTeam'].max()\n",
    "    df['HomeTeamShotsOntargetUpliftThanAwayTeam'].replace(np.inf,max_sot_uplift,inplace=True)\n",
    "    \n",
    "    \n",
    "    return df"
   ]
  },
  {
   "cell_type": "code",
   "execution_count": 20,
   "id": "e3574430-06b4-4932-ad3e-a960963632da",
   "metadata": {
    "tags": []
   },
   "outputs": [],
   "source": [
    "train_data = feat_eng_create_derived_feats(train_data)"
   ]
  },
  {
   "cell_type": "code",
   "execution_count": null,
   "id": "35d7623b-4f6b-4c4c-906e-8678f9a79f3c",
   "metadata": {},
   "outputs": [],
   "source": []
  },
  {
   "cell_type": "markdown",
   "id": "f4c31b0f-ea08-427e-bd89-069d915030a7",
   "metadata": {},
   "source": [
    "### Feature Engineering : Convert date like string to date format"
   ]
  },
  {
   "cell_type": "markdown",
   "id": "40bb0961-9448-4894-a602-9c7571618393",
   "metadata": {},
   "source": [
    "#### First convert 2 digit years to 4 digit year"
   ]
  },
  {
   "cell_type": "code",
   "execution_count": 21,
   "id": "2e5e22f1-148c-480b-980d-a24dd4866b4a",
   "metadata": {},
   "outputs": [],
   "source": [
    "import re"
   ]
  },
  {
   "cell_type": "code",
   "execution_count": 22,
   "id": "706ad252-3627-4471-abf9-56da903903c8",
   "metadata": {},
   "outputs": [],
   "source": [
    "def convert_to_full_date(astring):\n",
    "    \"\"\"\n",
    "    Convert date in format of 'dd/mm/yy' to 'dd/mm/yyyy'\n",
    "    \"\"\"\n",
    "    full_date = str(re.split(\"/\", astring)[0])+\"/\"+\\\n",
    "        str(re.split(\"/\", astring)[1])+\"/\"+\\\n",
    "        str(2000+int(re.split(\"/\", astring)[2]))\n",
    "    return full_date"
   ]
  },
  {
   "cell_type": "markdown",
   "id": "2b37a24e-32d4-42b3-9603-313d842ccc15",
   "metadata": {},
   "source": [
    "#### Convert to date time format"
   ]
  },
  {
   "cell_type": "code",
   "execution_count": 23,
   "id": "68bd45a3-8e25-4f3f-ab8e-a7783b387daa",
   "metadata": {},
   "outputs": [],
   "source": [
    "def feat_eng_convert_date_to_format(df):\n",
    "    \"\"\"\n",
    "    Convert date as string column to date format\n",
    "        Take dataframe and first convert date column format of 'dd/mm/yy' to 'dd/mm/yyyy'\n",
    "        Then convert string format of 'dd/mm/yyyy' to python date format\n",
    "    \"\"\"\n",
    "    ## Apply function to convert 2 digit year to 4 digit year\n",
    "    df['full_date'] = df['Date'].apply(lambda x: convert_to_full_date(x))\n",
    "    ## Convert from string to date\n",
    "    df['date'] = pd.to_datetime(df['full_date'], format='%d/%m/%Y')\n",
    "    \n",
    "    ## drop other date columns\n",
    "    df = df.drop(['Date','full_date'],axis = 1)\n",
    "    \n",
    "    return df"
   ]
  },
  {
   "cell_type": "code",
   "execution_count": 24,
   "id": "a0e00088-af05-463f-81ba-2ea37ce0d4f8",
   "metadata": {
    "tags": []
   },
   "outputs": [],
   "source": [
    "train_data = feat_eng_convert_date_to_format(train_data)"
   ]
  },
  {
   "cell_type": "code",
   "execution_count": null,
   "id": "0fbc8c6d-d927-4018-a707-b98fd292961e",
   "metadata": {},
   "outputs": [],
   "source": []
  },
  {
   "cell_type": "markdown",
   "id": "831b6519-cdd3-4243-8cbb-d9452e7427e2",
   "metadata": {},
   "source": [
    "#### Define set of numeric columns to be taken for modelling"
   ]
  },
  {
   "cell_type": "code",
   "execution_count": 25,
   "id": "178af5ed-998a-44dc-8b28-b736c93e941c",
   "metadata": {},
   "outputs": [],
   "source": [
    "#### List of columns which would be excluded\n",
    "columns_to_exclude_from_numeric = ['AwayTeam', 'HomeTeam', 'league', 'Full-TimeResult','date', 'HomeTeamWin',\n",
    " 'AwayTeamWin', 'Draw']\n",
    "\n",
    "#### List of numeric features\n",
    "extended_list_of_numeric_features = [col for col in train_data.columns if col not in columns_to_exclude_from_numeric]"
   ]
  },
  {
   "cell_type": "markdown",
   "id": "f9386d69-84fb-4b02-9d13-14a5c1ae28e2",
   "metadata": {},
   "source": [
    "#### Get list of full numeric features"
   ]
  },
  {
   "cell_type": "markdown",
   "id": "54a18603-c6eb-4d6f-a750-99afae1d6392",
   "metadata": {},
   "source": [
    "#### Fill nulls with zeros (the first N games for each of home team and away team would have nulls)"
   ]
  },
  {
   "cell_type": "code",
   "execution_count": 26,
   "id": "d60bb7de-3cce-4396-ae1f-b6f3f545345b",
   "metadata": {},
   "outputs": [],
   "source": [
    "train_data = train_data.fillna(0)"
   ]
  },
  {
   "cell_type": "code",
   "execution_count": 27,
   "id": "5d160c26-734c-434a-b0f0-f2c9ef86900e",
   "metadata": {},
   "outputs": [
    {
     "data": {
      "text/plain": [
       "22"
      ]
     },
     "execution_count": 27,
     "metadata": {},
     "output_type": "execute_result"
    }
   ],
   "source": [
    "len(extended_list_of_numeric_features)"
   ]
  },
  {
   "cell_type": "code",
   "execution_count": 28,
   "id": "44cde641-06ea-4139-8c4e-7ebeb66ef76f",
   "metadata": {},
   "outputs": [
    {
     "data": {
      "text/plain": [
       "['HalfTimeHomeTeamGoals',\n",
       " 'HalfTimeAwayTeamGoals',\n",
       " 'HomeTeamShots',\n",
       " 'AwayTeamShots',\n",
       " 'HomeTeamShotsonTarget',\n",
       " 'AwayTeamShotsonTarget',\n",
       " 'AwayTeamCorners',\n",
       " 'HomeTeamFoulsCommitted',\n",
       " 'AwayTeamFoulsCommitted',\n",
       " 'HomeTeamCorners',\n",
       " 'HomeTeamYellowCards',\n",
       " 'AwayTeamYellowCards',\n",
       " 'HomeTeamRedCards',\n",
       " 'AwayTeamRedCards',\n",
       " 'HalfTimeHomeTeamGoalDiff',\n",
       " 'HomeTeamShotsOntargetRatio',\n",
       " 'AwayTeamShotsOntargetRatio',\n",
       " 'HomeTeamTotalCards',\n",
       " 'AwayTeamTotalCards',\n",
       " 'HomeTeamCornersRatio',\n",
       " 'HomeTeamFoulsRatio',\n",
       " 'HomeTeamShotsOntargetUpliftThanAwayTeam']"
      ]
     },
     "execution_count": 28,
     "metadata": {},
     "output_type": "execute_result"
    }
   ],
   "source": [
    "extended_list_of_numeric_features"
   ]
  },
  {
   "cell_type": "markdown",
   "id": "6de61eed-0f95-4f11-b02d-240faae74834",
   "metadata": {},
   "source": [
    "#### Plot distributions for few of the top features"
   ]
  },
  {
   "cell_type": "code",
   "execution_count": 29,
   "id": "497c0b8e-f602-4a6e-ab93-dea8c43d22c0",
   "metadata": {},
   "outputs": [
    {
     "data": {
      "image/png": "[encoded data removed]",
      "text/plain": [
       "<Figure size 615.236x500 with 1 Axes>"
      ]
     },
     "metadata": {},
     "output_type": "display_data"
    }
   ],
   "source": [
    "%matplotlib inline\n",
    "sns.displot(train_data, x='HalfTimeHomeTeamGoals',hue='Full-TimeResult',kind=\"kde\")\n",
    "plt.show()"
   ]
  },
  {
   "cell_type": "code",
   "execution_count": 30,
   "id": "95581990-dbe5-4ab5-8fe1-f9c5c5cd8a6d",
   "metadata": {},
   "outputs": [
    {
     "data": {
      "image/png": "[encoded data removed]",
      "text/plain": [
       "<Figure size 615.236x500 with 1 Axes>"
      ]
     },
     "metadata": {},
     "output_type": "display_data"
    }
   ],
   "source": [
    "%matplotlib inline\n",
    "sns.displot(train_data, x='HalfTimeHomeTeamGoalDiff',hue='Full-TimeResult',kind=\"kde\")\n",
    "plt.show()"
   ]
  },
  {
   "cell_type": "markdown",
   "id": "e04328ab-5062-4127-b088-4ca370fdfe86",
   "metadata": {},
   "source": [
    "### Observation : If by half time home team is having a higher number of goals than away team, then it is more probable to win"
   ]
  },
  {
   "cell_type": "markdown",
   "id": "8e0b801e-e74f-40fa-b6b9-33f76d7388a7",
   "metadata": {},
   "source": [
    "### Only categorical column to convert is 'league'"
   ]
  },
  {
   "cell_type": "markdown",
   "id": "ee3e7712-3ee9-4194-9a80-88c4c56641dd",
   "metadata": {},
   "source": [
    "#### Run chi-squared test to see if the feature may be discarded following agreement to null hypothesis"
   ]
  },
  {
   "cell_type": "code",
   "execution_count": 31,
   "id": "29309d2f-134f-4ef1-b804-f4ba881076d9",
   "metadata": {},
   "outputs": [],
   "source": [
    "from scipy.stats import chi2_contingency"
   ]
  },
  {
   "cell_type": "code",
   "execution_count": 32,
   "id": "7b20c0e3-8700-4e8c-a5ad-c9452749e479",
   "metadata": {},
   "outputs": [
    {
     "data": {
      "text/html": [
       "<div>\n",
       "<style scoped>\n",
       "    .dataframe tbody tr th:only-of-type {\n",
       "        vertical-align: middle;\n",
       "    }\n",
       "\n",
       "    .dataframe tbody tr th {\n",
       "        vertical-align: top;\n",
       "    }\n",
       "\n",
       "    .dataframe thead th {\n",
       "        text-align: right;\n",
       "    }\n",
       "</style>\n",
       "<table border=\"1\" class=\"dataframe\">\n",
       "  <thead>\n",
       "    <tr style=\"text-align: right;\">\n",
       "      <th>league</th>\n",
       "      <th>bundesliga</th>\n",
       "      <th>la-liga</th>\n",
       "      <th>ligue-1</th>\n",
       "      <th>premier-league</th>\n",
       "      <th>serie-a</th>\n",
       "    </tr>\n",
       "    <tr>\n",
       "      <th>Full-TimeResult</th>\n",
       "      <th></th>\n",
       "      <th></th>\n",
       "      <th></th>\n",
       "      <th></th>\n",
       "      <th></th>\n",
       "    </tr>\n",
       "  </thead>\n",
       "  <tbody>\n",
       "    <tr>\n",
       "      <th>A</th>\n",
       "      <td>644</td>\n",
       "      <td>733</td>\n",
       "      <td>713</td>\n",
       "      <td>743</td>\n",
       "      <td>731</td>\n",
       "    </tr>\n",
       "    <tr>\n",
       "      <th>D</th>\n",
       "      <td>533</td>\n",
       "      <td>624</td>\n",
       "      <td>733</td>\n",
       "      <td>692</td>\n",
       "      <td>700</td>\n",
       "    </tr>\n",
       "    <tr>\n",
       "      <th>H</th>\n",
       "      <td>965</td>\n",
       "      <td>1303</td>\n",
       "      <td>1211</td>\n",
       "      <td>1225</td>\n",
       "      <td>1226</td>\n",
       "    </tr>\n",
       "  </tbody>\n",
       "</table>\n",
       "</div>"
      ],
      "text/plain": [
       "league           bundesliga  la-liga  ligue-1  premier-league  serie-a\n",
       "Full-TimeResult                                                       \n",
       "A                       644      733      713             743      731\n",
       "D                       533      624      733             692      700\n",
       "H                       965     1303     1211            1225     1226"
      ]
     },
     "execution_count": 32,
     "metadata": {},
     "output_type": "execute_result"
    }
   ],
   "source": [
    "contigency= pd.crosstab(train_data['Full-TimeResult'], train_data['league'])\n",
    "contigency"
   ]
  },
  {
   "cell_type": "code",
   "execution_count": 33,
   "id": "0f4fc3f8-f3e9-444c-85cf-205dca71876c",
   "metadata": {},
   "outputs": [],
   "source": [
    "c, p, dof, expected = chi2_contingency(contigency)"
   ]
  },
  {
   "cell_type": "code",
   "execution_count": 34,
   "id": "3f69d241-dfa7-4509-bfd8-bb95ae16c61e",
   "metadata": {},
   "outputs": [
    {
     "data": {
      "text/plain": [
       "0.010051661356323145"
      ]
     },
     "execution_count": 34,
     "metadata": {},
     "output_type": "execute_result"
    }
   ],
   "source": [
    "p"
   ]
  },
  {
   "cell_type": "markdown",
   "id": "1b217be8-121e-4401-b3d2-b942259c218e",
   "metadata": {},
   "source": [
    "#### As p-value is 0.01, we can not reject the feature - so have to dummify it"
   ]
  },
  {
   "cell_type": "markdown",
   "id": "a8f5f9d7-ecaf-4ca2-af13-a5ef357a2f7e",
   "metadata": {},
   "source": [
    "#### Seperate out all numeric features first"
   ]
  },
  {
   "cell_type": "code",
   "execution_count": 35,
   "id": "837fbe74-3509-4871-9324-ad69f5cd1ddf",
   "metadata": {},
   "outputs": [],
   "source": [
    "model_data_numeric = train_data[extended_list_of_numeric_features]"
   ]
  },
  {
   "cell_type": "markdown",
   "id": "fca06b28-f5a1-4821-ba3b-62c9b435204d",
   "metadata": {},
   "source": [
    "#### Dummyfy categorical feature and join back with model data"
   ]
  },
  {
   "cell_type": "code",
   "execution_count": 36,
   "id": "9980335d-099b-4fed-8f86-7ccd326486a4",
   "metadata": {},
   "outputs": [],
   "source": [
    "dummies_data = pd.get_dummies(train_data.league)\n",
    "model_data_combined = pd.concat([model_data_numeric, dummies_data],axis=1)"
   ]
  },
  {
   "cell_type": "markdown",
   "id": "4af3de3b-0559-405f-b320-e8ff8c22c679",
   "metadata": {},
   "source": [
    "#### Define target for model data"
   ]
  },
  {
   "cell_type": "code",
   "execution_count": 37,
   "id": "1ce7f3be-e053-46c1-9ba4-133dd03222d1",
   "metadata": {},
   "outputs": [],
   "source": [
    "\n",
    "model_data_combined['Target'] = train_data['Full-TimeResult']"
   ]
  },
  {
   "cell_type": "markdown",
   "id": "b3ecf4fe-4372-4505-8563-49db90a0cf1b",
   "metadata": {},
   "source": [
    "#### Define model input features"
   ]
  },
  {
   "cell_type": "code",
   "execution_count": 38,
   "id": "6649c6bf-34d4-41b1-ad23-cc05ce72531b",
   "metadata": {},
   "outputs": [],
   "source": [
    "model_input_features = list(model_data_combined.columns.drop('Target'))"
   ]
  },
  {
   "cell_type": "code",
   "execution_count": 39,
   "id": "c09e5c96-1047-4683-b3db-5509c42eaef7",
   "metadata": {
    "tags": []
   },
   "outputs": [
    {
     "data": {
      "text/plain": [
       "27"
      ]
     },
     "execution_count": 39,
     "metadata": {},
     "output_type": "execute_result"
    }
   ],
   "source": [
    "len(model_input_features)"
   ]
  },
  {
   "cell_type": "code",
   "execution_count": 40,
   "id": "2df8b7db-0d7c-4d7e-a733-d75486890709",
   "metadata": {},
   "outputs": [
    {
     "data": {
      "text/plain": [
       "['HalfTimeHomeTeamGoals',\n",
       " 'HalfTimeAwayTeamGoals',\n",
       " 'HomeTeamShots',\n",
       " 'AwayTeamShots',\n",
       " 'HomeTeamShotsonTarget',\n",
       " 'AwayTeamShotsonTarget',\n",
       " 'AwayTeamCorners',\n",
       " 'HomeTeamFoulsCommitted',\n",
       " 'AwayTeamFoulsCommitted',\n",
       " 'HomeTeamCorners',\n",
       " 'HomeTeamYellowCards',\n",
       " 'AwayTeamYellowCards',\n",
       " 'HomeTeamRedCards',\n",
       " 'AwayTeamRedCards',\n",
       " 'HalfTimeHomeTeamGoalDiff',\n",
       " 'HomeTeamShotsOntargetRatio',\n",
       " 'AwayTeamShotsOntargetRatio',\n",
       " 'HomeTeamTotalCards',\n",
       " 'AwayTeamTotalCards',\n",
       " 'HomeTeamCornersRatio',\n",
       " 'HomeTeamFoulsRatio',\n",
       " 'HomeTeamShotsOntargetUpliftThanAwayTeam',\n",
       " 'bundesliga',\n",
       " 'la-liga',\n",
       " 'ligue-1',\n",
       " 'premier-league',\n",
       " 'serie-a']"
      ]
     },
     "execution_count": 40,
     "metadata": {},
     "output_type": "execute_result"
    }
   ],
   "source": [
    "model_input_features"
   ]
  },
  {
   "cell_type": "markdown",
   "id": "27ae97b2-9609-40b3-9625-feff5abe20c3",
   "metadata": {},
   "source": [
    "## Feature engineering complete"
   ]
  },
  {
   "cell_type": "markdown",
   "id": "f055a124-f44a-4ac0-a50a-676f98b4ae33",
   "metadata": {},
   "source": [
    "## Modelling"
   ]
  },
  {
   "cell_type": "markdown",
   "id": "8e014c08-42b1-4134-b3c1-32276cfe3496",
   "metadata": {},
   "source": [
    "#### Install lightgbm"
   ]
  },
  {
   "cell_type": "code",
   "execution_count": 41,
   "id": "0a548313-d99b-4e81-a272-957a036218e1",
   "metadata": {
    "collapsed": true,
    "jupyter": {
     "outputs_hidden": true
    },
    "tags": []
   },
   "outputs": [
    {
     "name": "stdout",
     "output_type": "stream",
     "text": [
      "Requirement already satisfied: lightgbm in c:\\users\\user\\appdata\\local\\programs\\python\\python311\\lib\\site-packages (3.3.3)"
     ]
    },
    {
     "name": "stderr",
     "output_type": "stream",
     "text": [
      "\n",
      "[notice] A new release of pip is available: 23.0.1 -> 23.2.1\n",
      "[notice] To update, run: python.exe -m pip install --upgrade pip\n"
     ]
    },
    {
     "name": "stdout",
     "output_type": "stream",
     "text": [
      "\n",
      "Requirement already satisfied: wheel in c:\\users\\user\\appdata\\local\\programs\\python\\python311\\lib\\site-packages (from lightgbm) (0.38.4)\n",
      "Requirement already satisfied: numpy in c:\\users\\user\\appdata\\local\\programs\\python\\python311\\lib\\site-packages (from lightgbm) (1.23.5)\n",
      "Requirement already satisfied: scipy in c:\\users\\user\\appdata\\local\\programs\\python\\python311\\lib\\site-packages (from lightgbm) (1.9.3)\n",
      "Requirement already satisfied: scikit-learn!=0.22.0 in c:\\users\\user\\appdata\\local\\programs\\python\\python311\\lib\\site-packages (from lightgbm) (1.2.0)\n",
      "Requirement already satisfied: joblib>=1.1.1 in c:\\users\\user\\appdata\\local\\programs\\python\\python311\\lib\\site-packages (from scikit-learn!=0.22.0->lightgbm) (1.1.1)\n",
      "Requirement already satisfied: threadpoolctl>=2.0.0 in c:\\users\\user\\appdata\\local\\programs\\python\\python311\\lib\\site-packages (from scikit-learn!=0.22.0->lightgbm) (3.1.0)\n"
     ]
    }
   ],
   "source": [
    "!pip install lightgbm"
   ]
  },
  {
   "cell_type": "markdown",
   "id": "6a1ef5f4-430d-4897-a6dd-690c082a60af",
   "metadata": {},
   "source": [
    "#### Import packages for modelling"
   ]
  },
  {
   "cell_type": "code",
   "execution_count": 42,
   "id": "cb9c9d96-168a-4f8f-8665-9ac2b9fb5bcf",
   "metadata": {},
   "outputs": [],
   "source": [
    "from sklearn.preprocessing import MinMaxScaler, LabelEncoder\n",
    "from sklearn.model_selection import train_test_split,cross_val_score,GridSearchCV\n",
    "\n",
    "from sklearn.metrics import *\n",
    "\n",
    "import lightgbm as lgb"
   ]
  },
  {
   "cell_type": "markdown",
   "id": "3421f28c-b2b9-4129-a2fc-1eb2f0fa42db",
   "metadata": {},
   "source": [
    "#### Split dataset in train-test set with 80:20 ratio"
   ]
  },
  {
   "cell_type": "code",
   "execution_count": 43,
   "id": "7c24cdc2-8309-4ef4-9079-769fc26f6511",
   "metadata": {},
   "outputs": [],
   "source": [
    "X_train, X_test, y_train, y_test = train_test_split(model_data_combined, model_data_combined.Target, test_size=0.2, random_state=42)"
   ]
  },
  {
   "cell_type": "markdown",
   "id": "a560f5fd-63b7-424f-b544-d51b382ac26d",
   "metadata": {},
   "source": [
    "#### Scale input variables"
   ]
  },
  {
   "cell_type": "code",
   "execution_count": 44,
   "id": "c8aaa078-217d-4d94-9e7d-4a1acec3a626",
   "metadata": {},
   "outputs": [],
   "source": [
    "scaler = MinMaxScaler()\n",
    "scaler.fit(X_train[model_input_features])\n",
    "X_train_scaled = scaler.transform(X_train[model_input_features])\n",
    "X_test_scaled = scaler.transform(X_test[model_input_features])"
   ]
  },
  {
   "cell_type": "markdown",
   "id": "eb86656b-4f42-466e-a930-55c78d39c3e9",
   "metadata": {},
   "source": [
    "#### Label encode target column"
   ]
  },
  {
   "cell_type": "code",
   "execution_count": 45,
   "id": "f9969d8f-251e-487c-bd3c-b90dcb2981b9",
   "metadata": {},
   "outputs": [],
   "source": [
    "enc = LabelEncoder()\n",
    "enc_fitted = enc.fit(y_train)\n",
    "y_train_encoded = enc_fitted.transform(y_train)\n",
    "y_test_encoded = enc_fitted.transform(y_test)"
   ]
  },
  {
   "cell_type": "markdown",
   "id": "0f26b638-cd12-4d4c-9c98-06ad380671d0",
   "metadata": {},
   "source": [
    "#### Define model object"
   ]
  },
  {
   "cell_type": "code",
   "execution_count": 46,
   "id": "08cb2328-2b8e-459c-ad2d-21ac16190288",
   "metadata": {},
   "outputs": [],
   "source": [
    "classifier = lgb.LGBMClassifier(\n",
    "            objective= 'multiclass',metric='multi_error',n_jobs=-1,\n",
    "            num_class=3,\n",
    "            n_estimators = 500)"
   ]
  },
  {
   "cell_type": "markdown",
   "id": "082b1921-c3ba-4b30-916d-6852b43280e3",
   "metadata": {},
   "source": [
    "#### Define grid search parameters and cross validation"
   ]
  },
  {
   "cell_type": "code",
   "execution_count": 47,
   "id": "13573e24-524e-4024-97ca-6295c2e10192",
   "metadata": {},
   "outputs": [],
   "source": [
    "grid_param = {\n",
    "    'subsample': [0.5,0.6,0.7,0.8],\n",
    "    'max_depth': [3,4,5,7,9],\n",
    "    'feature_fraction': [0.5,0.6,0.7,0.8],\n",
    "    'learning_rate' : [0.008,1e-5,1e-6]\n",
    "}\n",
    "\n",
    "#### Setting best parameter for final model \n",
    "# # {'feature_fraction': 0.6, 'learning_rate': 0.008, 'max_depth': 4, 'subsample': 0.5}\n",
    "# grid_param = {\n",
    "#     'subsample': [0.5],\n",
    "#     'max_depth': [4],\n",
    "#     'feature_fraction': [0.6],\n",
    "#     'learning_rate' : [0.008]\n",
    "# }\n",
    "\n",
    "model_grid = GridSearchCV(estimator=classifier,\n",
    "                     param_grid=grid_param,\n",
    "                     scoring='accuracy',\n",
    "                     cv=4,\n",
    "                     n_jobs=-1)"
   ]
  },
  {
   "cell_type": "code",
   "execution_count": 48,
   "id": "d9fb193a-6219-41ed-a694-610a47842e9f",
   "metadata": {},
   "outputs": [],
   "source": [
    "import time"
   ]
  },
  {
   "cell_type": "markdown",
   "id": "40db2fd9-3453-48cb-bcc1-3b2c0ca626d8",
   "metadata": {},
   "source": [
    "#### Train model with cv and grid-search"
   ]
  },
  {
   "cell_type": "code",
   "execution_count": 49,
   "id": "0e1666d0-ed96-4e2b-b4ae-f9a57c903767",
   "metadata": {},
   "outputs": [
    {
     "name": "stdout",
     "output_type": "stream",
     "text": [
      "[LightGBM] [Warning] feature_fraction is set=0.6, colsample_bytree=1.0 will be ignored. Current value: feature_fraction=0.6\n",
      "time taken to train : 13.658999681472778\n"
     ]
    }
   ],
   "source": [
    "start_time = time.time()\n",
    "\n",
    "model_grid.fit(X_train_scaled, y_train_encoded)\n",
    "end_time = time.time()\n",
    "\n",
    "print('time taken to train :',end_time-start_time)"
   ]
  },
  {
   "cell_type": "code",
   "execution_count": null,
   "id": "d41d4a8e-a4f9-4463-89eb-8c462dcd8aba",
   "metadata": {},
   "outputs": [],
   "source": []
  },
  {
   "cell_type": "markdown",
   "id": "abe267e5-b012-419d-8b62-f6938186ec42",
   "metadata": {},
   "source": [
    "#### What are the best parameters?"
   ]
  },
  {
   "cell_type": "code",
   "execution_count": 50,
   "id": "9b3f2145-701d-473b-a015-f04421209e0d",
   "metadata": {},
   "outputs": [
    {
     "name": "stdout",
     "output_type": "stream",
     "text": [
      "{'feature_fraction': 0.6, 'learning_rate': 0.008, 'max_depth': 4, 'subsample': 0.5}\n"
     ]
    }
   ],
   "source": [
    "best_parameters = model_grid.best_params_\n",
    "print(best_parameters)"
   ]
  },
  {
   "cell_type": "code",
   "execution_count": 51,
   "id": "136637fa-6703-4f90-a97b-620e555f5618",
   "metadata": {},
   "outputs": [
    {
     "data": {
      "text/html": [
       "<style>#sk-container-id-1 {color: black;background-color: white;}#sk-container-id-1 pre{padding: 0;}#sk-container-id-1 div.sk-toggleable {background-color: white;}#sk-container-id-1 label.sk-toggleable__label {cursor: pointer;display: block;width: 100%;margin-bottom: 0;padding: 0.3em;box-sizing: border-box;text-align: center;}#sk-container-id-1 label.sk-toggleable__label-arrow:before {content: \"▸\";float: left;margin-right: 0.25em;color: #696969;}#sk-container-id-1 label.sk-toggleable__label-arrow:hover:before {color: black;}#sk-container-id-1 div.sk-estimator:hover label.sk-toggleable__label-arrow:before {color: black;}#sk-container-id-1 div.sk-toggleable__content {max-height: 0;max-width: 0;overflow: hidden;text-align: left;background-color: #f0f8ff;}#sk-container-id-1 div.sk-toggleable__content pre {margin: 0.2em;color: black;border-radius: 0.25em;background-color: #f0f8ff;}#sk-container-id-1 input.sk-toggleable__control:checked~div.sk-toggleable__content {max-height: 200px;max-width: 100%;overflow: auto;}#sk-container-id-1 input.sk-toggleable__control:checked~label.sk-toggleable__label-arrow:before {content: \"▾\";}#sk-container-id-1 div.sk-estimator input.sk-toggleable__control:checked~label.sk-toggleable__label {background-color: #d4ebff;}#sk-container-id-1 div.sk-label input.sk-toggleable__control:checked~label.sk-toggleable__label {background-color: #d4ebff;}#sk-container-id-1 input.sk-hidden--visually {border: 0;clip: rect(1px 1px 1px 1px);clip: rect(1px, 1px, 1px, 1px);height: 1px;margin: -1px;overflow: hidden;padding: 0;position: absolute;width: 1px;}#sk-container-id-1 div.sk-estimator {font-family: monospace;background-color: #f0f8ff;border: 1px dotted black;border-radius: 0.25em;box-sizing: border-box;margin-bottom: 0.5em;}#sk-container-id-1 div.sk-estimator:hover {background-color: #d4ebff;}#sk-container-id-1 div.sk-parallel-item::after {content: \"\";width: 100%;border-bottom: 1px solid gray;flex-grow: 1;}#sk-container-id-1 div.sk-label:hover label.sk-toggleable__label {background-color: #d4ebff;}#sk-container-id-1 div.sk-serial::before {content: \"\";position: absolute;border-left: 1px solid gray;box-sizing: border-box;top: 0;bottom: 0;left: 50%;z-index: 0;}#sk-container-id-1 div.sk-serial {display: flex;flex-direction: column;align-items: center;background-color: white;padding-right: 0.2em;padding-left: 0.2em;position: relative;}#sk-container-id-1 div.sk-item {position: relative;z-index: 1;}#sk-container-id-1 div.sk-parallel {display: flex;align-items: stretch;justify-content: center;background-color: white;position: relative;}#sk-container-id-1 div.sk-item::before, #sk-container-id-1 div.sk-parallel-item::before {content: \"\";position: absolute;border-left: 1px solid gray;box-sizing: border-box;top: 0;bottom: 0;left: 50%;z-index: -1;}#sk-container-id-1 div.sk-parallel-item {display: flex;flex-direction: column;z-index: 1;position: relative;background-color: white;}#sk-container-id-1 div.sk-parallel-item:first-child::after {align-self: flex-end;width: 50%;}#sk-container-id-1 div.sk-parallel-item:last-child::after {align-self: flex-start;width: 50%;}#sk-container-id-1 div.sk-parallel-item:only-child::after {width: 0;}#sk-container-id-1 div.sk-dashed-wrapped {border: 1px dashed gray;margin: 0 0.4em 0.5em 0.4em;box-sizing: border-box;padding-bottom: 0.4em;background-color: white;}#sk-container-id-1 div.sk-label label {font-family: monospace;font-weight: bold;display: inline-block;line-height: 1.2em;}#sk-container-id-1 div.sk-label-container {text-align: center;}#sk-container-id-1 div.sk-container {/* jupyter's `normalize.less` sets `[hidden] { display: none; }` but bootstrap.min.css set `[hidden] { display: none !important; }` so we also need the `!important` here to be able to override the default hidden behavior on the sphinx rendered scikit-learn.org. See: https://github.com/scikit-learn/scikit-learn/issues/21755 */display: inline-block !important;position: relative;}#sk-container-id-1 div.sk-text-repr-fallback {display: none;}</style><div id=\"sk-container-id-1\" class=\"sk-top-container\"><div class=\"sk-text-repr-fallback\"><pre>LGBMClassifier(feature_fraction=0.6, learning_rate=0.008, max_depth=4,\n",
       "               metric=&#x27;multi_error&#x27;, n_estimators=500, num_class=3,\n",
       "               objective=&#x27;multiclass&#x27;, subsample=0.5)</pre><b>In a Jupyter environment, please rerun this cell to show the HTML representation or trust the notebook. <br />On GitHub, the HTML representation is unable to render, please try loading this page with nbviewer.org.</b></div><div class=\"sk-container\" hidden><div class=\"sk-item\"><div class=\"sk-estimator sk-toggleable\"><input class=\"sk-toggleable__control sk-hidden--visually\" id=\"sk-estimator-id-1\" type=\"checkbox\" checked><label for=\"sk-estimator-id-1\" class=\"sk-toggleable__label sk-toggleable__label-arrow\">LGBMClassifier</label><div class=\"sk-toggleable__content\"><pre>LGBMClassifier(feature_fraction=0.6, learning_rate=0.008, max_depth=4,\n",
       "               metric=&#x27;multi_error&#x27;, n_estimators=500, num_class=3,\n",
       "               objective=&#x27;multiclass&#x27;, subsample=0.5)</pre></div></div></div></div></div>"
      ],
      "text/plain": [
       "LGBMClassifier(feature_fraction=0.6, learning_rate=0.008, max_depth=4,\n",
       "               metric='multi_error', n_estimators=500, num_class=3,\n",
       "               objective='multiclass', subsample=0.5)"
      ]
     },
     "execution_count": 51,
     "metadata": {},
     "output_type": "execute_result"
    }
   ],
   "source": [
    "model_grid.best_estimator_"
   ]
  },
  {
   "cell_type": "code",
   "execution_count": null,
   "id": "a5e8fcd7-df5f-4f3c-9ec7-8b9372149402",
   "metadata": {},
   "outputs": [],
   "source": []
  },
  {
   "cell_type": "code",
   "execution_count": null,
   "id": "9fa39ec4-cf03-4d60-b7b7-582b0342ee23",
   "metadata": {},
   "outputs": [],
   "source": [
    "\n"
   ]
  },
  {
   "cell_type": "markdown",
   "id": "1ae0bfbf-ed43-4115-a055-7d3ab779ad7a",
   "metadata": {},
   "source": [
    "#### Predict train and test data and calculate accuracy"
   ]
  },
  {
   "cell_type": "code",
   "execution_count": 52,
   "id": "2aac7990-bc83-4eb2-bd65-9684e657760b",
   "metadata": {},
   "outputs": [
    {
     "name": "stdout",
     "output_type": "stream",
     "text": [
      "train set accuracy :  0.6822896281800391\n",
      "test set accuracy :  0.6647104851330203\n"
     ]
    }
   ],
   "source": [
    "\n",
    "pred_train = model_grid.predict(X_train_scaled)\n",
    "pred_test = model_grid.predict(X_test_scaled)\n",
    "\n",
    "print('train set accuracy : ',accuracy_score(y_train_encoded,pred_train))\n",
    "print('test set accuracy : ',accuracy_score(y_test_encoded,pred_test))\n"
   ]
  },
  {
   "cell_type": "markdown",
   "id": "09307064-6ae4-4cc7-af3e-76239add0778",
   "metadata": {},
   "source": [
    "#### Best model:\n",
    "    train set accuracy :  68%\n",
    "    test set accuracy :  66%"
   ]
  },
  {
   "cell_type": "markdown",
   "id": "c6248ea1-a4a2-4ed7-b506-1e86c8fc2849",
   "metadata": {},
   "source": [
    "#### Save model artefacts and list of input features for future use"
   ]
  },
  {
   "cell_type": "code",
   "execution_count": 53,
   "id": "165f9e45-230f-481b-a3e7-6b2464a87c1e",
   "metadata": {},
   "outputs": [],
   "source": [
    "import joblib"
   ]
  },
  {
   "cell_type": "code",
   "execution_count": 54,
   "id": "0637a5c3-a05d-4aa5-a05b-2fc32c240cdf",
   "metadata": {},
   "outputs": [
    {
     "data": {
      "text/plain": [
       "['list_of_all_input_features']"
      ]
     },
     "execution_count": 54,
     "metadata": {},
     "output_type": "execute_result"
    }
   ],
   "source": [
    "joblib.dump(model_grid.best_estimator_, 'trained_model.pkl')\n",
    "joblib.dump(enc_fitted, 'target_encoder.pkl')\n",
    "joblib.dump(scaler, 'fitted_scaler.pkl')\n",
    "joblib.dump(extended_list_of_numeric_features, 'list_of_numeric_features')\n",
    "joblib.dump(model_input_features, 'list_of_all_input_features')"
   ]
  },
  {
   "cell_type": "markdown",
   "id": "57f82875-9861-4314-8be0-62a264b02ed9",
   "metadata": {},
   "source": [
    "## Here we can see model is robust, not overfitting (due to cross validation tests)\n",
    "### We can expect the model to perform with 66%-68% accuracy over unseen data"
   ]
  },
  {
   "cell_type": "markdown",
   "id": "56925d17-48b2-406c-a4e0-afc17ef5881f",
   "metadata": {},
   "source": [
    "#### Create confusion matrix"
   ]
  },
  {
   "cell_type": "code",
   "execution_count": 55,
   "id": "25cae17b-fe18-4c31-80aa-4e888faea62e",
   "metadata": {},
   "outputs": [],
   "source": [
    "y_pred_test = enc_fitted.inverse_transform(pred_test)\n",
    "conf_mat = confusion_matrix(y_test, y_pred_test)\n",
    "conf_mat_df = pd.DataFrame(conf_mat,\n",
    "                     index = ['Away_Win','Draw','Home_Win'], \n",
    "                     columns = ['Away_Win','Draw','Home_Win'])\n",
    "\n"
   ]
  },
  {
   "cell_type": "markdown",
   "id": "5b8e8a83-4b86-4527-a2bc-265d198c34d4",
   "metadata": {},
   "source": [
    "#### Plot hitmap with conf-matrix"
   ]
  },
  {
   "cell_type": "code",
   "execution_count": 56,
   "id": "8dbb3d76-7085-476e-bc9f-56d2f95b497f",
   "metadata": {},
   "outputs": [
    {
     "data": {
      "text/plain": [
       "Text(0.5, 14.581597222222216, 'Predicted Results')"
      ]
     },
     "execution_count": 56,
     "metadata": {},
     "output_type": "execute_result"
    },
    {
     "data": {
      "image/png": "[encoded data removed]",
      "text/plain": [
       "<Figure size 500x400 with 2 Axes>"
      ]
     },
     "metadata": {},
     "output_type": "display_data"
    }
   ],
   "source": [
    "plt.figure(figsize=(5,4))\n",
    "sns.heatmap(conf_mat_df, annot=True)\n",
    "plt.ylabel('Actal Results')\n",
    "plt.xlabel('Predicted Results')"
   ]
  },
  {
   "cell_type": "code",
   "execution_count": 57,
   "id": "4295272d-bc8a-4a0a-8c44-f48d3e1534fb",
   "metadata": {},
   "outputs": [
    {
     "data": {
      "text/html": [
       "<div>\n",
       "<style scoped>\n",
       "    .dataframe tbody tr th:only-of-type {\n",
       "        vertical-align: middle;\n",
       "    }\n",
       "\n",
       "    .dataframe tbody tr th {\n",
       "        vertical-align: top;\n",
       "    }\n",
       "\n",
       "    .dataframe thead th {\n",
       "        text-align: right;\n",
       "    }\n",
       "</style>\n",
       "<table border=\"1\" class=\"dataframe\">\n",
       "  <thead>\n",
       "    <tr style=\"text-align: right;\">\n",
       "      <th></th>\n",
       "      <th>Away_Win</th>\n",
       "      <th>Draw</th>\n",
       "      <th>Home_Win</th>\n",
       "    </tr>\n",
       "  </thead>\n",
       "  <tbody>\n",
       "    <tr>\n",
       "      <th>Away_Win</th>\n",
       "      <td>516</td>\n",
       "      <td>66</td>\n",
       "      <td>124</td>\n",
       "    </tr>\n",
       "    <tr>\n",
       "      <th>Draw</th>\n",
       "      <td>185</td>\n",
       "      <td>175</td>\n",
       "      <td>308</td>\n",
       "    </tr>\n",
       "    <tr>\n",
       "      <th>Home_Win</th>\n",
       "      <td>71</td>\n",
       "      <td>103</td>\n",
       "      <td>1008</td>\n",
       "    </tr>\n",
       "  </tbody>\n",
       "</table>\n",
       "</div>"
      ],
      "text/plain": [
       "          Away_Win  Draw  Home_Win\n",
       "Away_Win       516    66       124\n",
       "Draw           185   175       308\n",
       "Home_Win        71   103      1008"
      ]
     },
     "execution_count": 57,
     "metadata": {},
     "output_type": "execute_result"
    }
   ],
   "source": [
    "conf_mat_df"
   ]
  },
  {
   "cell_type": "markdown",
   "id": "96c3bdef-b143-405a-8e70-0438a46032ac",
   "metadata": {},
   "source": [
    "### Calculate prevalance and model precision\n",
    "#### Ideally if model is better than \"random guess\", then precision would be higher than prevalance"
   ]
  },
  {
   "cell_type": "code",
   "execution_count": 58,
   "id": "4f1bcbd9-d9a9-48dc-ab0a-e096c1824acb",
   "metadata": {},
   "outputs": [
    {
     "name": "stdout",
     "output_type": "stream",
     "text": [
      "=====Home Win======\n",
      "home_win_prevalance: 0.4624413145539906\n",
      "home_win_precision: 0.7\n",
      "home_win_uplift_by_model: 1.5137055837563451\n",
      "=====Away Win======\n",
      "away_win_prevalance: 0.2762128325508607\n",
      "away_win_precision: 0.6683937823834197\n",
      "away_win_uplift_by_model: 2.419850577580766\n",
      "=====Draw======\n",
      "draw_prevalance: 0.26134585289514867\n",
      "draw_precision: 0.5087209302325582\n",
      "draw_uplift_by_model: 1.9465429605904472\n"
     ]
    }
   ],
   "source": [
    "print(\"=====Home Win======\")\n",
    "home_win_prevalance = y_test.value_counts()[0]/len(y_test)\n",
    "print('home_win_prevalance:',home_win_prevalance)\n",
    "home_win_precision = conf_mat_df['Home_Win']['Home_Win']/np.sum(conf_mat_df['Home_Win'])\n",
    "print('home_win_precision:',home_win_precision)\n",
    "print('home_win_uplift_by_model:',home_win_precision/home_win_prevalance)\n",
    "\n",
    "print(\"=====Away Win======\")\n",
    "away_win_prevalance = y_test.value_counts()[1]/len(y_test)\n",
    "print('away_win_prevalance:',away_win_prevalance)\n",
    "away_win_precision = conf_mat_df['Away_Win']['Away_Win']/np.sum(conf_mat_df['Away_Win'])\n",
    "print('away_win_precision:',away_win_precision)\n",
    "print('away_win_uplift_by_model:',away_win_precision/away_win_prevalance)\n",
    "\n",
    "print(\"=====Draw======\")\n",
    "draw_prevalance = y_test.value_counts()[2]/len(y_test)\n",
    "print('draw_prevalance:',draw_prevalance)\n",
    "draw_precision = conf_mat_df['Draw']['Draw']/np.sum(conf_mat_df['Draw'])\n",
    "print('draw_precision:',draw_precision)\n",
    "print('draw_uplift_by_model:',draw_precision/draw_prevalance)"
   ]
  },
  {
   "cell_type": "markdown",
   "id": "a94c7e58-196c-4c5f-9721-25f0538a5cd9",
   "metadata": {},
   "source": [
    "\n",
    "## Model is having clear uplift from baseline random guess\n",
    "\n",
    "    - Home team win uplift by ~1.5 times\n",
    "    - Away team win uplift by ~2.4 times\n",
    "    - Draw uplift by ~2 times\n"
   ]
  },
  {
   "cell_type": "markdown",
   "id": "4a25c631-65d9-4cd3-89f3-7a5c60b5a011",
   "metadata": {},
   "source": [
    "## Feature importance analysis"
   ]
  },
  {
   "cell_type": "markdown",
   "id": "5f85c693-107a-4435-88a8-79794f0864cb",
   "metadata": {},
   "source": [
    "#### Feature importance from lightgbm model"
   ]
  },
  {
   "cell_type": "markdown",
   "id": "8877afa0-453c-40a2-9322-095b0a3ac12b",
   "metadata": {},
   "source": [
    "Create feature importance dataframe with features and their correspnsing importance"
   ]
  },
  {
   "cell_type": "code",
   "execution_count": 59,
   "id": "97389c34-ec61-43ad-aade-f4cdd6427812",
   "metadata": {},
   "outputs": [],
   "source": [
    "feat_imp_df = pd.DataFrame(list(zip(model_input_features,list(model_grid.best_estimator_.feature_importances_))),columns=['feature_name','importance'])"
   ]
  },
  {
   "cell_type": "markdown",
   "id": "28879929-e2d0-4c59-bfaf-f0725c344e3e",
   "metadata": {},
   "source": [
    "Get top features (having 95% weight in importance"
   ]
  },
  {
   "cell_type": "code",
   "execution_count": 60,
   "id": "bd247c32-699d-4163-8f07-a3170896f5f0",
   "metadata": {},
   "outputs": [
    {
     "data": {
      "text/plain": [
       "(19, 4)"
      ]
     },
     "execution_count": 60,
     "metadata": {},
     "output_type": "execute_result"
    }
   ],
   "source": [
    "feat_imp_df = feat_imp_df.sort_values('importance',ascending=False)\n",
    "feat_imp_df['cumulative_importance'] = feat_imp_df['importance'].cumsum()\n",
    "total_importance = np.max(feat_imp_df['cumulative_importance'])\n",
    "feat_imp_df['pct_of_imp_captured'] = feat_imp_df['cumulative_importance']/total_importance\n",
    "feat_imp_df[feat_imp_df['pct_of_imp_captured']<=0.95].shape\n"
   ]
  },
  {
   "cell_type": "code",
   "execution_count": 61,
   "id": "8e91bb94-7dd8-4b20-a886-180fb2c0e6e2",
   "metadata": {},
   "outputs": [
    {
     "data": {
      "text/plain": [
       "array(['HalfTimeHomeTeamGoalDiff',\n",
       "       'HomeTeamShotsOntargetUpliftThanAwayTeam', 'AwayTeamShotsonTarget',\n",
       "       'HomeTeamShotsonTarget', 'AwayTeamShots', 'HomeTeamShots',\n",
       "       'HomeTeamShotsOntargetRatio', 'AwayTeamShotsOntargetRatio',\n",
       "       'HomeTeamCornersRatio', 'HalfTimeHomeTeamGoals',\n",
       "       'HalfTimeAwayTeamGoals', 'AwayTeamRedCards', 'HomeTeamFoulsRatio',\n",
       "       'HomeTeamRedCards', 'AwayTeamFoulsCommitted', 'AwayTeamCorners',\n",
       "       'HomeTeamCorners', 'HomeTeamTotalCards', 'AwayTeamTotalCards'],\n",
       "      dtype=object)"
      ]
     },
     "execution_count": 61,
     "metadata": {},
     "output_type": "execute_result"
    }
   ],
   "source": [
    "feat_imp_df[feat_imp_df['pct_of_imp_captured']<=0.95]['feature_name'].values"
   ]
  },
  {
   "cell_type": "markdown",
   "id": "c2f26029-61cb-43c8-82e2-b0d13925f96d",
   "metadata": {},
   "source": [
    "#### Hence, there are 19 features which is imparting 95% weightage on feature importance"
   ]
  },
  {
   "cell_type": "markdown",
   "id": "7f82c235-478f-4759-86dd-44737f599393",
   "metadata": {},
   "source": [
    "#### Feature importance using SHAP"
   ]
  },
  {
   "cell_type": "markdown",
   "id": "118dd3fe-0fa7-4203-8594-544fb8ab6a62",
   "metadata": {},
   "source": [
    "Create SHAP tree explainer"
   ]
  },
  {
   "cell_type": "code",
   "execution_count": 62,
   "id": "a12ff1ac-7aff-49e0-a150-122ce3feeadf",
   "metadata": {},
   "outputs": [],
   "source": [
    "explainer = shap.TreeExplainer(model_grid.best_estimator_)\n",
    "shap_values = explainer.shap_values(X_train[model_input_features])"
   ]
  },
  {
   "cell_type": "markdown",
   "id": "fd756d85-e2c1-404f-a7b6-6a74deeebca1",
   "metadata": {},
   "source": [
    "SHAP summary plot"
   ]
  },
  {
   "cell_type": "code",
   "execution_count": 63,
   "id": "42677cde-f170-47ab-9df7-356b16fdce0f",
   "metadata": {},
   "outputs": [
    {
     "data": {
      "image/png": "[encoded data removed]",
      "text/plain": [
       "<Figure size 800x950 with 1 Axes>"
      ]
     },
     "metadata": {},
     "output_type": "display_data"
    }
   ],
   "source": [
    "shap.summary_plot(shap_values, X_train[model_input_features], feature_names=model_input_features, plot_type=\"bar\")"
   ]
  },
  {
   "cell_type": "markdown",
   "id": "45a9f4e9-b2af-4d46-bc15-7ba000f57454",
   "metadata": {},
   "source": [
    "### Plot density curves for few features"
   ]
  },
  {
   "cell_type": "code",
   "execution_count": 64,
   "id": "5bad480f-20f5-4905-aff7-8878c688b603",
   "metadata": {},
   "outputs": [
    {
     "data": {
      "image/png": "[encoded data removed]",
      "text/plain": [
       "<Figure size 615.236x500 with 1 Axes>"
      ]
     },
     "metadata": {},
     "output_type": "display_data"
    }
   ],
   "source": [
    "%matplotlib inline\n",
    "sns.displot(train_data, x='HomeTeamShotsOntargetUpliftThanAwayTeam',hue='Full-TimeResult',kind=\"kde\")\n",
    "plt.show()"
   ]
  },
  {
   "cell_type": "markdown",
   "id": "a0f1cb73-b611-4569-816f-539496b08735",
   "metadata": {},
   "source": [
    "#### Observation : If percentage of shots-on-target for home team is higher by ~1.75 times or more than that of away team,there is a higher probability for home team wins "
   ]
  },
  {
   "cell_type": "markdown",
   "id": "3bdcbb51-b90f-4a44-80b4-2c9821b0f722",
   "metadata": {},
   "source": [
    "## Model execution with test data"
   ]
  },
  {
   "cell_type": "markdown",
   "id": "ae1ea5c3-5fc7-47ac-a42f-1b2fa058df5d",
   "metadata": {},
   "source": [
    "#### Read test data"
   ]
  },
  {
   "cell_type": "code",
   "execution_count": 65,
   "id": "2b857290-b441-486f-bbf2-2246660bb988",
   "metadata": {},
   "outputs": [],
   "source": [
    "test_data = pd.read_csv('../test-3.csv',index_col=False)"
   ]
  },
  {
   "cell_type": "code",
   "execution_count": 66,
   "id": "8796d6e6-d022-4563-a5c1-876ed3b12ce6",
   "metadata": {},
   "outputs": [
    {
     "data": {
      "text/plain": [
       "Index(['index', 'AC', 'AF', 'AR', 'AS', 'AST', 'AY', 'AwayTeam', 'Date', 'HC',\n",
       "       'HF', 'HR', 'HS', 'HST', 'HTAG', 'HTHG', 'HY', 'HomeTeam', 'Referee',\n",
       "       'league'],\n",
       "      dtype='object')"
      ]
     },
     "execution_count": 66,
     "metadata": {},
     "output_type": "execute_result"
    }
   ],
   "source": [
    "test_data.columns"
   ]
  },
  {
   "cell_type": "code",
   "execution_count": 67,
   "id": "92eb1e38-790c-4e0e-9c2c-d26d26798165",
   "metadata": {},
   "outputs": [],
   "source": [
    "test_data = test_data.drop('index',axis = 1)"
   ]
  },
  {
   "cell_type": "markdown",
   "id": "9e36d069-f7c8-415d-a9ca-c359e0fa41e8",
   "metadata": {},
   "source": [
    "#### Step - 1 : Convert column names to meaningful names"
   ]
  },
  {
   "cell_type": "code",
   "execution_count": 68,
   "id": "d84ad6f3-4a09-49fb-a0a9-95bc507bd63c",
   "metadata": {},
   "outputs": [],
   "source": [
    "test_data = convert_column_names(test_data,old_col_names = list_of_old_column_names,new_col_names = list_of_meaningful_column_name)"
   ]
  },
  {
   "cell_type": "markdown",
   "id": "5c0b3ed8-0f54-402e-9af1-79199a6902a5",
   "metadata": {},
   "source": [
    "#### Step 2 : Run feature engineering by applying pre-defined functions"
   ]
  },
  {
   "cell_type": "code",
   "execution_count": 69,
   "id": "4baa728d-3991-48a5-8e36-eaa93c6a71ac",
   "metadata": {},
   "outputs": [],
   "source": [
    "test_data = feat_eng_create_derived_feats(test_data)\n",
    "test_data = feat_eng_convert_date_to_format(test_data)"
   ]
  },
  {
   "cell_type": "code",
   "execution_count": 70,
   "id": "71076dd2-75dd-4d3c-b643-8e2b9a3cca7f",
   "metadata": {},
   "outputs": [
    {
     "data": {
      "text/plain": [
       "Index(['AwayTeam', 'HomeTeam', 'Referee', 'league', 'HalfTimeHomeTeamGoals',\n",
       "       'HalfTimeAwayTeamGoals', 'HomeTeamShots', 'AwayTeamShots',\n",
       "       'HomeTeamShotsonTarget', 'AwayTeamShotsonTarget', 'AwayTeamCorners',\n",
       "       'HomeTeamFoulsCommitted', 'AwayTeamFoulsCommitted', 'HomeTeamCorners',\n",
       "       'HomeTeamYellowCards', 'AwayTeamYellowCards', 'HomeTeamRedCards',\n",
       "       'AwayTeamRedCards', 'HalfTimeHomeTeamGoalDiff',\n",
       "       'HomeTeamShotsOntargetRatio', 'AwayTeamShotsOntargetRatio',\n",
       "       'HomeTeamTotalCards', 'AwayTeamTotalCards', 'HomeTeamCornersRatio',\n",
       "       'HomeTeamFoulsRatio', 'HomeTeamShotsOntargetUpliftThanAwayTeam',\n",
       "       'date'],\n",
       "      dtype='object')"
      ]
     },
     "execution_count": 70,
     "metadata": {},
     "output_type": "execute_result"
    }
   ],
   "source": [
    "test_data.columns"
   ]
  },
  {
   "cell_type": "markdown",
   "id": "5d5fc5c5-e3f9-45a9-9f6f-c550dbb71bfd",
   "metadata": {},
   "source": [
    "#### Step 3 - Convert category to dummy data and create final feature set"
   ]
  },
  {
   "cell_type": "code",
   "execution_count": 71,
   "id": "82fc8647-35b3-421d-9ab5-c248e0eb3951",
   "metadata": {},
   "outputs": [],
   "source": [
    "model_data_numeric_test = test_data[extended_list_of_numeric_features]\n",
    "dummies_data_test = pd.get_dummies(test_data.league)\n",
    "model_data_test_combined = pd.concat([model_data_numeric_test, dummies_data_test],axis=1)"
   ]
  },
  {
   "cell_type": "markdown",
   "id": "b3affd65-b19f-4688-b8f5-9c57fe043f9e",
   "metadata": {},
   "source": [
    "#### Step 4 - Scale input features and predict with trained model"
   ]
  },
  {
   "cell_type": "code",
   "execution_count": 72,
   "id": "5543025a-012e-4d5d-8493-7e6f73d86031",
   "metadata": {},
   "outputs": [],
   "source": [
    "model_test_scaled = scaler.transform(model_data_test_combined[model_input_features])\n",
    "model_pred_test = model_grid.predict(model_test_scaled)"
   ]
  },
  {
   "cell_type": "markdown",
   "id": "d470c11e-cd53-4313-8936-c75f713496d1",
   "metadata": {},
   "source": [
    "#### Step 5 - Reverse encode target predictions to get actual results (i,2, 'H','A' or 'D')"
   ]
  },
  {
   "cell_type": "code",
   "execution_count": 73,
   "id": "4817870f-8fbe-4cc0-b047-960efb5a163e",
   "metadata": {},
   "outputs": [],
   "source": [
    "model_pred_test_result = enc_fitted.inverse_transform(model_pred_test)"
   ]
  },
  {
   "cell_type": "markdown",
   "id": "7b7abdff-4e9f-4b2d-81da-19b3a9445bb8",
   "metadata": {},
   "source": [
    "#### Step 6 - Add the predictions column with original dataset"
   ]
  },
  {
   "cell_type": "code",
   "execution_count": 74,
   "id": "5b8a3e9b-7b01-4f2c-8d70-35611dcfb08f",
   "metadata": {},
   "outputs": [],
   "source": [
    "test_data['Prediction'] = model_pred_test_result"
   ]
  },
  {
   "cell_type": "code",
   "execution_count": 75,
   "id": "5bcd40c9-4f5b-4c89-b3e6-351eeadf0a0b",
   "metadata": {},
   "outputs": [
    {
     "data": {
      "text/html": [
       "<div>\n",
       "<style scoped>\n",
       "    .dataframe tbody tr th:only-of-type {\n",
       "        vertical-align: middle;\n",
       "    }\n",
       "\n",
       "    .dataframe tbody tr th {\n",
       "        vertical-align: top;\n",
       "    }\n",
       "\n",
       "    .dataframe thead th {\n",
       "        text-align: right;\n",
       "    }\n",
       "</style>\n",
       "<table border=\"1\" class=\"dataframe\">\n",
       "  <thead>\n",
       "    <tr style=\"text-align: right;\">\n",
       "      <th></th>\n",
       "      <th>AwayTeam</th>\n",
       "      <th>HomeTeam</th>\n",
       "      <th>Referee</th>\n",
       "      <th>league</th>\n",
       "      <th>HalfTimeHomeTeamGoals</th>\n",
       "      <th>HalfTimeAwayTeamGoals</th>\n",
       "      <th>HomeTeamShots</th>\n",
       "      <th>AwayTeamShots</th>\n",
       "      <th>HomeTeamShotsonTarget</th>\n",
       "      <th>AwayTeamShotsonTarget</th>\n",
       "      <th>...</th>\n",
       "      <th>HalfTimeHomeTeamGoalDiff</th>\n",
       "      <th>HomeTeamShotsOntargetRatio</th>\n",
       "      <th>AwayTeamShotsOntargetRatio</th>\n",
       "      <th>HomeTeamTotalCards</th>\n",
       "      <th>AwayTeamTotalCards</th>\n",
       "      <th>HomeTeamCornersRatio</th>\n",
       "      <th>HomeTeamFoulsRatio</th>\n",
       "      <th>HomeTeamShotsOntargetUpliftThanAwayTeam</th>\n",
       "      <th>date</th>\n",
       "      <th>Prediction</th>\n",
       "    </tr>\n",
       "  </thead>\n",
       "  <tbody>\n",
       "    <tr>\n",
       "      <th>0</th>\n",
       "      <td>Leverkusen</td>\n",
       "      <td>Bayern Munich</td>\n",
       "      <td>NaN</td>\n",
       "      <td>bundesliga</td>\n",
       "      <td>2</td>\n",
       "      <td>0</td>\n",
       "      <td>13</td>\n",
       "      <td>19</td>\n",
       "      <td>8</td>\n",
       "      <td>4</td>\n",
       "      <td>...</td>\n",
       "      <td>2</td>\n",
       "      <td>0.615385</td>\n",
       "      <td>0.210526</td>\n",
       "      <td>1</td>\n",
       "      <td>2</td>\n",
       "      <td>0.444444</td>\n",
       "      <td>0.433333</td>\n",
       "      <td>2.923077</td>\n",
       "      <td>2017-08-18</td>\n",
       "      <td>H</td>\n",
       "    </tr>\n",
       "    <tr>\n",
       "      <th>1</th>\n",
       "      <td>Augsburg</td>\n",
       "      <td>Hamburg</td>\n",
       "      <td>NaN</td>\n",
       "      <td>bundesliga</td>\n",
       "      <td>1</td>\n",
       "      <td>0</td>\n",
       "      <td>11</td>\n",
       "      <td>13</td>\n",
       "      <td>5</td>\n",
       "      <td>1</td>\n",
       "      <td>...</td>\n",
       "      <td>1</td>\n",
       "      <td>0.454545</td>\n",
       "      <td>0.076923</td>\n",
       "      <td>4</td>\n",
       "      <td>3</td>\n",
       "      <td>0.300000</td>\n",
       "      <td>0.529412</td>\n",
       "      <td>5.909091</td>\n",
       "      <td>2017-08-19</td>\n",
       "      <td>H</td>\n",
       "    </tr>\n",
       "    <tr>\n",
       "      <th>2</th>\n",
       "      <td>Stuttgart</td>\n",
       "      <td>Hertha</td>\n",
       "      <td>NaN</td>\n",
       "      <td>bundesliga</td>\n",
       "      <td>0</td>\n",
       "      <td>0</td>\n",
       "      <td>10</td>\n",
       "      <td>9</td>\n",
       "      <td>3</td>\n",
       "      <td>2</td>\n",
       "      <td>...</td>\n",
       "      <td>0</td>\n",
       "      <td>0.300000</td>\n",
       "      <td>0.222222</td>\n",
       "      <td>2</td>\n",
       "      <td>1</td>\n",
       "      <td>0.833333</td>\n",
       "      <td>0.600000</td>\n",
       "      <td>1.350000</td>\n",
       "      <td>2017-08-19</td>\n",
       "      <td>D</td>\n",
       "    </tr>\n",
       "    <tr>\n",
       "      <th>3</th>\n",
       "      <td>Werder Bremen</td>\n",
       "      <td>Hoffenheim</td>\n",
       "      <td>NaN</td>\n",
       "      <td>bundesliga</td>\n",
       "      <td>0</td>\n",
       "      <td>0</td>\n",
       "      <td>14</td>\n",
       "      <td>11</td>\n",
       "      <td>3</td>\n",
       "      <td>2</td>\n",
       "      <td>...</td>\n",
       "      <td>0</td>\n",
       "      <td>0.214286</td>\n",
       "      <td>0.181818</td>\n",
       "      <td>1</td>\n",
       "      <td>3</td>\n",
       "      <td>0.600000</td>\n",
       "      <td>0.531250</td>\n",
       "      <td>1.178571</td>\n",
       "      <td>2017-08-19</td>\n",
       "      <td>D</td>\n",
       "    </tr>\n",
       "    <tr>\n",
       "      <th>4</th>\n",
       "      <td>Hannover</td>\n",
       "      <td>Mainz</td>\n",
       "      <td>NaN</td>\n",
       "      <td>bundesliga</td>\n",
       "      <td>0</td>\n",
       "      <td>0</td>\n",
       "      <td>14</td>\n",
       "      <td>6</td>\n",
       "      <td>6</td>\n",
       "      <td>2</td>\n",
       "      <td>...</td>\n",
       "      <td>0</td>\n",
       "      <td>0.428571</td>\n",
       "      <td>0.333333</td>\n",
       "      <td>3</td>\n",
       "      <td>5</td>\n",
       "      <td>0.928571</td>\n",
       "      <td>0.562500</td>\n",
       "      <td>1.285714</td>\n",
       "      <td>2017-08-19</td>\n",
       "      <td>H</td>\n",
       "    </tr>\n",
       "    <tr>\n",
       "      <th>...</th>\n",
       "      <td>...</td>\n",
       "      <td>...</td>\n",
       "      <td>...</td>\n",
       "      <td>...</td>\n",
       "      <td>...</td>\n",
       "      <td>...</td>\n",
       "      <td>...</td>\n",
       "      <td>...</td>\n",
       "      <td>...</td>\n",
       "      <td>...</td>\n",
       "      <td>...</td>\n",
       "      <td>...</td>\n",
       "      <td>...</td>\n",
       "      <td>...</td>\n",
       "      <td>...</td>\n",
       "      <td>...</td>\n",
       "      <td>...</td>\n",
       "      <td>...</td>\n",
       "      <td>...</td>\n",
       "      <td>...</td>\n",
       "      <td>...</td>\n",
       "    </tr>\n",
       "    <tr>\n",
       "      <th>1821</th>\n",
       "      <td>Fiorentina</td>\n",
       "      <td>Milan</td>\n",
       "      <td>NaN</td>\n",
       "      <td>serie-a</td>\n",
       "      <td>2</td>\n",
       "      <td>1</td>\n",
       "      <td>18</td>\n",
       "      <td>9</td>\n",
       "      <td>11</td>\n",
       "      <td>3</td>\n",
       "      <td>...</td>\n",
       "      <td>1</td>\n",
       "      <td>0.611111</td>\n",
       "      <td>0.333333</td>\n",
       "      <td>2</td>\n",
       "      <td>2</td>\n",
       "      <td>0.857143</td>\n",
       "      <td>0.666667</td>\n",
       "      <td>1.833333</td>\n",
       "      <td>2018-05-20</td>\n",
       "      <td>H</td>\n",
       "    </tr>\n",
       "    <tr>\n",
       "      <th>1822</th>\n",
       "      <td>Crotone</td>\n",
       "      <td>Napoli</td>\n",
       "      <td>NaN</td>\n",
       "      <td>serie-a</td>\n",
       "      <td>2</td>\n",
       "      <td>0</td>\n",
       "      <td>19</td>\n",
       "      <td>9</td>\n",
       "      <td>9</td>\n",
       "      <td>4</td>\n",
       "      <td>...</td>\n",
       "      <td>2</td>\n",
       "      <td>0.473684</td>\n",
       "      <td>0.444444</td>\n",
       "      <td>0</td>\n",
       "      <td>0</td>\n",
       "      <td>0.400000</td>\n",
       "      <td>0.250000</td>\n",
       "      <td>1.065789</td>\n",
       "      <td>2018-05-20</td>\n",
       "      <td>H</td>\n",
       "    </tr>\n",
       "    <tr>\n",
       "      <th>1823</th>\n",
       "      <td>Roma</td>\n",
       "      <td>Sassuolo</td>\n",
       "      <td>NaN</td>\n",
       "      <td>serie-a</td>\n",
       "      <td>0</td>\n",
       "      <td>1</td>\n",
       "      <td>16</td>\n",
       "      <td>15</td>\n",
       "      <td>3</td>\n",
       "      <td>6</td>\n",
       "      <td>...</td>\n",
       "      <td>-1</td>\n",
       "      <td>0.187500</td>\n",
       "      <td>0.400000</td>\n",
       "      <td>1</td>\n",
       "      <td>1</td>\n",
       "      <td>0.357143</td>\n",
       "      <td>0.636364</td>\n",
       "      <td>0.468750</td>\n",
       "      <td>2018-05-20</td>\n",
       "      <td>A</td>\n",
       "    </tr>\n",
       "    <tr>\n",
       "      <th>1824</th>\n",
       "      <td>Sampdoria</td>\n",
       "      <td>Spal</td>\n",
       "      <td>NaN</td>\n",
       "      <td>serie-a</td>\n",
       "      <td>1</td>\n",
       "      <td>0</td>\n",
       "      <td>16</td>\n",
       "      <td>9</td>\n",
       "      <td>6</td>\n",
       "      <td>3</td>\n",
       "      <td>...</td>\n",
       "      <td>1</td>\n",
       "      <td>0.375000</td>\n",
       "      <td>0.333333</td>\n",
       "      <td>1</td>\n",
       "      <td>4</td>\n",
       "      <td>0.625000</td>\n",
       "      <td>0.476190</td>\n",
       "      <td>1.125000</td>\n",
       "      <td>2018-05-20</td>\n",
       "      <td>H</td>\n",
       "    </tr>\n",
       "    <tr>\n",
       "      <th>1825</th>\n",
       "      <td>Bologna</td>\n",
       "      <td>Udinese</td>\n",
       "      <td>NaN</td>\n",
       "      <td>serie-a</td>\n",
       "      <td>1</td>\n",
       "      <td>0</td>\n",
       "      <td>20</td>\n",
       "      <td>8</td>\n",
       "      <td>5</td>\n",
       "      <td>5</td>\n",
       "      <td>...</td>\n",
       "      <td>1</td>\n",
       "      <td>0.250000</td>\n",
       "      <td>0.625000</td>\n",
       "      <td>0</td>\n",
       "      <td>2</td>\n",
       "      <td>0.833333</td>\n",
       "      <td>0.450000</td>\n",
       "      <td>0.400000</td>\n",
       "      <td>2018-05-20</td>\n",
       "      <td>H</td>\n",
       "    </tr>\n",
       "  </tbody>\n",
       "</table>\n",
       "<p>1826 rows × 28 columns</p>\n",
       "</div>"
      ],
      "text/plain": [
       "           AwayTeam       HomeTeam Referee      league  HalfTimeHomeTeamGoals  \\\n",
       "0        Leverkusen  Bayern Munich     NaN  bundesliga                      2   \n",
       "1          Augsburg        Hamburg     NaN  bundesliga                      1   \n",
       "2         Stuttgart         Hertha     NaN  bundesliga                      0   \n",
       "3     Werder Bremen     Hoffenheim     NaN  bundesliga                      0   \n",
       "4          Hannover          Mainz     NaN  bundesliga                      0   \n",
       "...             ...            ...     ...         ...                    ...   \n",
       "1821     Fiorentina          Milan     NaN     serie-a                      2   \n",
       "1822        Crotone         Napoli     NaN     serie-a                      2   \n",
       "1823           Roma       Sassuolo     NaN     serie-a                      0   \n",
       "1824      Sampdoria           Spal     NaN     serie-a                      1   \n",
       "1825        Bologna        Udinese     NaN     serie-a                      1   \n",
       "\n",
       "      HalfTimeAwayTeamGoals  HomeTeamShots  AwayTeamShots  \\\n",
       "0                         0             13             19   \n",
       "1                         0             11             13   \n",
       "2                         0             10              9   \n",
       "3                         0             14             11   \n",
       "4                         0             14              6   \n",
       "...                     ...            ...            ...   \n",
       "1821                      1             18              9   \n",
       "1822                      0             19              9   \n",
       "1823                      1             16             15   \n",
       "1824                      0             16              9   \n",
       "1825                      0             20              8   \n",
       "\n",
       "      HomeTeamShotsonTarget  AwayTeamShotsonTarget  ...  \\\n",
       "0                         8                      4  ...   \n",
       "1                         5                      1  ...   \n",
       "2                         3                      2  ...   \n",
       "3                         3                      2  ...   \n",
       "4                         6                      2  ...   \n",
       "...                     ...                    ...  ...   \n",
       "1821                     11                      3  ...   \n",
       "1822                      9                      4  ...   \n",
       "1823                      3                      6  ...   \n",
       "1824                      6                      3  ...   \n",
       "1825                      5                      5  ...   \n",
       "\n",
       "      HalfTimeHomeTeamGoalDiff  HomeTeamShotsOntargetRatio  \\\n",
       "0                            2                    0.615385   \n",
       "1                            1                    0.454545   \n",
       "2                            0                    0.300000   \n",
       "3                            0                    0.214286   \n",
       "4                            0                    0.428571   \n",
       "...                        ...                         ...   \n",
       "1821                         1                    0.611111   \n",
       "1822                         2                    0.473684   \n",
       "1823                        -1                    0.187500   \n",
       "1824                         1                    0.375000   \n",
       "1825                         1                    0.250000   \n",
       "\n",
       "      AwayTeamShotsOntargetRatio  HomeTeamTotalCards  AwayTeamTotalCards  \\\n",
       "0                       0.210526                   1                   2   \n",
       "1                       0.076923                   4                   3   \n",
       "2                       0.222222                   2                   1   \n",
       "3                       0.181818                   1                   3   \n",
       "4                       0.333333                   3                   5   \n",
       "...                          ...                 ...                 ...   \n",
       "1821                    0.333333                   2                   2   \n",
       "1822                    0.444444                   0                   0   \n",
       "1823                    0.400000                   1                   1   \n",
       "1824                    0.333333                   1                   4   \n",
       "1825                    0.625000                   0                   2   \n",
       "\n",
       "      HomeTeamCornersRatio  HomeTeamFoulsRatio  \\\n",
       "0                 0.444444            0.433333   \n",
       "1                 0.300000            0.529412   \n",
       "2                 0.833333            0.600000   \n",
       "3                 0.600000            0.531250   \n",
       "4                 0.928571            0.562500   \n",
       "...                    ...                 ...   \n",
       "1821              0.857143            0.666667   \n",
       "1822              0.400000            0.250000   \n",
       "1823              0.357143            0.636364   \n",
       "1824              0.625000            0.476190   \n",
       "1825              0.833333            0.450000   \n",
       "\n",
       "      HomeTeamShotsOntargetUpliftThanAwayTeam       date  Prediction  \n",
       "0                                    2.923077 2017-08-18           H  \n",
       "1                                    5.909091 2017-08-19           H  \n",
       "2                                    1.350000 2017-08-19           D  \n",
       "3                                    1.178571 2017-08-19           D  \n",
       "4                                    1.285714 2017-08-19           H  \n",
       "...                                       ...        ...         ...  \n",
       "1821                                 1.833333 2018-05-20           H  \n",
       "1822                                 1.065789 2018-05-20           H  \n",
       "1823                                 0.468750 2018-05-20           A  \n",
       "1824                                 1.125000 2018-05-20           H  \n",
       "1825                                 0.400000 2018-05-20           H  \n",
       "\n",
       "[1826 rows x 28 columns]"
      ]
     },
     "execution_count": 75,
     "metadata": {},
     "output_type": "execute_result"
    }
   ],
   "source": [
    "test_data"
   ]
  },
  {
   "cell_type": "markdown",
   "id": "c55f0964-5739-4a0e-af3f-235b3e4b9d8f",
   "metadata": {},
   "source": [
    "#### Save data file as csv"
   ]
  },
  {
   "cell_type": "code",
   "execution_count": 76,
   "id": "05a5c0d7-ed57-4c0d-b7e0-880605cdb91e",
   "metadata": {},
   "outputs": [],
   "source": [
    "test_data.to_csv('model_test_predictions.csv')"
   ]
  },
  {
   "cell_type": "code",
   "execution_count": 77,
   "id": "df42347f-7f92-4542-9202-ee6b0c89b0e2",
   "metadata": {},
   "outputs": [],
   "source": [
    "test_data.shape"
   ]
  },
  {
   "cell_type": "code",
   "execution_count": null,
   "id": "19d1f626-5ba0-40c1-9d7b-884a407ab5b6",
   "metadata": {},
   "outputs": [],
   "source": []
  }
 ],
 "metadata": {
  "kernelspec": {
   "display_name": "Python 3 (ipykernel)",
   "language": "python",
   "name": "python3"
  },
  "language_info": {
   "codemirror_mode": {
    "name": "ipython",
    "version": 3
   },
   "file_extension": ".py",
   "mimetype": "text/x-python",
   "name": "python",
   "nbconvert_exporter": "python",
   "pygments_lexer": "ipython3",
   "version": "3.11.1"
  }
 },
 "nbformat": 4,
 "nbformat_minor": 5
}
