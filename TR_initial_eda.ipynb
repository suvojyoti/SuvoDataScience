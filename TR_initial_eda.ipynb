{
  "nbformat": 4,
  "nbformat_minor": 0,
  "metadata": {
    "colab": {
      "provenance": []
    },
    "kernelspec": {
      "name": "python3",
      "display_name": "Python 3"
    },
    "language_info": {
      "name": "python"
    }
  },
  "cells": [
    {
      "cell_type": "markdown",
      "source": [
        "# This notebook reads the initial data and performs basic EDA\n",
        "  ### Reading count of paragraphs, records etc\n",
        "  ### Basic analysis of distribution of postures"
      ],
      "metadata": {
        "id": "01UfX1gqvePX"
      }
    },
    {
      "cell_type": "markdown",
      "source": [
        "Mount google drive"
      ],
      "metadata": {
        "id": "heJhZEt3v1XJ"
      }
    },
    {
      "cell_type": "code",
      "execution_count": 1,
      "metadata": {
        "colab": {
          "base_uri": "https://localhost:8080/"
        },
        "id": "6e4VMnOipiKN",
        "outputId": "fa4ecf3c-3c7f-4238-e69f-cea0dad3318a"
      },
      "outputs": [
        {
          "output_type": "stream",
          "name": "stdout",
          "text": [
            "Mounted at /content/drive/\n"
          ]
        }
      ],
      "source": [
        "from google.colab import drive\n",
        "drive.mount(\"/content/drive/\")"
      ]
    },
    {
      "cell_type": "markdown",
      "source": [
        "Import packages"
      ],
      "metadata": {
        "id": "v727TLojv4fK"
      }
    },
    {
      "cell_type": "code",
      "source": [
        "### Pandas and numpy for basic python dataframe operations\n",
        "import pandas as pd\n",
        "import numpy as np\n",
        "\n",
        "## To read json\n",
        "import json\n",
        "\n",
        "\n",
        "## Itertools for list and dataframe iterations\n",
        "import itertools\n",
        "\n",
        "## Regex for basic text data processing\n",
        "import re"
      ],
      "metadata": {
        "id": "wEFYg5aFpupN"
      },
      "execution_count": 1,
      "outputs": []
    },
    {
      "cell_type": "markdown",
      "source": [
        "Read data from json file as text (already zipped file has been unzipped at location)"
      ],
      "metadata": {
        "id": "O_ON5FuywPfg"
      }
    },
    {
      "cell_type": "markdown",
      "source": [],
      "metadata": {
        "id": "ujd4KfcGwMjR"
      }
    },
    {
      "cell_type": "code",
      "source": [
        "full_text=[]\n",
        "for line in open('/content/drive/My Drive/TR_TechChallenge/TRDataChallenge2023.txt','r', encoding='utf-8', errors='replace'):\n",
        "    full_text.append(json.loads(line))"
      ],
      "metadata": {
        "id": "Ina4LaeSpwZV"
      },
      "execution_count": 2,
      "outputs": []
    },
    {
      "cell_type": "markdown",
      "source": [
        "Convert json to pandas dataframe"
      ],
      "metadata": {
        "id": "ALJAIww9whsp"
      }
    },
    {
      "cell_type": "code",
      "source": [
        "full_text_pd = pd.json_normalize(full_text)"
      ],
      "metadata": {
        "id": "maM66FlppzbQ"
      },
      "execution_count": 3,
      "outputs": []
    },
    {
      "cell_type": "markdown",
      "source": [
        "### Calculate number of documents and postures"
      ],
      "metadata": {
        "id": "lYy0C059wlaf"
      }
    },
    {
      "cell_type": "code",
      "source": [
        "full_text_pd['number_of_postures'] = full_text_pd['postures'].str.len()\n",
        "full_text_pd_postures_count = full_text_pd[['documentId','postures','number_of_postures']]\n",
        "total_number_of_postures = np.sum(full_text_pd_postures_count['number_of_postures'])\n",
        "all_postures_in_df = list(full_text_pd_postures_count['postures'].values)\n",
        "list_of_unique_postures = set(list(itertools.chain.from_iterable(all_postures_in_df)))\n",
        "count_of_postures = len(list_of_unique_postures)"
      ],
      "metadata": {
        "id": "SbnyESNLp1K3"
      },
      "execution_count": 4,
      "outputs": []
    },
    {
      "cell_type": "code",
      "source": [
        "print(\"Total number of documents = \",full_text_pd.shape[0])"
      ],
      "metadata": {
        "colab": {
          "base_uri": "https://localhost:8080/"
        },
        "id": "2IgcObpNp7nK",
        "outputId": "6a2e2c0d-d5ae-4082-b15a-c725a4136cb8"
      },
      "execution_count": 5,
      "outputs": [
        {
          "output_type": "stream",
          "name": "stdout",
          "text": [
            "Total number of documents =  18000\n"
          ]
        }
      ]
    },
    {
      "cell_type": "code",
      "source": [
        "print(\"Total number of distinct postures in the documents = \",count_of_postures)"
      ],
      "metadata": {
        "colab": {
          "base_uri": "https://localhost:8080/"
        },
        "id": "rT2zdmPNp9VD",
        "outputId": "f7c0bc84-dc83-4619-c513-b7c7250ee1ee"
      },
      "execution_count": 6,
      "outputs": [
        {
          "output_type": "stream",
          "name": "stdout",
          "text": [
            "Total number of distinct postures in the documents =  224\n"
          ]
        }
      ]
    },
    {
      "cell_type": "markdown",
      "source": [
        "### Total number of documents = 18000\n",
        "### Total number of distinct postures = 224"
      ],
      "metadata": {
        "id": "jV2NZuCfww7Y"
      }
    },
    {
      "cell_type": "markdown",
      "source": [
        "### Count of paragraphs"
      ],
      "metadata": {
        "id": "9pKr3NLBw9_X"
      }
    },
    {
      "cell_type": "markdown",
      "source": [
        "Count occurance of 'paragraphs' in the text"
      ],
      "metadata": {
        "id": "HJATF4cmw-Ca"
      }
    },
    {
      "cell_type": "code",
      "source": [
        "def count_of_paragraph_occurrance(text):\n",
        "\n",
        "    return text.count(\"'paragraphs'\")"
      ],
      "metadata": {
        "id": "EyWJ_3XRp_Ar"
      },
      "execution_count": 8,
      "outputs": []
    },
    {
      "cell_type": "code",
      "source": [
        "full_text_pd['count_of_paragraphs'] = full_text_pd['sections'].apply(lambda x: count_of_paragraph_occurrance(str(x)))\n",
        "total_number_of_paragraphs = np.sum(full_text_pd['count_of_paragraphs'])"
      ],
      "metadata": {
        "id": "tGfxKi2eqA75"
      },
      "execution_count": 9,
      "outputs": []
    },
    {
      "cell_type": "code",
      "source": [
        "print(\"Total number paragraphs in the documents = \",total_number_of_paragraphs)"
      ],
      "metadata": {
        "colab": {
          "base_uri": "https://localhost:8080/"
        },
        "id": "jEUHTG2SqDEP",
        "outputId": "224bff33-ae77-4b52-835a-2a539caaf5aa"
      },
      "execution_count": 10,
      "outputs": [
        {
          "output_type": "stream",
          "name": "stdout",
          "text": [
            "Total number paragraphs in the documents =  91564\n"
          ]
        }
      ]
    },
    {
      "cell_type": "markdown",
      "source": [
        "### Total number of paragraphs in full text corpus = 91564"
      ],
      "metadata": {
        "id": "0n5tqIpFxJAA"
      }
    },
    {
      "cell_type": "markdown",
      "source": [
        "# Analyze postures - counts and distributions"
      ],
      "metadata": {
        "id": "q1SFsM8ExWb-"
      }
    },
    {
      "cell_type": "code",
      "source": [
        "# Use pd.get_dummies() to one-hot encode the 'classes' column\n",
        "full_text_pd_expanded = full_text_pd['postures'].str.join('|').str.get_dummies().add_prefix('class_')\n",
        "\n",
        "# Concatenate the expanded columns with the original DataFrame\n",
        "full_text_pd_with_classes = pd.concat([full_text_pd, full_text_pd_expanded], axis=1)\n",
        "\n",
        "\n",
        "\n",
        "# print(full_text_pd_with_classes)"
      ],
      "metadata": {
        "id": "rKpKnWz9qFbE"
      },
      "execution_count": 11,
      "outputs": []
    },
    {
      "cell_type": "markdown",
      "source": [
        "### Display count of postures"
      ],
      "metadata": {
        "id": "w4nTqb_MxjTg"
      }
    },
    {
      "cell_type": "code",
      "source": [
        "import matplotlib.pyplot as plt\n",
        "import seaborn as sns"
      ],
      "metadata": {
        "id": "E0XNnfkPqJXo"
      },
      "execution_count": 12,
      "outputs": []
    },
    {
      "cell_type": "code",
      "source": [
        "sns.histplot(full_text_pd_with_classes['number_of_postures'])"
      ],
      "metadata": {
        "colab": {
          "base_uri": "https://localhost:8080/",
          "height": 467
        },
        "id": "IbIXxSBLqdUk",
        "outputId": "88fd0da9-4edd-4106-b33f-57a87cf0667b"
      },
      "execution_count": 13,
      "outputs": [
        {
          "output_type": "execute_result",
          "data": {
            "text/plain": [
              "<Axes: xlabel='number_of_postures', ylabel='Count'>"
            ]
          },
          "metadata": {},
          "execution_count": 13
        },
        {
          "output_type": "display_data",
          "data": {
            "text/plain": [
              "<Figure size 640x480 with 1 Axes>"
            ],
            "image/png": "[encoded data removed]"
          },
          "metadata": {}
        }
      ]
    },
    {
      "cell_type": "markdown",
      "source": [
        "### Most of the records have 1 or 2 postures attached"
      ],
      "metadata": {
        "id": "lf3ZyhpYxpWJ"
      }
    },
    {
      "cell_type": "code",
      "source": [],
      "metadata": {
        "id": "6iwTU9BTxo0k"
      },
      "execution_count": null,
      "outputs": []
    },
    {
      "cell_type": "markdown",
      "source": [
        "Define the target columns"
      ],
      "metadata": {
        "id": "CAK_gAxkxxLM"
      }
    },
    {
      "cell_type": "code",
      "source": [
        "target_list = [col_name for col_name in full_text_pd_with_classes.columns if  \"class_\" in col_name]"
      ],
      "metadata": {
        "id": "f6qp9_Q8qxcZ"
      },
      "execution_count": 14,
      "outputs": []
    },
    {
      "cell_type": "markdown",
      "source": [
        "Calculate number of occurances and percentage of cases with each postures"
      ],
      "metadata": {
        "id": "QKwmKsHxx2dj"
      }
    },
    {
      "cell_type": "code",
      "source": [
        "class_details_list = []\n",
        "for class_name in target_list:\n",
        "  count_of_occurance = full_text_pd_with_classes[class_name].sum()\n",
        "  pct_of_occurance = count_of_occurance/full_text_pd_with_classes.shape[0]\n",
        "  class_details = [class_name,count_of_occurance,pct_of_occurance]\n",
        "  class_details_list.append(class_details)\n",
        "\n"
      ],
      "metadata": {
        "id": "CP1UVY9Fro5C"
      },
      "execution_count": 15,
      "outputs": []
    },
    {
      "cell_type": "code",
      "source": [
        "class_details_df = pd.DataFrame(class_details_list,columns=['class_name','occurances','pct_of_occurance']).sort_values('pct_of_occurance',ascending=False)"
      ],
      "metadata": {
        "id": "0nc6ZT7Ts0aS"
      },
      "execution_count": 16,
      "outputs": []
    },
    {
      "cell_type": "markdown",
      "source": [
        "Consider only the postures which have 300 or more cases (because we are taking those postures which occurs at least in 2% of all cases, and 2% of 18000 cases ~360)"
      ],
      "metadata": {
        "id": "D1mZwHOu19bO"
      }
    },
    {
      "cell_type": "code",
      "source": [
        "class_details_df_top = class_details_df[class_details_df['occurances']>=300]"
      ],
      "metadata": {
        "id": "ERwvMNits2M3"
      },
      "execution_count": 26,
      "outputs": []
    },
    {
      "cell_type": "code",
      "source": [
        "class_details_df_top"
      ],
      "metadata": {
        "colab": {
          "base_uri": "https://localhost:8080/",
          "height": 363
        },
        "id": "CTchqrreu-QI",
        "outputId": "c3dcbf1e-7f5f-40af-cf77-73bb92ccb0cd"
      },
      "execution_count": 27,
      "outputs": [
        {
          "output_type": "execute_result",
          "data": {
            "text/plain": [
              "                                            class_name  occurances  \\\n",
              "190                                    class_On Appeal        9197   \n",
              "0                               class_Appellate Review        4652   \n",
              "219            class_Review of Administrative Decision        2773   \n",
              "110                            class_Motion to Dismiss        1679   \n",
              "220  class_Sentencing or Penalty Phase Motion or Ob...        1342   \n",
              "223     class_Trial or Guilt Phase Motion or Objection        1097   \n",
              "28                    class_Motion for Attorney's Fees         612   \n",
              "215                    class_Post-Trial Hearing Motion         512   \n",
              "64             class_Motion for Preliminary Injunction         364   \n",
              "114  class_Motion to Dismiss for Lack of Subject Ma...         343   \n",
              "\n",
              "     pct_of_occurance  \n",
              "190          0.510944  \n",
              "0            0.258444  \n",
              "219          0.154056  \n",
              "110          0.093278  \n",
              "220          0.074556  \n",
              "223          0.060944  \n",
              "28           0.034000  \n",
              "215          0.028444  \n",
              "64           0.020222  \n",
              "114          0.019056  "
            ],
            "text/html": [
              "\n",
              "  <div id=\"df-8e8aa4e8-a1e9-4192-819b-f87ea5e29ed0\" class=\"colab-df-container\">\n",
              "    <div>\n",
              "<style scoped>\n",
              "    .dataframe tbody tr th:only-of-type {\n",
              "        vertical-align: middle;\n",
              "    }\n",
              "\n",
              "    .dataframe tbody tr th {\n",
              "        vertical-align: top;\n",
              "    }\n",
              "\n",
              "    .dataframe thead th {\n",
              "        text-align: right;\n",
              "    }\n",
              "</style>\n",
              "<table border=\"1\" class=\"dataframe\">\n",
              "  <thead>\n",
              "    <tr style=\"text-align: right;\">\n",
              "      <th></th>\n",
              "      <th>class_name</th>\n",
              "      <th>occurances</th>\n",
              "      <th>pct_of_occurance</th>\n",
              "    </tr>\n",
              "  </thead>\n",
              "  <tbody>\n",
              "    <tr>\n",
              "      <th>190</th>\n",
              "      <td>class_On Appeal</td>\n",
              "      <td>9197</td>\n",
              "      <td>0.510944</td>\n",
              "    </tr>\n",
              "    <tr>\n",
              "      <th>0</th>\n",
              "      <td>class_Appellate Review</td>\n",
              "      <td>4652</td>\n",
              "      <td>0.258444</td>\n",
              "    </tr>\n",
              "    <tr>\n",
              "      <th>219</th>\n",
              "      <td>class_Review of Administrative Decision</td>\n",
              "      <td>2773</td>\n",
              "      <td>0.154056</td>\n",
              "    </tr>\n",
              "    <tr>\n",
              "      <th>110</th>\n",
              "      <td>class_Motion to Dismiss</td>\n",
              "      <td>1679</td>\n",
              "      <td>0.093278</td>\n",
              "    </tr>\n",
              "    <tr>\n",
              "      <th>220</th>\n",
              "      <td>class_Sentencing or Penalty Phase Motion or Ob...</td>\n",
              "      <td>1342</td>\n",
              "      <td>0.074556</td>\n",
              "    </tr>\n",
              "    <tr>\n",
              "      <th>223</th>\n",
              "      <td>class_Trial or Guilt Phase Motion or Objection</td>\n",
              "      <td>1097</td>\n",
              "      <td>0.060944</td>\n",
              "    </tr>\n",
              "    <tr>\n",
              "      <th>28</th>\n",
              "      <td>class_Motion for Attorney's Fees</td>\n",
              "      <td>612</td>\n",
              "      <td>0.034000</td>\n",
              "    </tr>\n",
              "    <tr>\n",
              "      <th>215</th>\n",
              "      <td>class_Post-Trial Hearing Motion</td>\n",
              "      <td>512</td>\n",
              "      <td>0.028444</td>\n",
              "    </tr>\n",
              "    <tr>\n",
              "      <th>64</th>\n",
              "      <td>class_Motion for Preliminary Injunction</td>\n",
              "      <td>364</td>\n",
              "      <td>0.020222</td>\n",
              "    </tr>\n",
              "    <tr>\n",
              "      <th>114</th>\n",
              "      <td>class_Motion to Dismiss for Lack of Subject Ma...</td>\n",
              "      <td>343</td>\n",
              "      <td>0.019056</td>\n",
              "    </tr>\n",
              "  </tbody>\n",
              "</table>\n",
              "</div>\n",
              "    <div class=\"colab-df-buttons\">\n",
              "\n",
              "  <div class=\"colab-df-container\">\n",
              "    <button class=\"colab-df-convert\" onclick=\"convertToInteractive('df-8e8aa4e8-a1e9-4192-819b-f87ea5e29ed0')\"\n",
              "            title=\"Convert this dataframe to an interactive table.\"\n",
              "            style=\"display:none;\">\n",
              "\n",
              "  <svg xmlns=\"http://www.w3.org/2000/svg\" height=\"24px\" viewBox=\"0 -960 960 960\">\n",
              "    <path d=\"M120-120v-720h720v720H120Zm60-500h600v-160H180v160Zm220 220h160v-160H400v160Zm0 220h160v-160H400v160ZM180-400h160v-160H180v160Zm440 0h160v-160H620v160ZM180-180h160v-160H180v160Zm440 0h160v-160H620v160Z\"/>\n",
              "  </svg>\n",
              "    </button>\n",
              "\n",
              "  <style>\n",
              "    .colab-df-container {\n",
              "      display:flex;\n",
              "      gap: 12px;\n",
              "    }\n",
              "\n",
              "    .colab-df-convert {\n",
              "      background-color: #E8F0FE;\n",
              "      border: none;\n",
              "      border-radius: 50%;\n",
              "      cursor: pointer;\n",
              "      display: none;\n",
              "      fill: #1967D2;\n",
              "      height: 32px;\n",
              "      padding: 0 0 0 0;\n",
              "      width: 32px;\n",
              "    }\n",
              "\n",
              "    .colab-df-convert:hover {\n",
              "      background-color: #E2EBFA;\n",
              "      box-shadow: 0px 1px 2px rgba(60, 64, 67, 0.3), 0px 1px 3px 1px rgba(60, 64, 67, 0.15);\n",
              "      fill: #174EA6;\n",
              "    }\n",
              "\n",
              "    .colab-df-buttons div {\n",
              "      margin-bottom: 4px;\n",
              "    }\n",
              "\n",
              "    [theme=dark] .colab-df-convert {\n",
              "      background-color: #3B4455;\n",
              "      fill: #D2E3FC;\n",
              "    }\n",
              "\n",
              "    [theme=dark] .colab-df-convert:hover {\n",
              "      background-color: #434B5C;\n",
              "      box-shadow: 0px 1px 3px 1px rgba(0, 0, 0, 0.15);\n",
              "      filter: drop-shadow(0px 1px 2px rgba(0, 0, 0, 0.3));\n",
              "      fill: #FFFFFF;\n",
              "    }\n",
              "  </style>\n",
              "\n",
              "    <script>\n",
              "      const buttonEl =\n",
              "        document.querySelector('#df-8e8aa4e8-a1e9-4192-819b-f87ea5e29ed0 button.colab-df-convert');\n",
              "      buttonEl.style.display =\n",
              "        google.colab.kernel.accessAllowed ? 'block' : 'none';\n",
              "\n",
              "      async function convertToInteractive(key) {\n",
              "        const element = document.querySelector('#df-8e8aa4e8-a1e9-4192-819b-f87ea5e29ed0');\n",
              "        const dataTable =\n",
              "          await google.colab.kernel.invokeFunction('convertToInteractive',\n",
              "                                                    [key], {});\n",
              "        if (!dataTable) return;\n",
              "\n",
              "        const docLinkHtml = 'Like what you see? Visit the ' +\n",
              "          '<a target=\"_blank\" href=https://colab.research.google.com/notebooks/data_table.ipynb>data table notebook</a>'\n",
              "          + ' to learn more about interactive tables.';\n",
              "        element.innerHTML = '';\n",
              "        dataTable['output_type'] = 'display_data';\n",
              "        await google.colab.output.renderOutput(dataTable, element);\n",
              "        const docLink = document.createElement('div');\n",
              "        docLink.innerHTML = docLinkHtml;\n",
              "        element.appendChild(docLink);\n",
              "      }\n",
              "    </script>\n",
              "  </div>\n",
              "\n",
              "\n",
              "<div id=\"df-1828ccaf-c18c-485f-9bc7-9296b91da326\">\n",
              "  <button class=\"colab-df-quickchart\" onclick=\"quickchart('df-1828ccaf-c18c-485f-9bc7-9296b91da326')\"\n",
              "            title=\"Suggest charts.\"\n",
              "            style=\"display:none;\">\n",
              "\n",
              "<svg xmlns=\"http://www.w3.org/2000/svg\" height=\"24px\"viewBox=\"0 0 24 24\"\n",
              "     width=\"24px\">\n",
              "    <g>\n",
              "        <path d=\"M19 3H5c-1.1 0-2 .9-2 2v14c0 1.1.9 2 2 2h14c1.1 0 2-.9 2-2V5c0-1.1-.9-2-2-2zM9 17H7v-7h2v7zm4 0h-2V7h2v10zm4 0h-2v-4h2v4z\"/>\n",
              "    </g>\n",
              "</svg>\n",
              "  </button>\n",
              "\n",
              "<style>\n",
              "  .colab-df-quickchart {\n",
              "      --bg-color: #E8F0FE;\n",
              "      --fill-color: #1967D2;\n",
              "      --hover-bg-color: #E2EBFA;\n",
              "      --hover-fill-color: #174EA6;\n",
              "      --disabled-fill-color: #AAA;\n",
              "      --disabled-bg-color: #DDD;\n",
              "  }\n",
              "\n",
              "  [theme=dark] .colab-df-quickchart {\n",
              "      --bg-color: #3B4455;\n",
              "      --fill-color: #D2E3FC;\n",
              "      --hover-bg-color: #434B5C;\n",
              "      --hover-fill-color: #FFFFFF;\n",
              "      --disabled-bg-color: #3B4455;\n",
              "      --disabled-fill-color: #666;\n",
              "  }\n",
              "\n",
              "  .colab-df-quickchart {\n",
              "    background-color: var(--bg-color);\n",
              "    border: none;\n",
              "    border-radius: 50%;\n",
              "    cursor: pointer;\n",
              "    display: none;\n",
              "    fill: var(--fill-color);\n",
              "    height: 32px;\n",
              "    padding: 0;\n",
              "    width: 32px;\n",
              "  }\n",
              "\n",
              "  .colab-df-quickchart:hover {\n",
              "    background-color: var(--hover-bg-color);\n",
              "    box-shadow: 0 1px 2px rgba(60, 64, 67, 0.3), 0 1px 3px 1px rgba(60, 64, 67, 0.15);\n",
              "    fill: var(--button-hover-fill-color);\n",
              "  }\n",
              "\n",
              "  .colab-df-quickchart-complete:disabled,\n",
              "  .colab-df-quickchart-complete:disabled:hover {\n",
              "    background-color: var(--disabled-bg-color);\n",
              "    fill: var(--disabled-fill-color);\n",
              "    box-shadow: none;\n",
              "  }\n",
              "\n",
              "  .colab-df-spinner {\n",
              "    border: 2px solid var(--fill-color);\n",
              "    border-color: transparent;\n",
              "    border-bottom-color: var(--fill-color);\n",
              "    animation:\n",
              "      spin 1s steps(1) infinite;\n",
              "  }\n",
              "\n",
              "  @keyframes spin {\n",
              "    0% {\n",
              "      border-color: transparent;\n",
              "      border-bottom-color: var(--fill-color);\n",
              "      border-left-color: var(--fill-color);\n",
              "    }\n",
              "    20% {\n",
              "      border-color: transparent;\n",
              "      border-left-color: var(--fill-color);\n",
              "      border-top-color: var(--fill-color);\n",
              "    }\n",
              "    30% {\n",
              "      border-color: transparent;\n",
              "      border-left-color: var(--fill-color);\n",
              "      border-top-color: var(--fill-color);\n",
              "      border-right-color: var(--fill-color);\n",
              "    }\n",
              "    40% {\n",
              "      border-color: transparent;\n",
              "      border-right-color: var(--fill-color);\n",
              "      border-top-color: var(--fill-color);\n",
              "    }\n",
              "    60% {\n",
              "      border-color: transparent;\n",
              "      border-right-color: var(--fill-color);\n",
              "    }\n",
              "    80% {\n",
              "      border-color: transparent;\n",
              "      border-right-color: var(--fill-color);\n",
              "      border-bottom-color: var(--fill-color);\n",
              "    }\n",
              "    90% {\n",
              "      border-color: transparent;\n",
              "      border-bottom-color: var(--fill-color);\n",
              "    }\n",
              "  }\n",
              "</style>\n",
              "\n",
              "  <script>\n",
              "    async function quickchart(key) {\n",
              "      const quickchartButtonEl =\n",
              "        document.querySelector('#' + key + ' button');\n",
              "      quickchartButtonEl.disabled = true;  // To prevent multiple clicks.\n",
              "      quickchartButtonEl.classList.add('colab-df-spinner');\n",
              "      try {\n",
              "        const charts = await google.colab.kernel.invokeFunction(\n",
              "            'suggestCharts', [key], {});\n",
              "      } catch (error) {\n",
              "        console.error('Error during call to suggestCharts:', error);\n",
              "      }\n",
              "      quickchartButtonEl.classList.remove('colab-df-spinner');\n",
              "      quickchartButtonEl.classList.add('colab-df-quickchart-complete');\n",
              "    }\n",
              "    (() => {\n",
              "      let quickchartButtonEl =\n",
              "        document.querySelector('#df-1828ccaf-c18c-485f-9bc7-9296b91da326 button');\n",
              "      quickchartButtonEl.style.display =\n",
              "        google.colab.kernel.accessAllowed ? 'block' : 'none';\n",
              "    })();\n",
              "  </script>\n",
              "</div>\n",
              "    </div>\n",
              "  </div>\n"
            ]
          },
          "metadata": {},
          "execution_count": 27
        }
      ]
    },
    {
      "cell_type": "markdown",
      "source": [
        "### The top three postures are \"On Appeal\", \"Appellate review\" and \"Review of Administrative Decision\""
      ],
      "metadata": {
        "id": "4h2zNogVvbZ4"
      }
    },
    {
      "cell_type": "code",
      "source": [
        "sns.barplot(x='class_name', y='pct_of_occurance', data = class_details_df_top,palette=sns.color_palette('BrBG'))\n",
        "plt.xticks(rotation = 90)\n"
      ],
      "metadata": {
        "colab": {
          "base_uri": "https://localhost:8080/",
          "height": 1000
        },
        "id": "TetZ7IIctAEy",
        "outputId": "50df2fbf-82e6-458a-ec66-684913a55c94"
      },
      "execution_count": 29,
      "outputs": [
        {
          "output_type": "execute_result",
          "data": {
            "text/plain": [
              "(array([0, 1, 2, 3, 4, 5, 6, 7, 8, 9]),\n",
              " [Text(0, 0, 'class_On Appeal'),\n",
              "  Text(1, 0, 'class_Appellate Review'),\n",
              "  Text(2, 0, 'class_Review of Administrative Decision'),\n",
              "  Text(3, 0, 'class_Motion to Dismiss'),\n",
              "  Text(4, 0, 'class_Sentencing or Penalty Phase Motion or Objection'),\n",
              "  Text(5, 0, 'class_Trial or Guilt Phase Motion or Objection'),\n",
              "  Text(6, 0, \"class_Motion for Attorney's Fees\"),\n",
              "  Text(7, 0, 'class_Post-Trial Hearing Motion'),\n",
              "  Text(8, 0, 'class_Motion for Preliminary Injunction'),\n",
              "  Text(9, 0, 'class_Motion to Dismiss for Lack of Subject Matter Jurisdiction')])"
            ]
          },
          "metadata": {},
          "execution_count": 29
        },
        {
          "output_type": "display_data",
          "data": {
            "text/plain": [
              "<Figure size 640x480 with 1 Axes>"
            ],
            "image/png": "[encoded data removed]"
          },
          "metadata": {}
        }
      ]
    },
    {
      "cell_type": "code",
      "source": [
        "class_details_df_top['class_name'].tolist()"
      ],
      "metadata": {
        "colab": {
          "base_uri": "https://localhost:8080/"
        },
        "id": "IDCytaeHurrK",
        "outputId": "d4bc9e33-af1f-4d02-93ce-b892f072073b"
      },
      "execution_count": 25,
      "outputs": [
        {
          "output_type": "execute_result",
          "data": {
            "text/plain": [
              "['class_On Appeal',\n",
              " 'class_Appellate Review',\n",
              " 'class_Review of Administrative Decision',\n",
              " 'class_Motion to Dismiss',\n",
              " 'class_Sentencing or Penalty Phase Motion or Objection',\n",
              " 'class_Trial or Guilt Phase Motion or Objection',\n",
              " \"class_Motion for Attorney's Fees\",\n",
              " 'class_Post-Trial Hearing Motion',\n",
              " 'class_Motion for Preliminary Injunction',\n",
              " 'class_Motion to Dismiss for Lack of Subject Matter Jurisdiction']"
            ]
          },
          "metadata": {},
          "execution_count": 25
        }
      ]
    },
    {
      "cell_type": "code",
      "source": [],
      "metadata": {
        "id": "6b5RnvED10o7"
      },
      "execution_count": null,
      "outputs": []
    }
  ]
}