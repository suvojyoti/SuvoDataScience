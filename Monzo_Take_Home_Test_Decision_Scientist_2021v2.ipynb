{
 "cells": [
  {
   "cell_type": "markdown",
   "metadata": {
    "id": "-Wgl_sAgdbG7"
   },
   "source": [
    "Thanks for taking your time to complete this take-home task. \n",
    "\n",
    "This is where you can show off all your decision science skills through a hands-on project. Together with the dataset, this notebook presents a series of typical problems we face in our job. We expect you to complete the notebook with insightful analysis, elegant code and clear documentation of your findings (perfectly OK to embed within this notebook, just make sure using a distinct color). Please also feel free to keep in the final notebook any code+result where you believe there is value, even if it's not directly addressing the questions below.\n",
    "\n",
    "We have designed this test with the hope to only take you about 3 hours. We know it’s still quite a commitment of your time and we really appreciate it. That being said, this test is not timed so feel free to spend more time if needed. We’d love to hear your feedback if it actually cost you longer than we intended. It is easy for us to underestimate the required efforts when we know the answers already! Please also tell us if you haven’t had enough fun 😂\n",
    "\n",
    "\n",
    "## Hints\n",
    "\n",
    "*   We encourage our decision scientists to use open-source solutions as much as possible instead of re-inventing the wheels. So please feel free to Google for a solution before writing any complicated code. \n",
    "*   If you are running short of time but have lots of extra great ideas you'd like to explore, feel free to write down your thoughts in words or pseudo-code instead of code.\n",
    "\n",
    "## Context\n",
    "\n",
    "The project we have here is to validate and monitor two credit risk decision models for personal loan underwriting decisions. The information we collected at the underwriting stage of successful applications (i.e. approved and disbursed) were used as the input features of these two models. The two models were trained to predict whether the customers will repay all scheduled payment in the following X months. \n",
    "\n",
    "We can split our data into the following three parts:\n",
    "1.   the **development sample**: all loans applications before 1st August 2019\n",
    "2.   the **out-of-time monitoring sample**: all loans applications between 1st August 2019 and 1st Jan 2020\n",
    "3.   the **post-deployment monitoring sample**: all loans applications since 1st Jan 2020\n"
   ]
  },
  {
   "cell_type": "markdown",
   "metadata": {
    "id": "Zh-P4EKIalTG"
   },
   "source": [
    "# Part 1. Data processing\n",
    "\n",
    "Here we have two synthetic datasets of loan customers. \n",
    "\n",
    "\n",
    "The file ***monthly_outcome.csv*** contains the repayment *status* at each scheduled payment *date*. The numeric values in column *status* represent how many monthly repayments they were missing. i.e. 0 means they were up to date without any arrear, 3 means they were at that time missing three repayments. Once a customer reaches a status of missing 4 payments, we marked them as 'D' which means it has defaulted. For simplicity let's assume it as a terminal status and all the following records will be 'D' as well. \n",
    "\n",
    "The file ***application.csv*** contains\n",
    "1.   a few variables about the customer we acquired during their loan applications\n",
    "2.   a binary variable (*is_bad_12m*) of their repayment performance 12 months after disbursal \n",
    "\n",
    "**Target definition**: the binary target variable *is_bad_12m* was created by looking at the arrear status of the customers across the 12 dates where the repayment was scheduled. If at any point they had 3 or more repayments missing, this variable would be set to 1, otherwise 0. \n",
    "\n",
    "Each loan is represented by an *unique_id* in these two files.\n",
    "\n"
   ]
  },
  {
   "cell_type": "markdown",
   "metadata": {
    "id": "1vT7729qjNAT"
   },
   "source": [
    "## Task 1.1: data cleaning\n",
    "\n",
    "Although we are proud of our data infrastructure, it's always a good practice to sense check and clean up a bit. We have left you a few surprises here. Have fun!\n",
    "\n"
   ]
  },
  {
   "cell_type": "markdown",
   "metadata": {
    "id": "zg4QMTo2czc4"
   },
   "source": [
    "## Task 1.2: another target\n",
    "In order to understand the performance of a model before it's too late, we also want to monitor the repayment behaviours after the first few repayments. \n",
    "\n",
    "Could you please create another \"early-risk\" target *is_bad_3m* which represents whether the customers ever had **2 or more** repayments in arrear at any point of their first three scheduled ones?\n",
    "\n"
   ]
  },
  {
   "cell_type": "markdown",
   "metadata": {
    "id": "Dd1jByeiY7bP"
   },
   "source": [
    "# Part 2. Model validation\n",
    "\n",
    "In this part let's assume we are still at the model development stage and look at the development sample only (see definition at the start). We will skip the model training part here (which is too much fun to finish in 3 hours), and assume that we already trained two candidate models. These are of course probabilistic classification model, which you can find their scores in ***application.csv*** as columns *model_1* and *model_2*. \n",
    "\n",
    "We need to compare their performance and decide which one to use in production. The winner model, once deployed, will be used for decisions of\n",
    "\n",
    "*   Loan approval: the score must be above certain threshold (which can be adjusted during operation) for the application to be approved. \n",
    "*   Loss estimate: for each approved loan, we use the model output to predict the probability of default. \n",
    "*   Pricing: based on the loss estimate, we decide the interest rate to be charged in order to cover potential losses. \n",
    "\n",
    "\n",
    "\n",
    "\n",
    "\n"
   ]
  },
  {
   "cell_type": "markdown",
   "metadata": {
    "id": "YjBbC6y1Ca8c"
   },
   "source": [
    "\n",
    "\n",
    "## Task 2.1: classification power\n",
    "\n",
    "A common metric used in the credit risk modelling world is the Gini coefficient, which can be linearly mapped to ROCAUC if that's a term you are more familiar with. Could you please compare the Gini's between the two models as a first step? \n",
    "\n",
    "\n"
   ]
  },
  {
   "cell_type": "markdown",
   "metadata": {
    "id": "SSTL7anX0sv8"
   },
   "source": [
    "An extended question: assuming that classification power is all we care about, what are the other reasons to not pick the model with highest Gini? It's enough to just write down your thoughts. \n"
   ]
  },
  {
   "cell_type": "markdown",
   "metadata": {
    "id": "4gDBOJwwCdiS"
   },
   "source": [
    "## Task 2.2: classification power in segments\n",
    "\n",
    "As the population of future business might have different distributions from the development sample, we would ideally want the chosen model to be performant in all segments. For simplicity let's stick with univariate segments only.\n",
    "\n",
    "Could you please compare the Gini's between the two models in the segments of all the variables? Feel free to define the segments as you see appropriate. \n"
   ]
  },
  {
   "cell_type": "markdown",
   "metadata": {
    "id": "AgdjGEh1Cfno"
   },
   "source": [
    "\n",
    "## Task 2.3: accuracy \n",
    "As we want to use our model for loss estimates and pricing of each customer, could you please check whether the scores (as probabilistic predictions) are accurate with respect to the actual \"bad rates\" (i.e. the fraction of *is_bad_12m*=1 among customers of similar scores)"
   ]
  },
  {
   "cell_type": "markdown",
   "metadata": {
    "id": "wrTIJak3DCqW"
   },
   "source": [
    "## Task 2.4: calibration\n",
    "\n",
    "We also want to monitor the early risk indicator *is_bad_3m* in case something really bad happens (e.g. a pandemic). For that we need to calibrate our scores to the probability of such short-term outcome. Could you please create the calibrated scores for the two models and validate them? (Hint: if this is not a topic you are familiar with, scikit-learn has some handy utilities)"
   ]
  },
  {
   "cell_type": "markdown",
   "metadata": {
    "id": "uz8lFvDwECZF"
   },
   "source": [
    "# Part 3. Model monitoring\n",
    "\n",
    "The training and validation of a model is just part of the story. A large part of our work is to understand how our models perform in real life deicisioning and how we adapt to the changing market. In this part we will look into the monitoring sample (see definition at the start).\n",
    "\n",
    "Now let's assume that we have choosen *model_1* and deployed it to production since 1st Jan 2020. On that day, our decision engine started to use that model, and since then only approved applications with *model_1*<0.05. \n"
   ]
  },
  {
   "cell_type": "markdown",
   "metadata": {
    "id": "5Mh84z4QEDAu"
   },
   "source": [
    "## Task 3.1: model performance\n",
    "\n",
    "How did the model perform in this monitoring sample, before & after its deployment into production? How does that compare to the expectation from the development sample? "
   ]
  },
  {
   "cell_type": "markdown",
   "metadata": {
    "id": "cuS5S6Q__l6-"
   },
   "source": [
    "## Task 3.2: why the changes?\n",
    "\n",
    "If you observe a difference, what do you think can be the reason(s)? How are you going to verify your hypothesis?"
   ]
  },
  {
   "cell_type": "markdown",
   "metadata": {
    "id": "QEiF96SWEDDE"
   },
   "source": [
    "## Task 3.3: new variable\n",
    "\n",
    "You might have noticed that a new variable ***stress_score*** has become available since late 2019. Can you figure out whether there is additional classification power from this variable over our models? \n",
    "\n",
    "If so, how would you incorporate it into our decision model?\n"
   ]
  }
 ],
 "metadata": {
  "colab": {
   "collapsed_sections": [],
   "name": "Monzo_Take_Home_Test_Decision_Scientist.ipynb",
   "provenance": [],
   "toc_visible": true
  },
  "kernelspec": {
   "display_name": "Python 3",
   "language": "python",
   "name": "python3"
  },
  "language_info": {
   "codemirror_mode": {
    "name": "ipython",
    "version": 3
   },
   "file_extension": ".py",
   "mimetype": "text/x-python",
   "name": "python",
   "nbconvert_exporter": "python",
   "pygments_lexer": "ipython3",
   "version": "3.8.8"
  },
  "toc": {
   "base_numbering": 1,
   "nav_menu": {},
   "number_sections": true,
   "sideBar": true,
   "skip_h1_title": false,
   "title_cell": "Table of Contents",
   "title_sidebar": "Contents",
   "toc_cell": false,
   "toc_position": {},
   "toc_section_display": true,
   "toc_window_display": false
  }
 },
 "nbformat": 4,
 "nbformat_minor": 1
}
